{
 "cells": [
  {
   "cell_type": "code",
   "execution_count": 1,
   "metadata": {},
   "outputs": [
    {
     "name": "stdout",
     "output_type": "stream",
     "text": [
      "Hoja: DISPOSITIVOS\n",
      "      Nº   SNIP                                           Proyecto  \\\n",
      "0   98.0  394.0  Programa de mejoramiento de las condiciones de...   \n",
      "1   99.0  394.0  Programa de mejoramiento de las condiciones de...   \n",
      "2  100.0  394.0  Programa de mejoramiento de las condiciones de...   \n",
      "3  101.0  394.0  Programa de mejoramiento de las condiciones de...   \n",
      "4  102.0  394.0  Programa de mejoramiento de las condiciones de...   \n",
      "\n",
      "   Codigo de Establecimiento  Codigo de Institucion  \\\n",
      "0                    10002.0                    2.0   \n",
      "1                    10037.0                   47.0   \n",
      "2                    11058.0                  478.0   \n",
      "3                    11059.0                  480.0   \n",
      "4                    12038.0                  280.0   \n",
      "\n",
      "                                     Establecimiento Departamento  Distrito  \\\n",
      "0  ESCUELA BÁSICA N° 225 DOCTOR  JUAN LEÓN MALLOR...      Capital  Asunción   \n",
      "1     ESCUELA BÁSICA N° 442 DELIA FRUTOS DE GONZÁLEZ      Capital  Asunción   \n",
      "2              ESCUELA BÁSICA N° 228 DELFÍN CHAMORRO      Capital  Asunción   \n",
      "3  ESCUELA BÁSICA N° 121 DOCTOR IGNACIO ALBERTO PANE      Capital  Asunción   \n",
      "4                 ESCUELA BÁSICA N° 9 ADELA SPERATTI      Capital  Asunción   \n",
      "\n",
      "  Categoria         Latitud  ... Cantidad TV Cantidad Amplificador  \\\n",
      "0    ALUMNO   25º17'48.08\"S  ...           0                     0   \n",
      "1    ALUMNO   25º16'46.97\"S  ...           0                     0   \n",
      "2    ALUMNO  25º18'58.333\"S  ...           0                     0   \n",
      "3    ALUMNO   25º19'8.432\"S  ...           0                     0   \n",
      "4    ALUMNO  25º17'16.093\"S  ...           0                     0   \n",
      "\n",
      "  Fecha Acta Engrega Tiene Seguro Matricula del Local Escolar  \\\n",
      "0                NaN          0.0                       327.0   \n",
      "1                NaN          0.0                       248.0   \n",
      "2                NaN          0.0                      1026.0   \n",
      "3                NaN          0.0                       664.0   \n",
      "4                NaN          0.0                       230.0   \n",
      "\n",
      "  Cantidad de Instituciones  Educacion Inicial Educacion Escolar Basica  \\\n",
      "0                       1.0               26.0                    301.0   \n",
      "1                       1.0               22.0                    226.0   \n",
      "2                       1.0              148.0                    878.0   \n",
      "3                       1.0              118.0                    546.0   \n",
      "4                       1.0               45.0                    185.0   \n",
      "\n",
      "  Educacion Media  Educacion Permanente  \n",
      "0             0.0                   0.0  \n",
      "1             0.0                   0.0  \n",
      "2             0.0                   0.0  \n",
      "3             0.0                   0.0  \n",
      "4             0.0                   0.0  \n",
      "\n",
      "[5 rows x 58 columns]\n",
      "                Nº    SNIP  Codigo de Establecimiento  Codigo de Institucion  \\\n",
      "count  8532.000000  8533.0               7.905000e+03           7.899000e+03   \n",
      "mean   4266.500000   394.0               7.576325e+05           1.313091e+04   \n",
      "std    2463.120582     0.0               4.776458e+05           5.967265e+04   \n",
      "min       1.000000   394.0               1.800000e+01           1.000000e+00   \n",
      "25%    2133.750000   394.0               3.020030e+05           4.053000e+03   \n",
      "50%    4266.500000   394.0               9.080020e+05           7.691000e+03   \n",
      "75%    6399.250000   394.0               1.109051e+06           1.007850e+04   \n",
      "max    8532.000000   394.0               1.703819e+06           1.000182e+06   \n",
      "\n",
      "                ID 1  Numero Lote 1  Monto Adjudicado 1  Monto Anticipo 1  \\\n",
      "count    8533.000000    8533.000000        8.533000e+03            8533.0   \n",
      "mean   368925.535099       1.466659        3.814639e+07               0.0   \n",
      "std     24291.540626       2.567599        5.097305e+07               0.0   \n",
      "min    309282.000000       0.000000        0.000000e+00               0.0   \n",
      "25%    337893.000000       0.000000        8.800000e+06               0.0   \n",
      "50%    379317.000000       0.000000        1.530000e+07               0.0   \n",
      "75%    379317.000000       3.000000        6.568072e+07               0.0   \n",
      "max    406691.000000      10.000000        1.024626e+09               0.0   \n",
      "\n",
      "       Pago1 1  Pago1 2  ...  Cantidad Tablet  Cantidad TV  \\\n",
      "count   8533.0   8533.0  ...      8534.000000  8534.000000   \n",
      "mean       0.0      0.0  ...         0.154675     0.011718   \n",
      "std        0.0      0.0  ...         7.154338     0.546537   \n",
      "min        0.0      0.0  ...         0.000000     0.000000   \n",
      "25%        0.0      0.0  ...         0.000000     0.000000   \n",
      "50%        0.0      0.0  ...         0.000000     0.000000   \n",
      "75%        0.0      0.0  ...         0.000000     0.000000   \n",
      "max        0.0      0.0  ...       660.000000    50.000000   \n",
      "\n",
      "       Cantidad Amplificador  Tiene Seguro  Matricula del Local Escolar  \\\n",
      "count            8534.000000        8533.0                  8533.000000   \n",
      "mean                0.011718           0.0                   289.261573   \n",
      "std                 0.546537           0.0                   340.904878   \n",
      "min                 0.000000           0.0                     0.000000   \n",
      "25%                 0.000000           0.0                    53.000000   \n",
      "50%                 0.000000           0.0                   188.000000   \n",
      "75%                 0.000000           0.0                   415.000000   \n",
      "max                50.000000           0.0                  8305.000000   \n",
      "\n",
      "       Cantidad de Instituciones  Educacion Inicial  Educacion Escolar Basica  \\\n",
      "count                8533.000000        8533.000000               8533.000000   \n",
      "mean                    0.833353          38.828079                186.642095   \n",
      "std                     0.372682          56.378608                233.945574   \n",
      "min                     0.000000           0.000000                  0.000000   \n",
      "25%                     1.000000           0.000000                  0.000000   \n",
      "50%                     1.000000           6.000000                107.000000   \n",
      "75%                     1.000000          62.000000                284.000000   \n",
      "max                     1.000000         402.000000               1791.000000   \n",
      "\n",
      "       Educacion Media  Educacion Permanente  \n",
      "count      8533.000000           8533.000000  \n",
      "mean         58.698230              4.799836  \n",
      "std         149.592816             93.301242  \n",
      "min           0.000000              0.000000  \n",
      "25%           0.000000              0.000000  \n",
      "50%           0.000000              0.000000  \n",
      "75%          60.000000              0.000000  \n",
      "max        1714.000000           8305.000000  \n",
      "\n",
      "[8 rows x 42 columns]\n"
     ]
    }
   ],
   "source": [
    "import pandas as pd\n",
    "\n",
    "# Cargar el archivo Excel\n",
    "archivo_excel = '../data/BD_TIC_30-08-24.xlsx'\n",
    "\n",
    "# Leer todas las hojas en un diccionario\n",
    "hojas = pd.read_excel(archivo_excel, sheet_name=None)\n",
    "\n",
    "# 'hojas' es un diccionario donde las claves son los nombres de las hojas y los valores son DataFrames\n",
    "for nombre_hoja, contenido in hojas.items():\n",
    "    if nombre_hoja == 'DISPOSITIVOS':\n",
    "        print(f\"Hoja: {nombre_hoja}\")\n",
    "        print(contenido.head())  # Muestra las primeras filas de la hoja DISPOSITIVOS\n",
    "\n",
    "# Acceder al DataFrame de la hoja 'DISPOSITIVOS'\n",
    "df = hojas['DISPOSITIVOS']\n",
    "\n",
    "# Aplicar describe() al DataFrame de la hoja 'DISPOSITIVOS'\n",
    "print(df.describe())"
   ]
  },
  {
   "cell_type": "code",
   "execution_count": 2,
   "metadata": {},
   "outputs": [
    {
     "name": "stdout",
     "output_type": "stream",
     "text": [
      "<class 'pandas.core.frame.DataFrame'>\n",
      "RangeIndex: 8534 entries, 0 to 8533\n",
      "Data columns (total 58 columns):\n",
      " #   Column                       Non-Null Count  Dtype  \n",
      "---  ------                       --------------  -----  \n",
      " 0   Nº                           8532 non-null   float64\n",
      " 1   SNIP                         8533 non-null   float64\n",
      " 2   Proyecto                     8533 non-null   object \n",
      " 3   Codigo de Establecimiento    7905 non-null   float64\n",
      " 4   Codigo de Institucion        7899 non-null   float64\n",
      " 5   Establecimiento              8533 non-null   object \n",
      " 6   Departamento                 8533 non-null   object \n",
      " 7   Distrito                     8531 non-null   object \n",
      " 8   Categoria                    8533 non-null   object \n",
      " 9   Latitud                      7762 non-null   object \n",
      " 10  Longitud                     7762 non-null   object \n",
      " 11  Sector                       7267 non-null   object \n",
      " 12  Tipo Zona                    7265 non-null   object \n",
      " 13  CAI                          7272 non-null   object \n",
      " 14  Indigena                     7272 non-null   object \n",
      " 15  Licitacion 1                 8533 non-null   object \n",
      " 16  ID 1                         8533 non-null   float64\n",
      " 17  Empresa 1                    8533 non-null   object \n",
      " 18  Fecha Contrato 1             8533 non-null   object \n",
      " 19  Numero Lote 1                8533 non-null   float64\n",
      " 20  Monto Adjudicado 1           8533 non-null   float64\n",
      " 21  Monto Anticipo 1             8533 non-null   float64\n",
      " 22  Pago1 1                      8533 non-null   float64\n",
      " 23  Pago1 2                      8533 non-null   float64\n",
      " 24  Adenda Contrato 1            0 non-null      float64\n",
      " 25  Licitacion 2                 0 non-null      float64\n",
      " 26  ID 2                         0 non-null      float64\n",
      " 27  Empresa 2                    0 non-null      float64\n",
      " 28  Fecha Contrato 2             0 non-null      float64\n",
      " 29  Numero Lote 2                0 non-null      float64\n",
      " 30  Monto Adjudicado 2           8533 non-null   float64\n",
      " 31  Monto Anticipo 2             8533 non-null   float64\n",
      " 32  Pago2 1                      8533 non-null   float64\n",
      " 33  Pago2 2                      8533 non-null   float64\n",
      " 34  Adenda Contrato 2            0 non-null      float64\n",
      " 35  Cantidad Notebook Tipologia  8533 non-null   float64\n",
      " 36  Tipologia Notebook           50 non-null     object \n",
      " 37  Costo Tipologia              8533 non-null   float64\n",
      " 38  Cantidad Notebook            8534 non-null   int64  \n",
      " 39  Cantidad Impresora           8534 non-null   int64  \n",
      " 40  Cantidad Proyector           8534 non-null   int64  \n",
      " 41  Cantidad Carrito             8534 non-null   int64  \n",
      " 42  Cantidad AP                  8534 non-null   int64  \n",
      " 43  Cantidad Router              8534 non-null   int64  \n",
      " 44  Cantidad UPS                 8534 non-null   int64  \n",
      " 45  Cantidad Servidor            8534 non-null   int64  \n",
      " 46  Cantidad Software            8534 non-null   int64  \n",
      " 47  Cantidad Tablet              8534 non-null   int64  \n",
      " 48  Cantidad TV                  8534 non-null   int64  \n",
      " 49  Cantidad Amplificador        8534 non-null   int64  \n",
      " 50  Fecha Acta Engrega           5940 non-null   object \n",
      " 51  Tiene Seguro                 8533 non-null   float64\n",
      " 52  Matricula del Local Escolar  8533 non-null   float64\n",
      " 53  Cantidad de Instituciones    8533 non-null   float64\n",
      " 54  Educacion Inicial            8533 non-null   float64\n",
      " 55  Educacion Escolar Basica     8533 non-null   float64\n",
      " 56  Educacion Media              8533 non-null   float64\n",
      " 57  Educacion Permanente         8533 non-null   float64\n",
      "dtypes: float64(30), int64(12), object(16)\n",
      "memory usage: 3.8+ MB\n",
      "None\n"
     ]
    }
   ],
   "source": [
    "print(df.info())"
   ]
  },
  {
   "cell_type": "code",
   "execution_count": 3,
   "metadata": {},
   "outputs": [
    {
     "name": "stdout",
     "output_type": "stream",
     "text": [
      "Número de registros duplicados: 0\n"
     ]
    },
    {
     "data": {
      "text/html": [
       "<div>\n",
       "<style scoped>\n",
       "    .dataframe tbody tr th:only-of-type {\n",
       "        vertical-align: middle;\n",
       "    }\n",
       "\n",
       "    .dataframe tbody tr th {\n",
       "        vertical-align: top;\n",
       "    }\n",
       "\n",
       "    .dataframe thead th {\n",
       "        text-align: right;\n",
       "    }\n",
       "</style>\n",
       "<table border=\"1\" class=\"dataframe\">\n",
       "  <thead>\n",
       "    <tr style=\"text-align: right;\">\n",
       "      <th></th>\n",
       "      <th>Nº</th>\n",
       "      <th>SNIP</th>\n",
       "      <th>Proyecto</th>\n",
       "      <th>Codigo de Establecimiento</th>\n",
       "      <th>Codigo de Institucion</th>\n",
       "      <th>Establecimiento</th>\n",
       "      <th>Departamento</th>\n",
       "      <th>Distrito</th>\n",
       "      <th>Categoria</th>\n",
       "      <th>Latitud</th>\n",
       "      <th>...</th>\n",
       "      <th>Cantidad TV</th>\n",
       "      <th>Cantidad Amplificador</th>\n",
       "      <th>Fecha Acta Engrega</th>\n",
       "      <th>Tiene Seguro</th>\n",
       "      <th>Matricula del Local Escolar</th>\n",
       "      <th>Cantidad de Instituciones</th>\n",
       "      <th>Educacion Inicial</th>\n",
       "      <th>Educacion Escolar Basica</th>\n",
       "      <th>Educacion Media</th>\n",
       "      <th>Educacion Permanente</th>\n",
       "    </tr>\n",
       "  </thead>\n",
       "  <tbody>\n",
       "    <tr>\n",
       "      <th>0</th>\n",
       "      <td>98.0</td>\n",
       "      <td>394.0</td>\n",
       "      <td>Programa de mejoramiento de las condiciones de...</td>\n",
       "      <td>10002.0</td>\n",
       "      <td>2.0</td>\n",
       "      <td>ESCUELA BÁSICA N° 225 DOCTOR  JUAN LEÓN MALLOR...</td>\n",
       "      <td>Capital</td>\n",
       "      <td>Asunción</td>\n",
       "      <td>ALUMNO</td>\n",
       "      <td>25º17'48.08\"S</td>\n",
       "      <td>...</td>\n",
       "      <td>0</td>\n",
       "      <td>0</td>\n",
       "      <td>NaN</td>\n",
       "      <td>0.0</td>\n",
       "      <td>327.0</td>\n",
       "      <td>1.0</td>\n",
       "      <td>26.0</td>\n",
       "      <td>301.0</td>\n",
       "      <td>0.0</td>\n",
       "      <td>0.0</td>\n",
       "    </tr>\n",
       "    <tr>\n",
       "      <th>1</th>\n",
       "      <td>99.0</td>\n",
       "      <td>394.0</td>\n",
       "      <td>Programa de mejoramiento de las condiciones de...</td>\n",
       "      <td>10037.0</td>\n",
       "      <td>47.0</td>\n",
       "      <td>ESCUELA BÁSICA N° 442 DELIA FRUTOS DE GONZÁLEZ</td>\n",
       "      <td>Capital</td>\n",
       "      <td>Asunción</td>\n",
       "      <td>ALUMNO</td>\n",
       "      <td>25º16'46.97\"S</td>\n",
       "      <td>...</td>\n",
       "      <td>0</td>\n",
       "      <td>0</td>\n",
       "      <td>NaN</td>\n",
       "      <td>0.0</td>\n",
       "      <td>248.0</td>\n",
       "      <td>1.0</td>\n",
       "      <td>22.0</td>\n",
       "      <td>226.0</td>\n",
       "      <td>0.0</td>\n",
       "      <td>0.0</td>\n",
       "    </tr>\n",
       "    <tr>\n",
       "      <th>2</th>\n",
       "      <td>100.0</td>\n",
       "      <td>394.0</td>\n",
       "      <td>Programa de mejoramiento de las condiciones de...</td>\n",
       "      <td>11058.0</td>\n",
       "      <td>478.0</td>\n",
       "      <td>ESCUELA BÁSICA N° 228 DELFÍN CHAMORRO</td>\n",
       "      <td>Capital</td>\n",
       "      <td>Asunción</td>\n",
       "      <td>ALUMNO</td>\n",
       "      <td>25º18'58.333\"S</td>\n",
       "      <td>...</td>\n",
       "      <td>0</td>\n",
       "      <td>0</td>\n",
       "      <td>NaN</td>\n",
       "      <td>0.0</td>\n",
       "      <td>1026.0</td>\n",
       "      <td>1.0</td>\n",
       "      <td>148.0</td>\n",
       "      <td>878.0</td>\n",
       "      <td>0.0</td>\n",
       "      <td>0.0</td>\n",
       "    </tr>\n",
       "    <tr>\n",
       "      <th>3</th>\n",
       "      <td>101.0</td>\n",
       "      <td>394.0</td>\n",
       "      <td>Programa de mejoramiento de las condiciones de...</td>\n",
       "      <td>11059.0</td>\n",
       "      <td>480.0</td>\n",
       "      <td>ESCUELA BÁSICA N° 121 DOCTOR IGNACIO ALBERTO PANE</td>\n",
       "      <td>Capital</td>\n",
       "      <td>Asunción</td>\n",
       "      <td>ALUMNO</td>\n",
       "      <td>25º19'8.432\"S</td>\n",
       "      <td>...</td>\n",
       "      <td>0</td>\n",
       "      <td>0</td>\n",
       "      <td>NaN</td>\n",
       "      <td>0.0</td>\n",
       "      <td>664.0</td>\n",
       "      <td>1.0</td>\n",
       "      <td>118.0</td>\n",
       "      <td>546.0</td>\n",
       "      <td>0.0</td>\n",
       "      <td>0.0</td>\n",
       "    </tr>\n",
       "    <tr>\n",
       "      <th>4</th>\n",
       "      <td>102.0</td>\n",
       "      <td>394.0</td>\n",
       "      <td>Programa de mejoramiento de las condiciones de...</td>\n",
       "      <td>12038.0</td>\n",
       "      <td>280.0</td>\n",
       "      <td>ESCUELA BÁSICA N° 9 ADELA SPERATTI</td>\n",
       "      <td>Capital</td>\n",
       "      <td>Asunción</td>\n",
       "      <td>ALUMNO</td>\n",
       "      <td>25º17'16.093\"S</td>\n",
       "      <td>...</td>\n",
       "      <td>0</td>\n",
       "      <td>0</td>\n",
       "      <td>NaN</td>\n",
       "      <td>0.0</td>\n",
       "      <td>230.0</td>\n",
       "      <td>1.0</td>\n",
       "      <td>45.0</td>\n",
       "      <td>185.0</td>\n",
       "      <td>0.0</td>\n",
       "      <td>0.0</td>\n",
       "    </tr>\n",
       "  </tbody>\n",
       "</table>\n",
       "<p>5 rows × 58 columns</p>\n",
       "</div>"
      ],
      "text/plain": [
       "      Nº   SNIP                                           Proyecto  \\\n",
       "0   98.0  394.0  Programa de mejoramiento de las condiciones de...   \n",
       "1   99.0  394.0  Programa de mejoramiento de las condiciones de...   \n",
       "2  100.0  394.0  Programa de mejoramiento de las condiciones de...   \n",
       "3  101.0  394.0  Programa de mejoramiento de las condiciones de...   \n",
       "4  102.0  394.0  Programa de mejoramiento de las condiciones de...   \n",
       "\n",
       "   Codigo de Establecimiento  Codigo de Institucion  \\\n",
       "0                    10002.0                    2.0   \n",
       "1                    10037.0                   47.0   \n",
       "2                    11058.0                  478.0   \n",
       "3                    11059.0                  480.0   \n",
       "4                    12038.0                  280.0   \n",
       "\n",
       "                                     Establecimiento Departamento  Distrito  \\\n",
       "0  ESCUELA BÁSICA N° 225 DOCTOR  JUAN LEÓN MALLOR...      Capital  Asunción   \n",
       "1     ESCUELA BÁSICA N° 442 DELIA FRUTOS DE GONZÁLEZ      Capital  Asunción   \n",
       "2              ESCUELA BÁSICA N° 228 DELFÍN CHAMORRO      Capital  Asunción   \n",
       "3  ESCUELA BÁSICA N° 121 DOCTOR IGNACIO ALBERTO PANE      Capital  Asunción   \n",
       "4                 ESCUELA BÁSICA N° 9 ADELA SPERATTI      Capital  Asunción   \n",
       "\n",
       "  Categoria         Latitud  ... Cantidad TV Cantidad Amplificador  \\\n",
       "0    ALUMNO   25º17'48.08\"S  ...           0                     0   \n",
       "1    ALUMNO   25º16'46.97\"S  ...           0                     0   \n",
       "2    ALUMNO  25º18'58.333\"S  ...           0                     0   \n",
       "3    ALUMNO   25º19'8.432\"S  ...           0                     0   \n",
       "4    ALUMNO  25º17'16.093\"S  ...           0                     0   \n",
       "\n",
       "  Fecha Acta Engrega Tiene Seguro Matricula del Local Escolar  \\\n",
       "0                NaN          0.0                       327.0   \n",
       "1                NaN          0.0                       248.0   \n",
       "2                NaN          0.0                      1026.0   \n",
       "3                NaN          0.0                       664.0   \n",
       "4                NaN          0.0                       230.0   \n",
       "\n",
       "  Cantidad de Instituciones  Educacion Inicial Educacion Escolar Basica  \\\n",
       "0                       1.0               26.0                    301.0   \n",
       "1                       1.0               22.0                    226.0   \n",
       "2                       1.0              148.0                    878.0   \n",
       "3                       1.0              118.0                    546.0   \n",
       "4                       1.0               45.0                    185.0   \n",
       "\n",
       "  Educacion Media  Educacion Permanente  \n",
       "0             0.0                   0.0  \n",
       "1             0.0                   0.0  \n",
       "2             0.0                   0.0  \n",
       "3             0.0                   0.0  \n",
       "4             0.0                   0.0  \n",
       "\n",
       "[5 rows x 58 columns]"
      ]
     },
     "execution_count": 3,
     "metadata": {},
     "output_type": "execute_result"
    }
   ],
   "source": [
    "# Identificar duplicados\n",
    "duplicados = df.duplicated()\n",
    "# Contar el número de duplicados\n",
    "num_duplicados = duplicados.sum()\n",
    "print(f\"Número de registros duplicados: {num_duplicados}\")\n",
    "df.head()"
   ]
  },
  {
   "cell_type": "code",
   "execution_count": 4,
   "metadata": {},
   "outputs": [
    {
     "name": "stdout",
     "output_type": "stream",
     "text": [
      "Columna 'Nº' convertida a float64 exitosamente.\n",
      "Columna 'SNIP' convertida a float64 exitosamente.\n",
      "Columna 'Proyecto' convertida a object exitosamente.\n",
      "Columna 'Codigo de Establecimiento' convertida a float64 exitosamente.\n",
      "Columna 'Codigo de Institucion' convertida a float64 exitosamente.\n",
      "Columna 'Establecimiento' convertida a object exitosamente.\n",
      "Columna 'Departamento' convertida a object exitosamente.\n",
      "Columna 'Distrito' convertida a object exitosamente.\n",
      "Columna 'Categoria' convertida a object exitosamente.\n",
      "Columna 'Latitud' convertida a object exitosamente.\n",
      "Columna 'Longitud' convertida a object exitosamente.\n",
      "Columna 'Sector' convertida a object exitosamente.\n",
      "Columna 'Tipo Zona' convertida a object exitosamente.\n",
      "Columna 'CAI' convertida a object exitosamente.\n",
      "Columna 'Indigena' convertida a object exitosamente.\n",
      "Columna 'Licitacion 1' convertida a object exitosamente.\n",
      "Columna 'ID 1' convertida a float64 exitosamente.\n",
      "Columna 'Empresa 1' convertida a object exitosamente.\n",
      "Columna 'Fecha Contrato 1' convertida a object exitosamente.\n",
      "Columna 'Numero Lote 1' convertida a float64 exitosamente.\n",
      "Columna 'Monto Adjudicado 1' convertida a float64 exitosamente.\n",
      "Columna 'Monto Anticipo 1' convertida a float64 exitosamente.\n",
      "Columna 'Pago1 1' convertida a float64 exitosamente.\n",
      "Columna 'Pago1 2' convertida a float64 exitosamente.\n",
      "Columna 'Adenda Contrato 1' convertida a float64 exitosamente.\n",
      "Columna 'Licitacion 2' convertida a float64 exitosamente.\n",
      "Columna 'ID 2' convertida a float64 exitosamente.\n",
      "Columna 'Empresa 2' convertida a object exitosamente.\n",
      "Columna 'Fecha Contrato 2' convertida a object exitosamente.\n",
      "Columna 'Numero Lote 2' convertida a float64 exitosamente.\n",
      "Columna 'Monto Adjudicado 2' convertida a float64 exitosamente.\n",
      "Columna 'Monto Anticipo 2' convertida a float64 exitosamente.\n",
      "Columna 'Pago2 1' convertida a float64 exitosamente.\n",
      "Columna 'Pago2 2' convertida a float64 exitosamente.\n",
      "Columna 'Adenda Contrato 2' convertida a float64 exitosamente.\n",
      "Columna 'Cantidad Notebook Tipologia' convertida a float64 exitosamente.\n",
      "Columna 'Tipologia Notebook' convertida a object exitosamente.\n",
      "Columna 'Costo Tipologia' convertida a float64 exitosamente.\n",
      "Columna 'Cantidad Notebook' convertida a int64 exitosamente.\n",
      "Columna 'Cantidad Impresora' convertida a int64 exitosamente.\n",
      "Columna 'Cantidad Proyector' convertida a int64 exitosamente.\n",
      "Columna 'Cantidad Carrito' convertida a int64 exitosamente.\n",
      "Columna 'Cantidad AP' convertida a int64 exitosamente.\n",
      "Columna 'Cantidad Router' convertida a int64 exitosamente.\n",
      "Columna 'Cantidad UPS' convertida a int64 exitosamente.\n",
      "Columna 'Cantidad Servidor' convertida a int64 exitosamente.\n",
      "Columna 'Cantidad Software' convertida a int64 exitosamente.\n",
      "Columna 'Cantidad Tablet' convertida a int64 exitosamente.\n",
      "Columna 'Cantidad TV' convertida a int64 exitosamente.\n",
      "Columna 'Cantidad Amplificador' convertida a int64 exitosamente.\n",
      "Columna 'Fecha Acta Engrega' convertida a object exitosamente.\n",
      "Columna 'Tiene Seguro' convertida a float64 exitosamente.\n",
      "Columna 'Matricula del Local Escolar' convertida a float64 exitosamente.\n",
      "Columna 'Cantidad de Instituciones' convertida a float64 exitosamente.\n",
      "Columna 'Educacion Inicial' convertida a float64 exitosamente.\n",
      "Columna 'Educacion Escolar Basica' convertida a float64 exitosamente.\n",
      "Columna 'Educacion Media' convertida a float64 exitosamente.\n",
      "Columna 'Educacion Permanente' convertida a float64 exitosamente.\n",
      "Nº                             float64\n",
      "SNIP                           float64\n",
      "Proyecto                        object\n",
      "Codigo de Establecimiento      float64\n",
      "Codigo de Institucion          float64\n",
      "Establecimiento                 object\n",
      "Departamento                    object\n",
      "Distrito                        object\n",
      "Categoria                       object\n",
      "Latitud                         object\n",
      "Longitud                        object\n",
      "Sector                          object\n",
      "Tipo Zona                       object\n",
      "CAI                             object\n",
      "Indigena                        object\n",
      "Licitacion 1                    object\n",
      "ID 1                           float64\n",
      "Empresa 1                       object\n",
      "Fecha Contrato 1                object\n",
      "Numero Lote 1                  float64\n",
      "Monto Adjudicado 1             float64\n",
      "Monto Anticipo 1               float64\n",
      "Pago1 1                        float64\n",
      "Pago1 2                        float64\n",
      "Adenda Contrato 1              float64\n",
      "Licitacion 2                   float64\n",
      "ID 2                           float64\n",
      "Empresa 2                       object\n",
      "Fecha Contrato 2                object\n",
      "Numero Lote 2                  float64\n",
      "Monto Adjudicado 2             float64\n",
      "Monto Anticipo 2               float64\n",
      "Pago2 1                        float64\n",
      "Pago2 2                        float64\n",
      "Adenda Contrato 2              float64\n",
      "Cantidad Notebook Tipologia    float64\n",
      "Tipologia Notebook              object\n",
      "Costo Tipologia                float64\n",
      "Cantidad Notebook                int64\n",
      "Cantidad Impresora               int64\n",
      "Cantidad Proyector               int64\n",
      "Cantidad Carrito                 int64\n",
      "Cantidad AP                      int64\n",
      "Cantidad Router                  int64\n",
      "Cantidad UPS                     int64\n",
      "Cantidad Servidor                int64\n",
      "Cantidad Software                int64\n",
      "Cantidad Tablet                  int64\n",
      "Cantidad TV                      int64\n",
      "Cantidad Amplificador            int64\n",
      "Fecha Acta Engrega              object\n",
      "Tiene Seguro                   float64\n",
      "Matricula del Local Escolar    float64\n",
      "Cantidad de Instituciones      float64\n",
      "Educacion Inicial              float64\n",
      "Educacion Escolar Basica       float64\n",
      "Educacion Media                float64\n",
      "Educacion Permanente           float64\n",
      "dtype: object\n"
     ]
    }
   ],
   "source": [
    "import pandas as pd\n",
    "\n",
    "# Definir los tipos de datos esperados según el diccionario de datos\n",
    "tipos_datos_esperados = {\n",
    "    'Nº': 'float64',\n",
    "    'SNIP': 'float64',\n",
    "    'Proyecto': 'object',\n",
    "    'Codigo de Establecimiento': 'float64',\n",
    "    'Codigo de Institucion': 'float64',\n",
    "    'Establecimiento': 'object',\n",
    "    'Departamento': 'object',\n",
    "    'Distrito': 'object',\n",
    "    'Categoria': 'object',\n",
    "    'Latitud': 'object',\n",
    "    'Longitud': 'object',\n",
    "    'Sector': 'object',\n",
    "    'Tipo Zona': 'object',\n",
    "    'CAI': 'object',\n",
    "    'Indigena': 'object',\n",
    "    'Licitacion 1': 'object',\n",
    "    'ID 1': 'float64',\n",
    "    'Empresa 1': 'object',\n",
    "    'Fecha Contrato 1': 'object',\n",
    "    'Numero Lote 1': 'float64',\n",
    "    'Monto Adjudicado 1': 'float64',\n",
    "    'Monto Anticipo 1': 'float64',\n",
    "    'Pago1 1': 'float64',\n",
    "    'Pago1 2': 'float64',\n",
    "    'Adenda Contrato 1': 'float64',\n",
    "    'Licitacion 2': 'float64',\n",
    "    'ID 2': 'float64',\n",
    "    'Empresa 2': 'object',\n",
    "    'Fecha Contrato 2': 'object',\n",
    "    'Numero Lote 2': 'float64',\n",
    "    'Monto Adjudicado 2': 'float64',\n",
    "    'Monto Anticipo 2': 'float64',\n",
    "    'Pago2 1': 'float64',\n",
    "    'Pago2 2': 'float64',\n",
    "    'Adenda Contrato 2': 'float64',\n",
    "    'Cantidad Notebook Tipologia': 'float64',\n",
    "    'Tipologia Notebook': 'object',\n",
    "    'Costo Tipologia': 'float64',\n",
    "    'Cantidad Notebook': 'int64',\n",
    "    'Cantidad Impresora': 'int64',\n",
    "    'Cantidad Proyector': 'int64',\n",
    "    'Cantidad Carrito': 'int64',\n",
    "    'Cantidad AP': 'int64',\n",
    "    'Cantidad Router': 'int64',\n",
    "    'Cantidad UPS': 'int64',\n",
    "    'Cantidad Servidor': 'int64',\n",
    "    'Cantidad Software': 'int64',\n",
    "    'Cantidad Tablet': 'int64',\n",
    "    'Cantidad TV': 'int64',\n",
    "    'Cantidad Amplificador': 'int64',\n",
    "    'Fecha Acta Engrega': 'object',\n",
    "    'Tiene Seguro': 'float64',\n",
    "    'Matricula del Local Escolar': 'float64',\n",
    "    'Cantidad de Instituciones': 'float64',\n",
    "    'Educacion Inicial': 'float64',\n",
    "    'Educacion Escolar Basica': 'float64',\n",
    "    'Educacion Media': 'float64',\n",
    "    'Educacion Permanente': 'float64'\n",
    "}\n",
    "\n",
    "# Leer el archivo Excel\n",
    "#archivo_excel = 'tu_archivo.xlsx'\n",
    "#df = pd.read_excel(archivo_excel)\n",
    "\n",
    "# Intentar convertir las columnas a los tipos indicados\n",
    "for columna, tipo in tipos_datos_esperados.items():\n",
    "    try:\n",
    "        df[columna] = df[columna].astype(tipo)\n",
    "        print(f\"Columna '{columna}' convertida a {tipo} exitosamente.\")\n",
    "    except Exception as e:\n",
    "        print(f\"Error al convertir la columna '{columna}' a {tipo}: {e}\")\n",
    "\n",
    "# Verificar los tipos de datos finales\n",
    "print(df.dtypes)\n"
   ]
  },
  {
   "cell_type": "code",
   "execution_count": 5,
   "metadata": {},
   "outputs": [],
   "source": [
    "df['Fecha Contrato 1'] = pd.to_datetime(df['Fecha Contrato 1'], errors='coerce')\n",
    "\n"
   ]
  },
  {
   "cell_type": "code",
   "execution_count": 6,
   "metadata": {},
   "outputs": [],
   "source": [
    "# Convertir la columna 'Proyecto' a tipo string\n",
    "df['Proyecto'] = df['Proyecto'].astype(str)\n"
   ]
  },
  {
   "cell_type": "code",
   "execution_count": 7,
   "metadata": {},
   "outputs": [
    {
     "name": "stdout",
     "output_type": "stream",
     "text": [
      "<class 'pandas.core.frame.DataFrame'>\n",
      "RangeIndex: 8534 entries, 0 to 8533\n",
      "Data columns (total 58 columns):\n",
      " #   Column                       Non-Null Count  Dtype         \n",
      "---  ------                       --------------  -----         \n",
      " 0   Nº                           8532 non-null   float64       \n",
      " 1   SNIP                         8533 non-null   float64       \n",
      " 2   Proyecto                     8534 non-null   object        \n",
      " 3   Codigo de Establecimiento    7905 non-null   float64       \n",
      " 4   Codigo de Institucion        7899 non-null   float64       \n",
      " 5   Establecimiento              8533 non-null   object        \n",
      " 6   Departamento                 8533 non-null   object        \n",
      " 7   Distrito                     8531 non-null   object        \n",
      " 8   Categoria                    8533 non-null   object        \n",
      " 9   Latitud                      7762 non-null   object        \n",
      " 10  Longitud                     7762 non-null   object        \n",
      " 11  Sector                       7267 non-null   object        \n",
      " 12  Tipo Zona                    7265 non-null   object        \n",
      " 13  CAI                          7272 non-null   object        \n",
      " 14  Indigena                     7272 non-null   object        \n",
      " 15  Licitacion 1                 8533 non-null   object        \n",
      " 16  ID 1                         8533 non-null   float64       \n",
      " 17  Empresa 1                    8533 non-null   object        \n",
      " 18  Fecha Contrato 1             8533 non-null   datetime64[ns]\n",
      " 19  Numero Lote 1                8533 non-null   float64       \n",
      " 20  Monto Adjudicado 1           8533 non-null   float64       \n",
      " 21  Monto Anticipo 1             8533 non-null   float64       \n",
      " 22  Pago1 1                      8533 non-null   float64       \n",
      " 23  Pago1 2                      8533 non-null   float64       \n",
      " 24  Adenda Contrato 1            0 non-null      float64       \n",
      " 25  Licitacion 2                 0 non-null      float64       \n",
      " 26  ID 2                         0 non-null      float64       \n",
      " 27  Empresa 2                    0 non-null      object        \n",
      " 28  Fecha Contrato 2             0 non-null      object        \n",
      " 29  Numero Lote 2                0 non-null      float64       \n",
      " 30  Monto Adjudicado 2           8533 non-null   float64       \n",
      " 31  Monto Anticipo 2             8533 non-null   float64       \n",
      " 32  Pago2 1                      8533 non-null   float64       \n",
      " 33  Pago2 2                      8533 non-null   float64       \n",
      " 34  Adenda Contrato 2            0 non-null      float64       \n",
      " 35  Cantidad Notebook Tipologia  8533 non-null   float64       \n",
      " 36  Tipologia Notebook           50 non-null     object        \n",
      " 37  Costo Tipologia              8533 non-null   float64       \n",
      " 38  Cantidad Notebook            8534 non-null   int64         \n",
      " 39  Cantidad Impresora           8534 non-null   int64         \n",
      " 40  Cantidad Proyector           8534 non-null   int64         \n",
      " 41  Cantidad Carrito             8534 non-null   int64         \n",
      " 42  Cantidad AP                  8534 non-null   int64         \n",
      " 43  Cantidad Router              8534 non-null   int64         \n",
      " 44  Cantidad UPS                 8534 non-null   int64         \n",
      " 45  Cantidad Servidor            8534 non-null   int64         \n",
      " 46  Cantidad Software            8534 non-null   int64         \n",
      " 47  Cantidad Tablet              8534 non-null   int64         \n",
      " 48  Cantidad TV                  8534 non-null   int64         \n",
      " 49  Cantidad Amplificador        8534 non-null   int64         \n",
      " 50  Fecha Acta Engrega           5940 non-null   object        \n",
      " 51  Tiene Seguro                 8533 non-null   float64       \n",
      " 52  Matricula del Local Escolar  8533 non-null   float64       \n",
      " 53  Cantidad de Instituciones    8533 non-null   float64       \n",
      " 54  Educacion Inicial            8533 non-null   float64       \n",
      " 55  Educacion Escolar Basica     8533 non-null   float64       \n",
      " 56  Educacion Media              8533 non-null   float64       \n",
      " 57  Educacion Permanente         8533 non-null   float64       \n",
      "dtypes: datetime64[ns](1), float64(28), int64(12), object(17)\n",
      "memory usage: 3.8+ MB\n",
      "None\n"
     ]
    }
   ],
   "source": [
    "print(df.info())"
   ]
  },
  {
   "cell_type": "code",
   "execution_count": 8,
   "metadata": {},
   "outputs": [
    {
     "name": "stdout",
     "output_type": "stream",
     "text": [
      "    Departamento  Monto Adjudicado 1  Cantidad Notebook\n",
      "0    A. PARAGUAY          10156606.0                  0\n",
      "1      A. PARANÁ         352099052.0                 12\n",
      "2  ALTO PARAGUAY          73480854.0                  6\n",
      "3    ALTO PARANÁ          35798774.0                  0\n",
      "4        AMAMBAY         169939398.0                 12\n"
     ]
    },
    {
     "data": {
      "application/vnd.plotly.v1+json": {
       "config": {
        "plotlyServerURL": "https://plot.ly"
       },
       "data": [
        {
         "marker": {
          "color": "blue"
         },
         "name": "Monto Adjudicado",
         "type": "bar",
         "x": [
          "A. PARAGUAY",
          "A. PARANÁ",
          "ALTO PARAGUAY",
          "ALTO PARANÁ",
          "AMAMBAY",
          "Acahay",
          "Alto Paraguay",
          "Alto Parana",
          "Alto Paraná",
          "Alto Verá",
          "Altos",
          "Amambay",
          "Areguá",
          "Arroyos y Esteros",
          "Asunción",
          "Atyrá",
          "Ayolas",
          "BOQUERÓN",
          "Bella Vista",
          "Benjamín Aceval",
          "Boqueron",
          "Boquerón",
          "CAAGUAZÚ",
          "CAAZAPÁ",
          "CANINDEYÚ",
          "CAPITAL",
          "CENTRAL",
          "CONCEPCIÓN",
          "CORDILLERA",
          "Caacupé",
          "Caaguazú",
          "Caapucú",
          "Caazapá",
          "Canindeyú",
          "Capiatá",
          "Capital",
          "Capitán Bado",
          "Capitán Meza",
          "Caraguatay",
          "Carapeguá",
          "Carayaó",
          "Carlos Antonio López",
          "Carmelo Peralta",
          "Central",
          "Ciudad del Este",
          "Concepción",
          "Cordillera",
          "Coronel Bogado",
          "Coronel Martínez",
          "Coronel Oviedo",
          "Curuguaty",
          "Edelira",
          "Encarnación",
          "Escobar",
          "Eusebio Ayala",
          "Fernando de la Mora",
          "Filadelfia",
          "GUAIRA",
          "GUAIRÁ",
          "General Artigas",
          "General Bruguez",
          "General Delgado",
          "General Eugenio A. Garay",
          "General José Eduvigis Díaz",
          "Guairá",
          "Guarambaré",
          "Hohenau",
          "Horqueta",
          "Humaitá",
          "ITAPÚA",
          "ITAPÚA ",
          "Independencia",
          "Isla Pucú",
          "Isla Umbú",
          "Itakyry",
          "Itapúa",
          "Itapúa Poty",
          "Itauguá",
          "Iturbe",
          "Itá",
          "José Domingo Ocampos",
          "José Fassardi",
          "Julián Augusto Saldívar",
          "Lambaré",
          "Laureles",
          "Loreto",
          "Luque",
          "MISIONES",
          "MISIONES ",
          "Mariano Roque Alonso",
          "Mariscal Estigarribia",
          "Mariscal Francisco Solano López",
          "Mayor Martínez",
          "Mbocayaty del Yhaguy",
          "Mbuyapey",
          "Misiones",
          "Natalicio Talavera",
          "Nueva Colombia",
          "Nueva Toledo",
          "PARAGUARÍ",
          "PDTE. HAYES",
          "Paraguarí",
          "Paso Yobai",
          "Pedro Juan Caballero",
          "Pilar",
          "Pirayú",
          "Piribebuy",
          "Presidente Franco",
          "Presidente Hayes",
          "Puerto Casado",
          "Puerto Pinasco",
          "Quiindy",
          "Quyquyhó",
          "Raúl Arsenio Oviedo",
          "Repatriación",
          "SAN PEDRO",
          "SAN PEDRO - SECTOR NORTE",
          "SAN PEDRO - SECTOR SUR",
          "San Antonio",
          "San Cosme y Damián",
          "San Ignacio",
          "San Juan Bautista",
          "San Lorenzo",
          "San Miguel",
          "San Patricio",
          "San Pedro",
          "San Pedro del Paraná",
          "San Rafael del Paraná",
          "San Roque González de Santacruz",
          "Santa Fe del Paraná",
          "Santa María",
          "Santa Rosa",
          "Santa Rosa del Mbutuy",
          "Santiago",
          "Tacuaras",
          "Tavaí",
          "Territorio Nacional",
          "Valenzuela",
          "Vaquería",
          "Villa Elisa",
          "Villa Florida",
          "Villa Hayes",
          "Villarrica",
          "Yabebyry",
          "Yaguarón",
          "Yatytay",
          "Yby Yaú",
          "Ybycuí",
          "Ybytymí",
          "Yguazú",
          "Yhú",
          "Ypacaraí",
          "Yuty",
          "ÑEEMBUCÚ",
          "ÑEEMBUCÚ ",
          "Ñacunday",
          "Ñeembucú",
          "Ñemby",
          "Ñumí"
         ],
         "y": [
          10156606,
          352099052,
          73480854,
          35798774,
          169939398,
          102028224,
          1624440205,
          658557000,
          31849288945,
          51014112,
          51014112,
          5111161552,
          137924112,
          51014112,
          2849121748,
          51014112,
          274839112,
          128511254,
          87919112,
          69466612,
          4797676560,
          185545000,
          647197571,
          333742115,
          444263810,
          424157495,
          980064997,
          362923450,
          347805266,
          138933224,
          20110575813,
          87919112,
          5657781364,
          8320234692,
          69466612,
          22662450290,
          51014112,
          102028224,
          51014112,
          153042336,
          102028224,
          51014112,
          51014112,
          86688719068,
          87919112,
          10302403501,
          24537044085,
          51014112,
          87919112,
          653724672,
          326862336,
          51014112,
          87919112,
          102028224,
          51014112,
          175838224,
          137924112,
          22977690,
          337074385,
          102028224,
          51014112,
          51014112,
          51014112,
          51014112,
          7655246892,
          87919112,
          137924112,
          51014112,
          51014112,
          340152657,
          215387467,
          342989672,
          153042336,
          51014112,
          208399836,
          19439394638,
          51014112,
          175838224,
          87919112,
          226852336,
          138933224,
          102028224,
          87919112,
          313762336,
          51014112,
          87919112,
          276857336,
          123616640,
          16567148,
          51014112,
          69466612,
          87919112,
          51014112,
          51014112,
          87919112,
          9148091436,
          51014112,
          87919112,
          51014112,
          362349175,
          195007291,
          12362441448,
          120480724,
          188938224,
          342989672,
          175838224,
          102028224,
          51014112,
          10273445772,
          51014112,
          51014112,
          102028224,
          87919112,
          137924112,
          87919112,
          29388232,
          318417034,
          484036093,
          87919112,
          138933224,
          478895560,
          478895560,
          804372008,
          51014112,
          87919112,
          17913521008,
          138933224,
          138933224,
          69466612,
          87919112,
          102028224,
          237934112,
          153042336,
          138933224,
          51014112,
          138933224,
          31034194,
          51014112,
          87919112,
          51014112,
          51014112,
          138933224,
          314771448,
          51014112,
          189947336,
          87919112,
          51014112,
          51014112,
          51014112,
          51014112,
          51014112,
          87919112,
          187929112,
          214606295,
          22977690,
          51014112,
          2528014305,
          138933224,
          51014112
         ]
        },
        {
         "marker": {
          "color": "green"
         },
         "mode": "lines+markers",
         "name": "Cantidad Notebook",
         "type": "scatter",
         "x": [
          "A. PARAGUAY",
          "A. PARANÁ",
          "ALTO PARAGUAY",
          "ALTO PARANÁ",
          "AMAMBAY",
          "Acahay",
          "Alto Paraguay",
          "Alto Parana",
          "Alto Paraná",
          "Alto Verá",
          "Altos",
          "Amambay",
          "Areguá",
          "Arroyos y Esteros",
          "Asunción",
          "Atyrá",
          "Ayolas",
          "BOQUERÓN",
          "Bella Vista",
          "Benjamín Aceval",
          "Boqueron",
          "Boquerón",
          "CAAGUAZÚ",
          "CAAZAPÁ",
          "CANINDEYÚ",
          "CAPITAL",
          "CENTRAL",
          "CONCEPCIÓN",
          "CORDILLERA",
          "Caacupé",
          "Caaguazú",
          "Caapucú",
          "Caazapá",
          "Canindeyú",
          "Capiatá",
          "Capital",
          "Capitán Bado",
          "Capitán Meza",
          "Caraguatay",
          "Carapeguá",
          "Carayaó",
          "Carlos Antonio López",
          "Carmelo Peralta",
          "Central",
          "Ciudad del Este",
          "Concepción",
          "Cordillera",
          "Coronel Bogado",
          "Coronel Martínez",
          "Coronel Oviedo",
          "Curuguaty",
          "Edelira",
          "Encarnación",
          "Escobar",
          "Eusebio Ayala",
          "Fernando de la Mora",
          "Filadelfia",
          "GUAIRA",
          "GUAIRÁ",
          "General Artigas",
          "General Bruguez",
          "General Delgado",
          "General Eugenio A. Garay",
          "General José Eduvigis Díaz",
          "Guairá",
          "Guarambaré",
          "Hohenau",
          "Horqueta",
          "Humaitá",
          "ITAPÚA",
          "ITAPÚA ",
          "Independencia",
          "Isla Pucú",
          "Isla Umbú",
          "Itakyry",
          "Itapúa",
          "Itapúa Poty",
          "Itauguá",
          "Iturbe",
          "Itá",
          "José Domingo Ocampos",
          "José Fassardi",
          "Julián Augusto Saldívar",
          "Lambaré",
          "Laureles",
          "Loreto",
          "Luque",
          "MISIONES",
          "MISIONES ",
          "Mariano Roque Alonso",
          "Mariscal Estigarribia",
          "Mariscal Francisco Solano López",
          "Mayor Martínez",
          "Mbocayaty del Yhaguy",
          "Mbuyapey",
          "Misiones",
          "Natalicio Talavera",
          "Nueva Colombia",
          "Nueva Toledo",
          "PARAGUARÍ",
          "PDTE. HAYES",
          "Paraguarí",
          "Paso Yobai",
          "Pedro Juan Caballero",
          "Pilar",
          "Pirayú",
          "Piribebuy",
          "Presidente Franco",
          "Presidente Hayes",
          "Puerto Casado",
          "Puerto Pinasco",
          "Quiindy",
          "Quyquyhó",
          "Raúl Arsenio Oviedo",
          "Repatriación",
          "SAN PEDRO",
          "SAN PEDRO - SECTOR NORTE",
          "SAN PEDRO - SECTOR SUR",
          "San Antonio",
          "San Cosme y Damián",
          "San Ignacio",
          "San Juan Bautista",
          "San Lorenzo",
          "San Miguel",
          "San Patricio",
          "San Pedro",
          "San Pedro del Paraná",
          "San Rafael del Paraná",
          "San Roque González de Santacruz",
          "Santa Fe del Paraná",
          "Santa María",
          "Santa Rosa",
          "Santa Rosa del Mbutuy",
          "Santiago",
          "Tacuaras",
          "Tavaí",
          "Territorio Nacional",
          "Valenzuela",
          "Vaquería",
          "Villa Elisa",
          "Villa Florida",
          "Villa Hayes",
          "Villarrica",
          "Yabebyry",
          "Yaguarón",
          "Yatytay",
          "Yby Yaú",
          "Ybycuí",
          "Ybytymí",
          "Yguazú",
          "Yhú",
          "Ypacaraí",
          "Yuty",
          "ÑEEMBUCÚ",
          "ÑEEMBUCÚ ",
          "Ñacunday",
          "Ñeembucú",
          "Ñemby",
          "Ñumí"
         ],
         "y": [
          0,
          12,
          6,
          0,
          12,
          20,
          319,
          32,
          6090,
          10,
          10,
          924,
          30,
          10,
          615,
          10,
          60,
          6,
          20,
          15,
          880,
          8,
          47,
          17,
          32,
          65,
          59,
          22,
          26,
          30,
          3417,
          20,
          1046,
          1590,
          15,
          3511,
          10,
          20,
          10,
          30,
          20,
          10,
          10,
          15312,
          20,
          1848,
          6851,
          10,
          20,
          140,
          70,
          10,
          20,
          20,
          10,
          40,
          30,
          0,
          27,
          20,
          10,
          10,
          10,
          10,
          1230,
          20,
          30,
          10,
          10,
          17,
          11,
          70,
          30,
          10,
          45,
          3413,
          10,
          40,
          20,
          50,
          30,
          20,
          20,
          70,
          10,
          20,
          60,
          8,
          0,
          10,
          15,
          20,
          10,
          10,
          20,
          1555,
          10,
          20,
          10,
          23,
          13,
          2096,
          25,
          40,
          70,
          40,
          20,
          10,
          1911,
          10,
          10,
          20,
          20,
          30,
          20,
          0,
          26,
          39,
          20,
          30,
          100,
          100,
          180,
          10,
          20,
          3306,
          30,
          30,
          15,
          20,
          20,
          50,
          30,
          30,
          10,
          30,
          6,
          10,
          20,
          10,
          10,
          30,
          70,
          10,
          40,
          20,
          10,
          10,
          10,
          10,
          10,
          20,
          40,
          17,
          0,
          10,
          398,
          30,
          10
         ]
        }
       ],
       "layout": {
        "template": {
         "data": {
          "bar": [
           {
            "error_x": {
             "color": "#2a3f5f"
            },
            "error_y": {
             "color": "#2a3f5f"
            },
            "marker": {
             "line": {
              "color": "#E5ECF6",
              "width": 0.5
             },
             "pattern": {
              "fillmode": "overlay",
              "size": 10,
              "solidity": 0.2
             }
            },
            "type": "bar"
           }
          ],
          "barpolar": [
           {
            "marker": {
             "line": {
              "color": "#E5ECF6",
              "width": 0.5
             },
             "pattern": {
              "fillmode": "overlay",
              "size": 10,
              "solidity": 0.2
             }
            },
            "type": "barpolar"
           }
          ],
          "carpet": [
           {
            "aaxis": {
             "endlinecolor": "#2a3f5f",
             "gridcolor": "white",
             "linecolor": "white",
             "minorgridcolor": "white",
             "startlinecolor": "#2a3f5f"
            },
            "baxis": {
             "endlinecolor": "#2a3f5f",
             "gridcolor": "white",
             "linecolor": "white",
             "minorgridcolor": "white",
             "startlinecolor": "#2a3f5f"
            },
            "type": "carpet"
           }
          ],
          "choropleth": [
           {
            "colorbar": {
             "outlinewidth": 0,
             "ticks": ""
            },
            "type": "choropleth"
           }
          ],
          "contour": [
           {
            "colorbar": {
             "outlinewidth": 0,
             "ticks": ""
            },
            "colorscale": [
             [
              0,
              "#0d0887"
             ],
             [
              0.1111111111111111,
              "#46039f"
             ],
             [
              0.2222222222222222,
              "#7201a8"
             ],
             [
              0.3333333333333333,
              "#9c179e"
             ],
             [
              0.4444444444444444,
              "#bd3786"
             ],
             [
              0.5555555555555556,
              "#d8576b"
             ],
             [
              0.6666666666666666,
              "#ed7953"
             ],
             [
              0.7777777777777778,
              "#fb9f3a"
             ],
             [
              0.8888888888888888,
              "#fdca26"
             ],
             [
              1,
              "#f0f921"
             ]
            ],
            "type": "contour"
           }
          ],
          "contourcarpet": [
           {
            "colorbar": {
             "outlinewidth": 0,
             "ticks": ""
            },
            "type": "contourcarpet"
           }
          ],
          "heatmap": [
           {
            "colorbar": {
             "outlinewidth": 0,
             "ticks": ""
            },
            "colorscale": [
             [
              0,
              "#0d0887"
             ],
             [
              0.1111111111111111,
              "#46039f"
             ],
             [
              0.2222222222222222,
              "#7201a8"
             ],
             [
              0.3333333333333333,
              "#9c179e"
             ],
             [
              0.4444444444444444,
              "#bd3786"
             ],
             [
              0.5555555555555556,
              "#d8576b"
             ],
             [
              0.6666666666666666,
              "#ed7953"
             ],
             [
              0.7777777777777778,
              "#fb9f3a"
             ],
             [
              0.8888888888888888,
              "#fdca26"
             ],
             [
              1,
              "#f0f921"
             ]
            ],
            "type": "heatmap"
           }
          ],
          "heatmapgl": [
           {
            "colorbar": {
             "outlinewidth": 0,
             "ticks": ""
            },
            "colorscale": [
             [
              0,
              "#0d0887"
             ],
             [
              0.1111111111111111,
              "#46039f"
             ],
             [
              0.2222222222222222,
              "#7201a8"
             ],
             [
              0.3333333333333333,
              "#9c179e"
             ],
             [
              0.4444444444444444,
              "#bd3786"
             ],
             [
              0.5555555555555556,
              "#d8576b"
             ],
             [
              0.6666666666666666,
              "#ed7953"
             ],
             [
              0.7777777777777778,
              "#fb9f3a"
             ],
             [
              0.8888888888888888,
              "#fdca26"
             ],
             [
              1,
              "#f0f921"
             ]
            ],
            "type": "heatmapgl"
           }
          ],
          "histogram": [
           {
            "marker": {
             "pattern": {
              "fillmode": "overlay",
              "size": 10,
              "solidity": 0.2
             }
            },
            "type": "histogram"
           }
          ],
          "histogram2d": [
           {
            "colorbar": {
             "outlinewidth": 0,
             "ticks": ""
            },
            "colorscale": [
             [
              0,
              "#0d0887"
             ],
             [
              0.1111111111111111,
              "#46039f"
             ],
             [
              0.2222222222222222,
              "#7201a8"
             ],
             [
              0.3333333333333333,
              "#9c179e"
             ],
             [
              0.4444444444444444,
              "#bd3786"
             ],
             [
              0.5555555555555556,
              "#d8576b"
             ],
             [
              0.6666666666666666,
              "#ed7953"
             ],
             [
              0.7777777777777778,
              "#fb9f3a"
             ],
             [
              0.8888888888888888,
              "#fdca26"
             ],
             [
              1,
              "#f0f921"
             ]
            ],
            "type": "histogram2d"
           }
          ],
          "histogram2dcontour": [
           {
            "colorbar": {
             "outlinewidth": 0,
             "ticks": ""
            },
            "colorscale": [
             [
              0,
              "#0d0887"
             ],
             [
              0.1111111111111111,
              "#46039f"
             ],
             [
              0.2222222222222222,
              "#7201a8"
             ],
             [
              0.3333333333333333,
              "#9c179e"
             ],
             [
              0.4444444444444444,
              "#bd3786"
             ],
             [
              0.5555555555555556,
              "#d8576b"
             ],
             [
              0.6666666666666666,
              "#ed7953"
             ],
             [
              0.7777777777777778,
              "#fb9f3a"
             ],
             [
              0.8888888888888888,
              "#fdca26"
             ],
             [
              1,
              "#f0f921"
             ]
            ],
            "type": "histogram2dcontour"
           }
          ],
          "mesh3d": [
           {
            "colorbar": {
             "outlinewidth": 0,
             "ticks": ""
            },
            "type": "mesh3d"
           }
          ],
          "parcoords": [
           {
            "line": {
             "colorbar": {
              "outlinewidth": 0,
              "ticks": ""
             }
            },
            "type": "parcoords"
           }
          ],
          "pie": [
           {
            "automargin": true,
            "type": "pie"
           }
          ],
          "scatter": [
           {
            "fillpattern": {
             "fillmode": "overlay",
             "size": 10,
             "solidity": 0.2
            },
            "type": "scatter"
           }
          ],
          "scatter3d": [
           {
            "line": {
             "colorbar": {
              "outlinewidth": 0,
              "ticks": ""
             }
            },
            "marker": {
             "colorbar": {
              "outlinewidth": 0,
              "ticks": ""
             }
            },
            "type": "scatter3d"
           }
          ],
          "scattercarpet": [
           {
            "marker": {
             "colorbar": {
              "outlinewidth": 0,
              "ticks": ""
             }
            },
            "type": "scattercarpet"
           }
          ],
          "scattergeo": [
           {
            "marker": {
             "colorbar": {
              "outlinewidth": 0,
              "ticks": ""
             }
            },
            "type": "scattergeo"
           }
          ],
          "scattergl": [
           {
            "marker": {
             "colorbar": {
              "outlinewidth": 0,
              "ticks": ""
             }
            },
            "type": "scattergl"
           }
          ],
          "scattermapbox": [
           {
            "marker": {
             "colorbar": {
              "outlinewidth": 0,
              "ticks": ""
             }
            },
            "type": "scattermapbox"
           }
          ],
          "scatterpolar": [
           {
            "marker": {
             "colorbar": {
              "outlinewidth": 0,
              "ticks": ""
             }
            },
            "type": "scatterpolar"
           }
          ],
          "scatterpolargl": [
           {
            "marker": {
             "colorbar": {
              "outlinewidth": 0,
              "ticks": ""
             }
            },
            "type": "scatterpolargl"
           }
          ],
          "scatterternary": [
           {
            "marker": {
             "colorbar": {
              "outlinewidth": 0,
              "ticks": ""
             }
            },
            "type": "scatterternary"
           }
          ],
          "surface": [
           {
            "colorbar": {
             "outlinewidth": 0,
             "ticks": ""
            },
            "colorscale": [
             [
              0,
              "#0d0887"
             ],
             [
              0.1111111111111111,
              "#46039f"
             ],
             [
              0.2222222222222222,
              "#7201a8"
             ],
             [
              0.3333333333333333,
              "#9c179e"
             ],
             [
              0.4444444444444444,
              "#bd3786"
             ],
             [
              0.5555555555555556,
              "#d8576b"
             ],
             [
              0.6666666666666666,
              "#ed7953"
             ],
             [
              0.7777777777777778,
              "#fb9f3a"
             ],
             [
              0.8888888888888888,
              "#fdca26"
             ],
             [
              1,
              "#f0f921"
             ]
            ],
            "type": "surface"
           }
          ],
          "table": [
           {
            "cells": {
             "fill": {
              "color": "#EBF0F8"
             },
             "line": {
              "color": "white"
             }
            },
            "header": {
             "fill": {
              "color": "#C8D4E3"
             },
             "line": {
              "color": "white"
             }
            },
            "type": "table"
           }
          ]
         },
         "layout": {
          "annotationdefaults": {
           "arrowcolor": "#2a3f5f",
           "arrowhead": 0,
           "arrowwidth": 1
          },
          "autotypenumbers": "strict",
          "coloraxis": {
           "colorbar": {
            "outlinewidth": 0,
            "ticks": ""
           }
          },
          "colorscale": {
           "diverging": [
            [
             0,
             "#8e0152"
            ],
            [
             0.1,
             "#c51b7d"
            ],
            [
             0.2,
             "#de77ae"
            ],
            [
             0.3,
             "#f1b6da"
            ],
            [
             0.4,
             "#fde0ef"
            ],
            [
             0.5,
             "#f7f7f7"
            ],
            [
             0.6,
             "#e6f5d0"
            ],
            [
             0.7,
             "#b8e186"
            ],
            [
             0.8,
             "#7fbc41"
            ],
            [
             0.9,
             "#4d9221"
            ],
            [
             1,
             "#276419"
            ]
           ],
           "sequential": [
            [
             0,
             "#0d0887"
            ],
            [
             0.1111111111111111,
             "#46039f"
            ],
            [
             0.2222222222222222,
             "#7201a8"
            ],
            [
             0.3333333333333333,
             "#9c179e"
            ],
            [
             0.4444444444444444,
             "#bd3786"
            ],
            [
             0.5555555555555556,
             "#d8576b"
            ],
            [
             0.6666666666666666,
             "#ed7953"
            ],
            [
             0.7777777777777778,
             "#fb9f3a"
            ],
            [
             0.8888888888888888,
             "#fdca26"
            ],
            [
             1,
             "#f0f921"
            ]
           ],
           "sequentialminus": [
            [
             0,
             "#0d0887"
            ],
            [
             0.1111111111111111,
             "#46039f"
            ],
            [
             0.2222222222222222,
             "#7201a8"
            ],
            [
             0.3333333333333333,
             "#9c179e"
            ],
            [
             0.4444444444444444,
             "#bd3786"
            ],
            [
             0.5555555555555556,
             "#d8576b"
            ],
            [
             0.6666666666666666,
             "#ed7953"
            ],
            [
             0.7777777777777778,
             "#fb9f3a"
            ],
            [
             0.8888888888888888,
             "#fdca26"
            ],
            [
             1,
             "#f0f921"
            ]
           ]
          },
          "colorway": [
           "#636efa",
           "#EF553B",
           "#00cc96",
           "#ab63fa",
           "#FFA15A",
           "#19d3f3",
           "#FF6692",
           "#B6E880",
           "#FF97FF",
           "#FECB52"
          ],
          "font": {
           "color": "#2a3f5f"
          },
          "geo": {
           "bgcolor": "white",
           "lakecolor": "white",
           "landcolor": "#E5ECF6",
           "showlakes": true,
           "showland": true,
           "subunitcolor": "white"
          },
          "hoverlabel": {
           "align": "left"
          },
          "hovermode": "closest",
          "mapbox": {
           "style": "light"
          },
          "paper_bgcolor": "white",
          "plot_bgcolor": "#E5ECF6",
          "polar": {
           "angularaxis": {
            "gridcolor": "white",
            "linecolor": "white",
            "ticks": ""
           },
           "bgcolor": "#E5ECF6",
           "radialaxis": {
            "gridcolor": "white",
            "linecolor": "white",
            "ticks": ""
           }
          },
          "scene": {
           "xaxis": {
            "backgroundcolor": "#E5ECF6",
            "gridcolor": "white",
            "gridwidth": 2,
            "linecolor": "white",
            "showbackground": true,
            "ticks": "",
            "zerolinecolor": "white"
           },
           "yaxis": {
            "backgroundcolor": "#E5ECF6",
            "gridcolor": "white",
            "gridwidth": 2,
            "linecolor": "white",
            "showbackground": true,
            "ticks": "",
            "zerolinecolor": "white"
           },
           "zaxis": {
            "backgroundcolor": "#E5ECF6",
            "gridcolor": "white",
            "gridwidth": 2,
            "linecolor": "white",
            "showbackground": true,
            "ticks": "",
            "zerolinecolor": "white"
           }
          },
          "shapedefaults": {
           "line": {
            "color": "#2a3f5f"
           }
          },
          "ternary": {
           "aaxis": {
            "gridcolor": "white",
            "linecolor": "white",
            "ticks": ""
           },
           "baxis": {
            "gridcolor": "white",
            "linecolor": "white",
            "ticks": ""
           },
           "bgcolor": "#E5ECF6",
           "caxis": {
            "gridcolor": "white",
            "linecolor": "white",
            "ticks": ""
           }
          },
          "title": {
           "x": 0.05
          },
          "xaxis": {
           "automargin": true,
           "gridcolor": "white",
           "linecolor": "white",
           "ticks": "",
           "title": {
            "standoff": 15
           },
           "zerolinecolor": "white",
           "zerolinewidth": 2
          },
          "yaxis": {
           "automargin": true,
           "gridcolor": "white",
           "linecolor": "white",
           "ticks": "",
           "title": {
            "standoff": 15
           },
           "zerolinecolor": "white",
           "zerolinewidth": 2
          }
         }
        },
        "title": {
         "text": "Monto Adjudicado vs Cantidad de Notebook por Departamento"
        },
        "xaxis": {
         "tickangle": -90,
         "title": {
          "text": "Departamento"
         }
        },
        "yaxis": {
         "title": {
          "text": "Monto Adjudicado"
         }
        },
        "yaxis2": {
         "overlaying": "y",
         "side": "right",
         "title": {
          "text": "Cantidad Notebook"
         }
        }
       }
      }
     },
     "metadata": {},
     "output_type": "display_data"
    }
   ],
   "source": [
    "import pandas as pd\n",
    "import plotly.graph_objects as go\n",
    "\n",
    "# Agrupar por 'Departamento' y sumar 'Monto Adjudicado 1' y 'Cantidad Notebook'\n",
    "df_agrupado = df.groupby('Departamento').agg({\n",
    "    'Monto Adjudicado 1': 'sum',\n",
    "    'Cantidad Notebook': 'sum'\n",
    "}).reset_index()\n",
    "\n",
    "# Ver los primeros registros del DataFrame agrupado\n",
    "print(df_agrupado.head())\n",
    "\n",
    "# Crear la gráfica\n",
    "fig = go.Figure()\n",
    "\n",
    "# Agregar la gráfica de barras para 'Monto Adjudicado 1'\n",
    "fig.add_trace(go.Bar(\n",
    "    x=df_agrupado['Departamento'],\n",
    "    y=df_agrupado['Monto Adjudicado 1'],\n",
    "    name='Monto Adjudicado',\n",
    "    marker_color='blue'\n",
    "))\n",
    "\n",
    "# Agregar la gráfica de línea para 'Cantidad Notebook'\n",
    "fig.add_trace(go.Scatter(\n",
    "    x=df_agrupado['Departamento'],\n",
    "    y=df_agrupado['Cantidad Notebook'],\n",
    "    name='Cantidad Notebook',\n",
    "    mode='lines+markers',\n",
    "    marker=dict(color='green')\n",
    "))\n",
    "\n",
    "# Configuraciones de layout\n",
    "fig.update_layout(\n",
    "    title='Monto Adjudicado vs Cantidad de Notebook por Departamento',\n",
    "    xaxis_title='Departamento',\n",
    "    yaxis_title='Monto Adjudicado',\n",
    "    yaxis2=dict(\n",
    "        title='Cantidad Notebook',\n",
    "        overlaying='y',\n",
    "        side='right'\n",
    "    ),\n",
    "    xaxis_tickangle=-90\n",
    ")\n",
    "\n",
    "# Mostrar la gráfica\n",
    "fig.show()\n"
   ]
  },
  {
   "cell_type": "code",
   "execution_count": 9,
   "metadata": {},
   "outputs": [
    {
     "name": "stdout",
     "output_type": "stream",
     "text": [
      "      Departamento  Monto Adjudicado 1  Cantidad Notebook\n",
      "0      A. PARAGUAY        1.015661e+07                  0\n",
      "1        A. PARANÁ        3.520991e+08                 12\n",
      "2    ALTO PARAGUAY        7.348085e+07                  6\n",
      "3      ALTO PARANÁ        3.579877e+07                  0\n",
      "4          AMAMBAY        1.699394e+08                 12\n",
      "..             ...                 ...                ...\n",
      "154      ÑEEMBUCÚ         2.297769e+07                  0\n",
      "155       Ñacunday        5.101411e+07                 10\n",
      "156       Ñeembucú        2.528014e+09                398\n",
      "157          Ñemby        1.389332e+08                 30\n",
      "158           Ñumí        5.101411e+07                 10\n",
      "\n",
      "[159 rows x 3 columns]\n"
     ]
    }
   ],
   "source": [
    "# Ver los primeros registros del DataFrame agrupado\n",
    "print(df_agrupado.head(500))"
   ]
  },
  {
   "cell_type": "code",
   "execution_count": 10,
   "metadata": {},
   "outputs": [],
   "source": [
    "# Guardar en una ruta específica\n",
    "df_agrupado.head(500).to_csv('../data/uepp/df_agrupado_500.csv', index=False)\n"
   ]
  },
  {
   "cell_type": "code",
   "execution_count": 11,
   "metadata": {},
   "outputs": [
    {
     "name": "stdout",
     "output_type": "stream",
     "text": [
      "    Departamento  Cantidad Notebook\n",
      "0    A. PARAGUAY                  0\n",
      "1      A. PARANÁ                 12\n",
      "2  ALTO PARAGUAY                  6\n",
      "3    ALTO PARANÁ                  0\n",
      "4        AMAMBAY                 12\n"
     ]
    },
    {
     "data": {
      "application/vnd.plotly.v1+json": {
       "config": {
        "plotlyServerURL": "https://plot.ly"
       },
       "data": [
        {
         "marker": {
          "color": "green"
         },
         "name": "Cantidad Notebook",
         "type": "bar",
         "x": [
          "A. PARAGUAY",
          "A. PARANÁ",
          "ALTO PARAGUAY",
          "ALTO PARANÁ",
          "AMAMBAY",
          "Acahay",
          "Alto Paraguay",
          "Alto Parana",
          "Alto Paraná",
          "Alto Verá",
          "Altos",
          "Amambay",
          "Areguá",
          "Arroyos y Esteros",
          "Asunción",
          "Atyrá",
          "Ayolas",
          "BOQUERÓN",
          "Bella Vista",
          "Benjamín Aceval",
          "Boqueron",
          "Boquerón",
          "CAAGUAZÚ",
          "CAAZAPÁ",
          "CANINDEYÚ",
          "CAPITAL",
          "CENTRAL",
          "CONCEPCIÓN",
          "CORDILLERA",
          "Caacupé",
          "Caaguazú",
          "Caapucú",
          "Caazapá",
          "Canindeyú",
          "Capiatá",
          "Capital",
          "Capitán Bado",
          "Capitán Meza",
          "Caraguatay",
          "Carapeguá",
          "Carayaó",
          "Carlos Antonio López",
          "Carmelo Peralta",
          "Central",
          "Ciudad del Este",
          "Concepción",
          "Cordillera",
          "Coronel Bogado",
          "Coronel Martínez",
          "Coronel Oviedo",
          "Curuguaty",
          "Edelira",
          "Encarnación",
          "Escobar",
          "Eusebio Ayala",
          "Fernando de la Mora",
          "Filadelfia",
          "GUAIRA",
          "GUAIRÁ",
          "General Artigas",
          "General Bruguez",
          "General Delgado",
          "General Eugenio A. Garay",
          "General José Eduvigis Díaz",
          "Guairá",
          "Guarambaré",
          "Hohenau",
          "Horqueta",
          "Humaitá",
          "ITAPÚA",
          "ITAPÚA ",
          "Independencia",
          "Isla Pucú",
          "Isla Umbú",
          "Itakyry",
          "Itapúa",
          "Itapúa Poty",
          "Itauguá",
          "Iturbe",
          "Itá",
          "José Domingo Ocampos",
          "José Fassardi",
          "Julián Augusto Saldívar",
          "Lambaré",
          "Laureles",
          "Loreto",
          "Luque",
          "MISIONES",
          "MISIONES ",
          "Mariano Roque Alonso",
          "Mariscal Estigarribia",
          "Mariscal Francisco Solano López",
          "Mayor Martínez",
          "Mbocayaty del Yhaguy",
          "Mbuyapey",
          "Misiones",
          "Natalicio Talavera",
          "Nueva Colombia",
          "Nueva Toledo",
          "PARAGUARÍ",
          "PDTE. HAYES",
          "Paraguarí",
          "Paso Yobai",
          "Pedro Juan Caballero",
          "Pilar",
          "Pirayú",
          "Piribebuy",
          "Presidente Franco",
          "Presidente Hayes",
          "Puerto Casado",
          "Puerto Pinasco",
          "Quiindy",
          "Quyquyhó",
          "Raúl Arsenio Oviedo",
          "Repatriación",
          "SAN PEDRO",
          "SAN PEDRO - SECTOR NORTE",
          "SAN PEDRO - SECTOR SUR",
          "San Antonio",
          "San Cosme y Damián",
          "San Ignacio",
          "San Juan Bautista",
          "San Lorenzo",
          "San Miguel",
          "San Patricio",
          "San Pedro",
          "San Pedro del Paraná",
          "San Rafael del Paraná",
          "San Roque González de Santacruz",
          "Santa Fe del Paraná",
          "Santa María",
          "Santa Rosa",
          "Santa Rosa del Mbutuy",
          "Santiago",
          "Tacuaras",
          "Tavaí",
          "Territorio Nacional",
          "Valenzuela",
          "Vaquería",
          "Villa Elisa",
          "Villa Florida",
          "Villa Hayes",
          "Villarrica",
          "Yabebyry",
          "Yaguarón",
          "Yatytay",
          "Yby Yaú",
          "Ybycuí",
          "Ybytymí",
          "Yguazú",
          "Yhú",
          "Ypacaraí",
          "Yuty",
          "ÑEEMBUCÚ",
          "ÑEEMBUCÚ ",
          "Ñacunday",
          "Ñeembucú",
          "Ñemby",
          "Ñumí"
         ],
         "y": [
          0,
          12,
          6,
          0,
          12,
          20,
          319,
          32,
          6090,
          10,
          10,
          924,
          30,
          10,
          615,
          10,
          60,
          6,
          20,
          15,
          880,
          8,
          47,
          17,
          32,
          65,
          59,
          22,
          26,
          30,
          3417,
          20,
          1046,
          1590,
          15,
          3511,
          10,
          20,
          10,
          30,
          20,
          10,
          10,
          15312,
          20,
          1848,
          6851,
          10,
          20,
          140,
          70,
          10,
          20,
          20,
          10,
          40,
          30,
          0,
          27,
          20,
          10,
          10,
          10,
          10,
          1230,
          20,
          30,
          10,
          10,
          17,
          11,
          70,
          30,
          10,
          45,
          3413,
          10,
          40,
          20,
          50,
          30,
          20,
          20,
          70,
          10,
          20,
          60,
          8,
          0,
          10,
          15,
          20,
          10,
          10,
          20,
          1555,
          10,
          20,
          10,
          23,
          13,
          2096,
          25,
          40,
          70,
          40,
          20,
          10,
          1911,
          10,
          10,
          20,
          20,
          30,
          20,
          0,
          26,
          39,
          20,
          30,
          100,
          100,
          180,
          10,
          20,
          3306,
          30,
          30,
          15,
          20,
          20,
          50,
          30,
          30,
          10,
          30,
          6,
          10,
          20,
          10,
          10,
          30,
          70,
          10,
          40,
          20,
          10,
          10,
          10,
          10,
          10,
          20,
          40,
          17,
          0,
          10,
          398,
          30,
          10
         ]
        }
       ],
       "layout": {
        "template": {
         "data": {
          "bar": [
           {
            "error_x": {
             "color": "#2a3f5f"
            },
            "error_y": {
             "color": "#2a3f5f"
            },
            "marker": {
             "line": {
              "color": "#E5ECF6",
              "width": 0.5
             },
             "pattern": {
              "fillmode": "overlay",
              "size": 10,
              "solidity": 0.2
             }
            },
            "type": "bar"
           }
          ],
          "barpolar": [
           {
            "marker": {
             "line": {
              "color": "#E5ECF6",
              "width": 0.5
             },
             "pattern": {
              "fillmode": "overlay",
              "size": 10,
              "solidity": 0.2
             }
            },
            "type": "barpolar"
           }
          ],
          "carpet": [
           {
            "aaxis": {
             "endlinecolor": "#2a3f5f",
             "gridcolor": "white",
             "linecolor": "white",
             "minorgridcolor": "white",
             "startlinecolor": "#2a3f5f"
            },
            "baxis": {
             "endlinecolor": "#2a3f5f",
             "gridcolor": "white",
             "linecolor": "white",
             "minorgridcolor": "white",
             "startlinecolor": "#2a3f5f"
            },
            "type": "carpet"
           }
          ],
          "choropleth": [
           {
            "colorbar": {
             "outlinewidth": 0,
             "ticks": ""
            },
            "type": "choropleth"
           }
          ],
          "contour": [
           {
            "colorbar": {
             "outlinewidth": 0,
             "ticks": ""
            },
            "colorscale": [
             [
              0,
              "#0d0887"
             ],
             [
              0.1111111111111111,
              "#46039f"
             ],
             [
              0.2222222222222222,
              "#7201a8"
             ],
             [
              0.3333333333333333,
              "#9c179e"
             ],
             [
              0.4444444444444444,
              "#bd3786"
             ],
             [
              0.5555555555555556,
              "#d8576b"
             ],
             [
              0.6666666666666666,
              "#ed7953"
             ],
             [
              0.7777777777777778,
              "#fb9f3a"
             ],
             [
              0.8888888888888888,
              "#fdca26"
             ],
             [
              1,
              "#f0f921"
             ]
            ],
            "type": "contour"
           }
          ],
          "contourcarpet": [
           {
            "colorbar": {
             "outlinewidth": 0,
             "ticks": ""
            },
            "type": "contourcarpet"
           }
          ],
          "heatmap": [
           {
            "colorbar": {
             "outlinewidth": 0,
             "ticks": ""
            },
            "colorscale": [
             [
              0,
              "#0d0887"
             ],
             [
              0.1111111111111111,
              "#46039f"
             ],
             [
              0.2222222222222222,
              "#7201a8"
             ],
             [
              0.3333333333333333,
              "#9c179e"
             ],
             [
              0.4444444444444444,
              "#bd3786"
             ],
             [
              0.5555555555555556,
              "#d8576b"
             ],
             [
              0.6666666666666666,
              "#ed7953"
             ],
             [
              0.7777777777777778,
              "#fb9f3a"
             ],
             [
              0.8888888888888888,
              "#fdca26"
             ],
             [
              1,
              "#f0f921"
             ]
            ],
            "type": "heatmap"
           }
          ],
          "heatmapgl": [
           {
            "colorbar": {
             "outlinewidth": 0,
             "ticks": ""
            },
            "colorscale": [
             [
              0,
              "#0d0887"
             ],
             [
              0.1111111111111111,
              "#46039f"
             ],
             [
              0.2222222222222222,
              "#7201a8"
             ],
             [
              0.3333333333333333,
              "#9c179e"
             ],
             [
              0.4444444444444444,
              "#bd3786"
             ],
             [
              0.5555555555555556,
              "#d8576b"
             ],
             [
              0.6666666666666666,
              "#ed7953"
             ],
             [
              0.7777777777777778,
              "#fb9f3a"
             ],
             [
              0.8888888888888888,
              "#fdca26"
             ],
             [
              1,
              "#f0f921"
             ]
            ],
            "type": "heatmapgl"
           }
          ],
          "histogram": [
           {
            "marker": {
             "pattern": {
              "fillmode": "overlay",
              "size": 10,
              "solidity": 0.2
             }
            },
            "type": "histogram"
           }
          ],
          "histogram2d": [
           {
            "colorbar": {
             "outlinewidth": 0,
             "ticks": ""
            },
            "colorscale": [
             [
              0,
              "#0d0887"
             ],
             [
              0.1111111111111111,
              "#46039f"
             ],
             [
              0.2222222222222222,
              "#7201a8"
             ],
             [
              0.3333333333333333,
              "#9c179e"
             ],
             [
              0.4444444444444444,
              "#bd3786"
             ],
             [
              0.5555555555555556,
              "#d8576b"
             ],
             [
              0.6666666666666666,
              "#ed7953"
             ],
             [
              0.7777777777777778,
              "#fb9f3a"
             ],
             [
              0.8888888888888888,
              "#fdca26"
             ],
             [
              1,
              "#f0f921"
             ]
            ],
            "type": "histogram2d"
           }
          ],
          "histogram2dcontour": [
           {
            "colorbar": {
             "outlinewidth": 0,
             "ticks": ""
            },
            "colorscale": [
             [
              0,
              "#0d0887"
             ],
             [
              0.1111111111111111,
              "#46039f"
             ],
             [
              0.2222222222222222,
              "#7201a8"
             ],
             [
              0.3333333333333333,
              "#9c179e"
             ],
             [
              0.4444444444444444,
              "#bd3786"
             ],
             [
              0.5555555555555556,
              "#d8576b"
             ],
             [
              0.6666666666666666,
              "#ed7953"
             ],
             [
              0.7777777777777778,
              "#fb9f3a"
             ],
             [
              0.8888888888888888,
              "#fdca26"
             ],
             [
              1,
              "#f0f921"
             ]
            ],
            "type": "histogram2dcontour"
           }
          ],
          "mesh3d": [
           {
            "colorbar": {
             "outlinewidth": 0,
             "ticks": ""
            },
            "type": "mesh3d"
           }
          ],
          "parcoords": [
           {
            "line": {
             "colorbar": {
              "outlinewidth": 0,
              "ticks": ""
             }
            },
            "type": "parcoords"
           }
          ],
          "pie": [
           {
            "automargin": true,
            "type": "pie"
           }
          ],
          "scatter": [
           {
            "fillpattern": {
             "fillmode": "overlay",
             "size": 10,
             "solidity": 0.2
            },
            "type": "scatter"
           }
          ],
          "scatter3d": [
           {
            "line": {
             "colorbar": {
              "outlinewidth": 0,
              "ticks": ""
             }
            },
            "marker": {
             "colorbar": {
              "outlinewidth": 0,
              "ticks": ""
             }
            },
            "type": "scatter3d"
           }
          ],
          "scattercarpet": [
           {
            "marker": {
             "colorbar": {
              "outlinewidth": 0,
              "ticks": ""
             }
            },
            "type": "scattercarpet"
           }
          ],
          "scattergeo": [
           {
            "marker": {
             "colorbar": {
              "outlinewidth": 0,
              "ticks": ""
             }
            },
            "type": "scattergeo"
           }
          ],
          "scattergl": [
           {
            "marker": {
             "colorbar": {
              "outlinewidth": 0,
              "ticks": ""
             }
            },
            "type": "scattergl"
           }
          ],
          "scattermapbox": [
           {
            "marker": {
             "colorbar": {
              "outlinewidth": 0,
              "ticks": ""
             }
            },
            "type": "scattermapbox"
           }
          ],
          "scatterpolar": [
           {
            "marker": {
             "colorbar": {
              "outlinewidth": 0,
              "ticks": ""
             }
            },
            "type": "scatterpolar"
           }
          ],
          "scatterpolargl": [
           {
            "marker": {
             "colorbar": {
              "outlinewidth": 0,
              "ticks": ""
             }
            },
            "type": "scatterpolargl"
           }
          ],
          "scatterternary": [
           {
            "marker": {
             "colorbar": {
              "outlinewidth": 0,
              "ticks": ""
             }
            },
            "type": "scatterternary"
           }
          ],
          "surface": [
           {
            "colorbar": {
             "outlinewidth": 0,
             "ticks": ""
            },
            "colorscale": [
             [
              0,
              "#0d0887"
             ],
             [
              0.1111111111111111,
              "#46039f"
             ],
             [
              0.2222222222222222,
              "#7201a8"
             ],
             [
              0.3333333333333333,
              "#9c179e"
             ],
             [
              0.4444444444444444,
              "#bd3786"
             ],
             [
              0.5555555555555556,
              "#d8576b"
             ],
             [
              0.6666666666666666,
              "#ed7953"
             ],
             [
              0.7777777777777778,
              "#fb9f3a"
             ],
             [
              0.8888888888888888,
              "#fdca26"
             ],
             [
              1,
              "#f0f921"
             ]
            ],
            "type": "surface"
           }
          ],
          "table": [
           {
            "cells": {
             "fill": {
              "color": "#EBF0F8"
             },
             "line": {
              "color": "white"
             }
            },
            "header": {
             "fill": {
              "color": "#C8D4E3"
             },
             "line": {
              "color": "white"
             }
            },
            "type": "table"
           }
          ]
         },
         "layout": {
          "annotationdefaults": {
           "arrowcolor": "#2a3f5f",
           "arrowhead": 0,
           "arrowwidth": 1
          },
          "autotypenumbers": "strict",
          "coloraxis": {
           "colorbar": {
            "outlinewidth": 0,
            "ticks": ""
           }
          },
          "colorscale": {
           "diverging": [
            [
             0,
             "#8e0152"
            ],
            [
             0.1,
             "#c51b7d"
            ],
            [
             0.2,
             "#de77ae"
            ],
            [
             0.3,
             "#f1b6da"
            ],
            [
             0.4,
             "#fde0ef"
            ],
            [
             0.5,
             "#f7f7f7"
            ],
            [
             0.6,
             "#e6f5d0"
            ],
            [
             0.7,
             "#b8e186"
            ],
            [
             0.8,
             "#7fbc41"
            ],
            [
             0.9,
             "#4d9221"
            ],
            [
             1,
             "#276419"
            ]
           ],
           "sequential": [
            [
             0,
             "#0d0887"
            ],
            [
             0.1111111111111111,
             "#46039f"
            ],
            [
             0.2222222222222222,
             "#7201a8"
            ],
            [
             0.3333333333333333,
             "#9c179e"
            ],
            [
             0.4444444444444444,
             "#bd3786"
            ],
            [
             0.5555555555555556,
             "#d8576b"
            ],
            [
             0.6666666666666666,
             "#ed7953"
            ],
            [
             0.7777777777777778,
             "#fb9f3a"
            ],
            [
             0.8888888888888888,
             "#fdca26"
            ],
            [
             1,
             "#f0f921"
            ]
           ],
           "sequentialminus": [
            [
             0,
             "#0d0887"
            ],
            [
             0.1111111111111111,
             "#46039f"
            ],
            [
             0.2222222222222222,
             "#7201a8"
            ],
            [
             0.3333333333333333,
             "#9c179e"
            ],
            [
             0.4444444444444444,
             "#bd3786"
            ],
            [
             0.5555555555555556,
             "#d8576b"
            ],
            [
             0.6666666666666666,
             "#ed7953"
            ],
            [
             0.7777777777777778,
             "#fb9f3a"
            ],
            [
             0.8888888888888888,
             "#fdca26"
            ],
            [
             1,
             "#f0f921"
            ]
           ]
          },
          "colorway": [
           "#636efa",
           "#EF553B",
           "#00cc96",
           "#ab63fa",
           "#FFA15A",
           "#19d3f3",
           "#FF6692",
           "#B6E880",
           "#FF97FF",
           "#FECB52"
          ],
          "font": {
           "color": "#2a3f5f"
          },
          "geo": {
           "bgcolor": "white",
           "lakecolor": "white",
           "landcolor": "#E5ECF6",
           "showlakes": true,
           "showland": true,
           "subunitcolor": "white"
          },
          "hoverlabel": {
           "align": "left"
          },
          "hovermode": "closest",
          "mapbox": {
           "style": "light"
          },
          "paper_bgcolor": "white",
          "plot_bgcolor": "#E5ECF6",
          "polar": {
           "angularaxis": {
            "gridcolor": "white",
            "linecolor": "white",
            "ticks": ""
           },
           "bgcolor": "#E5ECF6",
           "radialaxis": {
            "gridcolor": "white",
            "linecolor": "white",
            "ticks": ""
           }
          },
          "scene": {
           "xaxis": {
            "backgroundcolor": "#E5ECF6",
            "gridcolor": "white",
            "gridwidth": 2,
            "linecolor": "white",
            "showbackground": true,
            "ticks": "",
            "zerolinecolor": "white"
           },
           "yaxis": {
            "backgroundcolor": "#E5ECF6",
            "gridcolor": "white",
            "gridwidth": 2,
            "linecolor": "white",
            "showbackground": true,
            "ticks": "",
            "zerolinecolor": "white"
           },
           "zaxis": {
            "backgroundcolor": "#E5ECF6",
            "gridcolor": "white",
            "gridwidth": 2,
            "linecolor": "white",
            "showbackground": true,
            "ticks": "",
            "zerolinecolor": "white"
           }
          },
          "shapedefaults": {
           "line": {
            "color": "#2a3f5f"
           }
          },
          "ternary": {
           "aaxis": {
            "gridcolor": "white",
            "linecolor": "white",
            "ticks": ""
           },
           "baxis": {
            "gridcolor": "white",
            "linecolor": "white",
            "ticks": ""
           },
           "bgcolor": "#E5ECF6",
           "caxis": {
            "gridcolor": "white",
            "linecolor": "white",
            "ticks": ""
           }
          },
          "title": {
           "x": 0.05
          },
          "xaxis": {
           "automargin": true,
           "gridcolor": "white",
           "linecolor": "white",
           "ticks": "",
           "title": {
            "standoff": 15
           },
           "zerolinecolor": "white",
           "zerolinewidth": 2
          },
          "yaxis": {
           "automargin": true,
           "gridcolor": "white",
           "linecolor": "white",
           "ticks": "",
           "title": {
            "standoff": 15
           },
           "zerolinecolor": "white",
           "zerolinewidth": 2
          }
         }
        },
        "title": {
         "text": "Cantidad de Notebook por Departamento"
        },
        "xaxis": {
         "tickangle": -90,
         "title": {
          "text": "Departamento"
         }
        },
        "yaxis": {
         "title": {
          "text": "Cantidad de Notebook"
         }
        }
       }
      }
     },
     "metadata": {},
     "output_type": "display_data"
    }
   ],
   "source": [
    "import pandas as pd\n",
    "import plotly.graph_objects as go\n",
    "\n",
    "# Agrupar por 'Departamento' y sumar 'Cantidad Notebook'\n",
    "df_agrupado = df.groupby('Departamento').agg({\n",
    "    'Cantidad Notebook': 'sum'\n",
    "}).reset_index()\n",
    "\n",
    "# Ver los primeros registros del DataFrame agrupado\n",
    "print(df_agrupado.head())\n",
    "\n",
    "# Crear la gráfica\n",
    "fig = go.Figure()\n",
    "\n",
    "# Agregar la gráfica de barras para 'Cantidad Notebook'\n",
    "fig.add_trace(go.Bar(\n",
    "    x=df_agrupado['Departamento'],\n",
    "    y=df_agrupado['Cantidad Notebook'],\n",
    "    name='Cantidad Notebook',\n",
    "    marker_color='green'\n",
    "))\n",
    "\n",
    "# Configuraciones de layout\n",
    "fig.update_layout(\n",
    "    title='Cantidad de Notebook por Departamento',\n",
    "    xaxis_title='Departamento',\n",
    "    yaxis_title='Cantidad de Notebook',\n",
    "    xaxis_tickangle=-90\n",
    ")\n",
    "\n",
    "# Mostrar la gráfica\n",
    "fig.show()\n"
   ]
  }
 ],
 "metadata": {
  "kernelspec": {
   "display_name": "bootcamp_mitic",
   "language": "python",
   "name": "python3"
  },
  "language_info": {
   "codemirror_mode": {
    "name": "ipython",
    "version": 3
   },
   "file_extension": ".py",
   "mimetype": "text/x-python",
   "name": "python",
   "nbconvert_exporter": "python",
   "pygments_lexer": "ipython3",
   "version": "3.11.10"
  }
 },
 "nbformat": 4,
 "nbformat_minor": 2
}
