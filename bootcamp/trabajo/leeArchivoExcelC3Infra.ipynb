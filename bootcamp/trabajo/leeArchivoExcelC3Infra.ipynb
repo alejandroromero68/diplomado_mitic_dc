{
 "cells": [
  {
   "cell_type": "code",
   "execution_count": 1,
   "metadata": {},
   "outputs": [
    {
     "name": "stdout",
     "output_type": "stream",
     "text": [
      "Hoja: C3 INFRAINTERNA\n",
      "    Nº   SNIP                                           Proyecto  \\\n",
      "0  1.0  394.0  Programa de mejoramiento de las condiciones de...   \n",
      "1  2.0  394.0  Programa de mejoramiento de las condiciones de...   \n",
      "2  3.0  394.0  Programa de mejoramiento de las condiciones de...   \n",
      "3  4.0  394.0  Programa de mejoramiento de las condiciones de...   \n",
      "4  5.0  394.0  Programa de mejoramiento de las condiciones de...   \n",
      "\n",
      "   Codigo de Establecimiento                     Establecimiento Departamento  \\\n",
      "0                    10001.0               17 REPUBLICA DEL PERU      Capital   \n",
      "1                    10002.0        225 DR. JUAN LEON MALLORQUIN      Capital   \n",
      "2                    10004.0    8 DR. JOSE DE ANTEQUERA Y CASTRO      Capital   \n",
      "3                    10008.0  1276 FUND.M.HARINEROS DEL PARAGUAY      Capital   \n",
      "4                    10011.0      EXPERIMENTAL PARAGUAY - BRASIL      Capital   \n",
      "\n",
      "   Distrito         Latitud        Longitud   Sector  ... Costo Total General  \\\n",
      "0  Asunción  25º17'32.904\"S  57º39'43.122\"W  Oficial  ...            36846508   \n",
      "1  Asunción   25º17'48.08\"S  57º39'44.421\"W  Oficial  ...            32406508   \n",
      "2  Asunción  25º17'19.464\"S  57º38'54.955\"W  Oficial  ...            32406508   \n",
      "3  Asunción   25º17'3.259\"S  57º39'49.433\"W  Oficial  ...            27966508   \n",
      "4  Asunción   25º17'1.562\"S  57º39'43.667\"W  Oficial  ...            36532508   \n",
      "\n",
      "  Codigo Activacion  Fecha Acta Tiene Seguro  Matricula del Local Escolar  \\\n",
      "0                    2018-07-24                                    1346.0   \n",
      "1                    2018-07-16                                     327.0   \n",
      "2                    2018-07-17                                     419.0   \n",
      "3                    2018-07-27                                     336.0   \n",
      "4                    2018-07-18                                    1068.0   \n",
      "\n",
      "  Cantidad de Instituciones Educacion Inicial  Educacion Escolar Basica  \\\n",
      "0                       2.0             211.0                     948.0   \n",
      "1                       1.0              26.0                     301.0   \n",
      "2                       3.0              12.0                     210.0   \n",
      "3                       2.0              93.0                     206.0   \n",
      "4                       1.0             138.0                     639.0   \n",
      "\n",
      "   Educacion Media  Educacion Permanente  \n",
      "0            187.0                   0.0  \n",
      "1              0.0                   0.0  \n",
      "2            146.0                  51.0  \n",
      "3             37.0                   0.0  \n",
      "4            291.0                   0.0  \n",
      "\n",
      "[5 rows x 79 columns]\n",
      "                Nº    SNIP  Codigo de Establecimiento           ID 1  \\\n",
      "count  1774.000000  1774.0               1.774000e+03    1774.000000   \n",
      "mean    887.500000   394.0               8.396325e+05  363147.455468   \n",
      "std     512.254006     0.0               4.510990e+05   33519.230591   \n",
      "min       1.000000   394.0               1.800000e+01  333886.000000   \n",
      "25%     444.250000   394.0               5.010242e+05  333886.000000   \n",
      "50%     887.500000   394.0               1.001305e+06  333886.000000   \n",
      "75%    1330.750000   394.0               1.112029e+06  386029.000000   \n",
      "max    1774.000000   394.0               1.703819e+06  417931.000000   \n",
      "\n",
      "       Numero Lote 1  Monto Adjudicado 1  Monto Anticipo 1  Pago1 1  Pago1 2  \\\n",
      "count    1774.000000        1.774000e+03            1774.0   1774.0   1774.0   \n",
      "mean        0.003382        5.560915e+07               0.0      0.0      0.0   \n",
      "std         0.088796        2.955117e+07               0.0      0.0      0.0   \n",
      "min         0.000000        0.000000e+00               0.0      0.0      0.0   \n",
      "25%         0.000000        3.209251e+07               0.0      0.0      0.0   \n",
      "50%         0.000000        3.653251e+07               0.0      0.0      0.0   \n",
      "75%         0.000000        8.611186e+07               0.0      0.0      0.0   \n",
      "max         3.000000        1.145568e+08               0.0      0.0      0.0   \n",
      "\n",
      "       Adenda Contrato 1  ...  Costo Garantia AP  Costo Garantia UPS  \\\n",
      "count                0.0  ...        1774.000000         1774.000000   \n",
      "mean                 NaN  ...       51056.270575       161626.624577   \n",
      "std                  NaN  ...       80180.032017       253822.454860   \n",
      "min                  NaN  ...           0.000000            0.000000   \n",
      "25%                  NaN  ...           0.000000            0.000000   \n",
      "50%                  NaN  ...           0.000000            0.000000   \n",
      "75%                  NaN  ...      176902.000000       560011.000000   \n",
      "max                  NaN  ...      176902.000000       560011.000000   \n",
      "\n",
      "       Costo Garantia Switch  Costo Total General  \\\n",
      "count            1774.000000         1.775000e+03   \n",
      "mean            86845.763247         1.111358e+08   \n",
      "std            136384.737844         2.339983e+09   \n",
      "min                 0.000000         0.000000e+00   \n",
      "25%                 0.000000         3.209251e+07   \n",
      "50%                 0.000000         3.653251e+07   \n",
      "75%            300907.000000         8.611186e+07   \n",
      "max            300907.000000         9.863299e+10   \n",
      "\n",
      "       Matricula del Local Escolar  Cantidad de Instituciones  \\\n",
      "count                  1774.000000                1774.000000   \n",
      "mean                    444.429538                   1.523675   \n",
      "std                     388.938369                   0.786414   \n",
      "min                       0.000000                   0.000000   \n",
      "25%                     173.000000                   1.000000   \n",
      "50%                     347.500000                   1.000000   \n",
      "75%                     579.750000                   2.000000   \n",
      "max                    3139.000000                   5.000000   \n",
      "\n",
      "       Educacion Inicial  Educacion Escolar Basica  Educacion Media  \\\n",
      "count        1774.000000               1774.000000      1774.000000   \n",
      "mean           59.023675                281.607103        87.409245   \n",
      "std            60.667034                252.302647       164.097857   \n",
      "min             0.000000                  0.000000         0.000000   \n",
      "25%             5.000000                 96.250000         0.000000   \n",
      "50%            45.000000                226.000000        31.500000   \n",
      "75%            92.000000                395.000000       110.750000   \n",
      "max           402.000000               1791.000000      1714.000000   \n",
      "\n",
      "       Educacion Permanente  \n",
      "count           1774.000000  \n",
      "mean              15.984216  \n",
      "std               47.391968  \n",
      "min                0.000000  \n",
      "25%                0.000000  \n",
      "50%                0.000000  \n",
      "75%                0.000000  \n",
      "max              973.000000  \n",
      "\n",
      "[8 rows x 63 columns]\n"
     ]
    }
   ],
   "source": [
    "import pandas as pd\n",
    "\n",
    "# Cargar el archivo Excel\n",
    "archivo_excel = '../data/BD_TIC_30-08-24.xlsx'\n",
    "\n",
    "# Leer todas las hojas en un diccionario\n",
    "hojas = pd.read_excel(archivo_excel, sheet_name=None)\n",
    "\n",
    "# 'hojas' es un diccionario donde las claves son los nombres de las hojas y los valores son DataFrames\n",
    "for nombre_hoja, contenido in hojas.items():\n",
    "    if nombre_hoja == 'C3 INFRAINTERNA':\n",
    "        print(f\"Hoja: {nombre_hoja}\")\n",
    "        print(contenido.head())  # Muestra las primeras filas de la hoja C3 INFRAINTERNA\n",
    "\n",
    "# Acceder al DataFrame de la hoja 'C3 INFRAINTERNA'\n",
    "df = hojas['C3 INFRAINTERNA']\n",
    "\n",
    "# Aplicar describe() al DataFrame de la hoja 'C3 INFRAINTERNA'\n",
    "print(df.describe())"
   ]
  },
  {
   "cell_type": "code",
   "execution_count": 2,
   "metadata": {},
   "outputs": [
    {
     "name": "stdout",
     "output_type": "stream",
     "text": [
      "<class 'pandas.core.frame.DataFrame'>\n",
      "RangeIndex: 1775 entries, 0 to 1774\n",
      "Data columns (total 79 columns):\n",
      " #   Column                          Non-Null Count  Dtype  \n",
      "---  ------                          --------------  -----  \n",
      " 0   Nº                              1774 non-null   float64\n",
      " 1   SNIP                            1774 non-null   float64\n",
      " 2   Proyecto                        1774 non-null   object \n",
      " 3   Codigo de Establecimiento       1774 non-null   float64\n",
      " 4   Establecimiento                 1774 non-null   object \n",
      " 5   Departamento                    1774 non-null   object \n",
      " 6   Distrito                        1774 non-null   object \n",
      " 7   Latitud                         1727 non-null   object \n",
      " 8   Longitud                        1727 non-null   object \n",
      " 9   Sector                          1770 non-null   object \n",
      " 10  Tipo Zona                       1769 non-null   object \n",
      " 11  CAI                             1774 non-null   object \n",
      " 12  Indigena                        1774 non-null   object \n",
      " 13  Licitacion 1                    1774 non-null   object \n",
      " 14  ID 1                            1774 non-null   float64\n",
      " 15  Empresa 1                       1774 non-null   object \n",
      " 16  Fecha Contrato 1                1774 non-null   object \n",
      " 17  Numero Lote 1                   1774 non-null   float64\n",
      " 18  Monto Adjudicado 1              1774 non-null   float64\n",
      " 19  Monto Anticipo 1                1774 non-null   float64\n",
      " 20  Pago1 1                         1774 non-null   float64\n",
      " 21  Pago1 2                         1774 non-null   float64\n",
      " 22  Adenda Contrato 1               0 non-null      float64\n",
      " 23  Licitacion 2                    0 non-null      float64\n",
      " 24  ID 2                            0 non-null      float64\n",
      " 25  Empresa 2                       0 non-null      float64\n",
      " 26  Fecha Contrato 2                0 non-null      float64\n",
      " 27  Numero Lote 2                   0 non-null      float64\n",
      " 28  Monto Adjudicado 2              1774 non-null   float64\n",
      " 29  Monto Anticipo 2                1774 non-null   float64\n",
      " 30  Pago2 1                         1774 non-null   float64\n",
      " 31  Pago2 2                         1774 non-null   float64\n",
      " 32  Adenda Contrato 2               0 non-null      float64\n",
      " 33  Cantidad Servidor               1774 non-null   float64\n",
      " 34  Cantidad Rack                   1774 non-null   float64\n",
      " 35  Cantidad Firewall               1774 non-null   float64\n",
      " 36  Cantidad AP Outdoor             1774 non-null   float64\n",
      " 37  Cantidad AP Indoor              1774 non-null   float64\n",
      " 38  Cantidad UPS                    1774 non-null   float64\n",
      " 39  Cantidad Switch                 1774 non-null   float64\n",
      " 40  Cantidad Gestion Firewall       1774 non-null   float64\n",
      " 41  Cantidad Gestion UPS            1774 non-null   float64\n",
      " 42  Cantidad Gestion AP             1774 non-null   float64\n",
      " 43  Cantidad Gestion Servidor       1774 non-null   float64\n",
      " 44  Cantidad Gestion Rack           1774 non-null   float64\n",
      " 45  Cantidad Instalacion Trasporte  1774 non-null   float64\n",
      " 46  Cantidad Soporte Tecnico        1774 non-null   float64\n",
      " 47  Cantidad Garantia Servidor      1774 non-null   float64\n",
      " 48  Cantidad Garantia AP            1774 non-null   float64\n",
      " 49  Cantidad Garantia UPS           1774 non-null   float64\n",
      " 50  Cantidad Garantia Switch        1774 non-null   float64\n",
      " 51  Costo Servidor                  1774 non-null   float64\n",
      " 52  Costo Rack                      1774 non-null   float64\n",
      " 53  Costo Firewall                  1774 non-null   float64\n",
      " 54  Costo AP Outdoor                1774 non-null   float64\n",
      " 55  Costo AP Indoor                 1774 non-null   float64\n",
      " 56  Costo UPS                       1774 non-null   float64\n",
      " 57  Costo Switch                    1774 non-null   float64\n",
      " 58  Costo Gestion Firewall          1774 non-null   float64\n",
      " 59  Costo Gestion UPS               1774 non-null   float64\n",
      " 60  Costo Gestion AP                1774 non-null   float64\n",
      " 61  Costo Gestion Servidor          1774 non-null   float64\n",
      " 62  Costo Gestion Rack              1774 non-null   float64\n",
      " 63  Costo Instalacion Trasporte     1774 non-null   float64\n",
      " 64  Costo Soporte Tecnico           1774 non-null   float64\n",
      " 65  Costo Garantia Servidor         1774 non-null   float64\n",
      " 66  Costo Garantia AP               1774 non-null   float64\n",
      " 67  Costo Garantia UPS              1774 non-null   float64\n",
      " 68  Costo Garantia Switch           1774 non-null   float64\n",
      " 69  Costo Total General             1775 non-null   int64  \n",
      " 70  Codigo Activacion               1774 non-null   object \n",
      " 71  Fecha Acta                      1460 non-null   object \n",
      " 72  Tiene Seguro                    1774 non-null   object \n",
      " 73  Matricula del Local Escolar     1774 non-null   float64\n",
      " 74  Cantidad de Instituciones       1774 non-null   float64\n",
      " 75  Educacion Inicial               1774 non-null   float64\n",
      " 76  Educacion Escolar Basica        1774 non-null   float64\n",
      " 77  Educacion Media                 1774 non-null   float64\n",
      " 78  Educacion Permanente            1774 non-null   float64\n",
      "dtypes: float64(62), int64(1), object(16)\n",
      "memory usage: 1.1+ MB\n",
      "None\n"
     ]
    }
   ],
   "source": [
    "print(df.info())"
   ]
  },
  {
   "cell_type": "code",
   "execution_count": 3,
   "metadata": {},
   "outputs": [
    {
     "name": "stdout",
     "output_type": "stream",
     "text": [
      "Número de registros duplicados: 0\n"
     ]
    },
    {
     "data": {
      "text/html": [
       "<div>\n",
       "<style scoped>\n",
       "    .dataframe tbody tr th:only-of-type {\n",
       "        vertical-align: middle;\n",
       "    }\n",
       "\n",
       "    .dataframe tbody tr th {\n",
       "        vertical-align: top;\n",
       "    }\n",
       "\n",
       "    .dataframe thead th {\n",
       "        text-align: right;\n",
       "    }\n",
       "</style>\n",
       "<table border=\"1\" class=\"dataframe\">\n",
       "  <thead>\n",
       "    <tr style=\"text-align: right;\">\n",
       "      <th></th>\n",
       "      <th>Nº</th>\n",
       "      <th>SNIP</th>\n",
       "      <th>Proyecto</th>\n",
       "      <th>Codigo de Establecimiento</th>\n",
       "      <th>Establecimiento</th>\n",
       "      <th>Departamento</th>\n",
       "      <th>Distrito</th>\n",
       "      <th>Latitud</th>\n",
       "      <th>Longitud</th>\n",
       "      <th>Sector</th>\n",
       "      <th>...</th>\n",
       "      <th>Costo Total General</th>\n",
       "      <th>Codigo Activacion</th>\n",
       "      <th>Fecha Acta</th>\n",
       "      <th>Tiene Seguro</th>\n",
       "      <th>Matricula del Local Escolar</th>\n",
       "      <th>Cantidad de Instituciones</th>\n",
       "      <th>Educacion Inicial</th>\n",
       "      <th>Educacion Escolar Basica</th>\n",
       "      <th>Educacion Media</th>\n",
       "      <th>Educacion Permanente</th>\n",
       "    </tr>\n",
       "  </thead>\n",
       "  <tbody>\n",
       "    <tr>\n",
       "      <th>0</th>\n",
       "      <td>1.0</td>\n",
       "      <td>394.0</td>\n",
       "      <td>Programa de mejoramiento de las condiciones de...</td>\n",
       "      <td>10001.0</td>\n",
       "      <td>17 REPUBLICA DEL PERU</td>\n",
       "      <td>Capital</td>\n",
       "      <td>Asunción</td>\n",
       "      <td>25º17'32.904\"S</td>\n",
       "      <td>57º39'43.122\"W</td>\n",
       "      <td>Oficial</td>\n",
       "      <td>...</td>\n",
       "      <td>36846508</td>\n",
       "      <td></td>\n",
       "      <td>2018-07-24</td>\n",
       "      <td></td>\n",
       "      <td>1346.0</td>\n",
       "      <td>2.0</td>\n",
       "      <td>211.0</td>\n",
       "      <td>948.0</td>\n",
       "      <td>187.0</td>\n",
       "      <td>0.0</td>\n",
       "    </tr>\n",
       "    <tr>\n",
       "      <th>1</th>\n",
       "      <td>2.0</td>\n",
       "      <td>394.0</td>\n",
       "      <td>Programa de mejoramiento de las condiciones de...</td>\n",
       "      <td>10002.0</td>\n",
       "      <td>225 DR. JUAN LEON MALLORQUIN</td>\n",
       "      <td>Capital</td>\n",
       "      <td>Asunción</td>\n",
       "      <td>25º17'48.08\"S</td>\n",
       "      <td>57º39'44.421\"W</td>\n",
       "      <td>Oficial</td>\n",
       "      <td>...</td>\n",
       "      <td>32406508</td>\n",
       "      <td></td>\n",
       "      <td>2018-07-16</td>\n",
       "      <td></td>\n",
       "      <td>327.0</td>\n",
       "      <td>1.0</td>\n",
       "      <td>26.0</td>\n",
       "      <td>301.0</td>\n",
       "      <td>0.0</td>\n",
       "      <td>0.0</td>\n",
       "    </tr>\n",
       "    <tr>\n",
       "      <th>2</th>\n",
       "      <td>3.0</td>\n",
       "      <td>394.0</td>\n",
       "      <td>Programa de mejoramiento de las condiciones de...</td>\n",
       "      <td>10004.0</td>\n",
       "      <td>8 DR. JOSE DE ANTEQUERA Y CASTRO</td>\n",
       "      <td>Capital</td>\n",
       "      <td>Asunción</td>\n",
       "      <td>25º17'19.464\"S</td>\n",
       "      <td>57º38'54.955\"W</td>\n",
       "      <td>Oficial</td>\n",
       "      <td>...</td>\n",
       "      <td>32406508</td>\n",
       "      <td></td>\n",
       "      <td>2018-07-17</td>\n",
       "      <td></td>\n",
       "      <td>419.0</td>\n",
       "      <td>3.0</td>\n",
       "      <td>12.0</td>\n",
       "      <td>210.0</td>\n",
       "      <td>146.0</td>\n",
       "      <td>51.0</td>\n",
       "    </tr>\n",
       "    <tr>\n",
       "      <th>3</th>\n",
       "      <td>4.0</td>\n",
       "      <td>394.0</td>\n",
       "      <td>Programa de mejoramiento de las condiciones de...</td>\n",
       "      <td>10008.0</td>\n",
       "      <td>1276 FUND.M.HARINEROS DEL PARAGUAY</td>\n",
       "      <td>Capital</td>\n",
       "      <td>Asunción</td>\n",
       "      <td>25º17'3.259\"S</td>\n",
       "      <td>57º39'49.433\"W</td>\n",
       "      <td>Oficial</td>\n",
       "      <td>...</td>\n",
       "      <td>27966508</td>\n",
       "      <td></td>\n",
       "      <td>2018-07-27</td>\n",
       "      <td></td>\n",
       "      <td>336.0</td>\n",
       "      <td>2.0</td>\n",
       "      <td>93.0</td>\n",
       "      <td>206.0</td>\n",
       "      <td>37.0</td>\n",
       "      <td>0.0</td>\n",
       "    </tr>\n",
       "    <tr>\n",
       "      <th>4</th>\n",
       "      <td>5.0</td>\n",
       "      <td>394.0</td>\n",
       "      <td>Programa de mejoramiento de las condiciones de...</td>\n",
       "      <td>10011.0</td>\n",
       "      <td>EXPERIMENTAL PARAGUAY - BRASIL</td>\n",
       "      <td>Capital</td>\n",
       "      <td>Asunción</td>\n",
       "      <td>25º17'1.562\"S</td>\n",
       "      <td>57º39'43.667\"W</td>\n",
       "      <td>Oficial</td>\n",
       "      <td>...</td>\n",
       "      <td>36532508</td>\n",
       "      <td></td>\n",
       "      <td>2018-07-18</td>\n",
       "      <td></td>\n",
       "      <td>1068.0</td>\n",
       "      <td>1.0</td>\n",
       "      <td>138.0</td>\n",
       "      <td>639.0</td>\n",
       "      <td>291.0</td>\n",
       "      <td>0.0</td>\n",
       "    </tr>\n",
       "  </tbody>\n",
       "</table>\n",
       "<p>5 rows × 79 columns</p>\n",
       "</div>"
      ],
      "text/plain": [
       "    Nº   SNIP                                           Proyecto  \\\n",
       "0  1.0  394.0  Programa de mejoramiento de las condiciones de...   \n",
       "1  2.0  394.0  Programa de mejoramiento de las condiciones de...   \n",
       "2  3.0  394.0  Programa de mejoramiento de las condiciones de...   \n",
       "3  4.0  394.0  Programa de mejoramiento de las condiciones de...   \n",
       "4  5.0  394.0  Programa de mejoramiento de las condiciones de...   \n",
       "\n",
       "   Codigo de Establecimiento                     Establecimiento Departamento  \\\n",
       "0                    10001.0               17 REPUBLICA DEL PERU      Capital   \n",
       "1                    10002.0        225 DR. JUAN LEON MALLORQUIN      Capital   \n",
       "2                    10004.0    8 DR. JOSE DE ANTEQUERA Y CASTRO      Capital   \n",
       "3                    10008.0  1276 FUND.M.HARINEROS DEL PARAGUAY      Capital   \n",
       "4                    10011.0      EXPERIMENTAL PARAGUAY - BRASIL      Capital   \n",
       "\n",
       "   Distrito         Latitud        Longitud   Sector  ... Costo Total General  \\\n",
       "0  Asunción  25º17'32.904\"S  57º39'43.122\"W  Oficial  ...            36846508   \n",
       "1  Asunción   25º17'48.08\"S  57º39'44.421\"W  Oficial  ...            32406508   \n",
       "2  Asunción  25º17'19.464\"S  57º38'54.955\"W  Oficial  ...            32406508   \n",
       "3  Asunción   25º17'3.259\"S  57º39'49.433\"W  Oficial  ...            27966508   \n",
       "4  Asunción   25º17'1.562\"S  57º39'43.667\"W  Oficial  ...            36532508   \n",
       "\n",
       "  Codigo Activacion  Fecha Acta Tiene Seguro  Matricula del Local Escolar  \\\n",
       "0                    2018-07-24                                    1346.0   \n",
       "1                    2018-07-16                                     327.0   \n",
       "2                    2018-07-17                                     419.0   \n",
       "3                    2018-07-27                                     336.0   \n",
       "4                    2018-07-18                                    1068.0   \n",
       "\n",
       "  Cantidad de Instituciones Educacion Inicial  Educacion Escolar Basica  \\\n",
       "0                       2.0             211.0                     948.0   \n",
       "1                       1.0              26.0                     301.0   \n",
       "2                       3.0              12.0                     210.0   \n",
       "3                       2.0              93.0                     206.0   \n",
       "4                       1.0             138.0                     639.0   \n",
       "\n",
       "   Educacion Media  Educacion Permanente  \n",
       "0            187.0                   0.0  \n",
       "1              0.0                   0.0  \n",
       "2            146.0                  51.0  \n",
       "3             37.0                   0.0  \n",
       "4            291.0                   0.0  \n",
       "\n",
       "[5 rows x 79 columns]"
      ]
     },
     "execution_count": 3,
     "metadata": {},
     "output_type": "execute_result"
    }
   ],
   "source": [
    "# Identificar duplicados\n",
    "duplicados = df.duplicated()\n",
    "# Contar el número de duplicados\n",
    "num_duplicados = duplicados.sum()\n",
    "print(f\"Número de registros duplicados: {num_duplicados}\")\n",
    "df.head()"
   ]
  },
  {
   "cell_type": "code",
   "execution_count": 21,
   "metadata": {},
   "outputs": [
    {
     "name": "stdout",
     "output_type": "stream",
     "text": [
      "Columna 'Nº' convertida a float64 exitosamente.\n",
      "Columna 'SNIP' convertida a float64 exitosamente.\n",
      "Columna 'Proyecto' convertida a object exitosamente.\n",
      "Columna 'Codigo de Establecimiento' convertida a float64 exitosamente.\n",
      "Columna 'Codigo de Institucion' convertida a float64 exitosamente.\n",
      "Columna 'Establecimiento' convertida a object exitosamente.\n",
      "Columna 'Departamento' convertida a object exitosamente.\n",
      "Columna 'Distrito' convertida a object exitosamente.\n",
      "Columna 'Categoria' convertida a object exitosamente.\n",
      "Columna 'Latitud' convertida a object exitosamente.\n",
      "Columna 'Longitud' convertida a object exitosamente.\n",
      "Columna 'Sector' convertida a object exitosamente.\n",
      "Columna 'Tipo Zona' convertida a object exitosamente.\n",
      "Columna 'CAI' convertida a object exitosamente.\n",
      "Columna 'Indigena' convertida a object exitosamente.\n",
      "Columna 'Licitacion 1' convertida a object exitosamente.\n",
      "Columna 'ID 1' convertida a float64 exitosamente.\n",
      "Columna 'Empresa 1' convertida a object exitosamente.\n",
      "Columna 'Fecha Contrato 1' convertida a object exitosamente.\n",
      "Columna 'Numero Lote 1' convertida a float64 exitosamente.\n",
      "Columna 'Monto Adjudicado 1' convertida a float64 exitosamente.\n",
      "Columna 'Monto Anticipo 1' convertida a float64 exitosamente.\n",
      "Columna 'Pago1 1' convertida a float64 exitosamente.\n",
      "Columna 'Pago1 2' convertida a float64 exitosamente.\n",
      "Columna 'Adenda Contrato 1' convertida a float64 exitosamente.\n",
      "Columna 'Licitacion 2' convertida a float64 exitosamente.\n",
      "Columna 'ID 2' convertida a float64 exitosamente.\n",
      "Columna 'Empresa 2' convertida a object exitosamente.\n",
      "Columna 'Fecha Contrato 2' convertida a object exitosamente.\n",
      "Columna 'Numero Lote 2' convertida a float64 exitosamente.\n",
      "Columna 'Monto Adjudicado 2' convertida a float64 exitosamente.\n",
      "Columna 'Monto Anticipo 2' convertida a float64 exitosamente.\n",
      "Columna 'Pago2 1' convertida a float64 exitosamente.\n",
      "Columna 'Pago2 2' convertida a float64 exitosamente.\n",
      "Columna 'Adenda Contrato 2' convertida a float64 exitosamente.\n",
      "Columna 'Cantidad Notebook Tipologia' convertida a float64 exitosamente.\n",
      "Columna 'Tipologia Notebook' convertida a object exitosamente.\n",
      "Columna 'Costo Tipologia' convertida a float64 exitosamente.\n",
      "Columna 'Cantidad Notebook' convertida a int64 exitosamente.\n",
      "Columna 'Cantidad Impresora' convertida a int64 exitosamente.\n",
      "Columna 'Cantidad Proyector' convertida a int64 exitosamente.\n",
      "Columna 'Cantidad Carrito' convertida a int64 exitosamente.\n",
      "Columna 'Cantidad AP' convertida a int64 exitosamente.\n",
      "Columna 'Cantidad Router' convertida a int64 exitosamente.\n",
      "Columna 'Cantidad UPS' convertida a int64 exitosamente.\n",
      "Columna 'Cantidad Servidor' convertida a int64 exitosamente.\n",
      "Columna 'Cantidad Software' convertida a int64 exitosamente.\n",
      "Columna 'Cantidad Tablet' convertida a int64 exitosamente.\n",
      "Columna 'Cantidad TV' convertida a int64 exitosamente.\n",
      "Columna 'Cantidad Amplificador' convertida a int64 exitosamente.\n",
      "Columna 'Fecha Acta Engrega' convertida a object exitosamente.\n",
      "Columna 'Tiene Seguro' convertida a float64 exitosamente.\n",
      "Columna 'Matricula del Local Escolar' convertida a float64 exitosamente.\n",
      "Columna 'Cantidad de Instituciones' convertida a float64 exitosamente.\n",
      "Columna 'Educacion Inicial' convertida a float64 exitosamente.\n",
      "Columna 'Educacion Escolar Basica' convertida a float64 exitosamente.\n",
      "Columna 'Educacion Media' convertida a float64 exitosamente.\n",
      "Columna 'Educacion Permanente' convertida a float64 exitosamente.\n",
      "Nº                             float64\n",
      "SNIP                           float64\n",
      "Proyecto                        object\n",
      "Codigo de Establecimiento      float64\n",
      "Codigo de Institucion          float64\n",
      "Establecimiento                 object\n",
      "Departamento                    object\n",
      "Distrito                        object\n",
      "Categoria                       object\n",
      "Latitud                         object\n",
      "Longitud                        object\n",
      "Sector                          object\n",
      "Tipo Zona                       object\n",
      "CAI                             object\n",
      "Indigena                        object\n",
      "Licitacion 1                    object\n",
      "ID 1                           float64\n",
      "Empresa 1                       object\n",
      "Fecha Contrato 1                object\n",
      "Numero Lote 1                  float64\n",
      "Monto Adjudicado 1             float64\n",
      "Monto Anticipo 1               float64\n",
      "Pago1 1                        float64\n",
      "Pago1 2                        float64\n",
      "Adenda Contrato 1              float64\n",
      "Licitacion 2                   float64\n",
      "ID 2                           float64\n",
      "Empresa 2                       object\n",
      "Fecha Contrato 2                object\n",
      "Numero Lote 2                  float64\n",
      "Monto Adjudicado 2             float64\n",
      "Monto Anticipo 2               float64\n",
      "Pago2 1                        float64\n",
      "Pago2 2                        float64\n",
      "Adenda Contrato 2              float64\n",
      "Cantidad Notebook Tipologia    float64\n",
      "Tipologia Notebook              object\n",
      "Costo Tipologia                float64\n",
      "Cantidad Notebook                int64\n",
      "Cantidad Impresora               int64\n",
      "Cantidad Proyector               int64\n",
      "Cantidad Carrito                 int64\n",
      "Cantidad AP                      int64\n",
      "Cantidad Router                  int64\n",
      "Cantidad UPS                     int64\n",
      "Cantidad Servidor                int64\n",
      "Cantidad Software                int64\n",
      "Cantidad Tablet                  int64\n",
      "Cantidad TV                      int64\n",
      "Cantidad Amplificador            int64\n",
      "Fecha Acta Engrega              object\n",
      "Tiene Seguro                   float64\n",
      "Matricula del Local Escolar    float64\n",
      "Cantidad de Instituciones      float64\n",
      "Educacion Inicial              float64\n",
      "Educacion Escolar Basica       float64\n",
      "Educacion Media                float64\n",
      "Educacion Permanente           float64\n",
      "dtype: object\n"
     ]
    }
   ],
   "source": [
    "import pandas as pd\n",
    "\n",
    "# Definir los tipos de datos esperados según el diccionario de datos\n",
    "tipos_datos_esperados = {\n",
    "    'Nº': 'float64',\n",
    "    'SNIP': 'float64',\n",
    "    'Proyecto': 'object',\n",
    "    'Codigo de Establecimiento': 'float64',\n",
    "    'Codigo de Institucion': 'float64',\n",
    "    'Establecimiento': 'object',\n",
    "    'Departamento': 'object',\n",
    "    'Distrito': 'object',\n",
    "    'Categoria': 'object',\n",
    "    'Latitud': 'object',\n",
    "    'Longitud': 'object',\n",
    "    'Sector': 'object',\n",
    "    'Tipo Zona': 'object',\n",
    "    'CAI': 'object',\n",
    "    'Indigena': 'object',\n",
    "    'Licitacion 1': 'object',\n",
    "    'ID 1': 'float64',\n",
    "    'Empresa 1': 'object',\n",
    "    'Fecha Contrato 1': 'object',\n",
    "    'Numero Lote 1': 'float64',\n",
    "    'Monto Adjudicado 1': 'float64',\n",
    "    'Monto Anticipo 1': 'float64',\n",
    "    'Pago1 1': 'float64',\n",
    "    'Pago1 2': 'float64',\n",
    "    'Adenda Contrato 1': 'float64',\n",
    "    'Licitacion 2': 'float64',\n",
    "    'ID 2': 'float64',\n",
    "    'Empresa 2': 'object',\n",
    "    'Fecha Contrato 2': 'object',\n",
    "    'Numero Lote 2': 'float64',\n",
    "    'Monto Adjudicado 2': 'float64',\n",
    "    'Monto Anticipo 2': 'float64',\n",
    "    'Pago2 1': 'float64',\n",
    "    'Pago2 2': 'float64',\n",
    "    'Adenda Contrato 2': 'float64',\n",
    "    'Cantidad Notebook Tipologia': 'float64',\n",
    "    'Tipologia Notebook': 'object',\n",
    "    'Costo Tipologia': 'float64',\n",
    "    'Cantidad Notebook': 'int64',\n",
    "    'Cantidad Impresora': 'int64',\n",
    "    'Cantidad Proyector': 'int64',\n",
    "    'Cantidad Carrito': 'int64',\n",
    "    'Cantidad AP': 'int64',\n",
    "    'Cantidad Router': 'int64',\n",
    "    'Cantidad UPS': 'int64',\n",
    "    'Cantidad Servidor': 'int64',\n",
    "    'Cantidad Software': 'int64',\n",
    "    'Cantidad Tablet': 'int64',\n",
    "    'Cantidad TV': 'int64',\n",
    "    'Cantidad Amplificador': 'int64',\n",
    "    'Fecha Acta Engrega': 'object',\n",
    "    'Tiene Seguro': 'float64',\n",
    "    'Matricula del Local Escolar': 'float64',\n",
    "    'Cantidad de Instituciones': 'float64',\n",
    "    'Educacion Inicial': 'float64',\n",
    "    'Educacion Escolar Basica': 'float64',\n",
    "    'Educacion Media': 'float64',\n",
    "    'Educacion Permanente': 'float64'\n",
    "}\n",
    "\n",
    "# Leer el archivo Excel\n",
    "#archivo_excel = 'tu_archivo.xlsx'\n",
    "#df = pd.read_excel(archivo_excel)\n",
    "\n",
    "# Intentar convertir las columnas a los tipos indicados\n",
    "for columna, tipo in tipos_datos_esperados.items():\n",
    "    try:\n",
    "        df[columna] = df[columna].astype(tipo)\n",
    "        print(f\"Columna '{columna}' convertida a {tipo} exitosamente.\")\n",
    "    except Exception as e:\n",
    "        print(f\"Error al convertir la columna '{columna}' a {tipo}: {e}\")\n",
    "\n",
    "# Verificar los tipos de datos finales\n",
    "print(df.dtypes)\n"
   ]
  },
  {
   "cell_type": "code",
   "execution_count": 35,
   "metadata": {},
   "outputs": [],
   "source": [
    "df['Fecha Contrato 1'] = pd.to_datetime(df['Fecha Contrato 1'], errors='coerce')\n",
    "\n"
   ]
  },
  {
   "cell_type": "code",
   "execution_count": 36,
   "metadata": {},
   "outputs": [],
   "source": [
    "# Convertir la columna 'Proyecto' a tipo string\n",
    "df['Proyecto'] = df['Proyecto'].astype(str)\n"
   ]
  },
  {
   "cell_type": "code",
   "execution_count": 27,
   "metadata": {},
   "outputs": [
    {
     "name": "stdout",
     "output_type": "stream",
     "text": [
      "<class 'pandas.core.frame.DataFrame'>\n",
      "RangeIndex: 8534 entries, 0 to 8533\n",
      "Data columns (total 58 columns):\n",
      " #   Column                       Non-Null Count  Dtype         \n",
      "---  ------                       --------------  -----         \n",
      " 0   Nº                           8532 non-null   float64       \n",
      " 1   SNIP                         8533 non-null   float64       \n",
      " 2   Proyecto                     8534 non-null   object        \n",
      " 3   Codigo de Establecimiento    7905 non-null   float64       \n",
      " 4   Codigo de Institucion        7899 non-null   float64       \n",
      " 5   Establecimiento              8533 non-null   object        \n",
      " 6   Departamento                 8533 non-null   object        \n",
      " 7   Distrito                     8531 non-null   object        \n",
      " 8   Categoria                    8533 non-null   object        \n",
      " 9   Latitud                      7762 non-null   object        \n",
      " 10  Longitud                     7762 non-null   object        \n",
      " 11  Sector                       7267 non-null   object        \n",
      " 12  Tipo Zona                    7265 non-null   object        \n",
      " 13  CAI                          7272 non-null   object        \n",
      " 14  Indigena                     7272 non-null   object        \n",
      " 15  Licitacion 1                 8533 non-null   object        \n",
      " 16  ID 1                         8533 non-null   float64       \n",
      " 17  Empresa 1                    8533 non-null   object        \n",
      " 18  Fecha Contrato 1             8533 non-null   datetime64[ns]\n",
      " 19  Numero Lote 1                8533 non-null   float64       \n",
      " 20  Monto Adjudicado 1           8533 non-null   float64       \n",
      " 21  Monto Anticipo 1             8533 non-null   float64       \n",
      " 22  Pago1 1                      8533 non-null   float64       \n",
      " 23  Pago1 2                      8533 non-null   float64       \n",
      " 24  Adenda Contrato 1            0 non-null      float64       \n",
      " 25  Licitacion 2                 0 non-null      float64       \n",
      " 26  ID 2                         0 non-null      float64       \n",
      " 27  Empresa 2                    0 non-null      object        \n",
      " 28  Fecha Contrato 2             0 non-null      object        \n",
      " 29  Numero Lote 2                0 non-null      float64       \n",
      " 30  Monto Adjudicado 2           8533 non-null   float64       \n",
      " 31  Monto Anticipo 2             8533 non-null   float64       \n",
      " 32  Pago2 1                      8533 non-null   float64       \n",
      " 33  Pago2 2                      8533 non-null   float64       \n",
      " 34  Adenda Contrato 2            0 non-null      float64       \n",
      " 35  Cantidad Notebook Tipologia  8533 non-null   float64       \n",
      " 36  Tipologia Notebook           50 non-null     object        \n",
      " 37  Costo Tipologia              8533 non-null   float64       \n",
      " 38  Cantidad Notebook            8534 non-null   int64         \n",
      " 39  Cantidad Impresora           8534 non-null   int64         \n",
      " 40  Cantidad Proyector           8534 non-null   int64         \n",
      " 41  Cantidad Carrito             8534 non-null   int64         \n",
      " 42  Cantidad AP                  8534 non-null   int64         \n",
      " 43  Cantidad Router              8534 non-null   int64         \n",
      " 44  Cantidad UPS                 8534 non-null   int64         \n",
      " 45  Cantidad Servidor            8534 non-null   int64         \n",
      " 46  Cantidad Software            8534 non-null   int64         \n",
      " 47  Cantidad Tablet              8534 non-null   int64         \n",
      " 48  Cantidad TV                  8534 non-null   int64         \n",
      " 49  Cantidad Amplificador        8534 non-null   int64         \n",
      " 50  Fecha Acta Engrega           5940 non-null   object        \n",
      " 51  Tiene Seguro                 8533 non-null   float64       \n",
      " 52  Matricula del Local Escolar  8533 non-null   float64       \n",
      " 53  Cantidad de Instituciones    8533 non-null   float64       \n",
      " 54  Educacion Inicial            8533 non-null   float64       \n",
      " 55  Educacion Escolar Basica     8533 non-null   float64       \n",
      " 56  Educacion Media              8533 non-null   float64       \n",
      " 57  Educacion Permanente         8533 non-null   float64       \n",
      "dtypes: datetime64[ns](1), float64(28), int64(12), object(17)\n",
      "memory usage: 3.8+ MB\n",
      "None\n"
     ]
    }
   ],
   "source": [
    "print(df.info())"
   ]
  },
  {
   "cell_type": "code",
   "execution_count": 4,
   "metadata": {},
   "outputs": [
    {
     "name": "stdout",
     "output_type": "stream",
     "text": [
      "    Departamento  Monto Adjudicado 1  Cantidad de Instituciones\n",
      "0  Alto Paraguay        1.412139e+09                       19.0\n",
      "1    Alto Paraná        1.074661e+10                      309.0\n",
      "2        Amambay        2.006737e+09                       56.0\n",
      "3       Boquerón        2.697553e+09                       47.0\n",
      "4       Caaguazú        6.122100e+09                      159.0\n"
     ]
    },
    {
     "data": {
      "application/vnd.plotly.v1+json": {
       "config": {
        "plotlyServerURL": "https://plot.ly"
       },
       "data": [
        {
         "hovertemplate": "Departamento=Alto Paraguay<br>Monto Adjudicado=%{x}<br>Cantidad de Instituciones=%{y}<extra></extra>",
         "legendgroup": "Alto Paraguay",
         "marker": {
          "color": "#636efa",
          "symbol": "circle"
         },
         "mode": "markers",
         "name": "Alto Paraguay",
         "orientation": "v",
         "showlegend": true,
         "type": "scatter",
         "x": [
          1412138645
         ],
         "xaxis": "x",
         "y": [
          19
         ],
         "yaxis": "y"
        },
        {
         "hovertemplate": "Departamento=Alto Paraná<br>Monto Adjudicado=%{x}<br>Cantidad de Instituciones=%{y}<extra></extra>",
         "legendgroup": "Alto Paraná",
         "marker": {
          "color": "#EF553B",
          "symbol": "circle"
         },
         "mode": "markers",
         "name": "Alto Paraná",
         "orientation": "v",
         "showlegend": true,
         "type": "scatter",
         "x": [
          10746606201
         ],
         "xaxis": "x",
         "y": [
          309
         ],
         "yaxis": "y"
        },
        {
         "hovertemplate": "Departamento=Amambay<br>Monto Adjudicado=%{x}<br>Cantidad de Instituciones=%{y}<extra></extra>",
         "legendgroup": "Amambay",
         "marker": {
          "color": "#00cc96",
          "symbol": "circle"
         },
         "mode": "markers",
         "name": "Amambay",
         "orientation": "v",
         "showlegend": true,
         "type": "scatter",
         "x": [
          2006737340
         ],
         "xaxis": "x",
         "y": [
          56
         ],
         "yaxis": "y"
        },
        {
         "hovertemplate": "Departamento=Boquerón<br>Monto Adjudicado=%{x}<br>Cantidad de Instituciones=%{y}<extra></extra>",
         "legendgroup": "Boquerón",
         "marker": {
          "color": "#ab63fa",
          "symbol": "circle"
         },
         "mode": "markers",
         "name": "Boquerón",
         "orientation": "v",
         "showlegend": true,
         "type": "scatter",
         "x": [
          2697552529
         ],
         "xaxis": "x",
         "y": [
          47
         ],
         "yaxis": "y"
        },
        {
         "hovertemplate": "Departamento=Caaguazú<br>Monto Adjudicado=%{x}<br>Cantidad de Instituciones=%{y}<extra></extra>",
         "legendgroup": "Caaguazú",
         "marker": {
          "color": "#FFA15A",
          "symbol": "circle"
         },
         "mode": "markers",
         "name": "Caaguazú",
         "orientation": "v",
         "showlegend": true,
         "type": "scatter",
         "x": [
          6122099725
         ],
         "xaxis": "x",
         "y": [
          159
         ],
         "yaxis": "y"
        },
        {
         "hovertemplate": "Departamento=Caazapá<br>Monto Adjudicado=%{x}<br>Cantidad de Instituciones=%{y}<extra></extra>",
         "legendgroup": "Caazapá",
         "marker": {
          "color": "#19d3f3",
          "symbol": "circle"
         },
         "mode": "markers",
         "name": "Caazapá",
         "orientation": "v",
         "showlegend": true,
         "type": "scatter",
         "x": [
          1479193465
         ],
         "xaxis": "x",
         "y": [
          51
         ],
         "yaxis": "y"
        },
        {
         "hovertemplate": "Departamento=Canindeyú<br>Monto Adjudicado=%{x}<br>Cantidad de Instituciones=%{y}<extra></extra>",
         "legendgroup": "Canindeyú",
         "marker": {
          "color": "#FF6692",
          "symbol": "circle"
         },
         "mode": "markers",
         "name": "Canindeyú",
         "orientation": "v",
         "showlegend": true,
         "type": "scatter",
         "x": [
          3485945335
         ],
         "xaxis": "x",
         "y": [
          89
         ],
         "yaxis": "y"
        },
        {
         "hovertemplate": "Departamento=Capital<br>Monto Adjudicado=%{x}<br>Cantidad de Instituciones=%{y}<extra></extra>",
         "legendgroup": "Capital",
         "marker": {
          "color": "#B6E880",
          "symbol": "circle"
         },
         "mode": "markers",
         "name": "Capital",
         "orientation": "v",
         "showlegend": true,
         "type": "scatter",
         "x": [
          4612169982
         ],
         "xaxis": "x",
         "y": [
          184
         ],
         "yaxis": "y"
        },
        {
         "hovertemplate": "Departamento=Central<br>Monto Adjudicado=%{x}<br>Cantidad de Instituciones=%{y}<extra></extra>",
         "legendgroup": "Central",
         "marker": {
          "color": "#FF97FF",
          "symbol": "circle"
         },
         "mode": "markers",
         "name": "Central",
         "orientation": "v",
         "showlegend": true,
         "type": "scatter",
         "x": [
          23076387963
         ],
         "xaxis": "x",
         "y": [
          780
         ],
         "yaxis": "y"
        },
        {
         "hovertemplate": "Departamento=Concepción<br>Monto Adjudicado=%{x}<br>Cantidad de Instituciones=%{y}<extra></extra>",
         "legendgroup": "Concepción",
         "marker": {
          "color": "#FECB52",
          "symbol": "circle"
         },
         "mode": "markers",
         "name": "Concepción",
         "orientation": "v",
         "showlegend": true,
         "type": "scatter",
         "x": [
          3541096482
         ],
         "xaxis": "x",
         "y": [
          94
         ],
         "yaxis": "y"
        },
        {
         "hovertemplate": "Departamento=Coordillera<br>Monto Adjudicado=%{x}<br>Cantidad de Instituciones=%{y}<extra></extra>",
         "legendgroup": "Coordillera",
         "marker": {
          "color": "#636efa",
          "symbol": "circle"
         },
         "mode": "markers",
         "name": "Coordillera",
         "orientation": "v",
         "showlegend": true,
         "type": "scatter",
         "x": [
          2307248982
         ],
         "xaxis": "x",
         "y": [
          79
         ],
         "yaxis": "y"
        },
        {
         "hovertemplate": "Departamento=Cordillera<br>Monto Adjudicado=%{x}<br>Cantidad de Instituciones=%{y}<extra></extra>",
         "legendgroup": "Cordillera",
         "marker": {
          "color": "#EF553B",
          "symbol": "circle"
         },
         "mode": "markers",
         "name": "Cordillera",
         "orientation": "v",
         "showlegend": true,
         "type": "scatter",
         "x": [
          4024422497
         ],
         "xaxis": "x",
         "y": [
          59
         ],
         "yaxis": "y"
        },
        {
         "hovertemplate": "Departamento=Guairá<br>Monto Adjudicado=%{x}<br>Cantidad de Instituciones=%{y}<extra></extra>",
         "legendgroup": "Guairá",
         "marker": {
          "color": "#00cc96",
          "symbol": "circle"
         },
         "mode": "markers",
         "name": "Guairá",
         "orientation": "v",
         "showlegend": true,
         "type": "scatter",
         "x": [
          2584699637
         ],
         "xaxis": "x",
         "y": [
          72
         ],
         "yaxis": "y"
        },
        {
         "hovertemplate": "Departamento=Itapúa<br>Monto Adjudicado=%{x}<br>Cantidad de Instituciones=%{y}<extra></extra>",
         "legendgroup": "Itapúa",
         "marker": {
          "color": "#ab63fa",
          "symbol": "circle"
         },
         "mode": "markers",
         "name": "Itapúa",
         "orientation": "v",
         "showlegend": true,
         "type": "scatter",
         "x": [
          7195717690
         ],
         "xaxis": "x",
         "y": [
          182
         ],
         "yaxis": "y"
        },
        {
         "hovertemplate": "Departamento=Misiones<br>Monto Adjudicado=%{x}<br>Cantidad de Instituciones=%{y}<extra></extra>",
         "legendgroup": "Misiones",
         "marker": {
          "color": "#FFA15A",
          "symbol": "circle"
         },
         "mode": "markers",
         "name": "Misiones",
         "orientation": "v",
         "showlegend": true,
         "type": "scatter",
         "x": [
          3769423457
         ],
         "xaxis": "x",
         "y": [
          92
         ],
         "yaxis": "y"
        },
        {
         "hovertemplate": "Departamento=Paraguari<br>Monto Adjudicado=%{x}<br>Cantidad de Instituciones=%{y}<extra></extra>",
         "legendgroup": "Paraguari",
         "marker": {
          "color": "#19d3f3",
          "symbol": "circle"
         },
         "mode": "markers",
         "name": "Paraguari",
         "orientation": "v",
         "showlegend": true,
         "type": "scatter",
         "x": [
          5054529044
         ],
         "xaxis": "x",
         "y": [
          117
         ],
         "yaxis": "y"
        },
        {
         "hovertemplate": "Departamento=Presidente Hayes<br>Monto Adjudicado=%{x}<br>Cantidad de Instituciones=%{y}<extra></extra>",
         "legendgroup": "Presidente Hayes",
         "marker": {
          "color": "#FF6692",
          "symbol": "circle"
         },
         "mode": "markers",
         "name": "Presidente Hayes",
         "orientation": "v",
         "showlegend": true,
         "type": "scatter",
         "x": [
          6442666083
         ],
         "xaxis": "x",
         "y": [
          110
         ],
         "yaxis": "y"
        },
        {
         "hovertemplate": "Departamento=San Pedro<br>Monto Adjudicado=%{x}<br>Cantidad de Instituciones=%{y}<extra></extra>",
         "legendgroup": "San Pedro",
         "marker": {
          "color": "#B6E880",
          "symbol": "circle"
         },
         "mode": "markers",
         "name": "San Pedro",
         "orientation": "v",
         "showlegend": true,
         "type": "scatter",
         "x": [
          6411099097
         ],
         "xaxis": "x",
         "y": [
          170
         ],
         "yaxis": "y"
        },
        {
         "hovertemplate": "Departamento=Ñeembucú<br>Monto Adjudicado=%{x}<br>Cantidad de Instituciones=%{y}<extra></extra>",
         "legendgroup": "Ñeembucú",
         "marker": {
          "color": "#FF97FF",
          "symbol": "circle"
         },
         "mode": "markers",
         "name": "Ñeembucú",
         "orientation": "v",
         "showlegend": true,
         "type": "scatter",
         "x": [
          1680889111
         ],
         "xaxis": "x",
         "y": [
          34
         ],
         "yaxis": "y"
        }
       ],
       "layout": {
        "legend": {
         "title": {
          "text": "Departamento"
         },
         "tracegroupgap": 0
        },
        "template": {
         "data": {
          "bar": [
           {
            "error_x": {
             "color": "#2a3f5f"
            },
            "error_y": {
             "color": "#2a3f5f"
            },
            "marker": {
             "line": {
              "color": "#E5ECF6",
              "width": 0.5
             },
             "pattern": {
              "fillmode": "overlay",
              "size": 10,
              "solidity": 0.2
             }
            },
            "type": "bar"
           }
          ],
          "barpolar": [
           {
            "marker": {
             "line": {
              "color": "#E5ECF6",
              "width": 0.5
             },
             "pattern": {
              "fillmode": "overlay",
              "size": 10,
              "solidity": 0.2
             }
            },
            "type": "barpolar"
           }
          ],
          "carpet": [
           {
            "aaxis": {
             "endlinecolor": "#2a3f5f",
             "gridcolor": "white",
             "linecolor": "white",
             "minorgridcolor": "white",
             "startlinecolor": "#2a3f5f"
            },
            "baxis": {
             "endlinecolor": "#2a3f5f",
             "gridcolor": "white",
             "linecolor": "white",
             "minorgridcolor": "white",
             "startlinecolor": "#2a3f5f"
            },
            "type": "carpet"
           }
          ],
          "choropleth": [
           {
            "colorbar": {
             "outlinewidth": 0,
             "ticks": ""
            },
            "type": "choropleth"
           }
          ],
          "contour": [
           {
            "colorbar": {
             "outlinewidth": 0,
             "ticks": ""
            },
            "colorscale": [
             [
              0,
              "#0d0887"
             ],
             [
              0.1111111111111111,
              "#46039f"
             ],
             [
              0.2222222222222222,
              "#7201a8"
             ],
             [
              0.3333333333333333,
              "#9c179e"
             ],
             [
              0.4444444444444444,
              "#bd3786"
             ],
             [
              0.5555555555555556,
              "#d8576b"
             ],
             [
              0.6666666666666666,
              "#ed7953"
             ],
             [
              0.7777777777777778,
              "#fb9f3a"
             ],
             [
              0.8888888888888888,
              "#fdca26"
             ],
             [
              1,
              "#f0f921"
             ]
            ],
            "type": "contour"
           }
          ],
          "contourcarpet": [
           {
            "colorbar": {
             "outlinewidth": 0,
             "ticks": ""
            },
            "type": "contourcarpet"
           }
          ],
          "heatmap": [
           {
            "colorbar": {
             "outlinewidth": 0,
             "ticks": ""
            },
            "colorscale": [
             [
              0,
              "#0d0887"
             ],
             [
              0.1111111111111111,
              "#46039f"
             ],
             [
              0.2222222222222222,
              "#7201a8"
             ],
             [
              0.3333333333333333,
              "#9c179e"
             ],
             [
              0.4444444444444444,
              "#bd3786"
             ],
             [
              0.5555555555555556,
              "#d8576b"
             ],
             [
              0.6666666666666666,
              "#ed7953"
             ],
             [
              0.7777777777777778,
              "#fb9f3a"
             ],
             [
              0.8888888888888888,
              "#fdca26"
             ],
             [
              1,
              "#f0f921"
             ]
            ],
            "type": "heatmap"
           }
          ],
          "heatmapgl": [
           {
            "colorbar": {
             "outlinewidth": 0,
             "ticks": ""
            },
            "colorscale": [
             [
              0,
              "#0d0887"
             ],
             [
              0.1111111111111111,
              "#46039f"
             ],
             [
              0.2222222222222222,
              "#7201a8"
             ],
             [
              0.3333333333333333,
              "#9c179e"
             ],
             [
              0.4444444444444444,
              "#bd3786"
             ],
             [
              0.5555555555555556,
              "#d8576b"
             ],
             [
              0.6666666666666666,
              "#ed7953"
             ],
             [
              0.7777777777777778,
              "#fb9f3a"
             ],
             [
              0.8888888888888888,
              "#fdca26"
             ],
             [
              1,
              "#f0f921"
             ]
            ],
            "type": "heatmapgl"
           }
          ],
          "histogram": [
           {
            "marker": {
             "pattern": {
              "fillmode": "overlay",
              "size": 10,
              "solidity": 0.2
             }
            },
            "type": "histogram"
           }
          ],
          "histogram2d": [
           {
            "colorbar": {
             "outlinewidth": 0,
             "ticks": ""
            },
            "colorscale": [
             [
              0,
              "#0d0887"
             ],
             [
              0.1111111111111111,
              "#46039f"
             ],
             [
              0.2222222222222222,
              "#7201a8"
             ],
             [
              0.3333333333333333,
              "#9c179e"
             ],
             [
              0.4444444444444444,
              "#bd3786"
             ],
             [
              0.5555555555555556,
              "#d8576b"
             ],
             [
              0.6666666666666666,
              "#ed7953"
             ],
             [
              0.7777777777777778,
              "#fb9f3a"
             ],
             [
              0.8888888888888888,
              "#fdca26"
             ],
             [
              1,
              "#f0f921"
             ]
            ],
            "type": "histogram2d"
           }
          ],
          "histogram2dcontour": [
           {
            "colorbar": {
             "outlinewidth": 0,
             "ticks": ""
            },
            "colorscale": [
             [
              0,
              "#0d0887"
             ],
             [
              0.1111111111111111,
              "#46039f"
             ],
             [
              0.2222222222222222,
              "#7201a8"
             ],
             [
              0.3333333333333333,
              "#9c179e"
             ],
             [
              0.4444444444444444,
              "#bd3786"
             ],
             [
              0.5555555555555556,
              "#d8576b"
             ],
             [
              0.6666666666666666,
              "#ed7953"
             ],
             [
              0.7777777777777778,
              "#fb9f3a"
             ],
             [
              0.8888888888888888,
              "#fdca26"
             ],
             [
              1,
              "#f0f921"
             ]
            ],
            "type": "histogram2dcontour"
           }
          ],
          "mesh3d": [
           {
            "colorbar": {
             "outlinewidth": 0,
             "ticks": ""
            },
            "type": "mesh3d"
           }
          ],
          "parcoords": [
           {
            "line": {
             "colorbar": {
              "outlinewidth": 0,
              "ticks": ""
             }
            },
            "type": "parcoords"
           }
          ],
          "pie": [
           {
            "automargin": true,
            "type": "pie"
           }
          ],
          "scatter": [
           {
            "fillpattern": {
             "fillmode": "overlay",
             "size": 10,
             "solidity": 0.2
            },
            "type": "scatter"
           }
          ],
          "scatter3d": [
           {
            "line": {
             "colorbar": {
              "outlinewidth": 0,
              "ticks": ""
             }
            },
            "marker": {
             "colorbar": {
              "outlinewidth": 0,
              "ticks": ""
             }
            },
            "type": "scatter3d"
           }
          ],
          "scattercarpet": [
           {
            "marker": {
             "colorbar": {
              "outlinewidth": 0,
              "ticks": ""
             }
            },
            "type": "scattercarpet"
           }
          ],
          "scattergeo": [
           {
            "marker": {
             "colorbar": {
              "outlinewidth": 0,
              "ticks": ""
             }
            },
            "type": "scattergeo"
           }
          ],
          "scattergl": [
           {
            "marker": {
             "colorbar": {
              "outlinewidth": 0,
              "ticks": ""
             }
            },
            "type": "scattergl"
           }
          ],
          "scattermapbox": [
           {
            "marker": {
             "colorbar": {
              "outlinewidth": 0,
              "ticks": ""
             }
            },
            "type": "scattermapbox"
           }
          ],
          "scatterpolar": [
           {
            "marker": {
             "colorbar": {
              "outlinewidth": 0,
              "ticks": ""
             }
            },
            "type": "scatterpolar"
           }
          ],
          "scatterpolargl": [
           {
            "marker": {
             "colorbar": {
              "outlinewidth": 0,
              "ticks": ""
             }
            },
            "type": "scatterpolargl"
           }
          ],
          "scatterternary": [
           {
            "marker": {
             "colorbar": {
              "outlinewidth": 0,
              "ticks": ""
             }
            },
            "type": "scatterternary"
           }
          ],
          "surface": [
           {
            "colorbar": {
             "outlinewidth": 0,
             "ticks": ""
            },
            "colorscale": [
             [
              0,
              "#0d0887"
             ],
             [
              0.1111111111111111,
              "#46039f"
             ],
             [
              0.2222222222222222,
              "#7201a8"
             ],
             [
              0.3333333333333333,
              "#9c179e"
             ],
             [
              0.4444444444444444,
              "#bd3786"
             ],
             [
              0.5555555555555556,
              "#d8576b"
             ],
             [
              0.6666666666666666,
              "#ed7953"
             ],
             [
              0.7777777777777778,
              "#fb9f3a"
             ],
             [
              0.8888888888888888,
              "#fdca26"
             ],
             [
              1,
              "#f0f921"
             ]
            ],
            "type": "surface"
           }
          ],
          "table": [
           {
            "cells": {
             "fill": {
              "color": "#EBF0F8"
             },
             "line": {
              "color": "white"
             }
            },
            "header": {
             "fill": {
              "color": "#C8D4E3"
             },
             "line": {
              "color": "white"
             }
            },
            "type": "table"
           }
          ]
         },
         "layout": {
          "annotationdefaults": {
           "arrowcolor": "#2a3f5f",
           "arrowhead": 0,
           "arrowwidth": 1
          },
          "autotypenumbers": "strict",
          "coloraxis": {
           "colorbar": {
            "outlinewidth": 0,
            "ticks": ""
           }
          },
          "colorscale": {
           "diverging": [
            [
             0,
             "#8e0152"
            ],
            [
             0.1,
             "#c51b7d"
            ],
            [
             0.2,
             "#de77ae"
            ],
            [
             0.3,
             "#f1b6da"
            ],
            [
             0.4,
             "#fde0ef"
            ],
            [
             0.5,
             "#f7f7f7"
            ],
            [
             0.6,
             "#e6f5d0"
            ],
            [
             0.7,
             "#b8e186"
            ],
            [
             0.8,
             "#7fbc41"
            ],
            [
             0.9,
             "#4d9221"
            ],
            [
             1,
             "#276419"
            ]
           ],
           "sequential": [
            [
             0,
             "#0d0887"
            ],
            [
             0.1111111111111111,
             "#46039f"
            ],
            [
             0.2222222222222222,
             "#7201a8"
            ],
            [
             0.3333333333333333,
             "#9c179e"
            ],
            [
             0.4444444444444444,
             "#bd3786"
            ],
            [
             0.5555555555555556,
             "#d8576b"
            ],
            [
             0.6666666666666666,
             "#ed7953"
            ],
            [
             0.7777777777777778,
             "#fb9f3a"
            ],
            [
             0.8888888888888888,
             "#fdca26"
            ],
            [
             1,
             "#f0f921"
            ]
           ],
           "sequentialminus": [
            [
             0,
             "#0d0887"
            ],
            [
             0.1111111111111111,
             "#46039f"
            ],
            [
             0.2222222222222222,
             "#7201a8"
            ],
            [
             0.3333333333333333,
             "#9c179e"
            ],
            [
             0.4444444444444444,
             "#bd3786"
            ],
            [
             0.5555555555555556,
             "#d8576b"
            ],
            [
             0.6666666666666666,
             "#ed7953"
            ],
            [
             0.7777777777777778,
             "#fb9f3a"
            ],
            [
             0.8888888888888888,
             "#fdca26"
            ],
            [
             1,
             "#f0f921"
            ]
           ]
          },
          "colorway": [
           "#636efa",
           "#EF553B",
           "#00cc96",
           "#ab63fa",
           "#FFA15A",
           "#19d3f3",
           "#FF6692",
           "#B6E880",
           "#FF97FF",
           "#FECB52"
          ],
          "font": {
           "color": "#2a3f5f"
          },
          "geo": {
           "bgcolor": "white",
           "lakecolor": "white",
           "landcolor": "#E5ECF6",
           "showlakes": true,
           "showland": true,
           "subunitcolor": "white"
          },
          "hoverlabel": {
           "align": "left"
          },
          "hovermode": "closest",
          "mapbox": {
           "style": "light"
          },
          "paper_bgcolor": "white",
          "plot_bgcolor": "#E5ECF6",
          "polar": {
           "angularaxis": {
            "gridcolor": "white",
            "linecolor": "white",
            "ticks": ""
           },
           "bgcolor": "#E5ECF6",
           "radialaxis": {
            "gridcolor": "white",
            "linecolor": "white",
            "ticks": ""
           }
          },
          "scene": {
           "xaxis": {
            "backgroundcolor": "#E5ECF6",
            "gridcolor": "white",
            "gridwidth": 2,
            "linecolor": "white",
            "showbackground": true,
            "ticks": "",
            "zerolinecolor": "white"
           },
           "yaxis": {
            "backgroundcolor": "#E5ECF6",
            "gridcolor": "white",
            "gridwidth": 2,
            "linecolor": "white",
            "showbackground": true,
            "ticks": "",
            "zerolinecolor": "white"
           },
           "zaxis": {
            "backgroundcolor": "#E5ECF6",
            "gridcolor": "white",
            "gridwidth": 2,
            "linecolor": "white",
            "showbackground": true,
            "ticks": "",
            "zerolinecolor": "white"
           }
          },
          "shapedefaults": {
           "line": {
            "color": "#2a3f5f"
           }
          },
          "ternary": {
           "aaxis": {
            "gridcolor": "white",
            "linecolor": "white",
            "ticks": ""
           },
           "baxis": {
            "gridcolor": "white",
            "linecolor": "white",
            "ticks": ""
           },
           "bgcolor": "#E5ECF6",
           "caxis": {
            "gridcolor": "white",
            "linecolor": "white",
            "ticks": ""
           }
          },
          "title": {
           "x": 0.05
          },
          "xaxis": {
           "automargin": true,
           "gridcolor": "white",
           "linecolor": "white",
           "ticks": "",
           "title": {
            "standoff": 15
           },
           "zerolinecolor": "white",
           "zerolinewidth": 2
          },
          "yaxis": {
           "automargin": true,
           "gridcolor": "white",
           "linecolor": "white",
           "ticks": "",
           "title": {
            "standoff": 15
           },
           "zerolinecolor": "white",
           "zerolinewidth": 2
          }
         }
        },
        "title": {
         "text": "Monto Adjudicado vs Cantidad de Instituciones"
        },
        "xaxis": {
         "anchor": "y",
         "domain": [
          0,
          1
         ],
         "title": {
          "text": "Monto Adjudicado"
         }
        },
        "yaxis": {
         "anchor": "x",
         "domain": [
          0,
          1
         ],
         "title": {
          "text": "Cantidad de Instituciones"
         }
        }
       }
      }
     },
     "metadata": {},
     "output_type": "display_data"
    }
   ],
   "source": [
    "import pandas as pd\n",
    "import plotly.express as px\n",
    "\n",
    "# Supongamos que ya has leído tu archivo Excel en un DataFrame llamado df\n",
    "# df = pd.read_excel('tu_archivo.xlsx', sheet_name='DISPOSITIVOS')\n",
    "\n",
    "# Agrupar por 'Departamento' y sumar 'Monto Adjudicado 1' y 'Cantidad de Instituciones'\n",
    "df_agrupado = df.groupby('Departamento').agg({\n",
    "    'Monto Adjudicado 1': 'sum',\n",
    "    'Cantidad de Instituciones': 'sum'\n",
    "}).reset_index()\n",
    "\n",
    "# Ver los primeros registros del DataFrame agrupado\n",
    "print(df_agrupado.head())\n",
    "\n",
    "# Crear un gráfico de dispersión (scatter) usando Plotly Express\n",
    "fig = px.scatter(\n",
    "    df_agrupado,\n",
    "    x='Monto Adjudicado 1',       # Eje X: Monto Adjudicado\n",
    "    y='Cantidad de Instituciones',  # Eje Y: Cantidad de Instituciones\n",
    "    color='Departamento',           # Colorear por Departamento\n",
    "    title='Monto Adjudicado vs Cantidad de Instituciones',\n",
    "    labels={\n",
    "        'Monto Adjudicado 1': 'Monto Adjudicado',\n",
    "        'Cantidad de Instituciones': 'Cantidad de Instituciones'\n",
    "    }\n",
    ")\n",
    "\n",
    "# Mostrar el gráfico\n",
    "fig.show()\n",
    "\n",
    "# Opcional: guardar el DataFrame agrupado en un archivo CSV\n",
    "df_agrupado.to_csv('../data/uepp/df_agrupado_conectividad.csv', index=False)\n",
    "\n"
   ]
  },
  {
   "cell_type": "code",
   "execution_count": 33,
   "metadata": {},
   "outputs": [
    {
     "name": "stdout",
     "output_type": "stream",
     "text": [
      "      Departamento  Monto Adjudicado 1  Cantidad Notebook\n",
      "0      A. PARAGUAY        1.015661e+07                  0\n",
      "1        A. PARANÁ        3.520991e+08                 12\n",
      "2    ALTO PARAGUAY        7.348085e+07                  6\n",
      "3      ALTO PARANÁ        3.579877e+07                  0\n",
      "4          AMAMBAY        1.699394e+08                 12\n",
      "..             ...                 ...                ...\n",
      "154      ÑEEMBUCÚ         2.297769e+07                  0\n",
      "155       Ñacunday        5.101411e+07                 10\n",
      "156       Ñeembucú        2.528014e+09                398\n",
      "157          Ñemby        1.389332e+08                 30\n",
      "158           Ñumí        5.101411e+07                 10\n",
      "\n",
      "[159 rows x 3 columns]\n"
     ]
    }
   ],
   "source": [
    "# Ver los primeros registros del DataFrame agrupado\n",
    "print(df_agrupado.head(500))"
   ]
  },
  {
   "cell_type": "code",
   "execution_count": 34,
   "metadata": {},
   "outputs": [],
   "source": [
    "# Guardar en una ruta específica\n",
    "df_agrupado.head(500).to_csv('../data/uepp/df_agrupado_500.csv', index=False)\n"
   ]
  }
 ],
 "metadata": {
  "kernelspec": {
   "display_name": "bootcamp_mitic",
   "language": "python",
   "name": "python3"
  },
  "language_info": {
   "codemirror_mode": {
    "name": "ipython",
    "version": 3
   },
   "file_extension": ".py",
   "mimetype": "text/x-python",
   "name": "python",
   "nbconvert_exporter": "python",
   "pygments_lexer": "ipython3",
   "version": "3.11.10"
  }
 },
 "nbformat": 4,
 "nbformat_minor": 2
}
