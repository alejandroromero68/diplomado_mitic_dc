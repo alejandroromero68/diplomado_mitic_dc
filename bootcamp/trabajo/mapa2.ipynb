{
 "cells": [
  {
   "cell_type": "code",
   "execution_count": 1,
   "metadata": {},
   "outputs": [
    {
     "data": {
      "application/vnd.jupyter.widget-view+json": {
       "model_id": "e7d2d7fb9d9d4ce38208af4b45191bc7",
       "version_major": 2,
       "version_minor": 0
      },
      "text/plain": [
       "VBox(children=(Checkbox(value=False, description='Capital'), Checkbox(value=False, description='Central'), Che…"
      ]
     },
     "metadata": {},
     "output_type": "display_data"
    },
    {
     "data": {
      "application/vnd.jupyter.widget-view+json": {
       "model_id": "fcc626e4124a4829b9f3ab22a592582a",
       "version_major": 2,
       "version_minor": 0
      },
      "text/plain": [
       "Output()"
      ]
     },
     "metadata": {},
     "output_type": "display_data"
    }
   ],
   "source": [
    "import pandas as pd\n",
    "import folium\n",
    "from ipywidgets import Checkbox, VBox, HBox, Button, Output\n",
    "\n",
    "import geopandas as gpd\n",
    "import matplotlib.pyplot as plt\n",
    "import contextily as ctx  # Asegúrate de importar contextily\n",
    "\n",
    "# Paso 1: Cargar el dataset\n",
    "df = pd.read_csv('../data/instituciones.csv', sep=';', encoding='utf-8', engine='python')\n",
    "\n",
    "df['latitud1'] = df['latitud1'] * -1\n",
    "df['longitud1'] = df['longitud1'] * -1\n",
    "\n",
    "# Convertir latitud y longitud a tipo float\n",
    "df['latitud1'] = df['latitud1'].astype(float)\n",
    "df['longitud1'] = df['longitud1'].astype(float)\n",
    "\n",
    "# Crear un mapa centrado en Paraguay\n",
    "mapa = folium.Map(location=[-23.4420, -58.4438], zoom_start=6)\n",
    "\n",
    "# Crear una lista de departamentos únicos\n",
    "departamentos = df['departamento'].unique()\n",
    "\n",
    "# Crear un diccionario para guardar los checkboxes\n",
    "checkboxes = {dept: Checkbox(value=False, description=dept) for dept in departamentos}\n",
    "\n",
    "# Crear un output para mostrar el mapa\n",
    "output = Output()\n",
    "\n",
    "def mostrar_mapa(b):\n",
    "    # Limpiar el mapa anterior\n",
    "    mapa = folium.Map(location=[-23.4420, -58.4438], zoom_start=6)\n",
    "\n",
    "    # Filtrar los datos según los checkboxes seleccionados\n",
    "    for dept, checkbox in checkboxes.items():\n",
    "        if checkbox.value:\n",
    "            # Filtrar el DataFrame para el departamento seleccionado\n",
    "            df_dept = df[df['departamento'] == dept]\n",
    "            for _, row in df_dept.iterrows():\n",
    "                folium.Marker(\n",
    "                    location=[row['latitud1'], row['longitud1']],\n",
    "                    popup=row['nombre']\n",
    "                ).add_to(mapa)\n",
    "\n",
    "    # Mostrar el mapa actualizado\n",
    "    with output:\n",
    "        output.clear_output()\n",
    "        display(mapa)\n",
    "\n",
    "# Crear un botón para actualizar el mapa\n",
    "boton_actualizar = Button(description=\"Actualizar Mapa\")\n",
    "boton_actualizar.on_click(mostrar_mapa)\n",
    "\n",
    "# Crear un layout con los checkboxes y el botón\n",
    "ui = VBox(list(checkboxes.values()) + [boton_actualizar])\n",
    "display(ui, output)\n"
   ]
  },
  {
   "cell_type": "code",
   "execution_count": 2,
   "metadata": {},
   "outputs": [
    {
     "data": {
      "application/vnd.jupyter.widget-view+json": {
       "model_id": "0369cfd86d3b40f6be8489e03ff46eac",
       "version_major": 2,
       "version_minor": 0
      },
      "text/plain": [
       "VBox(children=(Checkbox(value=False, description='Capital'), Checkbox(value=False, description='Central'), Che…"
      ]
     },
     "metadata": {},
     "output_type": "display_data"
    },
    {
     "data": {
      "application/vnd.jupyter.widget-view+json": {
       "model_id": "0551226fdd6747e7b3c068585b449553",
       "version_major": 2,
       "version_minor": 0
      },
      "text/plain": [
       "Output()"
      ]
     },
     "metadata": {},
     "output_type": "display_data"
    }
   ],
   "source": [
    "import pandas as pd\n",
    "import folium\n",
    "import matplotlib.pyplot as plt\n",
    "from ipywidgets import Checkbox, VBox, HBox, Button, Output, interact\n",
    "from IPython.display import display\n",
    "\n",
    "# Paso 1: Cargar el dataset\n",
    "df = pd.read_csv('../data/instituciones.csv', sep=';', encoding='utf-8', engine='python')\n",
    "\n",
    "df['latitud1'] = df['latitud1'] * -1\n",
    "df['longitud1'] = df['longitud1'] * -1\n",
    "\n",
    "# Convertir latitud y longitud a tipo float\n",
    "df['latitud1'] = df['latitud1'].astype(float)\n",
    "df['longitud1'] = df['longitud1'].astype(float)\n",
    "\n",
    "# Crear un mapa centrado en Paraguay\n",
    "mapa = folium.Map(location=[-23.4420, -58.4438], zoom_start=6)\n",
    "\n",
    "# Crear una lista de departamentos únicos\n",
    "departamentos = df['departamento'].unique()\n",
    "\n",
    "# Crear un diccionario para guardar los checkboxes\n",
    "checkboxes = {dept: Checkbox(value=False, description=dept) for dept in departamentos}\n",
    "\n",
    "# Crear un output para mostrar el mapa y el gráfico\n",
    "output = Output()\n",
    "\n",
    "def mostrar_mapa_y_grafico(b):\n",
    "    # Limpiar el mapa anterior\n",
    "    mapa = folium.Map(location=[-23.4420, -58.4438], zoom_start=6)\n",
    "\n",
    "    # Filtrar los datos según los checkboxes seleccionados\n",
    "    dept_count = {}\n",
    "    \n",
    "    for dept, checkbox in checkboxes.items():\n",
    "        if checkbox.value:\n",
    "            # Filtrar el DataFrame para el departamento seleccionado\n",
    "            df_dept = df[df['departamento'] == dept]\n",
    "            dept_count[dept] = df_dept.shape[0]  # Contar registros\n",
    "            \n",
    "            for _, row in df_dept.iterrows():\n",
    "                folium.Marker(\n",
    "                    location=[row['latitud1'], row['longitud1']],\n",
    "                    popup=row['nombre']\n",
    "                ).add_to(mapa)\n",
    "\n",
    "    # Mostrar el mapa actualizado\n",
    "    with output:\n",
    "        output.clear_output()\n",
    "        display(mapa)\n",
    "        \n",
    "        # Crear gráfico de barras\n",
    "        plt.figure(figsize=(10, 6))\n",
    "        plt.bar(dept_count.keys(), dept_count.values(), color='skyblue')\n",
    "        plt.title('Cantidad de Centros Educativos por Departamento')\n",
    "        plt.xlabel('Departamento')\n",
    "        plt.ylabel('Cantidad')\n",
    "        plt.xticks(rotation=45)\n",
    "        plt.show()\n",
    "\n",
    "# Crear un botón para actualizar el mapa y el gráfico\n",
    "boton_actualizar = Button(description=\"Actualizar Mapa y Gráfico\")\n",
    "boton_actualizar.on_click(mostrar_mapa_y_grafico)\n",
    "\n",
    "# Crear un layout con los checkboxes y el botón\n",
    "ui = VBox(list(checkboxes.values()) + [boton_actualizar])\n",
    "display(ui, output)\n"
   ]
  }
 ],
 "metadata": {
  "kernelspec": {
   "display_name": "bootcamp_mitic",
   "language": "python",
   "name": "python3"
  },
  "language_info": {
   "codemirror_mode": {
    "name": "ipython",
    "version": 3
   },
   "file_extension": ".py",
   "mimetype": "text/x-python",
   "name": "python",
   "nbconvert_exporter": "python",
   "pygments_lexer": "ipython3",
   "version": "3.11.10"
  }
 },
 "nbformat": 4,
 "nbformat_minor": 2
}
