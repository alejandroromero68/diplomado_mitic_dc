{
 "cells": [
  {
   "cell_type": "code",
   "execution_count": 5,
   "metadata": {},
   "outputs": [
    {
     "data": {
      "application/vnd.jupyter.widget-view+json": {
       "model_id": "b0fd08668f0a4cb8af905948a7a612a0",
       "version_major": 2,
       "version_minor": 0
      },
      "text/plain": [
       "VBox(children=(Checkbox(value=False, description='Capital'), Checkbox(value=False, description='Central'), Che…"
      ]
     },
     "metadata": {},
     "output_type": "display_data"
    },
    {
     "data": {
      "application/vnd.jupyter.widget-view+json": {
       "model_id": "b0e98ad6c8b946d3b5c0f78762eff248",
       "version_major": 2,
       "version_minor": 0
      },
      "text/plain": [
       "Output()"
      ]
     },
     "metadata": {},
     "output_type": "display_data"
    }
   ],
   "source": [
    "import pandas as pd\n",
    "import folium\n",
    "from ipywidgets import Checkbox, VBox, HBox, Button, Output\n",
    "\n",
    "import geopandas as gpd\n",
    "import matplotlib.pyplot as plt\n",
    "import contextily as ctx  # Asegúrate de importar contextily\n",
    "\n",
    "# Paso 1: Cargar el dataset\n",
    "df = pd.read_csv('../data/instituciones.csv', sep=';', encoding='utf-8', engine='python')\n",
    "\n",
    "df['latitud1'] = df['latitud1'] * -1\n",
    "df['longitud1'] = df['longitud1'] * -1\n",
    "\n",
    "# Convertir latitud y longitud a tipo float\n",
    "df['latitud1'] = df['latitud1'].astype(float)\n",
    "df['longitud1'] = df['longitud1'].astype(float)\n",
    "\n",
    "# Crear un mapa centrado en Paraguay\n",
    "mapa = folium.Map(location=[-23.4420, -58.4438], zoom_start=6)\n",
    "\n",
    "# Crear una lista de departamentos únicos\n",
    "departamentos = df['departamento'].unique()\n",
    "\n",
    "# Crear un diccionario para guardar los checkboxes\n",
    "checkboxes = {dept: Checkbox(value=False, description=dept) for dept in departamentos}\n",
    "\n",
    "# Crear un output para mostrar el mapa\n",
    "output = Output()\n",
    "\n",
    "def mostrar_mapa(b):\n",
    "    # Limpiar el mapa anterior\n",
    "    mapa = folium.Map(location=[-23.4420, -58.4438], zoom_start=6)\n",
    "\n",
    "    # Filtrar los datos según los checkboxes seleccionados\n",
    "    for dept, checkbox in checkboxes.items():\n",
    "        if checkbox.value:\n",
    "            # Filtrar el DataFrame para el departamento seleccionado\n",
    "            df_dept = df[df['departamento'] == dept]\n",
    "            for _, row in df_dept.iterrows():\n",
    "                folium.Marker(\n",
    "                    location=[row['latitud1'], row['longitud1']],\n",
    "                    popup=row['nombre']\n",
    "                ).add_to(mapa)\n",
    "\n",
    "    # Mostrar el mapa actualizado\n",
    "    with output:\n",
    "        output.clear_output()\n",
    "        display(mapa)\n",
    "\n",
    "# Crear un botón para actualizar el mapa\n",
    "boton_actualizar = Button(description=\"Actualizar Mapa\")\n",
    "boton_actualizar.on_click(mostrar_mapa)\n",
    "\n",
    "# Crear un layout con los checkboxes y el botón\n",
    "ui = VBox(list(checkboxes.values()) + [boton_actualizar])\n",
    "display(ui, output)\n"
   ]
  },
  {
   "cell_type": "code",
   "execution_count": 4,
   "metadata": {},
   "outputs": [
    {
     "data": {
      "application/vnd.jupyter.widget-view+json": {
       "model_id": "1fe3e100deeb4c879c00544b9095b6ad",
       "version_major": 2,
       "version_minor": 0
      },
      "text/plain": [
       "VBox(children=(Checkbox(value=False, description='Capital'), Checkbox(value=False, description='Central'), Che…"
      ]
     },
     "metadata": {},
     "output_type": "display_data"
    },
    {
     "data": {
      "application/vnd.jupyter.widget-view+json": {
       "model_id": "c248b08dacc9498ba40a7617df8ab011",
       "version_major": 2,
       "version_minor": 0
      },
      "text/plain": [
       "Output()"
      ]
     },
     "metadata": {},
     "output_type": "display_data"
    }
   ],
   "source": [
    "import pandas as pd\n",
    "import folium\n",
    "import matplotlib.pyplot as plt\n",
    "from ipywidgets import Checkbox, VBox, HBox, Button, Output, interact\n",
    "from IPython.display import display\n",
    "\n",
    "# Paso 1: Cargar el dataset\n",
    "df = pd.read_csv('../data/instituciones.csv', sep=';', encoding='utf-8', engine='python')\n",
    "\n",
    "df['latitud1'] = df['latitud1'] * -1\n",
    "df['longitud1'] = df['longitud1'] * -1\n",
    "\n",
    "# Convertir latitud y longitud a tipo float\n",
    "df['latitud1'] = df['latitud1'].astype(float)\n",
    "df['longitud1'] = df['longitud1'].astype(float)\n",
    "\n",
    "# Crear un mapa centrado en Paraguay\n",
    "mapa = folium.Map(location=[-23.4420, -58.4438], zoom_start=6)\n",
    "\n",
    "# Crear una lista de departamentos únicos\n",
    "departamentos = df['departamento'].unique()\n",
    "\n",
    "# Crear un diccionario para guardar los checkboxes\n",
    "checkboxes = {dept: Checkbox(value=False, description=dept) for dept in departamentos}\n",
    "\n",
    "# Crear un output para mostrar el mapa y el gráfico\n",
    "output = Output()\n",
    "\n",
    "def mostrar_mapa_y_grafico(b):\n",
    "    # Limpiar el mapa anterior\n",
    "    mapa = folium.Map(location=[-23.4420, -58.4438], zoom_start=6)\n",
    "\n",
    "    # Filtrar los datos según los checkboxes seleccionados\n",
    "    dept_count = {}\n",
    "    \n",
    "    for dept, checkbox in checkboxes.items():\n",
    "        if checkbox.value:\n",
    "            # Filtrar el DataFrame para el departamento seleccionado\n",
    "            df_dept = df[df['departamento'] == dept]\n",
    "            dept_count[dept] = df_dept.shape[0]  # Contar registros\n",
    "            \n",
    "            for _, row in df_dept.iterrows():\n",
    "                folium.Marker(\n",
    "                    location=[row['latitud1'], row['longitud1']],\n",
    "                    popup=row['nombre']\n",
    "                ).add_to(mapa)\n",
    "\n",
    "    # Mostrar el mapa actualizado\n",
    "    with output:\n",
    "        output.clear_output()\n",
    "        display(mapa)\n",
    "        \n",
    "        # Crear gráfico de barras\n",
    "        plt.figure(figsize=(10, 6))\n",
    "        plt.bar(dept_count.keys(), dept_count.values(), color='skyblue')\n",
    "        plt.title('Cantidad de Centros Educativos por Departamento')\n",
    "        plt.xlabel('Departamento')\n",
    "        plt.ylabel('Cantidad')\n",
    "        plt.xticks(rotation=45)\n",
    "        plt.show()\n",
    "\n",
    "# Crear un botón para actualizar el mapa y el gráfico\n",
    "boton_actualizar = Button(description=\"Actualizar Mapa y Gráfico\")\n",
    "boton_actualizar.on_click(mostrar_mapa_y_grafico)\n",
    "\n",
    "# Crear un layout con los checkboxes y el botón\n",
    "ui = VBox(list(checkboxes.values()) + [boton_actualizar])\n",
    "display(ui, output)\n"
   ]
  },
  {
   "cell_type": "code",
   "execution_count": 6,
   "metadata": {},
   "outputs": [
    {
     "data": {
      "text/plain": [
       "<Axes: >"
      ]
     },
     "execution_count": 6,
     "metadata": {},
     "output_type": "execute_result"
    }
   ],
   "source": [
    "import geopandas as gpd\n",
    "\n",
    "# Cargar delimitadores de departamentos de Paraguay\n",
    "gdf = gpd.read_file(\"../data/GeoParaguay/DEPARTAMENTOS_PY_CNPV2022.geojson\")\n",
    "\n",
    "# Mostrar el mapa\n",
    "gdf.plot()\n"
   ]
  },
  {
   "cell_type": "code",
   "execution_count": 7,
   "metadata": {},
   "outputs": [
    {
     "name": "stderr",
     "output_type": "stream",
     "text": [
      "2024-10-22 14:59:48.655 Thread 'MainThread': missing ScriptRunContext! This warning can be ignored when running in bare mode.\n",
      "2024-10-22 14:59:48.655 Thread 'MainThread': missing ScriptRunContext! This warning can be ignored when running in bare mode.\n",
      "2024-10-22 14:59:48.655 Thread 'MainThread': missing ScriptRunContext! This warning can be ignored when running in bare mode.\n",
      "2024-10-22 14:59:48.655 Thread 'MainThread': missing ScriptRunContext! This warning can be ignored when running in bare mode.\n",
      "2024-10-22 14:59:48.655 Thread 'MainThread': missing ScriptRunContext! This warning can be ignored when running in bare mode.\n",
      "2024-10-22 14:59:48.655 Thread 'MainThread': missing ScriptRunContext! This warning can be ignored when running in bare mode.\n",
      "C:\\Users\\user\\AppData\\Local\\Temp\\ipykernel_16352\\2360579389.py:27: DeprecationWarning: \n",
      "folium_static is deprecated and will be removed in a future release, or\n",
      "simply replaced with with st_folium which always passes\n",
      "returned_objects=[] to the component.\n",
      "Please try using st_folium instead, and\n",
      "post an issue at https://github.com/randyzwitch/streamlit-folium/issues\n",
      "if you experience issues with st_folium.\n",
      "\n",
      "  folium_static(mapa)\n",
      "2024-10-22 14:59:55.722 Thread 'MainThread': missing ScriptRunContext! This warning can be ignored when running in bare mode.\n",
      "2024-10-22 14:59:55.739 Thread 'MainThread': missing ScriptRunContext! This warning can be ignored when running in bare mode.\n"
     ]
    },
    {
     "data": {
      "text/plain": [
       "DeltaGenerator()"
      ]
     },
     "execution_count": 7,
     "metadata": {},
     "output_type": "execute_result"
    }
   ],
   "source": [
    "import streamlit as st\n",
    "import folium\n",
    "from streamlit_folium import folium_static\n",
    "import geopandas as gpd\n",
    "\n",
    "# Cargar el archivo GeoJSON\n",
    "gdf = gpd.read_file(\"../data/GeoParaguay/DEPARTAMENTOS_PY_CNPV2022.geojson\")\n",
    "\n",
    "# Crear un mapa centrado en Paraguay\n",
    "mapa = folium.Map(location=[-23.4425, -58.4438], zoom_start=6)\n",
    "\n",
    "# Seleccionar el departamento\n",
    "departamento_seleccionado = st.selectbox('Selecciona un Departamento:', gdf['DPTO_DESC'].unique())\n",
    "\n",
    "# Añadir departamentos al mapa\n",
    "for _, row in gdf.iterrows():\n",
    "    geojson = folium.GeoJson(data=row['geometry'])\n",
    "    geojson.add_to(mapa)\n",
    "\n",
    "    # Resaltar el departamento seleccionado\n",
    "    if row['DPTO_DESC'] == departamento_seleccionado:\n",
    "        folium.GeoJson(data=row['geometry'], style_function=lambda feature: {\n",
    "            'fillColor': 'yellow', 'color': 'black', 'weight': 2, 'fillOpacity': 0.5\n",
    "        }).add_to(mapa)\n",
    "\n",
    "# Mostrar el mapa en Streamlit\n",
    "folium_static(mapa)\n"
   ]
  },
  {
   "cell_type": "code",
   "execution_count": 8,
   "metadata": {},
   "outputs": [
    {
     "name": "stdout",
     "output_type": "stream",
     "text": [
      "  DPTO      DPTO_DESC                                           geometry\n",
      "0   09      PARAGUARI  MULTIPOLYGON (((-57.08751 -26.37656, -57.08992...\n",
      "1   08       MISIONES  MULTIPOLYGON (((-57.01810 -27.46653, -57.01879...\n",
      "2   07         ITAPUA  MULTIPOLYGON (((-56.72156 -27.48321, -56.72741...\n",
      "3   17  ALTO PARAGUAY  MULTIPOLYGON (((-58.24216 -22.18956, -58.24261...\n",
      "4   16       BOQUERON  MULTIPOLYGON (((-60.60065 -23.60969, -60.60166...\n",
      "Index(['DPTO', 'DPTO_DESC', 'geometry'], dtype='object')\n"
     ]
    }
   ],
   "source": [
    "print(gdf.head())\n",
    "print(gdf.columns)"
   ]
  },
  {
   "cell_type": "code",
   "execution_count": 10,
   "metadata": {},
   "outputs": [
    {
     "ename": "ModuleNotFoundError",
     "evalue": "No module named 'st_folium'",
     "output_type": "error",
     "traceback": [
      "\u001b[1;31m---------------------------------------------------------------------------\u001b[0m",
      "\u001b[1;31mModuleNotFoundError\u001b[0m                       Traceback (most recent call last)",
      "Cell \u001b[1;32mIn[10], line 3\u001b[0m\n\u001b[0;32m      1\u001b[0m \u001b[38;5;28;01mimport\u001b[39;00m \u001b[38;5;21;01mstreamlit\u001b[39;00m \u001b[38;5;28;01mas\u001b[39;00m \u001b[38;5;21;01mst\u001b[39;00m\n\u001b[0;32m      2\u001b[0m \u001b[38;5;28;01mimport\u001b[39;00m \u001b[38;5;21;01mfolium\u001b[39;00m\n\u001b[1;32m----> 3\u001b[0m \u001b[38;5;28;01mfrom\u001b[39;00m \u001b[38;5;21;01mst_folium\u001b[39;00m \u001b[38;5;28;01mimport\u001b[39;00m st_folium\n\u001b[0;32m      4\u001b[0m \u001b[38;5;28;01mimport\u001b[39;00m \u001b[38;5;21;01mgeopandas\u001b[39;00m \u001b[38;5;28;01mas\u001b[39;00m \u001b[38;5;21;01mgpd\u001b[39;00m\n\u001b[0;32m      5\u001b[0m \u001b[38;5;28;01mimport\u001b[39;00m \u001b[38;5;21;01mos\u001b[39;00m\n",
      "\u001b[1;31mModuleNotFoundError\u001b[0m: No module named 'st_folium'"
     ]
    }
   ],
   "source": [
    "import streamlit as st\n",
    "import folium\n",
    "from st_folium import st_folium\n",
    "import geopandas as gpd\n",
    "import os\n",
    "\n",
    "\n",
    "# Cargar el archivo GeoJSON\n",
    "gdf = gpd.read_file(\"../data/GeoParaguay/DEPARTAMENTOS_PY_CNPV2022.geojson\")  # Asegúrate de tener la ruta correcta\n",
    "\n",
    "# Imprimir las primeras filas y las columnas para depuración\n",
    "st.write(gdf.head())\n",
    "st.write(gdf.columns)\n",
    "\n",
    "# Crear un mapa centrado en Paraguay\n",
    "mapa = folium.Map(location=[-23.4425, -58.4438], zoom_start=6)\n",
    "\n",
    "# Seleccionar el departamento con el nombre de columna correcto\n",
    "departamento_seleccionado = st.selectbox('Selecciona un Departamento:', gdf['DPTO_DESC'].unique())\n",
    "\n",
    "# Añadir departamentos al mapa\n",
    "for _, row in gdf.iterrows():\n",
    "    geojson = folium.GeoJson(data=row['geometry'])\n",
    "    geojson.add_to(mapa)\n",
    "\n",
    "    # Resaltar el departamento seleccionado\n",
    "    if row['DPTO_DESC'] == departamento_seleccionado:\n",
    "        folium.GeoJson(data=row['geometry'], style_function=lambda feature: {\n",
    "            'fillColor': 'yellow', 'color': 'black', 'weight': 2, 'fillOpacity': 0.5\n",
    "        }).add_to(mapa)\n",
    "\n",
    "# Mostrar el mapa en Streamlit usando st_folium\n",
    "st_folium(mapa)\n"
   ]
  },
  {
   "cell_type": "code",
   "execution_count": 12,
   "metadata": {},
   "outputs": [
    {
     "ename": "ModuleNotFoundError",
     "evalue": "No module named 'st_folium'",
     "output_type": "error",
     "traceback": [
      "\u001b[1;31m---------------------------------------------------------------------------\u001b[0m",
      "\u001b[1;31mModuleNotFoundError\u001b[0m                       Traceback (most recent call last)",
      "Cell \u001b[1;32mIn[12], line 2\u001b[0m\n\u001b[0;32m      1\u001b[0m \u001b[38;5;28;01mimport\u001b[39;00m \u001b[38;5;21;01mstreamlit\u001b[39;00m \u001b[38;5;28;01mas\u001b[39;00m \u001b[38;5;21;01mst\u001b[39;00m\n\u001b[1;32m----> 2\u001b[0m \u001b[38;5;28;01mfrom\u001b[39;00m \u001b[38;5;21;01mst_folium\u001b[39;00m \u001b[38;5;28;01mimport\u001b[39;00m st_folium\n",
      "\u001b[1;31mModuleNotFoundError\u001b[0m: No module named 'st_folium'"
     ]
    }
   ],
   "source": [
    "import streamlit as st\n",
    "from st_folium import st_folium"
   ]
  }
 ],
 "metadata": {
  "kernelspec": {
   "display_name": "bootcamp_mitic",
   "language": "python",
   "name": "python3"
  },
  "language_info": {
   "codemirror_mode": {
    "name": "ipython",
    "version": 3
   },
   "file_extension": ".py",
   "mimetype": "text/x-python",
   "name": "python",
   "nbconvert_exporter": "python",
   "pygments_lexer": "ipython3",
   "version": "3.11.10"
  }
 },
 "nbformat": 4,
 "nbformat_minor": 2
}
