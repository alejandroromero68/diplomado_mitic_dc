{
 "cells": [
  {
   "cell_type": "code",
   "execution_count": 1,
   "metadata": {},
   "outputs": [
    {
     "name": "stdout",
     "output_type": "stream",
     "text": [
      "Hoja: CAPACITACIONES\n",
      "   Indice  Proyecto   Cedula         Nombres y Apellidos Fecha de Nacimiento  \\\n",
      "0       1       NaN  3550531    CIRIO TOMAS LARA MONTIEL          21/12/1980   \n",
      "1       2       NaN  4191819           HUGO JAVIER MARIN          18/02/1985   \n",
      "2       3       NaN  2477227     MARIA ELISA NOCEDA SOSA          15/01/1975   \n",
      "3       4       NaN  3531698  ROCIO SOLEDAD NOGUERA BAEZ          31/12/1980   \n",
      "4       5       NaN  5229521       FELICIANO ORTIZ ORTIZ          21/02/1995   \n",
      "\n",
      "   Edad  Codigo Sexo       Sexo Fecha de Ingreso al MEC  Antiguedad  ...  \\\n",
      "0    42            1  Masculino              01/03/2005          18  ...   \n",
      "1    38            1  Masculino              01/05/2008          15  ...   \n",
      "2    48            6   Femenino              01/03/2000          23  ...   \n",
      "3    42            6   Femenino              01/10/2005          18  ...   \n",
      "4    28            1  Masculino              01/05/2017           6  ...   \n",
      "\n",
      "   Codigo Area       Area  Resolucion/Nro. de Contrato Costo llamado Cantidad  \\\n",
      "0          5.3  Educacion       RES. DGIFPTN N° 257/17        139551        1   \n",
      "1          5.3  Educacion       RES. DGIFPTN N° 257/17        139551        1   \n",
      "2          5.3  Educacion       RES. DGIFPTN N° 257/17        139551        1   \n",
      "3          5.3  Educacion       RES. DGIFPTN N° 257/17        139551        1   \n",
      "4          5.3  Educacion       RES. DGIFPTN N° 257/17        139551        1   \n",
      "\n",
      "   Codigo Rol/puesto efectivo           Rol/puesto efectivo  \\\n",
      "0                           1                  Docente aula   \n",
      "1                           1                  Docente aula   \n",
      "2                           2  Personal fuera de aula en IE   \n",
      "3                           1                  Docente aula   \n",
      "4                           1                  Docente aula   \n",
      "\n",
      "  Cantidad institucion Codigo Condicion Condicion  \n",
      "0                  NaN              1.0    Activo  \n",
      "1                  NaN              1.0    Activo  \n",
      "2                  NaN              1.0    Activo  \n",
      "3                  NaN              1.0    Activo  \n",
      "4                  NaN              1.0    Activo  \n",
      "\n",
      "[5 rows x 37 columns]\n",
      "             Indice  Proyecto          Edad   Codigo Sexo    Antiguedad  \\\n",
      "count  24694.000000       0.0  24694.000000  24694.000000  24694.000000   \n",
      "mean   35338.604236       NaN     43.427108      4.786750     15.888110   \n",
      "std    18943.511865       NaN      6.827488      2.143469      7.539719   \n",
      "min        1.000000       NaN     18.000000      1.000000      0.000000   \n",
      "25%    22234.250000       NaN     40.000000      6.000000     11.000000   \n",
      "50%    44211.500000       NaN     43.000000      6.000000     17.000000   \n",
      "75%    50743.750000       NaN     47.000000      6.000000     21.000000   \n",
      "max    61059.000000       NaN     83.000000      6.000000     52.000000   \n",
      "\n",
      "       Codigo Componente  Codigo Tipo de curso  Codigo Formato Curso  \\\n",
      "count       24537.000000           24694.00000          24694.000000   \n",
      "mean            8.958104               2.10128              2.955779   \n",
      "std             0.484893               0.33792              0.212754   \n",
      "min             3.000000               1.00000              1.000000   \n",
      "25%             9.000000               2.00000              3.000000   \n",
      "50%             9.000000               2.00000              3.000000   \n",
      "75%             9.000000               2.00000              3.000000   \n",
      "max             9.000000               3.00000              3.000000   \n",
      "\n",
      "       Codigo Estado  Codigo Concluyo   Codigo Area  Costo llamado  Cantidad  \\\n",
      "count   24694.000000     24694.000000  24694.000000   2.469400e+04   24694.0   \n",
      "mean        2.685632         2.685632      4.850551   6.849418e+05       1.0   \n",
      "std         2.363690         2.363690      1.280939   1.796866e+06       0.0   \n",
      "min         1.000000         1.000000      1.200000   6.871500e+04       1.0   \n",
      "25%         1.000000         1.000000      5.300000   1.093850e+05       1.0   \n",
      "50%         1.000000         1.000000      5.300000   3.112140e+05       1.0   \n",
      "75%         6.000000         6.000000      5.300000   6.154830e+05       1.0   \n",
      "max         6.000000         6.000000      5.300000   3.200000e+07       1.0   \n",
      "\n",
      "       Codigo Rol/puesto efectivo  Cantidad institucion  Codigo Condicion  \n",
      "count                24694.000000          13790.000000      24691.000000  \n",
      "mean                     8.309549              1.815591          1.177393  \n",
      "std                     25.330644              1.499342          3.013612  \n",
      "min                      1.000000              0.000000          1.000000  \n",
      "25%                      1.000000              1.000000          1.000000  \n",
      "50%                      1.000000              1.000000          1.000000  \n",
      "75%                      1.000000              2.000000          1.000000  \n",
      "max                     99.000000             14.000000         99.000000  \n"
     ]
    }
   ],
   "source": [
    "import pandas as pd\n",
    "\n",
    "# Cargar el archivo Excel\n",
    "archivo_excel = '../data/uepp/capacitaciones.xlsx'\n",
    "\n",
    "# Leer todas las hojas en un diccionario\n",
    "hojas = pd.read_excel(archivo_excel, sheet_name=None)\n",
    "\n",
    "# 'hojas' es un diccionario donde las claves son los nombres de las hojas y los valores son DataFrames\n",
    "for nombre_hoja, contenido in hojas.items():\n",
    "    if nombre_hoja == 'CAPACITACIONES':\n",
    "        print(f\"Hoja: {nombre_hoja}\")\n",
    "        print(contenido.head())  # Muestra las primeras filas de la hoja CAPACITACIONES\n",
    "\n",
    "# Acceder al DataFrame de la hoja 'CAPACITACIONES'\n",
    "df = hojas['CAPACITACIONES']\n",
    "\n",
    "# Aplicar describe() al DataFrame de la hoja 'CAPACITACIONES'\n",
    "print(df.describe())"
   ]
  },
  {
   "cell_type": "code",
   "execution_count": 2,
   "metadata": {},
   "outputs": [
    {
     "name": "stdout",
     "output_type": "stream",
     "text": [
      "<class 'pandas.core.frame.DataFrame'>\n",
      "RangeIndex: 24694 entries, 0 to 24693\n",
      "Data columns (total 37 columns):\n",
      " #   Column                       Non-Null Count  Dtype  \n",
      "---  ------                       --------------  -----  \n",
      " 0   Indice                       24694 non-null  int64  \n",
      " 1   Proyecto                     0 non-null      float64\n",
      " 2   Cedula                       24694 non-null  object \n",
      " 3   Nombres y Apellidos          24694 non-null  object \n",
      " 4   Fecha de Nacimiento          24694 non-null  object \n",
      " 5   Edad                         24694 non-null  int64  \n",
      " 6   Codigo Sexo                  24694 non-null  int64  \n",
      " 7   Sexo                         24694 non-null  object \n",
      " 8   Fecha de Ingreso al MEC      24484 non-null  object \n",
      " 9   Antiguedad                   24694 non-null  int64  \n",
      " 10  Codigo Componente            24537 non-null  float64\n",
      " 11  Componente                   24537 non-null  object \n",
      " 12  Codigo Tipo de curso         24694 non-null  int64  \n",
      " 13  Tipo de curso                24694 non-null  object \n",
      " 14  Nombre del curso             24694 non-null  object \n",
      " 15  Codigo Formato Curso         24694 non-null  int64  \n",
      " 16  Formato Curso                24694 non-null  object \n",
      " 17  Cantidad hora                24694 non-null  object \n",
      " 18  Institucion Formadora        24694 non-null  object \n",
      " 19  Distrito                     24694 non-null  object \n",
      " 20  Departamento                 24694 non-null  object \n",
      " 21  Fecha Inicio                 24694 non-null  object \n",
      " 22  Fin de curso                 16583 non-null  object \n",
      " 23  Codigo Estado                24694 non-null  int64  \n",
      " 24  Estado                       24694 non-null  object \n",
      " 25  Codigo Concluyo              24694 non-null  int64  \n",
      " 26  Concluyo                     24694 non-null  object \n",
      " 27  Codigo Area                  24694 non-null  float64\n",
      " 28  Area                         24694 non-null  object \n",
      " 29  Resolucion/Nro. de Contrato  21922 non-null  object \n",
      " 30  Costo llamado                24694 non-null  int64  \n",
      " 31  Cantidad                     24694 non-null  int64  \n",
      " 32  Codigo Rol/puesto efectivo   24694 non-null  int64  \n",
      " 33  Rol/puesto efectivo          24694 non-null  object \n",
      " 34  Cantidad institucion         13790 non-null  float64\n",
      " 35  Codigo Condicion             24691 non-null  float64\n",
      " 36  Condicion                    24691 non-null  object \n",
      "dtypes: float64(5), int64(11), object(21)\n",
      "memory usage: 7.0+ MB\n",
      "None\n"
     ]
    }
   ],
   "source": [
    "print(df.info())"
   ]
  },
  {
   "cell_type": "code",
   "execution_count": 3,
   "metadata": {},
   "outputs": [
    {
     "name": "stdout",
     "output_type": "stream",
     "text": [
      "Número de registros duplicados: 0\n"
     ]
    },
    {
     "data": {
      "text/html": [
       "<div>\n",
       "<style scoped>\n",
       "    .dataframe tbody tr th:only-of-type {\n",
       "        vertical-align: middle;\n",
       "    }\n",
       "\n",
       "    .dataframe tbody tr th {\n",
       "        vertical-align: top;\n",
       "    }\n",
       "\n",
       "    .dataframe thead th {\n",
       "        text-align: right;\n",
       "    }\n",
       "</style>\n",
       "<table border=\"1\" class=\"dataframe\">\n",
       "  <thead>\n",
       "    <tr style=\"text-align: right;\">\n",
       "      <th></th>\n",
       "      <th>Indice</th>\n",
       "      <th>Proyecto</th>\n",
       "      <th>Cedula</th>\n",
       "      <th>Nombres y Apellidos</th>\n",
       "      <th>Fecha de Nacimiento</th>\n",
       "      <th>Edad</th>\n",
       "      <th>Codigo Sexo</th>\n",
       "      <th>Sexo</th>\n",
       "      <th>Fecha de Ingreso al MEC</th>\n",
       "      <th>Antiguedad</th>\n",
       "      <th>...</th>\n",
       "      <th>Codigo Area</th>\n",
       "      <th>Area</th>\n",
       "      <th>Resolucion/Nro. de Contrato</th>\n",
       "      <th>Costo llamado</th>\n",
       "      <th>Cantidad</th>\n",
       "      <th>Codigo Rol/puesto efectivo</th>\n",
       "      <th>Rol/puesto efectivo</th>\n",
       "      <th>Cantidad institucion</th>\n",
       "      <th>Codigo Condicion</th>\n",
       "      <th>Condicion</th>\n",
       "    </tr>\n",
       "  </thead>\n",
       "  <tbody>\n",
       "    <tr>\n",
       "      <th>0</th>\n",
       "      <td>1</td>\n",
       "      <td>NaN</td>\n",
       "      <td>3550531</td>\n",
       "      <td>CIRIO TOMAS LARA MONTIEL</td>\n",
       "      <td>21/12/1980</td>\n",
       "      <td>42</td>\n",
       "      <td>1</td>\n",
       "      <td>Masculino</td>\n",
       "      <td>01/03/2005</td>\n",
       "      <td>18</td>\n",
       "      <td>...</td>\n",
       "      <td>5.3</td>\n",
       "      <td>Educacion</td>\n",
       "      <td>RES. DGIFPTN N° 257/17</td>\n",
       "      <td>139551</td>\n",
       "      <td>1</td>\n",
       "      <td>1</td>\n",
       "      <td>Docente aula</td>\n",
       "      <td>NaN</td>\n",
       "      <td>1.0</td>\n",
       "      <td>Activo</td>\n",
       "    </tr>\n",
       "    <tr>\n",
       "      <th>1</th>\n",
       "      <td>2</td>\n",
       "      <td>NaN</td>\n",
       "      <td>4191819</td>\n",
       "      <td>HUGO JAVIER MARIN</td>\n",
       "      <td>18/02/1985</td>\n",
       "      <td>38</td>\n",
       "      <td>1</td>\n",
       "      <td>Masculino</td>\n",
       "      <td>01/05/2008</td>\n",
       "      <td>15</td>\n",
       "      <td>...</td>\n",
       "      <td>5.3</td>\n",
       "      <td>Educacion</td>\n",
       "      <td>RES. DGIFPTN N° 257/17</td>\n",
       "      <td>139551</td>\n",
       "      <td>1</td>\n",
       "      <td>1</td>\n",
       "      <td>Docente aula</td>\n",
       "      <td>NaN</td>\n",
       "      <td>1.0</td>\n",
       "      <td>Activo</td>\n",
       "    </tr>\n",
       "    <tr>\n",
       "      <th>2</th>\n",
       "      <td>3</td>\n",
       "      <td>NaN</td>\n",
       "      <td>2477227</td>\n",
       "      <td>MARIA ELISA NOCEDA SOSA</td>\n",
       "      <td>15/01/1975</td>\n",
       "      <td>48</td>\n",
       "      <td>6</td>\n",
       "      <td>Femenino</td>\n",
       "      <td>01/03/2000</td>\n",
       "      <td>23</td>\n",
       "      <td>...</td>\n",
       "      <td>5.3</td>\n",
       "      <td>Educacion</td>\n",
       "      <td>RES. DGIFPTN N° 257/17</td>\n",
       "      <td>139551</td>\n",
       "      <td>1</td>\n",
       "      <td>2</td>\n",
       "      <td>Personal fuera de aula en IE</td>\n",
       "      <td>NaN</td>\n",
       "      <td>1.0</td>\n",
       "      <td>Activo</td>\n",
       "    </tr>\n",
       "    <tr>\n",
       "      <th>3</th>\n",
       "      <td>4</td>\n",
       "      <td>NaN</td>\n",
       "      <td>3531698</td>\n",
       "      <td>ROCIO SOLEDAD NOGUERA BAEZ</td>\n",
       "      <td>31/12/1980</td>\n",
       "      <td>42</td>\n",
       "      <td>6</td>\n",
       "      <td>Femenino</td>\n",
       "      <td>01/10/2005</td>\n",
       "      <td>18</td>\n",
       "      <td>...</td>\n",
       "      <td>5.3</td>\n",
       "      <td>Educacion</td>\n",
       "      <td>RES. DGIFPTN N° 257/17</td>\n",
       "      <td>139551</td>\n",
       "      <td>1</td>\n",
       "      <td>1</td>\n",
       "      <td>Docente aula</td>\n",
       "      <td>NaN</td>\n",
       "      <td>1.0</td>\n",
       "      <td>Activo</td>\n",
       "    </tr>\n",
       "    <tr>\n",
       "      <th>4</th>\n",
       "      <td>5</td>\n",
       "      <td>NaN</td>\n",
       "      <td>5229521</td>\n",
       "      <td>FELICIANO ORTIZ ORTIZ</td>\n",
       "      <td>21/02/1995</td>\n",
       "      <td>28</td>\n",
       "      <td>1</td>\n",
       "      <td>Masculino</td>\n",
       "      <td>01/05/2017</td>\n",
       "      <td>6</td>\n",
       "      <td>...</td>\n",
       "      <td>5.3</td>\n",
       "      <td>Educacion</td>\n",
       "      <td>RES. DGIFPTN N° 257/17</td>\n",
       "      <td>139551</td>\n",
       "      <td>1</td>\n",
       "      <td>1</td>\n",
       "      <td>Docente aula</td>\n",
       "      <td>NaN</td>\n",
       "      <td>1.0</td>\n",
       "      <td>Activo</td>\n",
       "    </tr>\n",
       "  </tbody>\n",
       "</table>\n",
       "<p>5 rows × 37 columns</p>\n",
       "</div>"
      ],
      "text/plain": [
       "   Indice  Proyecto   Cedula         Nombres y Apellidos Fecha de Nacimiento  \\\n",
       "0       1       NaN  3550531    CIRIO TOMAS LARA MONTIEL          21/12/1980   \n",
       "1       2       NaN  4191819           HUGO JAVIER MARIN          18/02/1985   \n",
       "2       3       NaN  2477227     MARIA ELISA NOCEDA SOSA          15/01/1975   \n",
       "3       4       NaN  3531698  ROCIO SOLEDAD NOGUERA BAEZ          31/12/1980   \n",
       "4       5       NaN  5229521       FELICIANO ORTIZ ORTIZ          21/02/1995   \n",
       "\n",
       "   Edad  Codigo Sexo       Sexo Fecha de Ingreso al MEC  Antiguedad  ...  \\\n",
       "0    42            1  Masculino              01/03/2005          18  ...   \n",
       "1    38            1  Masculino              01/05/2008          15  ...   \n",
       "2    48            6   Femenino              01/03/2000          23  ...   \n",
       "3    42            6   Femenino              01/10/2005          18  ...   \n",
       "4    28            1  Masculino              01/05/2017           6  ...   \n",
       "\n",
       "   Codigo Area       Area  Resolucion/Nro. de Contrato Costo llamado Cantidad  \\\n",
       "0          5.3  Educacion       RES. DGIFPTN N° 257/17        139551        1   \n",
       "1          5.3  Educacion       RES. DGIFPTN N° 257/17        139551        1   \n",
       "2          5.3  Educacion       RES. DGIFPTN N° 257/17        139551        1   \n",
       "3          5.3  Educacion       RES. DGIFPTN N° 257/17        139551        1   \n",
       "4          5.3  Educacion       RES. DGIFPTN N° 257/17        139551        1   \n",
       "\n",
       "   Codigo Rol/puesto efectivo           Rol/puesto efectivo  \\\n",
       "0                           1                  Docente aula   \n",
       "1                           1                  Docente aula   \n",
       "2                           2  Personal fuera de aula en IE   \n",
       "3                           1                  Docente aula   \n",
       "4                           1                  Docente aula   \n",
       "\n",
       "  Cantidad institucion Codigo Condicion Condicion  \n",
       "0                  NaN              1.0    Activo  \n",
       "1                  NaN              1.0    Activo  \n",
       "2                  NaN              1.0    Activo  \n",
       "3                  NaN              1.0    Activo  \n",
       "4                  NaN              1.0    Activo  \n",
       "\n",
       "[5 rows x 37 columns]"
      ]
     },
     "execution_count": 3,
     "metadata": {},
     "output_type": "execute_result"
    }
   ],
   "source": [
    "# Identificar duplicados\n",
    "duplicados = df.duplicated()\n",
    "# Contar el número de duplicados\n",
    "num_duplicados = duplicados.sum()\n",
    "print(f\"Número de registros duplicados: {num_duplicados}\")\n",
    "df.head()"
   ]
  },
  {
   "cell_type": "code",
   "execution_count": 21,
   "metadata": {},
   "outputs": [
    {
     "name": "stdout",
     "output_type": "stream",
     "text": [
      "Columna 'Nº' convertida a float64 exitosamente.\n",
      "Columna 'SNIP' convertida a float64 exitosamente.\n",
      "Columna 'Proyecto' convertida a object exitosamente.\n",
      "Columna 'Codigo de Establecimiento' convertida a float64 exitosamente.\n",
      "Columna 'Codigo de Institucion' convertida a float64 exitosamente.\n",
      "Columna 'Establecimiento' convertida a object exitosamente.\n",
      "Columna 'Departamento' convertida a object exitosamente.\n",
      "Columna 'Distrito' convertida a object exitosamente.\n",
      "Columna 'Categoria' convertida a object exitosamente.\n",
      "Columna 'Latitud' convertida a object exitosamente.\n",
      "Columna 'Longitud' convertida a object exitosamente.\n",
      "Columna 'Sector' convertida a object exitosamente.\n",
      "Columna 'Tipo Zona' convertida a object exitosamente.\n",
      "Columna 'CAI' convertida a object exitosamente.\n",
      "Columna 'Indigena' convertida a object exitosamente.\n",
      "Columna 'Licitacion 1' convertida a object exitosamente.\n",
      "Columna 'ID 1' convertida a float64 exitosamente.\n",
      "Columna 'Empresa 1' convertida a object exitosamente.\n",
      "Columna 'Fecha Contrato 1' convertida a object exitosamente.\n",
      "Columna 'Numero Lote 1' convertida a float64 exitosamente.\n",
      "Columna 'Monto Adjudicado 1' convertida a float64 exitosamente.\n",
      "Columna 'Monto Anticipo 1' convertida a float64 exitosamente.\n",
      "Columna 'Pago1 1' convertida a float64 exitosamente.\n",
      "Columna 'Pago1 2' convertida a float64 exitosamente.\n",
      "Columna 'Adenda Contrato 1' convertida a float64 exitosamente.\n",
      "Columna 'Licitacion 2' convertida a float64 exitosamente.\n",
      "Columna 'ID 2' convertida a float64 exitosamente.\n",
      "Columna 'Empresa 2' convertida a object exitosamente.\n",
      "Columna 'Fecha Contrato 2' convertida a object exitosamente.\n",
      "Columna 'Numero Lote 2' convertida a float64 exitosamente.\n",
      "Columna 'Monto Adjudicado 2' convertida a float64 exitosamente.\n",
      "Columna 'Monto Anticipo 2' convertida a float64 exitosamente.\n",
      "Columna 'Pago2 1' convertida a float64 exitosamente.\n",
      "Columna 'Pago2 2' convertida a float64 exitosamente.\n",
      "Columna 'Adenda Contrato 2' convertida a float64 exitosamente.\n",
      "Columna 'Cantidad Notebook Tipologia' convertida a float64 exitosamente.\n",
      "Columna 'Tipologia Notebook' convertida a object exitosamente.\n",
      "Columna 'Costo Tipologia' convertida a float64 exitosamente.\n",
      "Columna 'Cantidad Notebook' convertida a int64 exitosamente.\n",
      "Columna 'Cantidad Impresora' convertida a int64 exitosamente.\n",
      "Columna 'Cantidad Proyector' convertida a int64 exitosamente.\n",
      "Columna 'Cantidad Carrito' convertida a int64 exitosamente.\n",
      "Columna 'Cantidad AP' convertida a int64 exitosamente.\n",
      "Columna 'Cantidad Router' convertida a int64 exitosamente.\n",
      "Columna 'Cantidad UPS' convertida a int64 exitosamente.\n",
      "Columna 'Cantidad Servidor' convertida a int64 exitosamente.\n",
      "Columna 'Cantidad Software' convertida a int64 exitosamente.\n",
      "Columna 'Cantidad Tablet' convertida a int64 exitosamente.\n",
      "Columna 'Cantidad TV' convertida a int64 exitosamente.\n",
      "Columna 'Cantidad Amplificador' convertida a int64 exitosamente.\n",
      "Columna 'Fecha Acta Engrega' convertida a object exitosamente.\n",
      "Columna 'Tiene Seguro' convertida a float64 exitosamente.\n",
      "Columna 'Matricula del Local Escolar' convertida a float64 exitosamente.\n",
      "Columna 'Cantidad de Instituciones' convertida a float64 exitosamente.\n",
      "Columna 'Educacion Inicial' convertida a float64 exitosamente.\n",
      "Columna 'Educacion Escolar Basica' convertida a float64 exitosamente.\n",
      "Columna 'Educacion Media' convertida a float64 exitosamente.\n",
      "Columna 'Educacion Permanente' convertida a float64 exitosamente.\n",
      "Nº                             float64\n",
      "SNIP                           float64\n",
      "Proyecto                        object\n",
      "Codigo de Establecimiento      float64\n",
      "Codigo de Institucion          float64\n",
      "Establecimiento                 object\n",
      "Departamento                    object\n",
      "Distrito                        object\n",
      "Categoria                       object\n",
      "Latitud                         object\n",
      "Longitud                        object\n",
      "Sector                          object\n",
      "Tipo Zona                       object\n",
      "CAI                             object\n",
      "Indigena                        object\n",
      "Licitacion 1                    object\n",
      "ID 1                           float64\n",
      "Empresa 1                       object\n",
      "Fecha Contrato 1                object\n",
      "Numero Lote 1                  float64\n",
      "Monto Adjudicado 1             float64\n",
      "Monto Anticipo 1               float64\n",
      "Pago1 1                        float64\n",
      "Pago1 2                        float64\n",
      "Adenda Contrato 1              float64\n",
      "Licitacion 2                   float64\n",
      "ID 2                           float64\n",
      "Empresa 2                       object\n",
      "Fecha Contrato 2                object\n",
      "Numero Lote 2                  float64\n",
      "Monto Adjudicado 2             float64\n",
      "Monto Anticipo 2               float64\n",
      "Pago2 1                        float64\n",
      "Pago2 2                        float64\n",
      "Adenda Contrato 2              float64\n",
      "Cantidad Notebook Tipologia    float64\n",
      "Tipologia Notebook              object\n",
      "Costo Tipologia                float64\n",
      "Cantidad Notebook                int64\n",
      "Cantidad Impresora               int64\n",
      "Cantidad Proyector               int64\n",
      "Cantidad Carrito                 int64\n",
      "Cantidad AP                      int64\n",
      "Cantidad Router                  int64\n",
      "Cantidad UPS                     int64\n",
      "Cantidad Servidor                int64\n",
      "Cantidad Software                int64\n",
      "Cantidad Tablet                  int64\n",
      "Cantidad TV                      int64\n",
      "Cantidad Amplificador            int64\n",
      "Fecha Acta Engrega              object\n",
      "Tiene Seguro                   float64\n",
      "Matricula del Local Escolar    float64\n",
      "Cantidad de Instituciones      float64\n",
      "Educacion Inicial              float64\n",
      "Educacion Escolar Basica       float64\n",
      "Educacion Media                float64\n",
      "Educacion Permanente           float64\n",
      "dtype: object\n"
     ]
    }
   ],
   "source": [
    "import pandas as pd\n",
    "\n",
    "# Definir los tipos de datos esperados según el diccionario de datos\n",
    "tipos_datos_esperados = {\n",
    "    'Nº': 'float64',\n",
    "    'SNIP': 'float64',\n",
    "    'Proyecto': 'object',\n",
    "    'Codigo de Establecimiento': 'float64',\n",
    "    'Codigo de Institucion': 'float64',\n",
    "    'Establecimiento': 'object',\n",
    "    'Departamento': 'object',\n",
    "    'Distrito': 'object',\n",
    "    'Categoria': 'object',\n",
    "    'Latitud': 'object',\n",
    "    'Longitud': 'object',\n",
    "    'Sector': 'object',\n",
    "    'Tipo Zona': 'object',\n",
    "    'CAI': 'object',\n",
    "    'Indigena': 'object',\n",
    "    'Licitacion 1': 'object',\n",
    "    'ID 1': 'float64',\n",
    "    'Empresa 1': 'object',\n",
    "    'Fecha Contrato 1': 'object',\n",
    "    'Numero Lote 1': 'float64',\n",
    "    'Monto Adjudicado 1': 'float64',\n",
    "    'Monto Anticipo 1': 'float64',\n",
    "    'Pago1 1': 'float64',\n",
    "    'Pago1 2': 'float64',\n",
    "    'Adenda Contrato 1': 'float64',\n",
    "    'Licitacion 2': 'float64',\n",
    "    'ID 2': 'float64',\n",
    "    'Empresa 2': 'object',\n",
    "    'Fecha Contrato 2': 'object',\n",
    "    'Numero Lote 2': 'float64',\n",
    "    'Monto Adjudicado 2': 'float64',\n",
    "    'Monto Anticipo 2': 'float64',\n",
    "    'Pago2 1': 'float64',\n",
    "    'Pago2 2': 'float64',\n",
    "    'Adenda Contrato 2': 'float64',\n",
    "    'Cantidad Notebook Tipologia': 'float64',\n",
    "    'Tipologia Notebook': 'object',\n",
    "    'Costo Tipologia': 'float64',\n",
    "    'Cantidad Notebook': 'int64',\n",
    "    'Cantidad Impresora': 'int64',\n",
    "    'Cantidad Proyector': 'int64',\n",
    "    'Cantidad Carrito': 'int64',\n",
    "    'Cantidad AP': 'int64',\n",
    "    'Cantidad Router': 'int64',\n",
    "    'Cantidad UPS': 'int64',\n",
    "    'Cantidad Servidor': 'int64',\n",
    "    'Cantidad Software': 'int64',\n",
    "    'Cantidad Tablet': 'int64',\n",
    "    'Cantidad TV': 'int64',\n",
    "    'Cantidad Amplificador': 'int64',\n",
    "    'Fecha Acta Engrega': 'object',\n",
    "    'Tiene Seguro': 'float64',\n",
    "    'Matricula del Local Escolar': 'float64',\n",
    "    'Cantidad de Instituciones': 'float64',\n",
    "    'Educacion Inicial': 'float64',\n",
    "    'Educacion Escolar Basica': 'float64',\n",
    "    'Educacion Media': 'float64',\n",
    "    'Educacion Permanente': 'float64'\n",
    "}\n",
    "\n",
    "# Leer el archivo Excel\n",
    "#archivo_excel = 'tu_archivo.xlsx'\n",
    "#df = pd.read_excel(archivo_excel)\n",
    "\n",
    "# Intentar convertir las columnas a los tipos indicados\n",
    "for columna, tipo in tipos_datos_esperados.items():\n",
    "    try:\n",
    "        df[columna] = df[columna].astype(tipo)\n",
    "        print(f\"Columna '{columna}' convertida a {tipo} exitosamente.\")\n",
    "    except Exception as e:\n",
    "        print(f\"Error al convertir la columna '{columna}' a {tipo}: {e}\")\n",
    "\n",
    "# Verificar los tipos de datos finales\n",
    "print(df.dtypes)\n"
   ]
  },
  {
   "cell_type": "code",
   "execution_count": 35,
   "metadata": {},
   "outputs": [],
   "source": [
    "df['Fecha Contrato 1'] = pd.to_datetime(df['Fecha Contrato 1'], errors='coerce')\n",
    "\n"
   ]
  },
  {
   "cell_type": "code",
   "execution_count": 36,
   "metadata": {},
   "outputs": [],
   "source": [
    "# Convertir la columna 'Proyecto' a tipo string\n",
    "df['Proyecto'] = df['Proyecto'].astype(str)\n"
   ]
  },
  {
   "cell_type": "code",
   "execution_count": 4,
   "metadata": {},
   "outputs": [
    {
     "name": "stdout",
     "output_type": "stream",
     "text": [
      "<class 'pandas.core.frame.DataFrame'>\n",
      "RangeIndex: 24694 entries, 0 to 24693\n",
      "Data columns (total 37 columns):\n",
      " #   Column                       Non-Null Count  Dtype  \n",
      "---  ------                       --------------  -----  \n",
      " 0   Indice                       24694 non-null  int64  \n",
      " 1   Proyecto                     0 non-null      float64\n",
      " 2   Cedula                       24694 non-null  object \n",
      " 3   Nombres y Apellidos          24694 non-null  object \n",
      " 4   Fecha de Nacimiento          24694 non-null  object \n",
      " 5   Edad                         24694 non-null  int64  \n",
      " 6   Codigo Sexo                  24694 non-null  int64  \n",
      " 7   Sexo                         24694 non-null  object \n",
      " 8   Fecha de Ingreso al MEC      24484 non-null  object \n",
      " 9   Antiguedad                   24694 non-null  int64  \n",
      " 10  Codigo Componente            24537 non-null  float64\n",
      " 11  Componente                   24537 non-null  object \n",
      " 12  Codigo Tipo de curso         24694 non-null  int64  \n",
      " 13  Tipo de curso                24694 non-null  object \n",
      " 14  Nombre del curso             24694 non-null  object \n",
      " 15  Codigo Formato Curso         24694 non-null  int64  \n",
      " 16  Formato Curso                24694 non-null  object \n",
      " 17  Cantidad hora                24694 non-null  object \n",
      " 18  Institucion Formadora        24694 non-null  object \n",
      " 19  Distrito                     24694 non-null  object \n",
      " 20  Departamento                 24694 non-null  object \n",
      " 21  Fecha Inicio                 24694 non-null  object \n",
      " 22  Fin de curso                 16583 non-null  object \n",
      " 23  Codigo Estado                24694 non-null  int64  \n",
      " 24  Estado                       24694 non-null  object \n",
      " 25  Codigo Concluyo              24694 non-null  int64  \n",
      " 26  Concluyo                     24694 non-null  object \n",
      " 27  Codigo Area                  24694 non-null  float64\n",
      " 28  Area                         24694 non-null  object \n",
      " 29  Resolucion/Nro. de Contrato  21922 non-null  object \n",
      " 30  Costo llamado                24694 non-null  int64  \n",
      " 31  Cantidad                     24694 non-null  int64  \n",
      " 32  Codigo Rol/puesto efectivo   24694 non-null  int64  \n",
      " 33  Rol/puesto efectivo          24694 non-null  object \n",
      " 34  Cantidad institucion         13790 non-null  float64\n",
      " 35  Codigo Condicion             24691 non-null  float64\n",
      " 36  Condicion                    24691 non-null  object \n",
      "dtypes: float64(5), int64(11), object(21)\n",
      "memory usage: 7.0+ MB\n",
      "None\n"
     ]
    }
   ],
   "source": [
    "print(df.info())"
   ]
  },
  {
   "cell_type": "code",
   "execution_count": 6,
   "metadata": {},
   "outputs": [
    {
     "name": "stdout",
     "output_type": "stream",
     "text": [
      "    Departamento  Costo llamado  Cantidad\n",
      "0  ALTO PARAGUAY      153591663       164\n",
      "1    ALTO PARANA      751042780      1821\n",
      "2    ALTO PARANÁ      110139855        15\n",
      "3        AMAMBAY      339574342       382\n",
      "4  Alto Paraguay         130548         1\n"
     ]
    },
    {
     "data": {
      "application/vnd.plotly.v1+json": {
       "config": {
        "plotlyServerURL": "https://plot.ly"
       },
       "data": [
        {
         "hovertemplate": "Departamento=ALTO PARAGUAY<br>Monto Adjudicado=%{x}<br>Cantidad=%{y}<extra></extra>",
         "legendgroup": "ALTO PARAGUAY",
         "marker": {
          "color": "#636efa",
          "symbol": "circle"
         },
         "mode": "markers",
         "name": "ALTO PARAGUAY",
         "orientation": "v",
         "showlegend": true,
         "type": "scatter",
         "x": [
          153591663
         ],
         "xaxis": "x",
         "y": [
          164
         ],
         "yaxis": "y"
        },
        {
         "hovertemplate": "Departamento=ALTO PARANA<br>Monto Adjudicado=%{x}<br>Cantidad=%{y}<extra></extra>",
         "legendgroup": "ALTO PARANA",
         "marker": {
          "color": "#EF553B",
          "symbol": "circle"
         },
         "mode": "markers",
         "name": "ALTO PARANA",
         "orientation": "v",
         "showlegend": true,
         "type": "scatter",
         "x": [
          751042780
         ],
         "xaxis": "x",
         "y": [
          1821
         ],
         "yaxis": "y"
        },
        {
         "hovertemplate": "Departamento=ALTO PARANÁ<br>Monto Adjudicado=%{x}<br>Cantidad=%{y}<extra></extra>",
         "legendgroup": "ALTO PARANÁ",
         "marker": {
          "color": "#00cc96",
          "symbol": "circle"
         },
         "mode": "markers",
         "name": "ALTO PARANÁ",
         "orientation": "v",
         "showlegend": true,
         "type": "scatter",
         "x": [
          110139855
         ],
         "xaxis": "x",
         "y": [
          15
         ],
         "yaxis": "y"
        },
        {
         "hovertemplate": "Departamento=AMAMBAY<br>Monto Adjudicado=%{x}<br>Cantidad=%{y}<extra></extra>",
         "legendgroup": "AMAMBAY",
         "marker": {
          "color": "#ab63fa",
          "symbol": "circle"
         },
         "mode": "markers",
         "name": "AMAMBAY",
         "orientation": "v",
         "showlegend": true,
         "type": "scatter",
         "x": [
          339574342
         ],
         "xaxis": "x",
         "y": [
          382
         ],
         "yaxis": "y"
        },
        {
         "hovertemplate": "Departamento=Alto Paraguay<br>Monto Adjudicado=%{x}<br>Cantidad=%{y}<extra></extra>",
         "legendgroup": "Alto Paraguay",
         "marker": {
          "color": "#FFA15A",
          "symbol": "circle"
         },
         "mode": "markers",
         "name": "Alto Paraguay",
         "orientation": "v",
         "showlegend": true,
         "type": "scatter",
         "x": [
          130548
         ],
         "xaxis": "x",
         "y": [
          1
         ],
         "yaxis": "y"
        },
        {
         "hovertemplate": "Departamento=Alto Parana<br>Monto Adjudicado=%{x}<br>Cantidad=%{y}<extra></extra>",
         "legendgroup": "Alto Parana",
         "marker": {
          "color": "#19d3f3",
          "symbol": "circle"
         },
         "mode": "markers",
         "name": "Alto Parana",
         "orientation": "v",
         "showlegend": true,
         "type": "scatter",
         "x": [
          68715
         ],
         "xaxis": "x",
         "y": [
          1
         ],
         "yaxis": "y"
        },
        {
         "hovertemplate": "Departamento=Alto paraguay<br>Monto Adjudicado=%{x}<br>Cantidad=%{y}<extra></extra>",
         "legendgroup": "Alto paraguay",
         "marker": {
          "color": "#FF6692",
          "symbol": "circle"
         },
         "mode": "markers",
         "name": "Alto paraguay",
         "orientation": "v",
         "showlegend": true,
         "type": "scatter",
         "x": [
          7049592
         ],
         "xaxis": "x",
         "y": [
          54
         ],
         "yaxis": "y"
        },
        {
         "hovertemplate": "Departamento=Amambay<br>Monto Adjudicado=%{x}<br>Cantidad=%{y}<extra></extra>",
         "legendgroup": "Amambay",
         "marker": {
          "color": "#B6E880",
          "symbol": "circle"
         },
         "mode": "markers",
         "name": "Amambay",
         "orientation": "v",
         "showlegend": true,
         "type": "scatter",
         "x": [
          14119822
         ],
         "xaxis": "x",
         "y": [
          121
         ],
         "yaxis": "y"
        },
        {
         "hovertemplate": "Departamento=BOQUERÓN<br>Monto Adjudicado=%{x}<br>Cantidad=%{y}<extra></extra>",
         "legendgroup": "BOQUERÓN",
         "marker": {
          "color": "#FF97FF",
          "symbol": "circle"
         },
         "mode": "markers",
         "name": "BOQUERÓN",
         "orientation": "v",
         "showlegend": true,
         "type": "scatter",
         "x": [
          14685314
         ],
         "xaxis": "x",
         "y": [
          2
         ],
         "yaxis": "y"
        },
        {
         "hovertemplate": "Departamento=Boqueron<br>Monto Adjudicado=%{x}<br>Cantidad=%{y}<extra></extra>",
         "legendgroup": "Boqueron",
         "marker": {
          "color": "#FECB52",
          "symbol": "circle"
         },
         "mode": "markers",
         "name": "Boqueron",
         "orientation": "v",
         "showlegend": true,
         "type": "scatter",
         "x": [
          189613393
         ],
         "xaxis": "x",
         "y": [
          430
         ],
         "yaxis": "y"
        },
        {
         "hovertemplate": "Departamento=CAAGUAZÚ<br>Monto Adjudicado=%{x}<br>Cantidad=%{y}<extra></extra>",
         "legendgroup": "CAAGUAZÚ",
         "marker": {
          "color": "#636efa",
          "symbol": "circle"
         },
         "mode": "markers",
         "name": "CAAGUAZÚ",
         "orientation": "v",
         "showlegend": true,
         "type": "scatter",
         "x": [
          80769227
         ],
         "xaxis": "x",
         "y": [
          11
         ],
         "yaxis": "y"
        },
        {
         "hovertemplate": "Departamento=CAAGUAZÚ <br>Monto Adjudicado=%{x}<br>Cantidad=%{y}<extra></extra>",
         "legendgroup": "CAAGUAZÚ ",
         "marker": {
          "color": "#EF553B",
          "symbol": "circle"
         },
         "mode": "markers",
         "name": "CAAGUAZÚ ",
         "orientation": "v",
         "showlegend": true,
         "type": "scatter",
         "x": [
          7342657
         ],
         "xaxis": "x",
         "y": [
          1
         ],
         "yaxis": "y"
        },
        {
         "hovertemplate": "Departamento=CAAZAPÁ<br>Monto Adjudicado=%{x}<br>Cantidad=%{y}<extra></extra>",
         "legendgroup": "CAAZAPÁ",
         "marker": {
          "color": "#00cc96",
          "symbol": "circle"
         },
         "mode": "markers",
         "name": "CAAZAPÁ",
         "orientation": "v",
         "showlegend": true,
         "type": "scatter",
         "x": [
          44055942
         ],
         "xaxis": "x",
         "y": [
          6
         ],
         "yaxis": "y"
        },
        {
         "hovertemplate": "Departamento=CANINDEYÚ<br>Monto Adjudicado=%{x}<br>Cantidad=%{y}<extra></extra>",
         "legendgroup": "CANINDEYÚ",
         "marker": {
          "color": "#ab63fa",
          "symbol": "circle"
         },
         "mode": "markers",
         "name": "CANINDEYÚ",
         "orientation": "v",
         "showlegend": true,
         "type": "scatter",
         "x": [
          36713285
         ],
         "xaxis": "x",
         "y": [
          5
         ],
         "yaxis": "y"
        },
        {
         "hovertemplate": "Departamento=CAPITAL<br>Monto Adjudicado=%{x}<br>Cantidad=%{y}<extra></extra>",
         "legendgroup": "CAPITAL",
         "marker": {
          "color": "#FFA15A",
          "symbol": "circle"
         },
         "mode": "markers",
         "name": "CAPITAL",
         "orientation": "v",
         "showlegend": true,
         "type": "scatter",
         "x": [
          1008493061
         ],
         "xaxis": "x",
         "y": [
          854
         ],
         "yaxis": "y"
        },
        {
         "hovertemplate": "Departamento=CENTRAL<br>Monto Adjudicado=%{x}<br>Cantidad=%{y}<extra></extra>",
         "legendgroup": "CENTRAL",
         "marker": {
          "color": "#19d3f3",
          "symbol": "circle"
         },
         "mode": "markers",
         "name": "CENTRAL",
         "orientation": "v",
         "showlegend": true,
         "type": "scatter",
         "x": [
          2779062422
         ],
         "xaxis": "x",
         "y": [
          4262
         ],
         "yaxis": "y"
        },
        {
         "hovertemplate": "Departamento=CENTRAL <br>Monto Adjudicado=%{x}<br>Cantidad=%{y}<extra></extra>",
         "legendgroup": "CENTRAL ",
         "marker": {
          "color": "#FF6692",
          "symbol": "circle"
         },
         "mode": "markers",
         "name": "CENTRAL ",
         "orientation": "v",
         "showlegend": true,
         "type": "scatter",
         "x": [
          30217160
         ],
         "xaxis": "x",
         "y": [
          20
         ],
         "yaxis": "y"
        },
        {
         "hovertemplate": "Departamento=CONCEPCION<br>Monto Adjudicado=%{x}<br>Cantidad=%{y}<extra></extra>",
         "legendgroup": "CONCEPCION",
         "marker": {
          "color": "#B6E880",
          "symbol": "circle"
         },
         "mode": "markers",
         "name": "CONCEPCION",
         "orientation": "v",
         "showlegend": true,
         "type": "scatter",
         "x": [
          570774683
         ],
         "xaxis": "x",
         "y": [
          1032
         ],
         "yaxis": "y"
        },
        {
         "hovertemplate": "Departamento=CONCEPCIÓN <br>Monto Adjudicado=%{x}<br>Cantidad=%{y}<extra></extra>",
         "legendgroup": "CONCEPCIÓN ",
         "marker": {
          "color": "#FF97FF",
          "symbol": "circle"
         },
         "mode": "markers",
         "name": "CONCEPCIÓN ",
         "orientation": "v",
         "showlegend": true,
         "type": "scatter",
         "x": [
          117482512
         ],
         "xaxis": "x",
         "y": [
          16
         ],
         "yaxis": "y"
        },
        {
         "hovertemplate": "Departamento=CORDILLERA<br>Monto Adjudicado=%{x}<br>Cantidad=%{y}<extra></extra>",
         "legendgroup": "CORDILLERA",
         "marker": {
          "color": "#FECB52",
          "symbol": "circle"
         },
         "mode": "markers",
         "name": "CORDILLERA",
         "orientation": "v",
         "showlegend": true,
         "type": "scatter",
         "x": [
          892414223
         ],
         "xaxis": "x",
         "y": [
          1027
         ],
         "yaxis": "y"
        },
        {
         "hovertemplate": "Departamento=Caaguazu<br>Monto Adjudicado=%{x}<br>Cantidad=%{y}<extra></extra>",
         "legendgroup": "Caaguazu",
         "marker": {
          "color": "#636efa",
          "symbol": "circle"
         },
         "mode": "markers",
         "name": "Caaguazu",
         "orientation": "v",
         "showlegend": true,
         "type": "scatter",
         "x": [
          1070876538
         ],
         "xaxis": "x",
         "y": [
          1741
         ],
         "yaxis": "y"
        },
        {
         "hovertemplate": "Departamento=Caazapa<br>Monto Adjudicado=%{x}<br>Cantidad=%{y}<extra></extra>",
         "legendgroup": "Caazapa",
         "marker": {
          "color": "#EF553B",
          "symbol": "circle"
         },
         "mode": "markers",
         "name": "Caazapa",
         "orientation": "v",
         "showlegend": true,
         "type": "scatter",
         "x": [
          565745996
         ],
         "xaxis": "x",
         "y": [
          766
         ],
         "yaxis": "y"
        },
        {
         "hovertemplate": "Departamento=Canindeyu<br>Monto Adjudicado=%{x}<br>Cantidad=%{y}<extra></extra>",
         "legendgroup": "Canindeyu",
         "marker": {
          "color": "#00cc96",
          "symbol": "circle"
         },
         "mode": "markers",
         "name": "Canindeyu",
         "orientation": "v",
         "showlegend": true,
         "type": "scatter",
         "x": [
          535168605
         ],
         "xaxis": "x",
         "y": [
          938
         ],
         "yaxis": "y"
        },
        {
         "hovertemplate": "Departamento=Capital<br>Monto Adjudicado=%{x}<br>Cantidad=%{y}<extra></extra>",
         "legendgroup": "Capital",
         "marker": {
          "color": "#ab63fa",
          "symbol": "circle"
         },
         "mode": "markers",
         "name": "Capital",
         "orientation": "v",
         "showlegend": true,
         "type": "scatter",
         "x": [
          1965837047
         ],
         "xaxis": "x",
         "y": [
          322
         ],
         "yaxis": "y"
        },
        {
         "hovertemplate": "Departamento=Capital <br>Monto Adjudicado=%{x}<br>Cantidad=%{y}<extra></extra>",
         "legendgroup": "Capital ",
         "marker": {
          "color": "#FFA15A",
          "symbol": "circle"
         },
         "mode": "markers",
         "name": "Capital ",
         "orientation": "v",
         "showlegend": true,
         "type": "scatter",
         "x": [
          55500000
         ],
         "xaxis": "x",
         "y": [
          37
         ],
         "yaxis": "y"
        },
        {
         "hovertemplate": "Departamento=Central<br>Monto Adjudicado=%{x}<br>Cantidad=%{y}<extra></extra>",
         "legendgroup": "Central",
         "marker": {
          "color": "#19d3f3",
          "symbol": "circle"
         },
         "mode": "markers",
         "name": "Central",
         "orientation": "v",
         "showlegend": true,
         "type": "scatter",
         "x": [
          119696325
         ],
         "xaxis": "x",
         "y": [
          1083
         ],
         "yaxis": "y"
        },
        {
         "hovertemplate": "Departamento=Central <br>Monto Adjudicado=%{x}<br>Cantidad=%{y}<extra></extra>",
         "legendgroup": "Central ",
         "marker": {
          "color": "#FF6692",
          "symbol": "circle"
         },
         "mode": "markers",
         "name": "Central ",
         "orientation": "v",
         "showlegend": true,
         "type": "scatter",
         "x": [
          2542455
         ],
         "xaxis": "x",
         "y": [
          37
         ],
         "yaxis": "y"
        },
        {
         "hovertemplate": "Departamento=Cordillera<br>Monto Adjudicado=%{x}<br>Cantidad=%{y}<extra></extra>",
         "legendgroup": "Cordillera",
         "marker": {
          "color": "#B6E880",
          "symbol": "circle"
         },
         "mode": "markers",
         "name": "Cordillera",
         "orientation": "v",
         "showlegend": true,
         "type": "scatter",
         "x": [
          715825186
         ],
         "xaxis": "x",
         "y": [
          1560
         ],
         "yaxis": "y"
        },
        {
         "hovertemplate": "Departamento=GUAIRÁ<br>Monto Adjudicado=%{x}<br>Cantidad=%{y}<extra></extra>",
         "legendgroup": "GUAIRÁ",
         "marker": {
          "color": "#FF97FF",
          "symbol": "circle"
         },
         "mode": "markers",
         "name": "GUAIRÁ",
         "orientation": "v",
         "showlegend": true,
         "type": "scatter",
         "x": [
          80769227
         ],
         "xaxis": "x",
         "y": [
          11
         ],
         "yaxis": "y"
        },
        {
         "hovertemplate": "Departamento=Guaira<br>Monto Adjudicado=%{x}<br>Cantidad=%{y}<extra></extra>",
         "legendgroup": "Guaira",
         "marker": {
          "color": "#FECB52",
          "symbol": "circle"
         },
         "mode": "markers",
         "name": "Guaira",
         "orientation": "v",
         "showlegend": true,
         "type": "scatter",
         "x": [
          664132436
         ],
         "xaxis": "x",
         "y": [
          1192
         ],
         "yaxis": "y"
        },
        {
         "hovertemplate": "Departamento=ITAPUA<br>Monto Adjudicado=%{x}<br>Cantidad=%{y}<extra></extra>",
         "legendgroup": "ITAPUA",
         "marker": {
          "color": "#636efa",
          "symbol": "circle"
         },
         "mode": "markers",
         "name": "ITAPUA",
         "orientation": "v",
         "showlegend": true,
         "type": "scatter",
         "x": [
          1054341040
         ],
         "xaxis": "x",
         "y": [
          1592
         ],
         "yaxis": "y"
        },
        {
         "hovertemplate": "Departamento=MISIONES<br>Monto Adjudicado=%{x}<br>Cantidad=%{y}<extra></extra>",
         "legendgroup": "MISIONES",
         "marker": {
          "color": "#EF553B",
          "symbol": "circle"
         },
         "mode": "markers",
         "name": "MISIONES",
         "orientation": "v",
         "showlegend": true,
         "type": "scatter",
         "x": [
          354928407
         ],
         "xaxis": "x",
         "y": [
          337
         ],
         "yaxis": "y"
        },
        {
         "hovertemplate": "Departamento=Misiones<br>Monto Adjudicado=%{x}<br>Cantidad=%{y}<extra></extra>",
         "legendgroup": "Misiones",
         "marker": {
          "color": "#00cc96",
          "symbol": "circle"
         },
         "mode": "markers",
         "name": "Misiones",
         "orientation": "v",
         "showlegend": true,
         "type": "scatter",
         "x": [
          91460297
         ],
         "xaxis": "x",
         "y": [
          559
         ],
         "yaxis": "y"
        },
        {
         "hovertemplate": "Departamento=PARAGUARÍ<br>Monto Adjudicado=%{x}<br>Cantidad=%{y}<extra></extra>",
         "legendgroup": "PARAGUARÍ",
         "marker": {
          "color": "#ab63fa",
          "symbol": "circle"
         },
         "mode": "markers",
         "name": "PARAGUARÍ",
         "orientation": "v",
         "showlegend": true,
         "type": "scatter",
         "x": [
          66083913
         ],
         "xaxis": "x",
         "y": [
          9
         ],
         "yaxis": "y"
        },
        {
         "hovertemplate": "Departamento=PRESIDENTE HAYES<br>Monto Adjudicado=%{x}<br>Cantidad=%{y}<extra></extra>",
         "legendgroup": "PRESIDENTE HAYES",
         "marker": {
          "color": "#FFA15A",
          "symbol": "circle"
         },
         "mode": "markers",
         "name": "PRESIDENTE HAYES",
         "orientation": "v",
         "showlegend": true,
         "type": "scatter",
         "x": [
          170638748
         ],
         "xaxis": "x",
         "y": [
          344
         ],
         "yaxis": "y"
        },
        {
         "hovertemplate": "Departamento=Paraguari<br>Monto Adjudicado=%{x}<br>Cantidad=%{y}<extra></extra>",
         "legendgroup": "Paraguari",
         "marker": {
          "color": "#19d3f3",
          "symbol": "circle"
         },
         "mode": "markers",
         "name": "Paraguari",
         "orientation": "v",
         "showlegend": true,
         "type": "scatter",
         "x": [
          570514841
         ],
         "xaxis": "x",
         "y": [
          1009
         ],
         "yaxis": "y"
        },
        {
         "hovertemplate": "Departamento=Presidente Hayes<br>Monto Adjudicado=%{x}<br>Cantidad=%{y}<extra></extra>",
         "legendgroup": "Presidente Hayes",
         "marker": {
          "color": "#FF6692",
          "symbol": "circle"
         },
         "mode": "markers",
         "name": "Presidente Hayes",
         "orientation": "v",
         "showlegend": true,
         "type": "scatter",
         "x": [
          37695078
         ],
         "xaxis": "x",
         "y": [
          154
         ],
         "yaxis": "y"
        },
        {
         "hovertemplate": "Departamento=SAN PEDRO<br>Monto Adjudicado=%{x}<br>Cantidad=%{y}<extra></extra>",
         "legendgroup": "SAN PEDRO",
         "marker": {
          "color": "#B6E880",
          "symbol": "circle"
         },
         "mode": "markers",
         "name": "SAN PEDRO",
         "orientation": "v",
         "showlegend": true,
         "type": "scatter",
         "x": [
          1282445860
         ],
         "xaxis": "x",
         "y": [
          1140
         ],
         "yaxis": "y"
        },
        {
         "hovertemplate": "Departamento=San Pedro<br>Monto Adjudicado=%{x}<br>Cantidad=%{y}<extra></extra>",
         "legendgroup": "San Pedro",
         "marker": {
          "color": "#FF97FF",
          "symbol": "circle"
         },
         "mode": "markers",
         "name": "San Pedro",
         "orientation": "v",
         "showlegend": true,
         "type": "scatter",
         "x": [
          120241881
         ],
         "xaxis": "x",
         "y": [
          1150
         ],
         "yaxis": "y"
        },
        {
         "hovertemplate": "Departamento=ÑEEMBUCÚ<br>Monto Adjudicado=%{x}<br>Cantidad=%{y}<extra></extra>",
         "legendgroup": "ÑEEMBUCÚ",
         "marker": {
          "color": "#FECB52",
          "symbol": "circle"
         },
         "mode": "markers",
         "name": "ÑEEMBUCÚ",
         "orientation": "v",
         "showlegend": true,
         "type": "scatter",
         "x": [
          7342657
         ],
         "xaxis": "x",
         "y": [
          1
         ],
         "yaxis": "y"
        },
        {
         "hovertemplate": "Departamento=Ñeembucú<br>Monto Adjudicado=%{x}<br>Cantidad=%{y}<extra></extra>",
         "legendgroup": "Ñeembucú",
         "marker": {
          "color": "#636efa",
          "symbol": "circle"
         },
         "mode": "markers",
         "name": "Ñeembucú",
         "orientation": "v",
         "showlegend": true,
         "type": "scatter",
         "x": [
          234825850
         ],
         "xaxis": "x",
         "y": [
          487
         ],
         "yaxis": "y"
        }
       ],
       "layout": {
        "legend": {
         "title": {
          "text": "Departamento"
         },
         "tracegroupgap": 0
        },
        "template": {
         "data": {
          "bar": [
           {
            "error_x": {
             "color": "#2a3f5f"
            },
            "error_y": {
             "color": "#2a3f5f"
            },
            "marker": {
             "line": {
              "color": "#E5ECF6",
              "width": 0.5
             },
             "pattern": {
              "fillmode": "overlay",
              "size": 10,
              "solidity": 0.2
             }
            },
            "type": "bar"
           }
          ],
          "barpolar": [
           {
            "marker": {
             "line": {
              "color": "#E5ECF6",
              "width": 0.5
             },
             "pattern": {
              "fillmode": "overlay",
              "size": 10,
              "solidity": 0.2
             }
            },
            "type": "barpolar"
           }
          ],
          "carpet": [
           {
            "aaxis": {
             "endlinecolor": "#2a3f5f",
             "gridcolor": "white",
             "linecolor": "white",
             "minorgridcolor": "white",
             "startlinecolor": "#2a3f5f"
            },
            "baxis": {
             "endlinecolor": "#2a3f5f",
             "gridcolor": "white",
             "linecolor": "white",
             "minorgridcolor": "white",
             "startlinecolor": "#2a3f5f"
            },
            "type": "carpet"
           }
          ],
          "choropleth": [
           {
            "colorbar": {
             "outlinewidth": 0,
             "ticks": ""
            },
            "type": "choropleth"
           }
          ],
          "contour": [
           {
            "colorbar": {
             "outlinewidth": 0,
             "ticks": ""
            },
            "colorscale": [
             [
              0,
              "#0d0887"
             ],
             [
              0.1111111111111111,
              "#46039f"
             ],
             [
              0.2222222222222222,
              "#7201a8"
             ],
             [
              0.3333333333333333,
              "#9c179e"
             ],
             [
              0.4444444444444444,
              "#bd3786"
             ],
             [
              0.5555555555555556,
              "#d8576b"
             ],
             [
              0.6666666666666666,
              "#ed7953"
             ],
             [
              0.7777777777777778,
              "#fb9f3a"
             ],
             [
              0.8888888888888888,
              "#fdca26"
             ],
             [
              1,
              "#f0f921"
             ]
            ],
            "type": "contour"
           }
          ],
          "contourcarpet": [
           {
            "colorbar": {
             "outlinewidth": 0,
             "ticks": ""
            },
            "type": "contourcarpet"
           }
          ],
          "heatmap": [
           {
            "colorbar": {
             "outlinewidth": 0,
             "ticks": ""
            },
            "colorscale": [
             [
              0,
              "#0d0887"
             ],
             [
              0.1111111111111111,
              "#46039f"
             ],
             [
              0.2222222222222222,
              "#7201a8"
             ],
             [
              0.3333333333333333,
              "#9c179e"
             ],
             [
              0.4444444444444444,
              "#bd3786"
             ],
             [
              0.5555555555555556,
              "#d8576b"
             ],
             [
              0.6666666666666666,
              "#ed7953"
             ],
             [
              0.7777777777777778,
              "#fb9f3a"
             ],
             [
              0.8888888888888888,
              "#fdca26"
             ],
             [
              1,
              "#f0f921"
             ]
            ],
            "type": "heatmap"
           }
          ],
          "heatmapgl": [
           {
            "colorbar": {
             "outlinewidth": 0,
             "ticks": ""
            },
            "colorscale": [
             [
              0,
              "#0d0887"
             ],
             [
              0.1111111111111111,
              "#46039f"
             ],
             [
              0.2222222222222222,
              "#7201a8"
             ],
             [
              0.3333333333333333,
              "#9c179e"
             ],
             [
              0.4444444444444444,
              "#bd3786"
             ],
             [
              0.5555555555555556,
              "#d8576b"
             ],
             [
              0.6666666666666666,
              "#ed7953"
             ],
             [
              0.7777777777777778,
              "#fb9f3a"
             ],
             [
              0.8888888888888888,
              "#fdca26"
             ],
             [
              1,
              "#f0f921"
             ]
            ],
            "type": "heatmapgl"
           }
          ],
          "histogram": [
           {
            "marker": {
             "pattern": {
              "fillmode": "overlay",
              "size": 10,
              "solidity": 0.2
             }
            },
            "type": "histogram"
           }
          ],
          "histogram2d": [
           {
            "colorbar": {
             "outlinewidth": 0,
             "ticks": ""
            },
            "colorscale": [
             [
              0,
              "#0d0887"
             ],
             [
              0.1111111111111111,
              "#46039f"
             ],
             [
              0.2222222222222222,
              "#7201a8"
             ],
             [
              0.3333333333333333,
              "#9c179e"
             ],
             [
              0.4444444444444444,
              "#bd3786"
             ],
             [
              0.5555555555555556,
              "#d8576b"
             ],
             [
              0.6666666666666666,
              "#ed7953"
             ],
             [
              0.7777777777777778,
              "#fb9f3a"
             ],
             [
              0.8888888888888888,
              "#fdca26"
             ],
             [
              1,
              "#f0f921"
             ]
            ],
            "type": "histogram2d"
           }
          ],
          "histogram2dcontour": [
           {
            "colorbar": {
             "outlinewidth": 0,
             "ticks": ""
            },
            "colorscale": [
             [
              0,
              "#0d0887"
             ],
             [
              0.1111111111111111,
              "#46039f"
             ],
             [
              0.2222222222222222,
              "#7201a8"
             ],
             [
              0.3333333333333333,
              "#9c179e"
             ],
             [
              0.4444444444444444,
              "#bd3786"
             ],
             [
              0.5555555555555556,
              "#d8576b"
             ],
             [
              0.6666666666666666,
              "#ed7953"
             ],
             [
              0.7777777777777778,
              "#fb9f3a"
             ],
             [
              0.8888888888888888,
              "#fdca26"
             ],
             [
              1,
              "#f0f921"
             ]
            ],
            "type": "histogram2dcontour"
           }
          ],
          "mesh3d": [
           {
            "colorbar": {
             "outlinewidth": 0,
             "ticks": ""
            },
            "type": "mesh3d"
           }
          ],
          "parcoords": [
           {
            "line": {
             "colorbar": {
              "outlinewidth": 0,
              "ticks": ""
             }
            },
            "type": "parcoords"
           }
          ],
          "pie": [
           {
            "automargin": true,
            "type": "pie"
           }
          ],
          "scatter": [
           {
            "fillpattern": {
             "fillmode": "overlay",
             "size": 10,
             "solidity": 0.2
            },
            "type": "scatter"
           }
          ],
          "scatter3d": [
           {
            "line": {
             "colorbar": {
              "outlinewidth": 0,
              "ticks": ""
             }
            },
            "marker": {
             "colorbar": {
              "outlinewidth": 0,
              "ticks": ""
             }
            },
            "type": "scatter3d"
           }
          ],
          "scattercarpet": [
           {
            "marker": {
             "colorbar": {
              "outlinewidth": 0,
              "ticks": ""
             }
            },
            "type": "scattercarpet"
           }
          ],
          "scattergeo": [
           {
            "marker": {
             "colorbar": {
              "outlinewidth": 0,
              "ticks": ""
             }
            },
            "type": "scattergeo"
           }
          ],
          "scattergl": [
           {
            "marker": {
             "colorbar": {
              "outlinewidth": 0,
              "ticks": ""
             }
            },
            "type": "scattergl"
           }
          ],
          "scattermapbox": [
           {
            "marker": {
             "colorbar": {
              "outlinewidth": 0,
              "ticks": ""
             }
            },
            "type": "scattermapbox"
           }
          ],
          "scatterpolar": [
           {
            "marker": {
             "colorbar": {
              "outlinewidth": 0,
              "ticks": ""
             }
            },
            "type": "scatterpolar"
           }
          ],
          "scatterpolargl": [
           {
            "marker": {
             "colorbar": {
              "outlinewidth": 0,
              "ticks": ""
             }
            },
            "type": "scatterpolargl"
           }
          ],
          "scatterternary": [
           {
            "marker": {
             "colorbar": {
              "outlinewidth": 0,
              "ticks": ""
             }
            },
            "type": "scatterternary"
           }
          ],
          "surface": [
           {
            "colorbar": {
             "outlinewidth": 0,
             "ticks": ""
            },
            "colorscale": [
             [
              0,
              "#0d0887"
             ],
             [
              0.1111111111111111,
              "#46039f"
             ],
             [
              0.2222222222222222,
              "#7201a8"
             ],
             [
              0.3333333333333333,
              "#9c179e"
             ],
             [
              0.4444444444444444,
              "#bd3786"
             ],
             [
              0.5555555555555556,
              "#d8576b"
             ],
             [
              0.6666666666666666,
              "#ed7953"
             ],
             [
              0.7777777777777778,
              "#fb9f3a"
             ],
             [
              0.8888888888888888,
              "#fdca26"
             ],
             [
              1,
              "#f0f921"
             ]
            ],
            "type": "surface"
           }
          ],
          "table": [
           {
            "cells": {
             "fill": {
              "color": "#EBF0F8"
             },
             "line": {
              "color": "white"
             }
            },
            "header": {
             "fill": {
              "color": "#C8D4E3"
             },
             "line": {
              "color": "white"
             }
            },
            "type": "table"
           }
          ]
         },
         "layout": {
          "annotationdefaults": {
           "arrowcolor": "#2a3f5f",
           "arrowhead": 0,
           "arrowwidth": 1
          },
          "autotypenumbers": "strict",
          "coloraxis": {
           "colorbar": {
            "outlinewidth": 0,
            "ticks": ""
           }
          },
          "colorscale": {
           "diverging": [
            [
             0,
             "#8e0152"
            ],
            [
             0.1,
             "#c51b7d"
            ],
            [
             0.2,
             "#de77ae"
            ],
            [
             0.3,
             "#f1b6da"
            ],
            [
             0.4,
             "#fde0ef"
            ],
            [
             0.5,
             "#f7f7f7"
            ],
            [
             0.6,
             "#e6f5d0"
            ],
            [
             0.7,
             "#b8e186"
            ],
            [
             0.8,
             "#7fbc41"
            ],
            [
             0.9,
             "#4d9221"
            ],
            [
             1,
             "#276419"
            ]
           ],
           "sequential": [
            [
             0,
             "#0d0887"
            ],
            [
             0.1111111111111111,
             "#46039f"
            ],
            [
             0.2222222222222222,
             "#7201a8"
            ],
            [
             0.3333333333333333,
             "#9c179e"
            ],
            [
             0.4444444444444444,
             "#bd3786"
            ],
            [
             0.5555555555555556,
             "#d8576b"
            ],
            [
             0.6666666666666666,
             "#ed7953"
            ],
            [
             0.7777777777777778,
             "#fb9f3a"
            ],
            [
             0.8888888888888888,
             "#fdca26"
            ],
            [
             1,
             "#f0f921"
            ]
           ],
           "sequentialminus": [
            [
             0,
             "#0d0887"
            ],
            [
             0.1111111111111111,
             "#46039f"
            ],
            [
             0.2222222222222222,
             "#7201a8"
            ],
            [
             0.3333333333333333,
             "#9c179e"
            ],
            [
             0.4444444444444444,
             "#bd3786"
            ],
            [
             0.5555555555555556,
             "#d8576b"
            ],
            [
             0.6666666666666666,
             "#ed7953"
            ],
            [
             0.7777777777777778,
             "#fb9f3a"
            ],
            [
             0.8888888888888888,
             "#fdca26"
            ],
            [
             1,
             "#f0f921"
            ]
           ]
          },
          "colorway": [
           "#636efa",
           "#EF553B",
           "#00cc96",
           "#ab63fa",
           "#FFA15A",
           "#19d3f3",
           "#FF6692",
           "#B6E880",
           "#FF97FF",
           "#FECB52"
          ],
          "font": {
           "color": "#2a3f5f"
          },
          "geo": {
           "bgcolor": "white",
           "lakecolor": "white",
           "landcolor": "#E5ECF6",
           "showlakes": true,
           "showland": true,
           "subunitcolor": "white"
          },
          "hoverlabel": {
           "align": "left"
          },
          "hovermode": "closest",
          "mapbox": {
           "style": "light"
          },
          "paper_bgcolor": "white",
          "plot_bgcolor": "#E5ECF6",
          "polar": {
           "angularaxis": {
            "gridcolor": "white",
            "linecolor": "white",
            "ticks": ""
           },
           "bgcolor": "#E5ECF6",
           "radialaxis": {
            "gridcolor": "white",
            "linecolor": "white",
            "ticks": ""
           }
          },
          "scene": {
           "xaxis": {
            "backgroundcolor": "#E5ECF6",
            "gridcolor": "white",
            "gridwidth": 2,
            "linecolor": "white",
            "showbackground": true,
            "ticks": "",
            "zerolinecolor": "white"
           },
           "yaxis": {
            "backgroundcolor": "#E5ECF6",
            "gridcolor": "white",
            "gridwidth": 2,
            "linecolor": "white",
            "showbackground": true,
            "ticks": "",
            "zerolinecolor": "white"
           },
           "zaxis": {
            "backgroundcolor": "#E5ECF6",
            "gridcolor": "white",
            "gridwidth": 2,
            "linecolor": "white",
            "showbackground": true,
            "ticks": "",
            "zerolinecolor": "white"
           }
          },
          "shapedefaults": {
           "line": {
            "color": "#2a3f5f"
           }
          },
          "ternary": {
           "aaxis": {
            "gridcolor": "white",
            "linecolor": "white",
            "ticks": ""
           },
           "baxis": {
            "gridcolor": "white",
            "linecolor": "white",
            "ticks": ""
           },
           "bgcolor": "#E5ECF6",
           "caxis": {
            "gridcolor": "white",
            "linecolor": "white",
            "ticks": ""
           }
          },
          "title": {
           "x": 0.05
          },
          "xaxis": {
           "automargin": true,
           "gridcolor": "white",
           "linecolor": "white",
           "ticks": "",
           "title": {
            "standoff": 15
           },
           "zerolinecolor": "white",
           "zerolinewidth": 2
          },
          "yaxis": {
           "automargin": true,
           "gridcolor": "white",
           "linecolor": "white",
           "ticks": "",
           "title": {
            "standoff": 15
           },
           "zerolinecolor": "white",
           "zerolinewidth": 2
          }
         }
        },
        "title": {
         "text": "Monto Adjudicado vs Cantidad"
        },
        "xaxis": {
         "anchor": "y",
         "domain": [
          0,
          1
         ],
         "title": {
          "text": "Monto Adjudicado"
         }
        },
        "yaxis": {
         "anchor": "x",
         "domain": [
          0,
          1
         ],
         "title": {
          "text": "Cantidad"
         }
        }
       }
      }
     },
     "metadata": {},
     "output_type": "display_data"
    }
   ],
   "source": [
    "import pandas as pd\n",
    "import plotly.express as px\n",
    "\n",
    "# Supongamos que ya has leído tu archivo Excel en un DataFrame llamado df\n",
    "# df = pd.read_excel('tu_archivo.xlsx', sheet_name='DISPOSITIVOS')\n",
    "\n",
    "# Agrupar por 'Departamento' y sumar 'Costo llamado' y 'Cantidad'\n",
    "df_agrupado = df.groupby('Departamento').agg({\n",
    "    'Costo llamado': 'sum',\n",
    "    'Cantidad': 'sum'\n",
    "}).reset_index()\n",
    "\n",
    "# Ver los primeros registros del DataFrame agrupado\n",
    "print(df_agrupado.head())\n",
    "\n",
    "# Crear un gráfico de barras usando Plotly Express\n",
    "fig = px.bar(\n",
    "    df_agrupado,\n",
    "    x='Departamento',          # Eje X: Departamento\n",
    "    y='Costo llamado',         # Eje Y: Costo llamado\n",
    "    color='Cantidad',          # Colorear las barras por Cantidad\n",
    "    title='Monto Adjudicado vs Cantidad por Departamento',\n",
    "    labels={\n",
    "        'Costo llamado': 'Monto Adjudicado',\n",
    "        'Cantidad': 'Cantidad'\n",
    "    },\n",
    "    text='Cantidad'            # Mostrar la Cantidad encima de las barras\n",
    ")\n",
    "\n",
    "# Personalizar el diseño\n",
    "fig.update_traces(texttemplate='%{text}', textposition='outside')\n",
    "fig.update_layout(xaxis_title='Departamento', yaxis_title='Monto Adjudicado')\n",
    "\n",
    "# Mostrar el gráfico\n",
    "fig.show()\n",
    "\n",
    "\n",
    "# Opcional: guardar el DataFrame agrupado en un archivo CSV\n",
    "df_agrupado.to_csv('../data/uepp/df_agrupado_capacitaciones.csv', index=False)\n",
    "\n"
   ]
  },
  {
   "cell_type": "code",
   "execution_count": 33,
   "metadata": {},
   "outputs": [
    {
     "name": "stdout",
     "output_type": "stream",
     "text": [
      "      Departamento  Monto Adjudicado 1  Cantidad Notebook\n",
      "0      A. PARAGUAY        1.015661e+07                  0\n",
      "1        A. PARANÁ        3.520991e+08                 12\n",
      "2    ALTO PARAGUAY        7.348085e+07                  6\n",
      "3      ALTO PARANÁ        3.579877e+07                  0\n",
      "4          AMAMBAY        1.699394e+08                 12\n",
      "..             ...                 ...                ...\n",
      "154      ÑEEMBUCÚ         2.297769e+07                  0\n",
      "155       Ñacunday        5.101411e+07                 10\n",
      "156       Ñeembucú        2.528014e+09                398\n",
      "157          Ñemby        1.389332e+08                 30\n",
      "158           Ñumí        5.101411e+07                 10\n",
      "\n",
      "[159 rows x 3 columns]\n"
     ]
    }
   ],
   "source": [
    "# Ver los primeros registros del DataFrame agrupado\n",
    "print(df_agrupado.head(500))"
   ]
  },
  {
   "cell_type": "code",
   "execution_count": 34,
   "metadata": {},
   "outputs": [],
   "source": [
    "# Guardar en una ruta específica\n",
    "df_agrupado.head(500).to_csv('../data/uepp/df_agrupado_500.csv', index=False)\n"
   ]
  }
 ],
 "metadata": {
  "kernelspec": {
   "display_name": "bootcamp_mitic",
   "language": "python",
   "name": "python3"
  },
  "language_info": {
   "codemirror_mode": {
    "name": "ipython",
    "version": 3
   },
   "file_extension": ".py",
   "mimetype": "text/x-python",
   "name": "python",
   "nbconvert_exporter": "python",
   "pygments_lexer": "ipython3",
   "version": "3.11.10"
  }
 },
 "nbformat": 4,
 "nbformat_minor": 2
}
