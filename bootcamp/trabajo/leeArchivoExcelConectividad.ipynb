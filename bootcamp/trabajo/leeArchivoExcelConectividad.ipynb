{
 "cells": [
  {
   "cell_type": "code",
   "execution_count": 1,
   "metadata": {},
   "outputs": [
    {
     "name": "stdout",
     "output_type": "stream",
     "text": [
      "Hoja: CONECTIVIDAD\n",
      "   Nº   SNIP                                           Proyecto  \\\n",
      "0   1  394.0  Programa de mejoramiento de las condiciones de...   \n",
      "1   2  394.0  Programa de mejoramiento de las condiciones de...   \n",
      "2   3  394.0  Programa de mejoramiento de las condiciones de...   \n",
      "3   4  394.0  Programa de mejoramiento de las condiciones de...   \n",
      "4   5  394.0  Programa de mejoramiento de las condiciones de...   \n",
      "\n",
      "   Codigo de Establecimiento  \\\n",
      "0                         18   \n",
      "1                      10003   \n",
      "2                      10121   \n",
      "3                      11011   \n",
      "4                      11025   \n",
      "\n",
      "                                     Establecimiento Departamento  Distrito  \\\n",
      "0  MEC-Centro Educativo Integral Helen Keller Par...      Capital  Asunción   \n",
      "1     MEC-3-Maestro Ursicino Velazco Y Sotero Colman      Capital  Asunción   \n",
      "2   MEC-Colegio Nacional Doctor Juan Leon Mallorquin      Capital  Asunción   \n",
      "3  MEC-Escuela Especial Centro De Formacion Labor...      Capital  Asunción   \n",
      "4      MEC-Escuela Basica Nro 407 Elisa Alicia Lynch      Capital  Asunción   \n",
      "\n",
      "          Latitud        Longitud   Sector  ... Ancho de Banda Fecha Conexion  \\\n",
      "0  25º18'53.328\"S  57º36'19.552\"W  Oficial  ...        50 Mbps      6/12/2021   \n",
      "1   25º18'5.693\"S  57º39'53.028\"W  Oficial  ...        50 Mbps     30/12/2021   \n",
      "2   25º17'48.08\"S  57º39'44.421\"W  Oficial  ...        50 Mbps      20/5/2022   \n",
      "3  25º17'16.383\"S   57º38'0.694\"W  Oficial  ...        50 Mbps      14/3/2023   \n",
      "4  25º16'50.699\"S  57º37'45.901\"W  Oficial  ...        50 Mbps      12/4/2023   \n",
      "\n",
      "  Duracion Servicio Fecha Terminacion Servicio Matricula del Local Escolar  \\\n",
      "0          12 meses                 21/12/2022                         0.0   \n",
      "1          12 meses                  14/1/2023                       482.0   \n",
      "2          12 meses                   4/6/2023                       290.0   \n",
      "3          12 meses                  28/3/2024                         0.0   \n",
      "4          12 meses                  26/4/2024                       343.0   \n",
      "\n",
      "   Cantidad de Instituciones Educacion Inicial Educacion Escolar Basica  \\\n",
      "0                          0               0.0                      0.0   \n",
      "1                          1             133.0                    349.0   \n",
      "2                          1               0.0                    154.0   \n",
      "3                          0               0.0                      0.0   \n",
      "4                          1              80.0                    263.0   \n",
      "\n",
      "   Educacion Media  Educacion Permanente  \n",
      "0              0.0                   0.0  \n",
      "1              0.0                   0.0  \n",
      "2            136.0                   0.0  \n",
      "3              0.0                   0.0  \n",
      "4              0.0                   0.0  \n",
      "\n",
      "[5 rows x 33 columns]\n",
      "                Nº    SNIP  Codigo de Establecimiento           ID 1  \\\n",
      "count  1733.000000  1534.0               1.733000e+03    1534.000000   \n",
      "mean    867.000000   394.0               9.266918e+05   62325.375489   \n",
      "std     500.418325     0.0               1.009123e+06  149214.377735   \n",
      "min       1.000000   394.0               1.800000e+01       0.000000   \n",
      "25%     434.000000   394.0               5.010280e+05       0.000000   \n",
      "50%     867.000000   394.0               1.002002e+06       0.000000   \n",
      "75%    1300.000000   394.0               1.112058e+06       0.000000   \n",
      "max    1733.000000   394.0               9.999999e+06  419352.000000   \n",
      "\n",
      "       Numero Lote 1  Monto Adjudicado 1  Matricula del Local Escolar  \\\n",
      "count         1534.0        1.534000e+03                  1534.000000   \n",
      "mean             0.0        3.038682e+07                   491.038462   \n",
      "std              0.0        8.499291e+06                   396.143538   \n",
      "min              0.0        2.964000e+06                     0.000000   \n",
      "25%              0.0        2.967070e+07                   232.250000   \n",
      "50%              0.0        2.967070e+07                   390.000000   \n",
      "75%              0.0        2.967070e+07                   633.750000   \n",
      "max              0.0        5.946133e+07                  3139.000000   \n",
      "\n",
      "       Cantidad de Instituciones  Educacion Inicial  Educacion Escolar Basica  \\\n",
      "count                1733.000000        1534.000000               1534.000000   \n",
      "mean                    1.538950          65.303781                310.268579   \n",
      "std                     0.794983          62.169677                258.507924   \n",
      "min                     0.000000           0.000000                  0.000000   \n",
      "25%                     1.000000          12.000000                127.000000   \n",
      "50%                     1.000000          54.000000                260.000000   \n",
      "75%                     2.000000         100.000000                424.500000   \n",
      "max                     5.000000         402.000000               1791.000000   \n",
      "\n",
      "       Educacion Media  Educacion Permanente  \n",
      "count      1534.000000           1534.000000  \n",
      "mean         97.149935             17.847458  \n",
      "std         173.528050             50.144529  \n",
      "min           0.000000              0.000000  \n",
      "25%           0.000000              0.000000  \n",
      "50%          42.000000              0.000000  \n",
      "75%         122.750000             14.000000  \n",
      "max        1714.000000            973.000000  \n"
     ]
    }
   ],
   "source": [
    "import pandas as pd\n",
    "\n",
    "# Cargar el archivo Excel\n",
    "archivo_excel = '../data/BD_TIC_30-08-24.xlsx'\n",
    "\n",
    "# Leer todas las hojas en un diccionario\n",
    "hojas = pd.read_excel(archivo_excel, sheet_name=None)\n",
    "\n",
    "# 'hojas' es un diccionario donde las claves son los nombres de las hojas y los valores son DataFrames\n",
    "for nombre_hoja, contenido in hojas.items():\n",
    "    if nombre_hoja == 'CONECTIVIDAD':\n",
    "        print(f\"Hoja: {nombre_hoja}\")\n",
    "        print(contenido.head())  # Muestra las primeras filas de la hoja CONECTIVIDAD\n",
    "\n",
    "# Acceder al DataFrame de la hoja 'CONECTIVIDAD'\n",
    "df = hojas['CONECTIVIDAD']\n",
    "\n",
    "# Aplicar describe() al DataFrame de la hoja 'CONECTIVIDAD'\n",
    "print(df.describe())"
   ]
  },
  {
   "cell_type": "code",
   "execution_count": 2,
   "metadata": {},
   "outputs": [
    {
     "name": "stdout",
     "output_type": "stream",
     "text": [
      "<class 'pandas.core.frame.DataFrame'>\n",
      "RangeIndex: 1733 entries, 0 to 1732\n",
      "Data columns (total 33 columns):\n",
      " #   Column                       Non-Null Count  Dtype  \n",
      "---  ------                       --------------  -----  \n",
      " 0   Nº                           1733 non-null   int64  \n",
      " 1   SNIP                         1534 non-null   float64\n",
      " 2   Proyecto                     1534 non-null   object \n",
      " 3   Codigo de Establecimiento    1733 non-null   int64  \n",
      " 4   Establecimiento              1733 non-null   object \n",
      " 5   Departamento                 1715 non-null   object \n",
      " 6   Distrito                     1715 non-null   object \n",
      " 7   Latitud                      1441 non-null   object \n",
      " 8   Longitud                     1441 non-null   object \n",
      " 9   Sector                       1445 non-null   object \n",
      " 10  Tipo Zona                    1445 non-null   object \n",
      " 11  CAI                          1534 non-null   object \n",
      " 12  Indigena                     1534 non-null   object \n",
      " 13  Modalidad Contractual        1534 non-null   object \n",
      " 14  Licitacion 1                 1534 non-null   object \n",
      " 15  ID 1                         1534 non-null   float64\n",
      " 16  Empresa 1                    1733 non-null   object \n",
      " 17  Fecha Contrato 1             1534 non-null   object \n",
      " 18  Numero Lote 1                1534 non-null   float64\n",
      " 19  Monto Adjudicado 1           1534 non-null   float64\n",
      " 20  Adenda Contrato 1            307 non-null    object \n",
      " 21  Adenda Contrato 2            307 non-null    object \n",
      " 22  Tipo de Conexion             1534 non-null   object \n",
      " 23  Ancho de Banda               1534 non-null   object \n",
      " 24  Fecha Conexion               1534 non-null   object \n",
      " 25  Duracion Servicio            1534 non-null   object \n",
      " 26  Fecha Terminacion Servicio   1534 non-null   object \n",
      " 27  Matricula del Local Escolar  1534 non-null   float64\n",
      " 28  Cantidad de Instituciones    1733 non-null   int64  \n",
      " 29  Educacion Inicial            1534 non-null   float64\n",
      " 30  Educacion Escolar Basica     1534 non-null   float64\n",
      " 31  Educacion Media              1534 non-null   float64\n",
      " 32  Educacion Permanente         1534 non-null   float64\n",
      "dtypes: float64(9), int64(3), object(21)\n",
      "memory usage: 446.9+ KB\n",
      "None\n"
     ]
    }
   ],
   "source": [
    "print(df.info())"
   ]
  },
  {
   "cell_type": "code",
   "execution_count": 3,
   "metadata": {},
   "outputs": [
    {
     "name": "stdout",
     "output_type": "stream",
     "text": [
      "Número de registros duplicados: 0\n"
     ]
    },
    {
     "data": {
      "text/html": [
       "<div>\n",
       "<style scoped>\n",
       "    .dataframe tbody tr th:only-of-type {\n",
       "        vertical-align: middle;\n",
       "    }\n",
       "\n",
       "    .dataframe tbody tr th {\n",
       "        vertical-align: top;\n",
       "    }\n",
       "\n",
       "    .dataframe thead th {\n",
       "        text-align: right;\n",
       "    }\n",
       "</style>\n",
       "<table border=\"1\" class=\"dataframe\">\n",
       "  <thead>\n",
       "    <tr style=\"text-align: right;\">\n",
       "      <th></th>\n",
       "      <th>Nº</th>\n",
       "      <th>SNIP</th>\n",
       "      <th>Proyecto</th>\n",
       "      <th>Codigo de Establecimiento</th>\n",
       "      <th>Establecimiento</th>\n",
       "      <th>Departamento</th>\n",
       "      <th>Distrito</th>\n",
       "      <th>Latitud</th>\n",
       "      <th>Longitud</th>\n",
       "      <th>Sector</th>\n",
       "      <th>...</th>\n",
       "      <th>Ancho de Banda</th>\n",
       "      <th>Fecha Conexion</th>\n",
       "      <th>Duracion Servicio</th>\n",
       "      <th>Fecha Terminacion Servicio</th>\n",
       "      <th>Matricula del Local Escolar</th>\n",
       "      <th>Cantidad de Instituciones</th>\n",
       "      <th>Educacion Inicial</th>\n",
       "      <th>Educacion Escolar Basica</th>\n",
       "      <th>Educacion Media</th>\n",
       "      <th>Educacion Permanente</th>\n",
       "    </tr>\n",
       "  </thead>\n",
       "  <tbody>\n",
       "    <tr>\n",
       "      <th>0</th>\n",
       "      <td>1</td>\n",
       "      <td>394.0</td>\n",
       "      <td>Programa de mejoramiento de las condiciones de...</td>\n",
       "      <td>18</td>\n",
       "      <td>MEC-Centro Educativo Integral Helen Keller Par...</td>\n",
       "      <td>Capital</td>\n",
       "      <td>Asunción</td>\n",
       "      <td>25º18'53.328\"S</td>\n",
       "      <td>57º36'19.552\"W</td>\n",
       "      <td>Oficial</td>\n",
       "      <td>...</td>\n",
       "      <td>50 Mbps</td>\n",
       "      <td>6/12/2021</td>\n",
       "      <td>12 meses</td>\n",
       "      <td>21/12/2022</td>\n",
       "      <td>0.0</td>\n",
       "      <td>0</td>\n",
       "      <td>0.0</td>\n",
       "      <td>0.0</td>\n",
       "      <td>0.0</td>\n",
       "      <td>0.0</td>\n",
       "    </tr>\n",
       "    <tr>\n",
       "      <th>1</th>\n",
       "      <td>2</td>\n",
       "      <td>394.0</td>\n",
       "      <td>Programa de mejoramiento de las condiciones de...</td>\n",
       "      <td>10003</td>\n",
       "      <td>MEC-3-Maestro Ursicino Velazco Y Sotero Colman</td>\n",
       "      <td>Capital</td>\n",
       "      <td>Asunción</td>\n",
       "      <td>25º18'5.693\"S</td>\n",
       "      <td>57º39'53.028\"W</td>\n",
       "      <td>Oficial</td>\n",
       "      <td>...</td>\n",
       "      <td>50 Mbps</td>\n",
       "      <td>30/12/2021</td>\n",
       "      <td>12 meses</td>\n",
       "      <td>14/1/2023</td>\n",
       "      <td>482.0</td>\n",
       "      <td>1</td>\n",
       "      <td>133.0</td>\n",
       "      <td>349.0</td>\n",
       "      <td>0.0</td>\n",
       "      <td>0.0</td>\n",
       "    </tr>\n",
       "    <tr>\n",
       "      <th>2</th>\n",
       "      <td>3</td>\n",
       "      <td>394.0</td>\n",
       "      <td>Programa de mejoramiento de las condiciones de...</td>\n",
       "      <td>10121</td>\n",
       "      <td>MEC-Colegio Nacional Doctor Juan Leon Mallorquin</td>\n",
       "      <td>Capital</td>\n",
       "      <td>Asunción</td>\n",
       "      <td>25º17'48.08\"S</td>\n",
       "      <td>57º39'44.421\"W</td>\n",
       "      <td>Oficial</td>\n",
       "      <td>...</td>\n",
       "      <td>50 Mbps</td>\n",
       "      <td>20/5/2022</td>\n",
       "      <td>12 meses</td>\n",
       "      <td>4/6/2023</td>\n",
       "      <td>290.0</td>\n",
       "      <td>1</td>\n",
       "      <td>0.0</td>\n",
       "      <td>154.0</td>\n",
       "      <td>136.0</td>\n",
       "      <td>0.0</td>\n",
       "    </tr>\n",
       "    <tr>\n",
       "      <th>3</th>\n",
       "      <td>4</td>\n",
       "      <td>394.0</td>\n",
       "      <td>Programa de mejoramiento de las condiciones de...</td>\n",
       "      <td>11011</td>\n",
       "      <td>MEC-Escuela Especial Centro De Formacion Labor...</td>\n",
       "      <td>Capital</td>\n",
       "      <td>Asunción</td>\n",
       "      <td>25º17'16.383\"S</td>\n",
       "      <td>57º38'0.694\"W</td>\n",
       "      <td>Oficial</td>\n",
       "      <td>...</td>\n",
       "      <td>50 Mbps</td>\n",
       "      <td>14/3/2023</td>\n",
       "      <td>12 meses</td>\n",
       "      <td>28/3/2024</td>\n",
       "      <td>0.0</td>\n",
       "      <td>0</td>\n",
       "      <td>0.0</td>\n",
       "      <td>0.0</td>\n",
       "      <td>0.0</td>\n",
       "      <td>0.0</td>\n",
       "    </tr>\n",
       "    <tr>\n",
       "      <th>4</th>\n",
       "      <td>5</td>\n",
       "      <td>394.0</td>\n",
       "      <td>Programa de mejoramiento de las condiciones de...</td>\n",
       "      <td>11025</td>\n",
       "      <td>MEC-Escuela Basica Nro 407 Elisa Alicia Lynch</td>\n",
       "      <td>Capital</td>\n",
       "      <td>Asunción</td>\n",
       "      <td>25º16'50.699\"S</td>\n",
       "      <td>57º37'45.901\"W</td>\n",
       "      <td>Oficial</td>\n",
       "      <td>...</td>\n",
       "      <td>50 Mbps</td>\n",
       "      <td>12/4/2023</td>\n",
       "      <td>12 meses</td>\n",
       "      <td>26/4/2024</td>\n",
       "      <td>343.0</td>\n",
       "      <td>1</td>\n",
       "      <td>80.0</td>\n",
       "      <td>263.0</td>\n",
       "      <td>0.0</td>\n",
       "      <td>0.0</td>\n",
       "    </tr>\n",
       "  </tbody>\n",
       "</table>\n",
       "<p>5 rows × 33 columns</p>\n",
       "</div>"
      ],
      "text/plain": [
       "   Nº   SNIP                                           Proyecto  \\\n",
       "0   1  394.0  Programa de mejoramiento de las condiciones de...   \n",
       "1   2  394.0  Programa de mejoramiento de las condiciones de...   \n",
       "2   3  394.0  Programa de mejoramiento de las condiciones de...   \n",
       "3   4  394.0  Programa de mejoramiento de las condiciones de...   \n",
       "4   5  394.0  Programa de mejoramiento de las condiciones de...   \n",
       "\n",
       "   Codigo de Establecimiento  \\\n",
       "0                         18   \n",
       "1                      10003   \n",
       "2                      10121   \n",
       "3                      11011   \n",
       "4                      11025   \n",
       "\n",
       "                                     Establecimiento Departamento  Distrito  \\\n",
       "0  MEC-Centro Educativo Integral Helen Keller Par...      Capital  Asunción   \n",
       "1     MEC-3-Maestro Ursicino Velazco Y Sotero Colman      Capital  Asunción   \n",
       "2   MEC-Colegio Nacional Doctor Juan Leon Mallorquin      Capital  Asunción   \n",
       "3  MEC-Escuela Especial Centro De Formacion Labor...      Capital  Asunción   \n",
       "4      MEC-Escuela Basica Nro 407 Elisa Alicia Lynch      Capital  Asunción   \n",
       "\n",
       "          Latitud        Longitud   Sector  ... Ancho de Banda Fecha Conexion  \\\n",
       "0  25º18'53.328\"S  57º36'19.552\"W  Oficial  ...        50 Mbps      6/12/2021   \n",
       "1   25º18'5.693\"S  57º39'53.028\"W  Oficial  ...        50 Mbps     30/12/2021   \n",
       "2   25º17'48.08\"S  57º39'44.421\"W  Oficial  ...        50 Mbps      20/5/2022   \n",
       "3  25º17'16.383\"S   57º38'0.694\"W  Oficial  ...        50 Mbps      14/3/2023   \n",
       "4  25º16'50.699\"S  57º37'45.901\"W  Oficial  ...        50 Mbps      12/4/2023   \n",
       "\n",
       "  Duracion Servicio Fecha Terminacion Servicio Matricula del Local Escolar  \\\n",
       "0          12 meses                 21/12/2022                         0.0   \n",
       "1          12 meses                  14/1/2023                       482.0   \n",
       "2          12 meses                   4/6/2023                       290.0   \n",
       "3          12 meses                  28/3/2024                         0.0   \n",
       "4          12 meses                  26/4/2024                       343.0   \n",
       "\n",
       "   Cantidad de Instituciones Educacion Inicial Educacion Escolar Basica  \\\n",
       "0                          0               0.0                      0.0   \n",
       "1                          1             133.0                    349.0   \n",
       "2                          1               0.0                    154.0   \n",
       "3                          0               0.0                      0.0   \n",
       "4                          1              80.0                    263.0   \n",
       "\n",
       "   Educacion Media  Educacion Permanente  \n",
       "0              0.0                   0.0  \n",
       "1              0.0                   0.0  \n",
       "2            136.0                   0.0  \n",
       "3              0.0                   0.0  \n",
       "4              0.0                   0.0  \n",
       "\n",
       "[5 rows x 33 columns]"
      ]
     },
     "execution_count": 3,
     "metadata": {},
     "output_type": "execute_result"
    }
   ],
   "source": [
    "# Identificar duplicados\n",
    "duplicados = df.duplicated()\n",
    "# Contar el número de duplicados\n",
    "num_duplicados = duplicados.sum()\n",
    "print(f\"Número de registros duplicados: {num_duplicados}\")\n",
    "df.head()"
   ]
  },
  {
   "cell_type": "code",
   "execution_count": 21,
   "metadata": {},
   "outputs": [
    {
     "name": "stdout",
     "output_type": "stream",
     "text": [
      "Columna 'Nº' convertida a float64 exitosamente.\n",
      "Columna 'SNIP' convertida a float64 exitosamente.\n",
      "Columna 'Proyecto' convertida a object exitosamente.\n",
      "Columna 'Codigo de Establecimiento' convertida a float64 exitosamente.\n",
      "Columna 'Codigo de Institucion' convertida a float64 exitosamente.\n",
      "Columna 'Establecimiento' convertida a object exitosamente.\n",
      "Columna 'Departamento' convertida a object exitosamente.\n",
      "Columna 'Distrito' convertida a object exitosamente.\n",
      "Columna 'Categoria' convertida a object exitosamente.\n",
      "Columna 'Latitud' convertida a object exitosamente.\n",
      "Columna 'Longitud' convertida a object exitosamente.\n",
      "Columna 'Sector' convertida a object exitosamente.\n",
      "Columna 'Tipo Zona' convertida a object exitosamente.\n",
      "Columna 'CAI' convertida a object exitosamente.\n",
      "Columna 'Indigena' convertida a object exitosamente.\n",
      "Columna 'Licitacion 1' convertida a object exitosamente.\n",
      "Columna 'ID 1' convertida a float64 exitosamente.\n",
      "Columna 'Empresa 1' convertida a object exitosamente.\n",
      "Columna 'Fecha Contrato 1' convertida a object exitosamente.\n",
      "Columna 'Numero Lote 1' convertida a float64 exitosamente.\n",
      "Columna 'Monto Adjudicado 1' convertida a float64 exitosamente.\n",
      "Columna 'Monto Anticipo 1' convertida a float64 exitosamente.\n",
      "Columna 'Pago1 1' convertida a float64 exitosamente.\n",
      "Columna 'Pago1 2' convertida a float64 exitosamente.\n",
      "Columna 'Adenda Contrato 1' convertida a float64 exitosamente.\n",
      "Columna 'Licitacion 2' convertida a float64 exitosamente.\n",
      "Columna 'ID 2' convertida a float64 exitosamente.\n",
      "Columna 'Empresa 2' convertida a object exitosamente.\n",
      "Columna 'Fecha Contrato 2' convertida a object exitosamente.\n",
      "Columna 'Numero Lote 2' convertida a float64 exitosamente.\n",
      "Columna 'Monto Adjudicado 2' convertida a float64 exitosamente.\n",
      "Columna 'Monto Anticipo 2' convertida a float64 exitosamente.\n",
      "Columna 'Pago2 1' convertida a float64 exitosamente.\n",
      "Columna 'Pago2 2' convertida a float64 exitosamente.\n",
      "Columna 'Adenda Contrato 2' convertida a float64 exitosamente.\n",
      "Columna 'Cantidad Notebook Tipologia' convertida a float64 exitosamente.\n",
      "Columna 'Tipologia Notebook' convertida a object exitosamente.\n",
      "Columna 'Costo Tipologia' convertida a float64 exitosamente.\n",
      "Columna 'Cantidad Notebook' convertida a int64 exitosamente.\n",
      "Columna 'Cantidad Impresora' convertida a int64 exitosamente.\n",
      "Columna 'Cantidad Proyector' convertida a int64 exitosamente.\n",
      "Columna 'Cantidad Carrito' convertida a int64 exitosamente.\n",
      "Columna 'Cantidad AP' convertida a int64 exitosamente.\n",
      "Columna 'Cantidad Router' convertida a int64 exitosamente.\n",
      "Columna 'Cantidad UPS' convertida a int64 exitosamente.\n",
      "Columna 'Cantidad Servidor' convertida a int64 exitosamente.\n",
      "Columna 'Cantidad Software' convertida a int64 exitosamente.\n",
      "Columna 'Cantidad Tablet' convertida a int64 exitosamente.\n",
      "Columna 'Cantidad TV' convertida a int64 exitosamente.\n",
      "Columna 'Cantidad Amplificador' convertida a int64 exitosamente.\n",
      "Columna 'Fecha Acta Engrega' convertida a object exitosamente.\n",
      "Columna 'Tiene Seguro' convertida a float64 exitosamente.\n",
      "Columna 'Matricula del Local Escolar' convertida a float64 exitosamente.\n",
      "Columna 'Cantidad de Instituciones' convertida a float64 exitosamente.\n",
      "Columna 'Educacion Inicial' convertida a float64 exitosamente.\n",
      "Columna 'Educacion Escolar Basica' convertida a float64 exitosamente.\n",
      "Columna 'Educacion Media' convertida a float64 exitosamente.\n",
      "Columna 'Educacion Permanente' convertida a float64 exitosamente.\n",
      "Nº                             float64\n",
      "SNIP                           float64\n",
      "Proyecto                        object\n",
      "Codigo de Establecimiento      float64\n",
      "Codigo de Institucion          float64\n",
      "Establecimiento                 object\n",
      "Departamento                    object\n",
      "Distrito                        object\n",
      "Categoria                       object\n",
      "Latitud                         object\n",
      "Longitud                        object\n",
      "Sector                          object\n",
      "Tipo Zona                       object\n",
      "CAI                             object\n",
      "Indigena                        object\n",
      "Licitacion 1                    object\n",
      "ID 1                           float64\n",
      "Empresa 1                       object\n",
      "Fecha Contrato 1                object\n",
      "Numero Lote 1                  float64\n",
      "Monto Adjudicado 1             float64\n",
      "Monto Anticipo 1               float64\n",
      "Pago1 1                        float64\n",
      "Pago1 2                        float64\n",
      "Adenda Contrato 1              float64\n",
      "Licitacion 2                   float64\n",
      "ID 2                           float64\n",
      "Empresa 2                       object\n",
      "Fecha Contrato 2                object\n",
      "Numero Lote 2                  float64\n",
      "Monto Adjudicado 2             float64\n",
      "Monto Anticipo 2               float64\n",
      "Pago2 1                        float64\n",
      "Pago2 2                        float64\n",
      "Adenda Contrato 2              float64\n",
      "Cantidad Notebook Tipologia    float64\n",
      "Tipologia Notebook              object\n",
      "Costo Tipologia                float64\n",
      "Cantidad Notebook                int64\n",
      "Cantidad Impresora               int64\n",
      "Cantidad Proyector               int64\n",
      "Cantidad Carrito                 int64\n",
      "Cantidad AP                      int64\n",
      "Cantidad Router                  int64\n",
      "Cantidad UPS                     int64\n",
      "Cantidad Servidor                int64\n",
      "Cantidad Software                int64\n",
      "Cantidad Tablet                  int64\n",
      "Cantidad TV                      int64\n",
      "Cantidad Amplificador            int64\n",
      "Fecha Acta Engrega              object\n",
      "Tiene Seguro                   float64\n",
      "Matricula del Local Escolar    float64\n",
      "Cantidad de Instituciones      float64\n",
      "Educacion Inicial              float64\n",
      "Educacion Escolar Basica       float64\n",
      "Educacion Media                float64\n",
      "Educacion Permanente           float64\n",
      "dtype: object\n"
     ]
    }
   ],
   "source": [
    "import pandas as pd\n",
    "\n",
    "# Definir los tipos de datos esperados según el diccionario de datos\n",
    "tipos_datos_esperados = {\n",
    "    'Nº': 'float64',\n",
    "    'SNIP': 'float64',\n",
    "    'Proyecto': 'object',\n",
    "    'Codigo de Establecimiento': 'float64',\n",
    "    'Codigo de Institucion': 'float64',\n",
    "    'Establecimiento': 'object',\n",
    "    'Departamento': 'object',\n",
    "    'Distrito': 'object',\n",
    "    'Categoria': 'object',\n",
    "    'Latitud': 'object',\n",
    "    'Longitud': 'object',\n",
    "    'Sector': 'object',\n",
    "    'Tipo Zona': 'object',\n",
    "    'CAI': 'object',\n",
    "    'Indigena': 'object',\n",
    "    'Licitacion 1': 'object',\n",
    "    'ID 1': 'float64',\n",
    "    'Empresa 1': 'object',\n",
    "    'Fecha Contrato 1': 'object',\n",
    "    'Numero Lote 1': 'float64',\n",
    "    'Monto Adjudicado 1': 'float64',\n",
    "    'Monto Anticipo 1': 'float64',\n",
    "    'Pago1 1': 'float64',\n",
    "    'Pago1 2': 'float64',\n",
    "    'Adenda Contrato 1': 'float64',\n",
    "    'Licitacion 2': 'float64',\n",
    "    'ID 2': 'float64',\n",
    "    'Empresa 2': 'object',\n",
    "    'Fecha Contrato 2': 'object',\n",
    "    'Numero Lote 2': 'float64',\n",
    "    'Monto Adjudicado 2': 'float64',\n",
    "    'Monto Anticipo 2': 'float64',\n",
    "    'Pago2 1': 'float64',\n",
    "    'Pago2 2': 'float64',\n",
    "    'Adenda Contrato 2': 'float64',\n",
    "    'Cantidad Notebook Tipologia': 'float64',\n",
    "    'Tipologia Notebook': 'object',\n",
    "    'Costo Tipologia': 'float64',\n",
    "    'Cantidad Notebook': 'int64',\n",
    "    'Cantidad Impresora': 'int64',\n",
    "    'Cantidad Proyector': 'int64',\n",
    "    'Cantidad Carrito': 'int64',\n",
    "    'Cantidad AP': 'int64',\n",
    "    'Cantidad Router': 'int64',\n",
    "    'Cantidad UPS': 'int64',\n",
    "    'Cantidad Servidor': 'int64',\n",
    "    'Cantidad Software': 'int64',\n",
    "    'Cantidad Tablet': 'int64',\n",
    "    'Cantidad TV': 'int64',\n",
    "    'Cantidad Amplificador': 'int64',\n",
    "    'Fecha Acta Engrega': 'object',\n",
    "    'Tiene Seguro': 'float64',\n",
    "    'Matricula del Local Escolar': 'float64',\n",
    "    'Cantidad de Instituciones': 'float64',\n",
    "    'Educacion Inicial': 'float64',\n",
    "    'Educacion Escolar Basica': 'float64',\n",
    "    'Educacion Media': 'float64',\n",
    "    'Educacion Permanente': 'float64'\n",
    "}\n",
    "\n",
    "# Leer el archivo Excel\n",
    "#archivo_excel = 'tu_archivo.xlsx'\n",
    "#df = pd.read_excel(archivo_excel)\n",
    "\n",
    "# Intentar convertir las columnas a los tipos indicados\n",
    "for columna, tipo in tipos_datos_esperados.items():\n",
    "    try:\n",
    "        df[columna] = df[columna].astype(tipo)\n",
    "        print(f\"Columna '{columna}' convertida a {tipo} exitosamente.\")\n",
    "    except Exception as e:\n",
    "        print(f\"Error al convertir la columna '{columna}' a {tipo}: {e}\")\n",
    "\n",
    "# Verificar los tipos de datos finales\n",
    "print(df.dtypes)\n"
   ]
  },
  {
   "cell_type": "code",
   "execution_count": 35,
   "metadata": {},
   "outputs": [],
   "source": [
    "df['Fecha Contrato 1'] = pd.to_datetime(df['Fecha Contrato 1'], errors='coerce')\n",
    "\n"
   ]
  },
  {
   "cell_type": "code",
   "execution_count": 36,
   "metadata": {},
   "outputs": [],
   "source": [
    "# Convertir la columna 'Proyecto' a tipo string\n",
    "df['Proyecto'] = df['Proyecto'].astype(str)\n"
   ]
  },
  {
   "cell_type": "code",
   "execution_count": 27,
   "metadata": {},
   "outputs": [
    {
     "name": "stdout",
     "output_type": "stream",
     "text": [
      "<class 'pandas.core.frame.DataFrame'>\n",
      "RangeIndex: 8534 entries, 0 to 8533\n",
      "Data columns (total 58 columns):\n",
      " #   Column                       Non-Null Count  Dtype         \n",
      "---  ------                       --------------  -----         \n",
      " 0   Nº                           8532 non-null   float64       \n",
      " 1   SNIP                         8533 non-null   float64       \n",
      " 2   Proyecto                     8534 non-null   object        \n",
      " 3   Codigo de Establecimiento    7905 non-null   float64       \n",
      " 4   Codigo de Institucion        7899 non-null   float64       \n",
      " 5   Establecimiento              8533 non-null   object        \n",
      " 6   Departamento                 8533 non-null   object        \n",
      " 7   Distrito                     8531 non-null   object        \n",
      " 8   Categoria                    8533 non-null   object        \n",
      " 9   Latitud                      7762 non-null   object        \n",
      " 10  Longitud                     7762 non-null   object        \n",
      " 11  Sector                       7267 non-null   object        \n",
      " 12  Tipo Zona                    7265 non-null   object        \n",
      " 13  CAI                          7272 non-null   object        \n",
      " 14  Indigena                     7272 non-null   object        \n",
      " 15  Licitacion 1                 8533 non-null   object        \n",
      " 16  ID 1                         8533 non-null   float64       \n",
      " 17  Empresa 1                    8533 non-null   object        \n",
      " 18  Fecha Contrato 1             8533 non-null   datetime64[ns]\n",
      " 19  Numero Lote 1                8533 non-null   float64       \n",
      " 20  Monto Adjudicado 1           8533 non-null   float64       \n",
      " 21  Monto Anticipo 1             8533 non-null   float64       \n",
      " 22  Pago1 1                      8533 non-null   float64       \n",
      " 23  Pago1 2                      8533 non-null   float64       \n",
      " 24  Adenda Contrato 1            0 non-null      float64       \n",
      " 25  Licitacion 2                 0 non-null      float64       \n",
      " 26  ID 2                         0 non-null      float64       \n",
      " 27  Empresa 2                    0 non-null      object        \n",
      " 28  Fecha Contrato 2             0 non-null      object        \n",
      " 29  Numero Lote 2                0 non-null      float64       \n",
      " 30  Monto Adjudicado 2           8533 non-null   float64       \n",
      " 31  Monto Anticipo 2             8533 non-null   float64       \n",
      " 32  Pago2 1                      8533 non-null   float64       \n",
      " 33  Pago2 2                      8533 non-null   float64       \n",
      " 34  Adenda Contrato 2            0 non-null      float64       \n",
      " 35  Cantidad Notebook Tipologia  8533 non-null   float64       \n",
      " 36  Tipologia Notebook           50 non-null     object        \n",
      " 37  Costo Tipologia              8533 non-null   float64       \n",
      " 38  Cantidad Notebook            8534 non-null   int64         \n",
      " 39  Cantidad Impresora           8534 non-null   int64         \n",
      " 40  Cantidad Proyector           8534 non-null   int64         \n",
      " 41  Cantidad Carrito             8534 non-null   int64         \n",
      " 42  Cantidad AP                  8534 non-null   int64         \n",
      " 43  Cantidad Router              8534 non-null   int64         \n",
      " 44  Cantidad UPS                 8534 non-null   int64         \n",
      " 45  Cantidad Servidor            8534 non-null   int64         \n",
      " 46  Cantidad Software            8534 non-null   int64         \n",
      " 47  Cantidad Tablet              8534 non-null   int64         \n",
      " 48  Cantidad TV                  8534 non-null   int64         \n",
      " 49  Cantidad Amplificador        8534 non-null   int64         \n",
      " 50  Fecha Acta Engrega           5940 non-null   object        \n",
      " 51  Tiene Seguro                 8533 non-null   float64       \n",
      " 52  Matricula del Local Escolar  8533 non-null   float64       \n",
      " 53  Cantidad de Instituciones    8533 non-null   float64       \n",
      " 54  Educacion Inicial            8533 non-null   float64       \n",
      " 55  Educacion Escolar Basica     8533 non-null   float64       \n",
      " 56  Educacion Media              8533 non-null   float64       \n",
      " 57  Educacion Permanente         8533 non-null   float64       \n",
      "dtypes: datetime64[ns](1), float64(28), int64(12), object(17)\n",
      "memory usage: 3.8+ MB\n",
      "None\n"
     ]
    }
   ],
   "source": [
    "print(df.info())"
   ]
  },
  {
   "cell_type": "code",
   "execution_count": 5,
   "metadata": {},
   "outputs": [
    {
     "name": "stdout",
     "output_type": "stream",
     "text": [
      "    Departamento  Monto Adjudicado 1  Cantidad de Instituciones\n",
      "0  Alto Paraguay        5.612800e+07                         15\n",
      "1    Alto Paraná        4.585034e+09                        292\n",
      "2        Amambay        9.152814e+08                         54\n",
      "3       Boqueron        4.535659e+08                         47\n",
      "4       Caaguazú        3.020685e+09                        159\n"
     ]
    },
    {
     "data": {
      "application/vnd.plotly.v1+json": {
       "config": {
        "plotlyServerURL": "https://plot.ly"
       },
       "data": [
        {
         "hovertemplate": "Departamento=Alto Paraguay<br>Monto Adjudicado=%{x}<br>Cantidad de Instituciones=%{y}<extra></extra>",
         "legendgroup": "Alto Paraguay",
         "marker": {
          "color": "#636efa",
          "symbol": "circle"
         },
         "mode": "markers",
         "name": "Alto Paraguay",
         "orientation": "v",
         "showlegend": true,
         "type": "scatter",
         "x": [
          56128000
         ],
         "xaxis": "x",
         "y": [
          15
         ],
         "yaxis": "y"
        },
        {
         "hovertemplate": "Departamento=Alto Paraná<br>Monto Adjudicado=%{x}<br>Cantidad de Instituciones=%{y}<extra></extra>",
         "legendgroup": "Alto Paraná",
         "marker": {
          "color": "#EF553B",
          "symbol": "circle"
         },
         "mode": "markers",
         "name": "Alto Paraná",
         "orientation": "v",
         "showlegend": true,
         "type": "scatter",
         "x": [
          4585034318
         ],
         "xaxis": "x",
         "y": [
          292
         ],
         "yaxis": "y"
        },
        {
         "hovertemplate": "Departamento=Amambay<br>Monto Adjudicado=%{x}<br>Cantidad de Instituciones=%{y}<extra></extra>",
         "legendgroup": "Amambay",
         "marker": {
          "color": "#00cc96",
          "symbol": "circle"
         },
         "mode": "markers",
         "name": "Amambay",
         "orientation": "v",
         "showlegend": true,
         "type": "scatter",
         "x": [
          915281367
         ],
         "xaxis": "x",
         "y": [
          54
         ],
         "yaxis": "y"
        },
        {
         "hovertemplate": "Departamento=Boqueron<br>Monto Adjudicado=%{x}<br>Cantidad de Instituciones=%{y}<extra></extra>",
         "legendgroup": "Boqueron",
         "marker": {
          "color": "#ab63fa",
          "symbol": "circle"
         },
         "mode": "markers",
         "name": "Boqueron",
         "orientation": "v",
         "showlegend": true,
         "type": "scatter",
         "x": [
          453565862
         ],
         "xaxis": "x",
         "y": [
          47
         ],
         "yaxis": "y"
        },
        {
         "hovertemplate": "Departamento=Caaguazú<br>Monto Adjudicado=%{x}<br>Cantidad de Instituciones=%{y}<extra></extra>",
         "legendgroup": "Caaguazú",
         "marker": {
          "color": "#FFA15A",
          "symbol": "circle"
         },
         "mode": "markers",
         "name": "Caaguazú",
         "orientation": "v",
         "showlegend": true,
         "type": "scatter",
         "x": [
          3020685495
         ],
         "xaxis": "x",
         "y": [
          159
         ],
         "yaxis": "y"
        },
        {
         "hovertemplate": "Departamento=Caazapá<br>Monto Adjudicado=%{x}<br>Cantidad de Instituciones=%{y}<extra></extra>",
         "legendgroup": "Caazapá",
         "marker": {
          "color": "#19d3f3",
          "symbol": "circle"
         },
         "mode": "markers",
         "name": "Caazapá",
         "orientation": "v",
         "showlegend": true,
         "type": "scatter",
         "x": [
          718059537
         ],
         "xaxis": "x",
         "y": [
          50
         ],
         "yaxis": "y"
        },
        {
         "hovertemplate": "Departamento=Canindeyú<br>Monto Adjudicado=%{x}<br>Cantidad de Instituciones=%{y}<extra></extra>",
         "legendgroup": "Canindeyú",
         "marker": {
          "color": "#FF6692",
          "symbol": "circle"
         },
         "mode": "markers",
         "name": "Canindeyú",
         "orientation": "v",
         "showlegend": true,
         "type": "scatter",
         "x": [
          1209091815
         ],
         "xaxis": "x",
         "y": [
          86
         ],
         "yaxis": "y"
        },
        {
         "hovertemplate": "Departamento=Capital<br>Monto Adjudicado=%{x}<br>Cantidad de Instituciones=%{y}<extra></extra>",
         "legendgroup": "Capital",
         "marker": {
          "color": "#B6E880",
          "symbol": "circle"
         },
         "mode": "markers",
         "name": "Capital",
         "orientation": "v",
         "showlegend": true,
         "type": "scatter",
         "x": [
          3406214372
         ],
         "xaxis": "x",
         "y": [
          184
         ],
         "yaxis": "y"
        },
        {
         "hovertemplate": "Departamento=Central<br>Monto Adjudicado=%{x}<br>Cantidad de Instituciones=%{y}<extra></extra>",
         "legendgroup": "Central",
         "marker": {
          "color": "#FF97FF",
          "symbol": "circle"
         },
         "mode": "markers",
         "name": "Central",
         "orientation": "v",
         "showlegend": true,
         "type": "scatter",
         "x": [
          14601531267
         ],
         "xaxis": "x",
         "y": [
          779
         ],
         "yaxis": "y"
        },
        {
         "hovertemplate": "Departamento=Concepción<br>Monto Adjudicado=%{x}<br>Cantidad de Instituciones=%{y}<extra></extra>",
         "legendgroup": "Concepción",
         "marker": {
          "color": "#FECB52",
          "symbol": "circle"
         },
         "mode": "markers",
         "name": "Concepción",
         "orientation": "v",
         "showlegend": true,
         "type": "scatter",
         "x": [
          1542119102
         ],
         "xaxis": "x",
         "y": [
          95
         ],
         "yaxis": "y"
        },
        {
         "hovertemplate": "Departamento=Cordillera<br>Monto Adjudicado=%{x}<br>Cantidad de Instituciones=%{y}<extra></extra>",
         "legendgroup": "Cordillera",
         "marker": {
          "color": "#636efa",
          "symbol": "circle"
         },
         "mode": "markers",
         "name": "Cordillera",
         "orientation": "v",
         "showlegend": true,
         "type": "scatter",
         "x": [
          2649069035
         ],
         "xaxis": "x",
         "y": [
          135
         ],
         "yaxis": "y"
        },
        {
         "hovertemplate": "Departamento=Guairá<br>Monto Adjudicado=%{x}<br>Cantidad de Instituciones=%{y}<extra></extra>",
         "legendgroup": "Guairá",
         "marker": {
          "color": "#EF553B",
          "symbol": "circle"
         },
         "mode": "markers",
         "name": "Guairá",
         "orientation": "v",
         "showlegend": true,
         "type": "scatter",
         "x": [
          1353513475
         ],
         "xaxis": "x",
         "y": [
          71
         ],
         "yaxis": "y"
        },
        {
         "hovertemplate": "Departamento=Itapúa<br>Monto Adjudicado=%{x}<br>Cantidad de Instituciones=%{y}<extra></extra>",
         "legendgroup": "Itapúa",
         "marker": {
          "color": "#00cc96",
          "symbol": "circle"
         },
         "mode": "markers",
         "name": "Itapúa",
         "orientation": "v",
         "showlegend": true,
         "type": "scatter",
         "x": [
          3075604865
         ],
         "xaxis": "x",
         "y": [
          180
         ],
         "yaxis": "y"
        },
        {
         "hovertemplate": "Departamento=Misiones<br>Monto Adjudicado=%{x}<br>Cantidad de Instituciones=%{y}<extra></extra>",
         "legendgroup": "Misiones",
         "marker": {
          "color": "#ab63fa",
          "symbol": "circle"
         },
         "mode": "markers",
         "name": "Misiones",
         "orientation": "v",
         "showlegend": true,
         "type": "scatter",
         "x": [
          1645777288
         ],
         "xaxis": "x",
         "y": [
          91
         ],
         "yaxis": "y"
        },
        {
         "hovertemplate": "Departamento=Paraguarí<br>Monto Adjudicado=%{x}<br>Cantidad de Instituciones=%{y}<extra></extra>",
         "legendgroup": "Paraguarí",
         "marker": {
          "color": "#FFA15A",
          "symbol": "circle"
         },
         "mode": "markers",
         "name": "Paraguarí",
         "orientation": "v",
         "showlegend": true,
         "type": "scatter",
         "x": [
          2144984776
         ],
         "xaxis": "x",
         "y": [
          114
         ],
         "yaxis": "y"
        },
        {
         "hovertemplate": "Departamento=Presidente Hayes<br>Monto Adjudicado=%{x}<br>Cantidad de Instituciones=%{y}<extra></extra>",
         "legendgroup": "Presidente Hayes",
         "marker": {
          "color": "#19d3f3",
          "symbol": "circle"
         },
         "mode": "markers",
         "name": "Presidente Hayes",
         "orientation": "v",
         "showlegend": true,
         "type": "scatter",
         "x": [
          1058677848
         ],
         "xaxis": "x",
         "y": [
          113
         ],
         "yaxis": "y"
        },
        {
         "hovertemplate": "Departamento=San Pedro<br>Monto Adjudicado=%{x}<br>Cantidad de Instituciones=%{y}<extra></extra>",
         "legendgroup": "San Pedro",
         "marker": {
          "color": "#FF6692",
          "symbol": "circle"
         },
         "mode": "markers",
         "name": "San Pedro",
         "orientation": "v",
         "showlegend": true,
         "type": "scatter",
         "x": [
          2687535575
         ],
         "xaxis": "x",
         "y": [
          167
         ],
         "yaxis": "y"
        },
        {
         "hovertemplate": "Departamento=Territorio Nacional<br>Monto Adjudicado=%{x}<br>Cantidad de Instituciones=%{y}<extra></extra>",
         "legendgroup": "Territorio Nacional",
         "marker": {
          "color": "#B6E880",
          "symbol": "circle"
         },
         "mode": "markers",
         "name": "Territorio Nacional",
         "orientation": "v",
         "showlegend": true,
         "type": "scatter",
         "x": [
          29670695
         ],
         "xaxis": "x",
         "y": [
          1
         ],
         "yaxis": "y"
        },
        {
         "hovertemplate": "Departamento=Ñeembucú<br>Monto Adjudicado=%{x}<br>Cantidad de Instituciones=%{y}<extra></extra>",
         "legendgroup": "Ñeembucú",
         "marker": {
          "color": "#FF97FF",
          "symbol": "circle"
         },
         "mode": "markers",
         "name": "Ñeembucú",
         "orientation": "v",
         "showlegend": true,
         "type": "scatter",
         "x": [
          732166582
         ],
         "xaxis": "x",
         "y": [
          33
         ],
         "yaxis": "y"
        }
       ],
       "layout": {
        "legend": {
         "title": {
          "text": "Departamento"
         },
         "tracegroupgap": 0
        },
        "template": {
         "data": {
          "bar": [
           {
            "error_x": {
             "color": "#2a3f5f"
            },
            "error_y": {
             "color": "#2a3f5f"
            },
            "marker": {
             "line": {
              "color": "#E5ECF6",
              "width": 0.5
             },
             "pattern": {
              "fillmode": "overlay",
              "size": 10,
              "solidity": 0.2
             }
            },
            "type": "bar"
           }
          ],
          "barpolar": [
           {
            "marker": {
             "line": {
              "color": "#E5ECF6",
              "width": 0.5
             },
             "pattern": {
              "fillmode": "overlay",
              "size": 10,
              "solidity": 0.2
             }
            },
            "type": "barpolar"
           }
          ],
          "carpet": [
           {
            "aaxis": {
             "endlinecolor": "#2a3f5f",
             "gridcolor": "white",
             "linecolor": "white",
             "minorgridcolor": "white",
             "startlinecolor": "#2a3f5f"
            },
            "baxis": {
             "endlinecolor": "#2a3f5f",
             "gridcolor": "white",
             "linecolor": "white",
             "minorgridcolor": "white",
             "startlinecolor": "#2a3f5f"
            },
            "type": "carpet"
           }
          ],
          "choropleth": [
           {
            "colorbar": {
             "outlinewidth": 0,
             "ticks": ""
            },
            "type": "choropleth"
           }
          ],
          "contour": [
           {
            "colorbar": {
             "outlinewidth": 0,
             "ticks": ""
            },
            "colorscale": [
             [
              0,
              "#0d0887"
             ],
             [
              0.1111111111111111,
              "#46039f"
             ],
             [
              0.2222222222222222,
              "#7201a8"
             ],
             [
              0.3333333333333333,
              "#9c179e"
             ],
             [
              0.4444444444444444,
              "#bd3786"
             ],
             [
              0.5555555555555556,
              "#d8576b"
             ],
             [
              0.6666666666666666,
              "#ed7953"
             ],
             [
              0.7777777777777778,
              "#fb9f3a"
             ],
             [
              0.8888888888888888,
              "#fdca26"
             ],
             [
              1,
              "#f0f921"
             ]
            ],
            "type": "contour"
           }
          ],
          "contourcarpet": [
           {
            "colorbar": {
             "outlinewidth": 0,
             "ticks": ""
            },
            "type": "contourcarpet"
           }
          ],
          "heatmap": [
           {
            "colorbar": {
             "outlinewidth": 0,
             "ticks": ""
            },
            "colorscale": [
             [
              0,
              "#0d0887"
             ],
             [
              0.1111111111111111,
              "#46039f"
             ],
             [
              0.2222222222222222,
              "#7201a8"
             ],
             [
              0.3333333333333333,
              "#9c179e"
             ],
             [
              0.4444444444444444,
              "#bd3786"
             ],
             [
              0.5555555555555556,
              "#d8576b"
             ],
             [
              0.6666666666666666,
              "#ed7953"
             ],
             [
              0.7777777777777778,
              "#fb9f3a"
             ],
             [
              0.8888888888888888,
              "#fdca26"
             ],
             [
              1,
              "#f0f921"
             ]
            ],
            "type": "heatmap"
           }
          ],
          "heatmapgl": [
           {
            "colorbar": {
             "outlinewidth": 0,
             "ticks": ""
            },
            "colorscale": [
             [
              0,
              "#0d0887"
             ],
             [
              0.1111111111111111,
              "#46039f"
             ],
             [
              0.2222222222222222,
              "#7201a8"
             ],
             [
              0.3333333333333333,
              "#9c179e"
             ],
             [
              0.4444444444444444,
              "#bd3786"
             ],
             [
              0.5555555555555556,
              "#d8576b"
             ],
             [
              0.6666666666666666,
              "#ed7953"
             ],
             [
              0.7777777777777778,
              "#fb9f3a"
             ],
             [
              0.8888888888888888,
              "#fdca26"
             ],
             [
              1,
              "#f0f921"
             ]
            ],
            "type": "heatmapgl"
           }
          ],
          "histogram": [
           {
            "marker": {
             "pattern": {
              "fillmode": "overlay",
              "size": 10,
              "solidity": 0.2
             }
            },
            "type": "histogram"
           }
          ],
          "histogram2d": [
           {
            "colorbar": {
             "outlinewidth": 0,
             "ticks": ""
            },
            "colorscale": [
             [
              0,
              "#0d0887"
             ],
             [
              0.1111111111111111,
              "#46039f"
             ],
             [
              0.2222222222222222,
              "#7201a8"
             ],
             [
              0.3333333333333333,
              "#9c179e"
             ],
             [
              0.4444444444444444,
              "#bd3786"
             ],
             [
              0.5555555555555556,
              "#d8576b"
             ],
             [
              0.6666666666666666,
              "#ed7953"
             ],
             [
              0.7777777777777778,
              "#fb9f3a"
             ],
             [
              0.8888888888888888,
              "#fdca26"
             ],
             [
              1,
              "#f0f921"
             ]
            ],
            "type": "histogram2d"
           }
          ],
          "histogram2dcontour": [
           {
            "colorbar": {
             "outlinewidth": 0,
             "ticks": ""
            },
            "colorscale": [
             [
              0,
              "#0d0887"
             ],
             [
              0.1111111111111111,
              "#46039f"
             ],
             [
              0.2222222222222222,
              "#7201a8"
             ],
             [
              0.3333333333333333,
              "#9c179e"
             ],
             [
              0.4444444444444444,
              "#bd3786"
             ],
             [
              0.5555555555555556,
              "#d8576b"
             ],
             [
              0.6666666666666666,
              "#ed7953"
             ],
             [
              0.7777777777777778,
              "#fb9f3a"
             ],
             [
              0.8888888888888888,
              "#fdca26"
             ],
             [
              1,
              "#f0f921"
             ]
            ],
            "type": "histogram2dcontour"
           }
          ],
          "mesh3d": [
           {
            "colorbar": {
             "outlinewidth": 0,
             "ticks": ""
            },
            "type": "mesh3d"
           }
          ],
          "parcoords": [
           {
            "line": {
             "colorbar": {
              "outlinewidth": 0,
              "ticks": ""
             }
            },
            "type": "parcoords"
           }
          ],
          "pie": [
           {
            "automargin": true,
            "type": "pie"
           }
          ],
          "scatter": [
           {
            "fillpattern": {
             "fillmode": "overlay",
             "size": 10,
             "solidity": 0.2
            },
            "type": "scatter"
           }
          ],
          "scatter3d": [
           {
            "line": {
             "colorbar": {
              "outlinewidth": 0,
              "ticks": ""
             }
            },
            "marker": {
             "colorbar": {
              "outlinewidth": 0,
              "ticks": ""
             }
            },
            "type": "scatter3d"
           }
          ],
          "scattercarpet": [
           {
            "marker": {
             "colorbar": {
              "outlinewidth": 0,
              "ticks": ""
             }
            },
            "type": "scattercarpet"
           }
          ],
          "scattergeo": [
           {
            "marker": {
             "colorbar": {
              "outlinewidth": 0,
              "ticks": ""
             }
            },
            "type": "scattergeo"
           }
          ],
          "scattergl": [
           {
            "marker": {
             "colorbar": {
              "outlinewidth": 0,
              "ticks": ""
             }
            },
            "type": "scattergl"
           }
          ],
          "scattermapbox": [
           {
            "marker": {
             "colorbar": {
              "outlinewidth": 0,
              "ticks": ""
             }
            },
            "type": "scattermapbox"
           }
          ],
          "scatterpolar": [
           {
            "marker": {
             "colorbar": {
              "outlinewidth": 0,
              "ticks": ""
             }
            },
            "type": "scatterpolar"
           }
          ],
          "scatterpolargl": [
           {
            "marker": {
             "colorbar": {
              "outlinewidth": 0,
              "ticks": ""
             }
            },
            "type": "scatterpolargl"
           }
          ],
          "scatterternary": [
           {
            "marker": {
             "colorbar": {
              "outlinewidth": 0,
              "ticks": ""
             }
            },
            "type": "scatterternary"
           }
          ],
          "surface": [
           {
            "colorbar": {
             "outlinewidth": 0,
             "ticks": ""
            },
            "colorscale": [
             [
              0,
              "#0d0887"
             ],
             [
              0.1111111111111111,
              "#46039f"
             ],
             [
              0.2222222222222222,
              "#7201a8"
             ],
             [
              0.3333333333333333,
              "#9c179e"
             ],
             [
              0.4444444444444444,
              "#bd3786"
             ],
             [
              0.5555555555555556,
              "#d8576b"
             ],
             [
              0.6666666666666666,
              "#ed7953"
             ],
             [
              0.7777777777777778,
              "#fb9f3a"
             ],
             [
              0.8888888888888888,
              "#fdca26"
             ],
             [
              1,
              "#f0f921"
             ]
            ],
            "type": "surface"
           }
          ],
          "table": [
           {
            "cells": {
             "fill": {
              "color": "#EBF0F8"
             },
             "line": {
              "color": "white"
             }
            },
            "header": {
             "fill": {
              "color": "#C8D4E3"
             },
             "line": {
              "color": "white"
             }
            },
            "type": "table"
           }
          ]
         },
         "layout": {
          "annotationdefaults": {
           "arrowcolor": "#2a3f5f",
           "arrowhead": 0,
           "arrowwidth": 1
          },
          "autotypenumbers": "strict",
          "coloraxis": {
           "colorbar": {
            "outlinewidth": 0,
            "ticks": ""
           }
          },
          "colorscale": {
           "diverging": [
            [
             0,
             "#8e0152"
            ],
            [
             0.1,
             "#c51b7d"
            ],
            [
             0.2,
             "#de77ae"
            ],
            [
             0.3,
             "#f1b6da"
            ],
            [
             0.4,
             "#fde0ef"
            ],
            [
             0.5,
             "#f7f7f7"
            ],
            [
             0.6,
             "#e6f5d0"
            ],
            [
             0.7,
             "#b8e186"
            ],
            [
             0.8,
             "#7fbc41"
            ],
            [
             0.9,
             "#4d9221"
            ],
            [
             1,
             "#276419"
            ]
           ],
           "sequential": [
            [
             0,
             "#0d0887"
            ],
            [
             0.1111111111111111,
             "#46039f"
            ],
            [
             0.2222222222222222,
             "#7201a8"
            ],
            [
             0.3333333333333333,
             "#9c179e"
            ],
            [
             0.4444444444444444,
             "#bd3786"
            ],
            [
             0.5555555555555556,
             "#d8576b"
            ],
            [
             0.6666666666666666,
             "#ed7953"
            ],
            [
             0.7777777777777778,
             "#fb9f3a"
            ],
            [
             0.8888888888888888,
             "#fdca26"
            ],
            [
             1,
             "#f0f921"
            ]
           ],
           "sequentialminus": [
            [
             0,
             "#0d0887"
            ],
            [
             0.1111111111111111,
             "#46039f"
            ],
            [
             0.2222222222222222,
             "#7201a8"
            ],
            [
             0.3333333333333333,
             "#9c179e"
            ],
            [
             0.4444444444444444,
             "#bd3786"
            ],
            [
             0.5555555555555556,
             "#d8576b"
            ],
            [
             0.6666666666666666,
             "#ed7953"
            ],
            [
             0.7777777777777778,
             "#fb9f3a"
            ],
            [
             0.8888888888888888,
             "#fdca26"
            ],
            [
             1,
             "#f0f921"
            ]
           ]
          },
          "colorway": [
           "#636efa",
           "#EF553B",
           "#00cc96",
           "#ab63fa",
           "#FFA15A",
           "#19d3f3",
           "#FF6692",
           "#B6E880",
           "#FF97FF",
           "#FECB52"
          ],
          "font": {
           "color": "#2a3f5f"
          },
          "geo": {
           "bgcolor": "white",
           "lakecolor": "white",
           "landcolor": "#E5ECF6",
           "showlakes": true,
           "showland": true,
           "subunitcolor": "white"
          },
          "hoverlabel": {
           "align": "left"
          },
          "hovermode": "closest",
          "mapbox": {
           "style": "light"
          },
          "paper_bgcolor": "white",
          "plot_bgcolor": "#E5ECF6",
          "polar": {
           "angularaxis": {
            "gridcolor": "white",
            "linecolor": "white",
            "ticks": ""
           },
           "bgcolor": "#E5ECF6",
           "radialaxis": {
            "gridcolor": "white",
            "linecolor": "white",
            "ticks": ""
           }
          },
          "scene": {
           "xaxis": {
            "backgroundcolor": "#E5ECF6",
            "gridcolor": "white",
            "gridwidth": 2,
            "linecolor": "white",
            "showbackground": true,
            "ticks": "",
            "zerolinecolor": "white"
           },
           "yaxis": {
            "backgroundcolor": "#E5ECF6",
            "gridcolor": "white",
            "gridwidth": 2,
            "linecolor": "white",
            "showbackground": true,
            "ticks": "",
            "zerolinecolor": "white"
           },
           "zaxis": {
            "backgroundcolor": "#E5ECF6",
            "gridcolor": "white",
            "gridwidth": 2,
            "linecolor": "white",
            "showbackground": true,
            "ticks": "",
            "zerolinecolor": "white"
           }
          },
          "shapedefaults": {
           "line": {
            "color": "#2a3f5f"
           }
          },
          "ternary": {
           "aaxis": {
            "gridcolor": "white",
            "linecolor": "white",
            "ticks": ""
           },
           "baxis": {
            "gridcolor": "white",
            "linecolor": "white",
            "ticks": ""
           },
           "bgcolor": "#E5ECF6",
           "caxis": {
            "gridcolor": "white",
            "linecolor": "white",
            "ticks": ""
           }
          },
          "title": {
           "x": 0.05
          },
          "xaxis": {
           "automargin": true,
           "gridcolor": "white",
           "linecolor": "white",
           "ticks": "",
           "title": {
            "standoff": 15
           },
           "zerolinecolor": "white",
           "zerolinewidth": 2
          },
          "yaxis": {
           "automargin": true,
           "gridcolor": "white",
           "linecolor": "white",
           "ticks": "",
           "title": {
            "standoff": 15
           },
           "zerolinecolor": "white",
           "zerolinewidth": 2
          }
         }
        },
        "title": {
         "text": "Monto Adjudicado vs Cantidad de Instituciones"
        },
        "xaxis": {
         "anchor": "y",
         "domain": [
          0,
          1
         ],
         "title": {
          "text": "Monto Adjudicado"
         }
        },
        "yaxis": {
         "anchor": "x",
         "domain": [
          0,
          1
         ],
         "title": {
          "text": "Cantidad de Instituciones"
         }
        }
       }
      }
     },
     "metadata": {},
     "output_type": "display_data"
    }
   ],
   "source": [
    "import pandas as pd\n",
    "import plotly.express as px\n",
    "\n",
    "# Supongamos que ya has leído tu archivo Excel en un DataFrame llamado df\n",
    "# df = pd.read_excel('tu_archivo.xlsx', sheet_name='DISPOSITIVOS')\n",
    "\n",
    "# Agrupar por 'Departamento' y sumar 'Monto Adjudicado 1' y 'Cantidad de Instituciones'\n",
    "df_agrupado = df.groupby('Departamento').agg({\n",
    "    'Monto Adjudicado 1': 'sum',\n",
    "    'Cantidad de Instituciones': 'sum'\n",
    "}).reset_index()\n",
    "\n",
    "# Ver los primeros registros del DataFrame agrupado\n",
    "print(df_agrupado.head())\n",
    "\n",
    "# Crear un gráfico de dispersión (scatter) usando Plotly Express\n",
    "fig = px.scatter(\n",
    "    df_agrupado,\n",
    "    x='Monto Adjudicado 1',       # Eje X: Monto Adjudicado\n",
    "    y='Cantidad de Instituciones',  # Eje Y: Cantidad de Instituciones\n",
    "    color='Departamento',           # Colorear por Departamento\n",
    "    title='Monto Adjudicado vs Cantidad de Instituciones',\n",
    "    labels={\n",
    "        'Monto Adjudicado 1': 'Monto Adjudicado',\n",
    "        'Cantidad de Instituciones': 'Cantidad de Instituciones'\n",
    "    }\n",
    ")\n",
    "\n",
    "# Mostrar el gráfico\n",
    "fig.show()\n",
    "\n",
    "# Opcional: guardar el DataFrame agrupado en un archivo CSV\n",
    "df_agrupado.to_csv('../data/uepp/df_agrupado_conectividad.csv', index=False)\n",
    "\n"
   ]
  },
  {
   "cell_type": "code",
   "execution_count": 33,
   "metadata": {},
   "outputs": [
    {
     "name": "stdout",
     "output_type": "stream",
     "text": [
      "      Departamento  Monto Adjudicado 1  Cantidad Notebook\n",
      "0      A. PARAGUAY        1.015661e+07                  0\n",
      "1        A. PARANÁ        3.520991e+08                 12\n",
      "2    ALTO PARAGUAY        7.348085e+07                  6\n",
      "3      ALTO PARANÁ        3.579877e+07                  0\n",
      "4          AMAMBAY        1.699394e+08                 12\n",
      "..             ...                 ...                ...\n",
      "154      ÑEEMBUCÚ         2.297769e+07                  0\n",
      "155       Ñacunday        5.101411e+07                 10\n",
      "156       Ñeembucú        2.528014e+09                398\n",
      "157          Ñemby        1.389332e+08                 30\n",
      "158           Ñumí        5.101411e+07                 10\n",
      "\n",
      "[159 rows x 3 columns]\n"
     ]
    }
   ],
   "source": [
    "# Ver los primeros registros del DataFrame agrupado\n",
    "print(df_agrupado.head(500))"
   ]
  },
  {
   "cell_type": "code",
   "execution_count": 34,
   "metadata": {},
   "outputs": [],
   "source": [
    "# Guardar en una ruta específica\n",
    "df_agrupado.head(500).to_csv('../data/uepp/df_agrupado_500.csv', index=False)\n"
   ]
  }
 ],
 "metadata": {
  "kernelspec": {
   "display_name": "bootcamp_mitic",
   "language": "python",
   "name": "python3"
  },
  "language_info": {
   "codemirror_mode": {
    "name": "ipython",
    "version": 3
   },
   "file_extension": ".py",
   "mimetype": "text/x-python",
   "name": "python",
   "nbconvert_exporter": "python",
   "pygments_lexer": "ipython3",
   "version": "3.11.10"
  }
 },
 "nbformat": 4,
 "nbformat_minor": 2
}
