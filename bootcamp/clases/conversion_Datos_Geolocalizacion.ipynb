{
 "cells": [
  {
   "cell_type": "code",
   "execution_count": 5,
   "metadata": {},
   "outputs": [
    {
     "name": "stdout",
     "output_type": "stream",
     "text": [
      "Coordenada en formato decimal - Latitud: -25.271000555555556, Longitud: -57.491034166666665\n"
     ]
    }
   ],
   "source": [
    "def dms_to_decimal(dms_str):\n",
    "    # Quitar el símbolo de grados y la dirección\n",
    "    dms_str = dms_str.replace('º', ' ').replace(\"'\", ' ').replace('\"', '').strip()\n",
    "    \n",
    "    # Separar los componentes\n",
    "    parts = dms_str.split()\n",
    "    \n",
    "    # Asignar grados, minutos y segundos\n",
    "    degrees = int(parts[0])\n",
    "    minutes = int(parts[1])\n",
    "    seconds = float(parts[2][:-1])  # Eliminar la dirección al final (ej: \"15.602S\" se convierte en \"15.602\")\n",
    "    \n",
    "    # Determinar la dirección\n",
    "    direction = parts[2][-1]  # Último carácter de segundos para obtener la dirección\n",
    "\n",
    "    # Convertir DMS a decimal\n",
    "    decimal = degrees + (minutes / 60) + (seconds / 3600)\n",
    "\n",
    "    # Ajustar el signo según la dirección\n",
    "    if direction in ['S', 'W']:\n",
    "        decimal = -decimal\n",
    "\n",
    "    return decimal\n",
    "\n",
    "# Ejemplo de uso\n",
    "latitud = \"25º16'15.602\\\"S\"\n",
    "longitud = \"57º29'27.723\\\"W\"\n",
    "\n",
    "resultado_decimal_latitud = dms_to_decimal(latitud)\n",
    "resultado_decimal_longitud = dms_to_decimal(longitud)\n",
    "\n",
    "print(f\"Coordenada en formato decimal - Latitud: {resultado_decimal_latitud}, Longitud: {resultado_decimal_longitud}\")\n"
   ]
  }
 ],
 "metadata": {
  "kernelspec": {
   "display_name": "bootcamp_mitic",
   "language": "python",
   "name": "python3"
  },
  "language_info": {
   "codemirror_mode": {
    "name": "ipython",
    "version": 3
   },
   "file_extension": ".py",
   "mimetype": "text/x-python",
   "name": "python",
   "nbconvert_exporter": "python",
   "pygments_lexer": "ipython3",
   "version": "3.11.10"
  }
 },
 "nbformat": 4,
 "nbformat_minor": 2
}
