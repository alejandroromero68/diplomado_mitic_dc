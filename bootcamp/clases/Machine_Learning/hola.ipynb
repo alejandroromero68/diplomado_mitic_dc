{
 "cells": [
  {
   "cell_type": "code",
   "execution_count": null,
   "metadata": {
    "vscode": {
     "languageId": "plaintext"
    }
   },
   "outputs": [],
   "source": [
    "# Rellenar valores nulos con la media (si los datos no tienen valores atípicos importantes)\n",
    "df['bore'].fillna(df['bore'].mean(), inplace=True)\n",
    "df['stroke'].fillna(df['stroke'].mean(), inplace=True)\n",
    "df['horsepower'].fillna(df['horsepower'].mean(), inplace=True)\n",
    "df['peak-rpm'].fillna(df['peak-rpm'].mean(), inplace=True)\n",
    "df['price'].fillna(df['price'].mean(), inplace=True)\n"
   ]
  },
  {
   "cell_type": "code",
   "execution_count": null,
   "metadata": {
    "vscode": {
     "languageId": "plaintext"
    }
   },
   "outputs": [],
   "source": [
    "conversion_dict = {\n",
    "    \"symboling\": \"int64\",\n",
    "    \"normalized-losses\": \"float64\",  # Probablemente numérico, convertido a float\n",
    "    \"make\": \"category\",  # Puede categorizarse\n",
    "    \"fuel-type\": \"category\",\n",
    "    \"aspiration\": \"category\",\n",
    "    \"num-of-doors\": \"category\",  # Puede categorizarse si tiene valores específicos como 2 o 4 puertas\n",
    "    \"body-style\": \"category\",\n",
    "    \"drive-wheels\": \"category\",\n",
    "    \"engine-location\": \"category\",\n",
    "    \"wheel-base\": \"float64\",\n",
    "    \"length\": \"float64\",\n",
    "    \"width\": \"float64\",\n",
    "    \"height\": \"float64\",\n",
    "    \"curb-weight\": \"int64\",\n",
    "    \"engine-type\": \"category\",\n",
    "    \"num-of-cylinders\": \"category\",  # Puede categorizarse o convertise a numérico si se requiere\n",
    "    \"engine-size\": \"int64\",\n",
    "    \"fuel-system\": \"category\",\n",
    "    \"bore\": \"float64\",  # Convertir a float, si es numérico\n",
    "    \"stroke\": \"float64\",  # Convertir a float, si es numérico\n",
    "    \"compression-ratio\": \"float64\",\n",
    "    \"horsepower\": \"float64\",  # Convertir a float, si es numérico\n",
    "    \"peak-rpm\": \"float64\",  # Convertir a float, si es numérico\n",
    "    \"city-mpg\": \"int64\",\n",
    "    \"highway-mpg\": \"int64\",\n",
    "    \"price\": \"float64\"  # Convertir a float, si es numérico\n",
    "}\n"
   ]
  },
  {
   "cell_type": "code",
   "execution_count": null,
   "metadata": {
    "vscode": {
     "languageId": "plaintext"
    }
   },
   "outputs": [],
   "source": [
    "import pandas as pd\n",
    "\n",
    "# Supongamos que el dataset está cargado en una variable llamada df\n",
    "for column, dtype in conversion_dict.items():\n",
    "    try:\n",
    "        df[column] = df[column].astype(dtype)\n",
    "    except ValueError:\n",
    "        print(f\"Error al convertir la columna {column} a {dtype}\")\n"
   ]
  }
 ],
 "metadata": {
  "language_info": {
   "name": "python"
  }
 },
 "nbformat": 4,
 "nbformat_minor": 2
}
