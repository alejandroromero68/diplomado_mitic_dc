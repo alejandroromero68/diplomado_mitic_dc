{
 "cells": [
  {
   "cell_type": "markdown",
   "metadata": {},
   "source": [
    "## **Árboles de Decisión para Regresión: Construcción de Modelos y Aplicaciones Prácticas**\n",
    "\n",
    "\n",
    "\n"
   ]
  },
  {
   "cell_type": "code",
   "execution_count": 1,
   "metadata": {},
   "outputs": [
    {
     "name": "stdout",
     "output_type": "stream",
     "text": [
      "   Home   Price  SqFt  Bedrooms  Bathrooms  Offers Brick Neighborhood\n",
      "0     1  114300  1790         2          2       2    No         East\n",
      "1     2  114200  2030         4          2       3    No         East\n",
      "2     3  114800  1740         3          2       1    No         East\n",
      "3     4   94700  1980         3          2       3    No         East\n",
      "4     5  119800  2130         3          3       3    No         East\n",
      "             Home          Price         SqFt    Bedrooms   Bathrooms  \\\n",
      "count  128.000000     128.000000   128.000000  128.000000  128.000000   \n",
      "mean    64.500000  130427.343750  2000.937500    3.023438    2.445312   \n",
      "std     37.094474   26868.770371   211.572431    0.725951    0.514492   \n",
      "min      1.000000   69100.000000  1450.000000    2.000000    2.000000   \n",
      "25%     32.750000  111325.000000  1880.000000    3.000000    2.000000   \n",
      "50%     64.500000  125950.000000  2000.000000    3.000000    2.000000   \n",
      "75%     96.250000  148250.000000  2140.000000    3.000000    3.000000   \n",
      "max    128.000000  211200.000000  2590.000000    5.000000    4.000000   \n",
      "\n",
      "           Offers  \n",
      "count  128.000000  \n",
      "mean     2.578125  \n",
      "std      1.069324  \n",
      "min      1.000000  \n",
      "25%      2.000000  \n",
      "50%      3.000000  \n",
      "75%      3.000000  \n",
      "max      6.000000  \n",
      "Error Cuadrático Medio: 653186410.2564102\n",
      "R-cuadrado: -0.08398246488850147\n"
     ]
    }
   ],
   "source": [
    "import pandas as pd\n",
    "from sklearn.model_selection import train_test_split\n",
    "from sklearn.preprocessing import StandardScaler\n",
    "from sklearn.tree import DecisionTreeRegressor\n",
    "from sklearn.metrics import mean_squared_error, r2_score\n",
    "\n",
    "data = pd.read_csv('../../data/ml/house-prices.csv')\n",
    "\n",
    "# Exploración de datos\n",
    "print(data.head())\n",
    "print(data.describe())\n",
    "\n",
    "# Separar variables predictoras y objetivo\n",
    "X = data[['SqFt', 'Bedrooms']]\n",
    "y = data['Price']\n",
    "\n",
    "# Dividir los datos en conjuntos de entrenamiento y prueba\n",
    "X_train, X_test, y_train, y_test = train_test_split(X, y, test_size=0.3, random_state=0)\n",
    "\n",
    "# Escalado de datos\n",
    "scaler = StandardScaler()\n",
    "X_train = scaler.fit_transform(X_train)\n",
    "X_test = scaler.transform(X_test)\n",
    "\n",
    "# Entrenamiento del modelo Árbol de Decisión\n",
    "tree = DecisionTreeRegressor(random_state=0)\n",
    "tree.fit(X_train, y_train)\n",
    "\n",
    "# Realizar predicciones\n",
    "y_pred = tree.predict(X_test)\n",
    "\n",
    "# Evaluar el modelo\n",
    "mse = mean_squared_error(y_test, y_pred)\n",
    "r2 = r2_score(y_test, y_pred)\n",
    "print(f'Error Cuadrático Medio: {mse}')\n",
    "print(f'R-cuadrado: {r2}')"
   ]
  },
  {
   "cell_type": "markdown",
   "metadata": {},
   "source": [
    "**Poda del Árbol**\n",
    " \n",
    "Podemos ajustar el modelo para evitar el sobreajuste limitando la profundidad del árbol o el número mínimo de muestras en una hoja."
   ]
  },
  {
   "cell_type": "code",
   "execution_count": 2,
   "metadata": {},
   "outputs": [
    {
     "name": "stdout",
     "output_type": "stream",
     "text": [
      "Error Cuadrático Medio (Podado): 624362959.2053138\n",
      "R-cuadrado (Podado): -0.036149082218008166\n"
     ]
    }
   ],
   "source": [
    "# Entrenamiento del modelo con poda\n",
    "tree_pruned = DecisionTreeRegressor(max_depth=3, random_state=0)\n",
    "tree_pruned.fit(X_train, y_train)\n",
    "\n",
    "# Realizar predicciones\n",
    "y_pred_pruned = tree_pruned.predict(X_test)\n",
    "\n",
    "# Evaluar el modelo podado\n",
    "mse_pruned = mean_squared_error(y_test, y_pred_pruned)\n",
    "r2_pruned = r2_score(y_test, y_pred_pruned)\n",
    "print(f'Error Cuadrático Medio (Podado): {mse_pruned}')\n",
    "print(f'R-cuadrado (Podado): {r2_pruned}')"
   ]
  },
  {
   "cell_type": "code",
   "execution_count": 4,
   "metadata": {},
   "outputs": [
    {
     "name": "stdout",
     "output_type": "stream",
     "text": [
      "<class 'pandas.core.frame.DataFrame'>\n",
      "RangeIndex: 128 entries, 0 to 127\n",
      "Data columns (total 8 columns):\n",
      " #   Column        Non-Null Count  Dtype \n",
      "---  ------        --------------  ----- \n",
      " 0   Home          128 non-null    int64 \n",
      " 1   Price         128 non-null    int64 \n",
      " 2   SqFt          128 non-null    int64 \n",
      " 3   Bedrooms      128 non-null    int64 \n",
      " 4   Bathrooms     128 non-null    int64 \n",
      " 5   Offers        128 non-null    int64 \n",
      " 6   Brick         128 non-null    object\n",
      " 7   Neighborhood  128 non-null    object\n",
      "dtypes: int64(6), object(2)\n",
      "memory usage: 8.1+ KB\n"
     ]
    }
   ],
   "source": [
    "data.info()"
   ]
  }
 ],
 "metadata": {
  "kernelspec": {
   "display_name": "bootcamp_mitic",
   "language": "python",
   "name": "python3"
  },
  "language_info": {
   "codemirror_mode": {
    "name": "ipython",
    "version": 3
   },
   "file_extension": ".py",
   "mimetype": "text/x-python",
   "name": "python",
   "nbconvert_exporter": "python",
   "pygments_lexer": "ipython3",
   "version": "3.11.10"
  }
 },
 "nbformat": 4,
 "nbformat_minor": 2
}
