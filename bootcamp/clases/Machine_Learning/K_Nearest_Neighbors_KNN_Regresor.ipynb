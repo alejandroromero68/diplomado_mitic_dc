{
 "cells": [
  {
   "cell_type": "markdown",
   "metadata": {},
   "source": [
    "## **K-Nearest Neighbors (KNN) Regresor**\n",
    "\n",
    "**Introducción**\n",
    "\n",
    "K-Nearest Neighbors (KNN) es un método sencillo y efectivo tanto para clasificación como para regresión. En el contexto de regresión, KNN predice el valor de una nueva muestra basándose en los valores de las muestras más cercanas en el conjunto de entrenamiento. Este método es conocido por su simplicidad y efectividad en problemas donde la relación entre las características y la variable objetivo es compleja y no lineal.\n",
    " \n",
    "**Teoría de KNN Regresor**\n",
    " \n",
    "**Concepto Básico**\n",
    " \n",
    "La idea principal detrás del KNN regresor es que las observaciones similares tienen valores similares. Para predecir el valor de una nueva muestra, KNN sigue los siguientes pasos:\n",
    " \n",
    "**Cálculo de Distancias:** Se calcula la distancia entre la nueva muestra y todas las muestras en el conjunto de entrenamiento. Comúnmente, se usa la distancia euclidiana, pero también se pueden usar otras medidas como la distancia de Manhattan, la distancia de Minkowski, etc.\n",
    " \n",
    "**Selección de Vecinos:** Se seleccionan las K muestras más cercanas (vecinos) basándose en las distancias calculadas.\n",
    " \n",
    "**Cálculo del Valor Predicho:** Se calcula la media (o en algunos casos la mediana) de los valores de las K muestras seleccionadas. Este valor se utiliza como la predicción para la nueva muestra.\n",
    " \n",
    "**Ventajas y Desventajas**\n",
    " \n",
    "**Ventajas**\n",
    " \n",
    "**Simplicidad:** KNN es fácil de entender e implementar. No requiere suposiciones sobre la distribución de los datos.\n",
    " \n",
    "**Adaptabilidad:** Puede capturar relaciones complejas y no lineales entre las características y la variable objetivo.\n",
    " \n",
    "**No Paramétrico:** No necesita estimar parámetros específicos, lo que lo hace flexible en diversas situaciones.\n",
    " \n",
    "**Desventajas**\n",
    " \n",
    "**Costoso en Computación:** El cálculo de distancias para todas las muestras puede ser costoso, especialmente para conjuntos de datos grandes.\n",
    " \n",
    "**Sensibilidad a la Escala:** Las características con diferentes escalas pueden influir de manera desigual en las predicciones, por lo que es necesario escalar los datos.\n",
    "\n",
    "**Almacenamiento de Datos:** Requiere almacenar todo el conjunto de entrenamiento, lo que puede ser un problema en términos de memoria.\n",
    "  \n",
    "**Selección del Valor de K**\n",
    " \n",
    "El valor de K es crucial para el rendimiento del modelo KNN. Un K pequeño puede hacer que el modelo sea sensible al ruido, mientras que un K grande puede hacer que el modelo sea demasiado general y no capture bien las relaciones locales. La selección del valor de K se realiza típicamente mediante validación cruzada.\n",
    " \n",
    "**Escalado de Datos**\n",
    " \n",
    "El KNN es sensible a las escalas de las características. Por lo tanto, es esencial escalar las características para que todas contribuyan de manera equitativa a las predicciones. Comúnmente se utiliza la normalización (escalar los valores para que estén en el rango [0, 1]) o la estandarización (restar la media y dividir por la desviación estándar).\n",
    " \n",
    "**Medidas de Distancia**\n",
    " \n",
    "Las medidas de distancia más comunes usadas en KNN son:\n",
    " \n",
    "Distancia Euclidiana\n",
    "\n",
    "Distancia Manhattan\n",
    "\n",
    "Distancia Minkowski\n",
    " \n",
    "Cada medida de distancia tiene sus propias características y puede ser adecuada para diferentes tipos de datos.\n",
    " \n",
    "**Implementación en Python**\n",
    " \n",
    "**Ejemplo de Uso**\n",
    " \n",
    "Supongamos que tenemos un conjunto de datos housing_prices.csv con las siguientes columnas:\n",
    " \n",
    "**size:** Tamaño de la casa en pies cuadrados.\n",
    "\n",
    "**bedrooms:** Número de habitaciones.\n",
    " \n",
    "**price:** Precio de venta de la casa.\n",
    " \n",
    "**Carga de Datos y Exploración**\n",
    "\n",
    "\n",
    "\n"
   ]
  },
  {
   "cell_type": "code",
   "execution_count": 1,
   "metadata": {},
   "outputs": [
    {
     "name": "stdout",
     "output_type": "stream",
     "text": [
      "   Home   Price  SqFt  Bedrooms  Bathrooms  Offers Brick Neighborhood\n",
      "0     1  114300  1790         2          2       2    No         East\n",
      "1     2  114200  2030         4          2       3    No         East\n",
      "2     3  114800  1740         3          2       1    No         East\n",
      "3     4   94700  1980         3          2       3    No         East\n",
      "4     5  119800  2130         3          3       3    No         East\n",
      "             Home          Price         SqFt    Bedrooms   Bathrooms  \\\n",
      "count  128.000000     128.000000   128.000000  128.000000  128.000000   \n",
      "mean    64.500000  130427.343750  2000.937500    3.023438    2.445312   \n",
      "std     37.094474   26868.770371   211.572431    0.725951    0.514492   \n",
      "min      1.000000   69100.000000  1450.000000    2.000000    2.000000   \n",
      "25%     32.750000  111325.000000  1880.000000    3.000000    2.000000   \n",
      "50%     64.500000  125950.000000  2000.000000    3.000000    2.000000   \n",
      "75%     96.250000  148250.000000  2140.000000    3.000000    3.000000   \n",
      "max    128.000000  211200.000000  2590.000000    5.000000    4.000000   \n",
      "\n",
      "           Offers  \n",
      "count  128.000000  \n",
      "mean     2.578125  \n",
      "std      1.069324  \n",
      "min      1.000000  \n",
      "25%      2.000000  \n",
      "50%      3.000000  \n",
      "75%      3.000000  \n",
      "max      6.000000  \n",
      "Error Cuadrático Medio: 481895907.6923077\n",
      "R-cuadrado: 0.25591773564951836\n"
     ]
    }
   ],
   "source": [
    "import pandas as pd\n",
    "from sklearn.model_selection import train_test_split\n",
    "from sklearn.preprocessing import StandardScaler\n",
    "from sklearn.neighbors import KNeighborsRegressor\n",
    "from sklearn.metrics import mean_squared_error, r2_score\n",
    "\n",
    "data = pd.read_csv('../../data/ml/house-prices.csv')\n",
    "\n",
    "# Exploración de datos\n",
    "print(data.head())\n",
    "print(data.describe())\n",
    "\n",
    "# Separar variables predictoras y objetivo\n",
    "X = data[['SqFt', 'Bedrooms']]\n",
    "y = data['Price']\n",
    "\n",
    "# Dividir los datos en conjuntos de entrenamiento y prueba\n",
    "X_train, X_test, y_train, y_test = train_test_split(X, y, test_size=0.2, random_state=0)\n",
    "\n",
    "# Escalado de datos\n",
    "scaler = StandardScaler()\n",
    "X_train = scaler.fit_transform(X_train)\n",
    "X_test = scaler.transform(X_test)\n",
    "\n",
    "# Entrenamiento del modelo KNN\n",
    "knn = KNeighborsRegressor(n_neighbors=5)\n",
    "knn.fit(X_train, y_train)\n",
    "\n",
    "# Realizar predicciones\n",
    "y_pred = knn.predict(X_test)\n",
    "\n",
    "# Evaluar el modelo\n",
    "mse = mean_squared_error(y_test, y_pred)\n",
    "r2 = r2_score(y_test, y_pred)\n",
    "print(f'Error Cuadrático Medio: {mse}')\n",
    "print(f'R-cuadrado: {r2}')"
   ]
  },
  {
   "cell_type": "markdown",
   "metadata": {},
   "source": [
    "**Ajuste de Hiperparámetros**\n",
    "\n",
    "Para seleccionar el mejor valor de K, podemos usar la validación cruzada."
   ]
  },
  {
   "cell_type": "code",
   "execution_count": 2,
   "metadata": {},
   "outputs": [
    {
     "name": "stdout",
     "output_type": "stream",
     "text": [
      "Mejor valor de K: 18\n"
     ]
    }
   ],
   "source": [
    "from sklearn.model_selection import cross_val_score\n",
    "\n",
    "# Probar diferentes valores de K\n",
    "k_values = list(range(1, 21))\n",
    "mse_scores = []\n",
    "\n",
    "for k in k_values:\n",
    "    knn = KNeighborsRegressor(n_neighbors=k)\n",
    "    scores = cross_val_score(knn, X_train, y_train, scoring='neg_mean_squared_error', cv=5)\n",
    "    mse_scores.append(scores.mean())\n",
    "\n",
    "# Seleccionar el K con el menor MSE\n",
    "best_k = k_values[mse_scores.index(max(mse_scores))]\n",
    "print(f'Mejor valor de K: {best_k}')"
   ]
  },
  {
   "cell_type": "markdown",
   "metadata": {},
   "source": [
    "**Visualización de Resultados**\n",
    "\n",
    "Podemos visualizar cómo cambia el MSE con diferentes valores de K."
   ]
  },
  {
   "cell_type": "code",
   "execution_count": 3,
   "metadata": {},
   "outputs": [
    {
     "data": {
      "image/png": "[encoded data removed]",
      "text/plain": [
       "<Figure size 640x480 with 1 Axes>"
      ]
     },
     "metadata": {},
     "output_type": "display_data"
    }
   ],
   "source": [
    "import matplotlib.pyplot as plt\n",
    "\n",
    "plt.plot(k_values, mse_scores)\n",
    "plt.xlabel('Número de Vecinos (K)')\n",
    "plt.ylabel('MSE Negativo')\n",
    "plt.title('Selección del Mejor K')\n",
    "plt.show()"
   ]
  },
  {
   "cell_type": "markdown",
   "metadata": {},
   "source": [
    "**Aplicaciones Prácticas**\n",
    " \n",
    "**Predicción de Precios de Casas**\n",
    " \n",
    "En la industria inmobiliaria, KNN puede ser utilizado para predecir el precio de una casa basada en características similares de otras casas vendidas. Esto es útil para agentes inmobiliarios y compradores de viviendas que desean obtener una estimación rápida del valor de una propiedad.\n",
    " \n",
    "**Análisis de Mercado**\n",
    " \n",
    "KNN puede ayudar a las empresas a segmentar mercados y entender mejor las preferencias de los consumidores. Por ejemplo, un minorista puede usar KNN para predecir el gasto de los clientes basado en sus características demográficas y comportamientos de compra pasados.\n",
    " \n",
    "**Predicción de la Demanda**\n",
    " \n",
    "En la cadena de suministro, KNN puede ser utilizado para predecir la demanda de productos en función de datos históricos de ventas y factores externos como la estacionalidad y las promociones."
   ]
  }
 ],
 "metadata": {
  "kernelspec": {
   "display_name": "bootcamp_mitic",
   "language": "python",
   "name": "python3"
  },
  "language_info": {
   "codemirror_mode": {
    "name": "ipython",
    "version": 3
   },
   "file_extension": ".py",
   "mimetype": "text/x-python",
   "name": "python",
   "nbconvert_exporter": "python",
   "pygments_lexer": "ipython3",
   "version": "3.11.10"
  }
 },
 "nbformat": 4,
 "nbformat_minor": 2
}
