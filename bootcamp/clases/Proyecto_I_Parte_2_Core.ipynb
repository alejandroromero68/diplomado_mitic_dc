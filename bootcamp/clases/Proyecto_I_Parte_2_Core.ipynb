{
 "cells": [
  {
   "cell_type": "markdown",
   "metadata": {},
   "source": [
    "## Proyecto I- Parte 2 (Core)\n",
    "\n",
    "Instrucciones\n",
    "\n",
    "Preparación del Entorno\n",
    "\n",
    "Asegúrate de tener instalado Pandas en tu entorno de trabajo.\n",
    "\n",
    "Utiliza el archivo retail_sales.csv del proyecto inicial. Si aún no lo tienes, descarga el archivo correspondiente.\n",
    "\n",
    "Cargar los Datos\n",
    "\n",
    "Carga el archivo retail_sales.csv en un DataFrame de Pandas.\n",
    "\n",
    "Muestra las primeras 10 filas del DataFrame para confirmar que los datos se han cargado correctamente."
   ]
  },
  {
   "cell_type": "code",
   "execution_count": 1,
   "metadata": {},
   "outputs": [
    {
     "name": "stdout",
     "output_type": "stream",
     "text": [
      "Primeras 5 filas del DataFrame:\n",
      "   Transaction ID        Date Customer ID  Gender  Age Product Category  \\\n",
      "0               1  2023-11-24     CUST001    Male   34           Beauty   \n",
      "1               2  2023-02-27     CUST002  Female   26         Clothing   \n",
      "2               3  2023-01-13     CUST003    Male   50      Electronics   \n",
      "3               4  2023-05-21     CUST004    Male   37         Clothing   \n",
      "4               5  2023-05-06     CUST005    Male   30           Beauty   \n",
      "\n",
      "   Quantity  Price per Unit  Total Amount  \n",
      "0         3              50           150  \n",
      "1         2             500          1000  \n",
      "2         1              30            30  \n",
      "3         1             500           500  \n",
      "4         2              50           100  \n"
     ]
    }
   ],
   "source": [
    "import pandas as pd\n",
    "\n",
    "# Especificar la ruta completa del archivo CSV\n",
    "file_path = '../data/retail_sales.csv'\n",
    "\n",
    "# Cargar el archivo retail_sales.csv en un DataFrame\n",
    "df = pd.read_csv(file_path)\n",
    "\n",
    "# Mostrar las primeras 5 filas del DataFrame para confirmar que se ha cargado correctamente\n",
    "print(\"Primeras 5 filas del DataFrame:\")\n",
    "print(df.head())\n"
   ]
  },
  {
   "cell_type": "markdown",
   "metadata": {},
   "source": [
    "Exploración Inicial de los Datos\n",
    "\n",
    "Muestra las últimas 5 filas del DataFrame.\n",
    "\n",
    "Utiliza el método info() para obtener información general sobre el DataFrame, incluyendo el número de entradas, nombres de las columnas, tipos de datos y memoria utilizada.\n",
    "\n",
    "Genera estadísticas descriptivas del DataFrame utilizando el método describe()."
   ]
  },
  {
   "cell_type": "code",
   "execution_count": 2,
   "metadata": {},
   "outputs": [
    {
     "name": "stdout",
     "output_type": "stream",
     "text": [
      "Últimas 5 filas del DataFrame:\n",
      "     Transaction ID        Date Customer ID  Gender  Age Product Category  \\\n",
      "995             996  2023-05-16     CUST996    Male   62         Clothing   \n",
      "996             997  2023-11-17     CUST997    Male   52           Beauty   \n",
      "997             998  2023-10-29     CUST998  Female   23           Beauty   \n",
      "998             999  2023-12-05     CUST999  Female   36      Electronics   \n",
      "999            1000  2023-04-12    CUST1000    Male   47      Electronics   \n",
      "\n",
      "     Quantity  Price per Unit  Total Amount  \n",
      "995         1              50            50  \n",
      "996         3              30            90  \n",
      "997         4              25           100  \n",
      "998         3              50           150  \n",
      "999         4              30           120  \n",
      "\n",
      "Información general sobre el DataFrame:\n",
      "<class 'pandas.core.frame.DataFrame'>\n",
      "RangeIndex: 1000 entries, 0 to 999\n",
      "Data columns (total 9 columns):\n",
      " #   Column            Non-Null Count  Dtype \n",
      "---  ------            --------------  ----- \n",
      " 0   Transaction ID    1000 non-null   int64 \n",
      " 1   Date              1000 non-null   object\n",
      " 2   Customer ID       1000 non-null   object\n",
      " 3   Gender            1000 non-null   object\n",
      " 4   Age               1000 non-null   int64 \n",
      " 5   Product Category  1000 non-null   object\n",
      " 6   Quantity          1000 non-null   int64 \n",
      " 7   Price per Unit    1000 non-null   int64 \n",
      " 8   Total Amount      1000 non-null   int64 \n",
      "dtypes: int64(5), object(4)\n",
      "memory usage: 70.4+ KB\n",
      "\n",
      "Estadísticas descriptivas del DataFrame:\n",
      "       Transaction ID         Age     Quantity  Price per Unit  Total Amount\n",
      "count     1000.000000  1000.00000  1000.000000     1000.000000   1000.000000\n",
      "mean       500.500000    41.39200     2.514000      179.890000    456.000000\n",
      "std        288.819436    13.68143     1.132734      189.681356    559.997632\n",
      "min          1.000000    18.00000     1.000000       25.000000     25.000000\n",
      "25%        250.750000    29.00000     1.000000       30.000000     60.000000\n",
      "50%        500.500000    42.00000     3.000000       50.000000    135.000000\n",
      "75%        750.250000    53.00000     4.000000      300.000000    900.000000\n",
      "max       1000.000000    64.00000     4.000000      500.000000   2000.000000\n"
     ]
    }
   ],
   "source": [
    "\n",
    "# Mostrar las últimas 5 filas del DataFrame\n",
    "print(\"Últimas 5 filas del DataFrame:\")\n",
    "print(df.tail())\n",
    "\n",
    "# Utilizar el método info() para obtener información general sobre el DataFrame\n",
    "print(\"\\nInformación general sobre el DataFrame:\")\n",
    "df.info()\n",
    "\n",
    "# Generar estadísticas descriptivas del DataFrame utilizando el método describe()\n",
    "print(\"\\nEstadísticas descriptivas del DataFrame:\")\n",
    "print(df.describe())\n"
   ]
  },
  {
   "cell_type": "markdown",
   "metadata": {},
   "source": [
    "Inspección de los Datos\n",
    "\n",
    "Inspecciona los tipos de datos de cada columna utilizando el atributo dtypes.\n",
    "\n",
    "Cuenta los valores únicos en la columna Producto utilizando el método value_counts().\n",
    "\n",
    "Muestra todos los valores únicos en la columna Tienda utilizando el método unique()."
   ]
  },
  {
   "cell_type": "code",
   "execution_count": 3,
   "metadata": {},
   "outputs": [
    {
     "name": "stdout",
     "output_type": "stream",
     "text": [
      "Tipos de datos de cada columna:\n",
      "Transaction ID       int64\n",
      "Date                object\n",
      "Customer ID         object\n",
      "Gender              object\n",
      "Age                  int64\n",
      "Product Category    object\n",
      "Quantity             int64\n",
      "Price per Unit       int64\n",
      "Total Amount         int64\n",
      "dtype: object\n",
      "\n",
      "Conteo de valores únicos en la columna 'Product Category':\n",
      "Product Category\n",
      "Clothing       351\n",
      "Electronics    342\n",
      "Beauty         307\n",
      "Name: count, dtype: int64\n",
      "\n",
      "Valores únicos en la columna 'Gender':\n",
      "['Male' 'Female']\n"
     ]
    }
   ],
   "source": [
    "# Inspeccionar los tipos de datos de cada columna\n",
    "print(\"Tipos de datos de cada columna:\")\n",
    "print(df.dtypes)\n",
    "\n",
    "# Contar los valores únicos en la columna 'Product Category'\n",
    "print(\"\\nConteo de valores únicos en la columna 'Product Category':\")\n",
    "producto_counts = df['Product Category'].value_counts()  # Usando el nombre correcto de la columna\n",
    "print(producto_counts)\n",
    "\n",
    "# Mostrar todos los valores únicos en la columna 'Gender'\n",
    "print(\"\\nValores únicos en la columna 'Gender':\")\n",
    "gender_unique = df['Gender'].unique()  # Usando el nombre correcto de la columna\n",
    "print(gender_unique)\n"
   ]
  },
  {
   "cell_type": "markdown",
   "metadata": {},
   "source": [
    "Filtrado de Datos\n",
    "\n",
    "Filtra el DataFrame para mostrar solo las filas donde las ventas (Ventas) sean mayores a 50.\n",
    "\n",
    "Filtra el DataFrame para mostrar solo las filas donde el precio (Precio) sea menor a 0.5.\n",
    "\n",
    "Utilizando el método query(), filtra el DataFrame para mostrar las filas donde el producto sea Manzanas y las ventas sean mayores a 30.\n"
   ]
  },
  {
   "cell_type": "code",
   "execution_count": 4,
   "metadata": {},
   "outputs": [
    {
     "name": "stdout",
     "output_type": "stream",
     "text": [
      "Filas donde las ventas son mayores a 50:\n",
      "     Transaction ID        Date Customer ID  Gender  Age Product Category  \\\n",
      "0                 1  2023-11-24     CUST001    Male   34           Beauty   \n",
      "1                 2  2023-02-27     CUST002  Female   26         Clothing   \n",
      "3                 4  2023-05-21     CUST004    Male   37         Clothing   \n",
      "4                 5  2023-05-06     CUST005    Male   30           Beauty   \n",
      "7                 8  2023-02-22     CUST008    Male   30      Electronics   \n",
      "..              ...         ...         ...     ...  ...              ...   \n",
      "993             994  2023-12-18     CUST994  Female   51           Beauty   \n",
      "996             997  2023-11-17     CUST997    Male   52           Beauty   \n",
      "997             998  2023-10-29     CUST998  Female   23           Beauty   \n",
      "998             999  2023-12-05     CUST999  Female   36      Electronics   \n",
      "999            1000  2023-04-12    CUST1000    Male   47      Electronics   \n",
      "\n",
      "     Quantity  Price per Unit  Total Amount  \n",
      "0           3              50           150  \n",
      "1           2             500          1000  \n",
      "3           1             500           500  \n",
      "4           2              50           100  \n",
      "7           4              25           100  \n",
      "..        ...             ...           ...  \n",
      "993         2             500          1000  \n",
      "996         3              30            90  \n",
      "997         4              25           100  \n",
      "998         3              50           150  \n",
      "999         4              30           120  \n",
      "\n",
      "[783 rows x 9 columns]\n"
     ]
    }
   ],
   "source": [
    "# Filtrar para mostrar solo las filas donde las ventas (Total Amount) sean mayores a 50\n",
    "ventas_mayores_50 = df[df['Total Amount'] > 50]\n",
    "print(\"Filas donde las ventas son mayores a 50:\")\n",
    "print(ventas_mayores_50)\n"
   ]
  },
  {
   "cell_type": "code",
   "execution_count": 5,
   "metadata": {},
   "outputs": [
    {
     "name": "stdout",
     "output_type": "stream",
     "text": [
      "\n",
      "Filas donde el precio es menor a 0.5:\n",
      "Empty DataFrame\n",
      "Columns: [Transaction ID, Date, Customer ID, Gender, Age, Product Category, Quantity, Price per Unit, Total Amount]\n",
      "Index: []\n"
     ]
    }
   ],
   "source": [
    "\n",
    "# Filtrar para mostrar solo las filas donde el precio (Price per Unit) sea menor a 0.5\n",
    "precio_menor_0_5 = df[df['Price per Unit'] < 0.5]\n",
    "print(\"\\nFilas donde el precio es menor a 0.5:\")\n",
    "print(precio_menor_0_5)\n"
   ]
  },
  {
   "cell_type": "code",
   "execution_count": 6,
   "metadata": {},
   "outputs": [
    {
     "name": "stdout",
     "output_type": "stream",
     "text": [
      "\n",
      "Filas donde el producto es 'Manzanas' y las ventas son mayores a 30:\n",
      "Empty DataFrame\n",
      "Columns: [Transaction ID, Date, Customer ID, Gender, Age, Product Category, Quantity, Price per Unit, Total Amount]\n",
      "Index: []\n"
     ]
    }
   ],
   "source": [
    "\n",
    "# Filtrar usando query() para mostrar filas donde el producto sea \"Manzanas\" y las ventas sean mayores a 30\n",
    "# Asegúrate de que el nombre del producto en tu DataFrame sea exactamente \"Manzanas\"\n",
    "manzanas_mayores_30 = df.query('`Product Category` == \"Manzanas\" and `Total Amount` > 30')\n",
    "print(\"\\nFilas donde el producto es 'Manzanas' y las ventas son mayores a 30:\")\n",
    "print(manzanas_mayores_30)\n"
   ]
  },
  {
   "cell_type": "markdown",
   "metadata": {},
   "source": [
    "Slicing de Datos\n",
    "\n",
    "Selecciona y muestra solo las columnas Producto y Ventas del DataFrame.\n",
    "\n",
    "Utilizando loc[], selecciona y muestra las filas de la 5 a la 10 (inclusive) y las columnas Producto y Tienda.\n",
    "\n",
    "Utilizando iloc[], selecciona y muestra las primeras 5 filas y las primeras 3 columnas del DataFrame."
   ]
  },
  {
   "cell_type": "code",
   "execution_count": 7,
   "metadata": {},
   "outputs": [
    {
     "name": "stdout",
     "output_type": "stream",
     "text": [
      "Columnas Producto y Ventas:\n",
      "    Product Category  Total Amount\n",
      "0             Beauty           150\n",
      "1           Clothing          1000\n",
      "2        Electronics            30\n",
      "3           Clothing           500\n",
      "4             Beauty           100\n",
      "..               ...           ...\n",
      "995         Clothing            50\n",
      "996           Beauty            90\n",
      "997           Beauty           100\n",
      "998      Electronics           150\n",
      "999      Electronics           120\n",
      "\n",
      "[1000 rows x 2 columns]\n"
     ]
    }
   ],
   "source": [
    "# 1. Seleccionar y mostrar solo las columnas Producto y Ventas\n",
    "# Asegúrate de usar los nombres de las columnas correctamente\n",
    "producto_ventas = df[['Product Category', 'Total Amount']]\n",
    "print(\"Columnas Producto y Ventas:\")\n",
    "print(producto_ventas)\n",
    "\n"
   ]
  },
  {
   "cell_type": "code",
   "execution_count": 8,
   "metadata": {},
   "outputs": [
    {
     "name": "stdout",
     "output_type": "stream",
     "text": [
      "\n",
      "Filas de la 5 a la 10 (inclusive) y columnas Producto y Tienda:\n",
      "  Product Category  Gender\n",
      "4           Beauty    Male\n",
      "5           Beauty  Female\n",
      "6         Clothing    Male\n",
      "7      Electronics    Male\n",
      "8      Electronics    Male\n",
      "9         Clothing  Female\n"
     ]
    }
   ],
   "source": [
    "# 2. Utilizando loc[], seleccionar y mostrar las filas de la 5 a la 10 (inclusive) y las columnas Producto y Tienda\n",
    "# Las filas en loc[] son 0-indexadas, así que seleccionaremos desde 4 hasta 10\n",
    "filas_5_a_10 = df.loc[4:9, ['Product Category', 'Gender']]\n",
    "print(\"\\nFilas de la 5 a la 10 (inclusive) y columnas Producto y Tienda:\")\n",
    "print(filas_5_a_10)\n"
   ]
  },
  {
   "cell_type": "code",
   "execution_count": 9,
   "metadata": {},
   "outputs": [
    {
     "name": "stdout",
     "output_type": "stream",
     "text": [
      "\n",
      "Primeras 5 filas y primeras 3 columnas usando iloc:\n",
      "   Transaction ID        Date Customer ID\n",
      "0               1  2023-11-24     CUST001\n",
      "1               2  2023-02-27     CUST002\n",
      "2               3  2023-01-13     CUST003\n",
      "3               4  2023-05-21     CUST004\n",
      "4               5  2023-05-06     CUST005\n"
     ]
    }
   ],
   "source": [
    "\n",
    "# 3. Utilizando iloc[], seleccionar y mostrar las primeras 5 filas y las primeras 3 columnas del DataFrame\n",
    "primeras_5_filas_3_columnas = df.iloc[0:5, 0:3]\n",
    "print(\"\\nPrimeras 5 filas y primeras 3 columnas usando iloc:\")\n",
    "print(primeras_5_filas_3_columnas)"
   ]
  }
 ],
 "metadata": {
  "kernelspec": {
   "display_name": "bootcamp_mitic",
   "language": "python",
   "name": "python3"
  },
  "language_info": {
   "codemirror_mode": {
    "name": "ipython",
    "version": 3
   },
   "file_extension": ".py",
   "mimetype": "text/x-python",
   "name": "python",
   "nbconvert_exporter": "python",
   "pygments_lexer": "ipython3",
   "version": "3.11.10"
  }
 },
 "nbformat": 4,
 "nbformat_minor": 2
}
