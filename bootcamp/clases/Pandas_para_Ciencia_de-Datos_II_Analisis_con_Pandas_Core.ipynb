{
 "cells": [
  {
   "cell_type": "markdown",
   "metadata": {},
   "source": [
    "### Analisis con Pandas y Kaggle (Core)\n",
    "\n",
    "El objetivo de esta actividad es poner en práctica todos los conocimientos adquiridos sobre Pandas a través del análisis completo de un dataset. Los estudiantes deben aplicar técnicas de carga, exploración, limpieza, transformación, y agregación de datos para extraer insights valiosos. La actividad no incluye visualización de datos, enfocándose únicamente en el análisis y manipulación de datos con Pandas.\n",
    "\n",
    "**Instrucciones**\n",
    "\n",
    "**Preparación del Entorno**\n",
    "\n",
    "Asegúrate de tener instalado Pandas en tu entorno de trabajo.\n",
    "\n",
    "Descarga el archivo dataset.csv desde Kaggle. Elige un dataset que te interese y que no incluya visualización de datos. Algunas sugerencias pueden ser datasets relacionados con ventas, compras, productos, etc."
   ]
  },
  {
   "cell_type": "code",
   "execution_count": 1,
   "metadata": {},
   "outputs": [
    {
     "name": "stdout",
     "output_type": "stream",
     "text": [
      "   order_id        date        item_name  item_type  item_price  quantity  \\\n",
      "0         1  07-03-2022         Aalopuri   Fastfood          20        13   \n",
      "1         2   8/23/2022          Vadapav   Fastfood          20        15   \n",
      "2         3  11/20/2022          Vadapav   Fastfood          20         1   \n",
      "3         4  02-03-2023  Sugarcane juice  Beverages          25         6   \n",
      "4         5  10-02-2022  Sugarcane juice  Beverages          25         8   \n",
      "5         6  11/14/2022          Vadapav   Fastfood          20        10   \n",
      "6         7  05-03-2022  Sugarcane juice  Beverages          25         9   \n",
      "7         8  12/22/2022         Panipuri   Fastfood          20        14   \n",
      "8         9  06-10-2022         Panipuri   Fastfood          20         1   \n",
      "9        10   9/16/2022         Panipuri   Fastfood          20         5   \n",
      "\n",
      "   transaction_amount transaction_type received_by time_of_sale  \n",
      "0                 260              NaN         Mr.        Night  \n",
      "1                 300             Cash         Mr.    Afternoon  \n",
      "2                  20             Cash         Mr.    Afternoon  \n",
      "3                 150           Online         Mr.        Night  \n",
      "4                 200           Online         Mr.      Evening  \n",
      "5                 200             Cash         Mr.      Evening  \n",
      "6                 225             Cash         Mr.      Evening  \n",
      "7                 280           Online         Mr.        Night  \n",
      "8                  20             Cash        Mrs.      Morning  \n",
      "9                 100           Online         Mr.    Afternoon  \n"
     ]
    }
   ],
   "source": [
    "import pandas as pd\n",
    "\n",
    "# Especificar la ruta del archivo CSV\n",
    "archivo_csv = '../data/Balaji_Fast_Food_Sales.csv'\n",
    "\n",
    "# Cargar el archivo CSV en un DataFrame\n",
    "try:\n",
    "    df = pd.read_csv(archivo_csv)\n",
    "    \n",
    "    # Mostrar las primeras 10 filas del DataFrame para confirmar que los datos se han cargado correctamente\n",
    "    print(df.head(10))\n",
    "\n",
    "except FileNotFoundError:\n",
    "    print(f\"El archivo no fue encontrado en la ruta {archivo_csv}. Verifica que la ruta y el archivo sean correctos.\")\n",
    "except Exception as e:\n",
    "    print(f\"Ocurrió un error al intentar cargar el archivo: {e}\")\n",
    "\n"
   ]
  },
  {
   "cell_type": "code",
   "execution_count": 2,
   "metadata": {},
   "outputs": [
    {
     "name": "stdout",
     "output_type": "stream",
     "text": [
      "<bound method DataFrame.info of      order_id        date        item_name  item_type  item_price  quantity  \\\n",
      "0           1  07-03-2022         Aalopuri   Fastfood          20        13   \n",
      "1           2   8/23/2022          Vadapav   Fastfood          20        15   \n",
      "2           3  11/20/2022          Vadapav   Fastfood          20         1   \n",
      "3           4  02-03-2023  Sugarcane juice  Beverages          25         6   \n",
      "4           5  10-02-2022  Sugarcane juice  Beverages          25         8   \n",
      "..        ...         ...              ...        ...         ...       ...   \n",
      "995       996   3/19/2023          Frankie   Fastfood          50        10   \n",
      "996       997   9/20/2022         Sandwich   Fastfood          60         7   \n",
      "997       998   1/26/2023         Sandwich   Fastfood          60        13   \n",
      "998       999   8/27/2022         Panipuri   Fastfood          20         5   \n",
      "999      1000   5/29/2022         Aalopuri   Fastfood          20         3   \n",
      "\n",
      "     transaction_amount transaction_type received_by time_of_sale  \n",
      "0                   260              NaN         Mr.        Night  \n",
      "1                   300             Cash         Mr.    Afternoon  \n",
      "2                    20             Cash         Mr.    Afternoon  \n",
      "3                   150           Online         Mr.        Night  \n",
      "4                   200           Online         Mr.      Evening  \n",
      "..                  ...              ...         ...          ...  \n",
      "995                 500              NaN        Mrs.      Evening  \n",
      "996                 420              NaN         Mr.      Evening  \n",
      "997                 780              NaN         Mr.      Evening  \n",
      "998                 100              NaN        Mrs.    Afternoon  \n",
      "999                  60           Online        Mrs.     Midnight  \n",
      "\n",
      "[1000 rows x 10 columns]>\n",
      "          order_id   item_price     quantity  transaction_amount\n",
      "count  1000.000000  1000.000000  1000.000000         1000.000000\n",
      "mean    500.500000    33.315000     8.162000          275.230000\n",
      "std     288.819436    14.921744     4.413075          204.402979\n",
      "min       1.000000    20.000000     1.000000           20.000000\n",
      "25%     250.750000    20.000000     4.000000          120.000000\n",
      "50%     500.500000    25.000000     8.000000          240.000000\n",
      "75%     750.250000    50.000000    12.000000          360.000000\n",
      "max    1000.000000    60.000000    15.000000          900.000000\n"
     ]
    }
   ],
   "source": [
    "print(df.info)\n",
    "print(df.describe())"
   ]
  },
  {
   "cell_type": "markdown",
   "metadata": {},
   "source": [
    "**Exploración Inicial de los Datos**\n",
    "\n",
    "Muestra las últimas 5 filas del DataFrame.\n",
    "\n",
    "Utiliza el método info() para obtener información general sobre el DataFrame, incluyendo el número de entradas, nombres de las columnas, tipos de datos y memoria utilizada.\n",
    "\n",
    "Genera estadísticas descriptivas del DataFrame utilizando el método describe().\n"
   ]
  },
  {
   "cell_type": "code",
   "execution_count": 3,
   "metadata": {},
   "outputs": [
    {
     "name": "stdout",
     "output_type": "stream",
     "text": [
      "Últimas 5 filas del DataFrame:\n",
      "     order_id       date item_name item_type  item_price  quantity  \\\n",
      "995       996  3/19/2023   Frankie  Fastfood          50        10   \n",
      "996       997  9/20/2022  Sandwich  Fastfood          60         7   \n",
      "997       998  1/26/2023  Sandwich  Fastfood          60        13   \n",
      "998       999  8/27/2022  Panipuri  Fastfood          20         5   \n",
      "999      1000  5/29/2022  Aalopuri  Fastfood          20         3   \n",
      "\n",
      "     transaction_amount transaction_type received_by time_of_sale  \n",
      "995                 500              NaN        Mrs.      Evening  \n",
      "996                 420              NaN         Mr.      Evening  \n",
      "997                 780              NaN         Mr.      Evening  \n",
      "998                 100              NaN        Mrs.    Afternoon  \n",
      "999                  60           Online        Mrs.     Midnight  \n",
      "\n",
      "Información general del DataFrame:\n",
      "<class 'pandas.core.frame.DataFrame'>\n",
      "RangeIndex: 1000 entries, 0 to 999\n",
      "Data columns (total 10 columns):\n",
      " #   Column              Non-Null Count  Dtype \n",
      "---  ------              --------------  ----- \n",
      " 0   order_id            1000 non-null   int64 \n",
      " 1   date                1000 non-null   object\n",
      " 2   item_name           1000 non-null   object\n",
      " 3   item_type           1000 non-null   object\n",
      " 4   item_price          1000 non-null   int64 \n",
      " 5   quantity            1000 non-null   int64 \n",
      " 6   transaction_amount  1000 non-null   int64 \n",
      " 7   transaction_type    893 non-null    object\n",
      " 8   received_by         1000 non-null   object\n",
      " 9   time_of_sale        1000 non-null   object\n",
      "dtypes: int64(4), object(6)\n",
      "memory usage: 78.3+ KB\n",
      "\n",
      "Estadísticas descriptivas del DataFrame:\n",
      "          order_id   item_price     quantity  transaction_amount\n",
      "count  1000.000000  1000.000000  1000.000000         1000.000000\n",
      "mean    500.500000    33.315000     8.162000          275.230000\n",
      "std     288.819436    14.921744     4.413075          204.402979\n",
      "min       1.000000    20.000000     1.000000           20.000000\n",
      "25%     250.750000    20.000000     4.000000          120.000000\n",
      "50%     500.500000    25.000000     8.000000          240.000000\n",
      "75%     750.250000    50.000000    12.000000          360.000000\n",
      "max    1000.000000    60.000000    15.000000          900.000000\n"
     ]
    }
   ],
   "source": [
    "# Mostrar las últimas 5 filas del DataFrame\n",
    "print(\"Últimas 5 filas del DataFrame:\")\n",
    "print(df.tail())\n",
    "\n",
    "# Obtener información general del DataFrame\n",
    "print(\"\\nInformación general del DataFrame:\")\n",
    "df.info()\n",
    "\n",
    "# Generar estadísticas descriptivas del DataFrame\n",
    "print(\"\\nEstadísticas descriptivas del DataFrame:\")\n",
    "print(df.describe())"
   ]
  },
  {
   "cell_type": "markdown",
   "metadata": {},
   "source": [
    "**Limpieza de Datos**\n",
    "\n",
    "Identifica y maneja los datos faltantes utilizando técnicas apropiadas (relleno con valores estadísticos, interpolación, eliminación, etc.).\n",
    "\n",
    "Corrige los tipos de datos si es necesario (por ejemplo, convertir cadenas a fechas).\n",
    "\n",
    "Elimina duplicados si los hay."
   ]
  },
  {
   "cell_type": "code",
   "execution_count": 7,
   "metadata": {},
   "outputs": [
    {
     "name": "stdout",
     "output_type": "stream",
     "text": [
      "Valores faltantes por columna:\n",
      "order_id                   0\n",
      "date                       0\n",
      "item_name                  0\n",
      "item_type                  0\n",
      "item_price                 0\n",
      "quantity                   0\n",
      "transaction_amount         0\n",
      "transaction_type         107\n",
      "received_by                0\n",
      "time_of_sale               0\n",
      "Total_Income               0\n",
      "Normalized_Price           0\n",
      "Standardized_Quantity      0\n",
      "Price_Category             0\n",
      "dtype: int64\n"
     ]
    }
   ],
   "source": [
    "# Identificar valores faltantes\n",
    "print(\"Valores faltantes por columna:\")\n",
    "print(df.isnull().sum())"
   ]
  },
  {
   "cell_type": "markdown",
   "metadata": {},
   "source": [
    "# Eliminar filas con valores nulos en la columna 'CustomerNo'\n",
    "df.dropna(subset=['CustomerNo'], inplace=True)"
   ]
  },
  {
   "cell_type": "markdown",
   "metadata": {},
   "source": [
    "# Si 'transaction_type' es numérico, puedes rellenar con un valor como 0 o la mediana\n",
    "df['transaction_type'].fillna(0, inplace=True)\n",
    "\n",
    "# Si es de tipo cadena, podrías rellenar con 'Desconocido' o un valor similar\n",
    "df['transaction_type'].fillna('Desconocido', inplace=True)\n"
   ]
  },
  {
   "cell_type": "markdown",
   "metadata": {},
   "source": [
    "**Transformación de Datos**\n",
    "\n",
    "Crea nuevas columnas basadas en operaciones con las columnas existentes (por ejemplo, calcular ingresos a partir de ventas y precios).\n",
    "\n",
    "Normaliza o estandariza columnas si es necesario.\n",
    "\n",
    "Clasifica los datos en categorías relevantes."
   ]
  },
  {
   "cell_type": "code",
   "execution_count": 8,
   "metadata": {},
   "outputs": [
    {
     "name": "stdout",
     "output_type": "stream",
     "text": [
      "   order_id        date        item_name  item_type  item_price  quantity  \\\n",
      "0         1  07-03-2022         Aalopuri   Fastfood          20        13   \n",
      "1         2   8/23/2022          Vadapav   Fastfood          20        15   \n",
      "2         3  11/20/2022          Vadapav   Fastfood          20         1   \n",
      "3         4  02-03-2023  Sugarcane juice  Beverages          25         6   \n",
      "4         5  10-02-2022  Sugarcane juice  Beverages          25         8   \n",
      "5         6  11/14/2022          Vadapav   Fastfood          20        10   \n",
      "6         7  05-03-2022  Sugarcane juice  Beverages          25         9   \n",
      "7         8  12/22/2022         Panipuri   Fastfood          20        14   \n",
      "8         9  06-10-2022         Panipuri   Fastfood          20         1   \n",
      "9        10   9/16/2022         Panipuri   Fastfood          20         5   \n",
      "\n",
      "   transaction_amount transaction_type received_by time_of_sale  Total_Income  \\\n",
      "0                 260              NaN         Mr.        Night           260   \n",
      "1                 300             Cash         Mr.    Afternoon           300   \n",
      "2                  20             Cash         Mr.    Afternoon            20   \n",
      "3                 150           Online         Mr.        Night           150   \n",
      "4                 200           Online         Mr.      Evening           200   \n",
      "5                 200             Cash         Mr.      Evening           200   \n",
      "6                 225             Cash         Mr.      Evening           225   \n",
      "7                 280           Online         Mr.        Night           280   \n",
      "8                  20             Cash        Mrs.      Morning            20   \n",
      "9                 100           Online         Mr.    Afternoon           100   \n",
      "\n",
      "   Normalized_Price  Standardized_Quantity Price_Category  \n",
      "0             0.000               1.096288            Low  \n",
      "1             0.000               1.549486            Low  \n",
      "2             0.000              -1.622905            Low  \n",
      "3             0.125              -0.489908         Medium  \n",
      "4             0.125              -0.036709         Medium  \n",
      "5             0.000               0.416490            Low  \n",
      "6             0.125               0.189890         Medium  \n",
      "7             0.000               1.322887            Low  \n",
      "8             0.000              -1.622905            Low  \n",
      "9             0.000              -0.716507            Low  \n"
     ]
    }
   ],
   "source": [
    "# 1. Crear nuevas columnas basadas en operaciones\n",
    "# Supongamos que queremos calcular el ingreso total (Precio * Cantidad)\n",
    "df['Total_Income'] = df['item_price'] * df['quantity']\n",
    "\n",
    "# 2. Normalizar o estandarizar columnas si es necesario\n",
    "# Por ejemplo, normalizar la columna 'Price' entre 0 y 1\n",
    "df['Normalized_Price'] = (df['item_price'] - df['item_price'].min()) / (df['item_price'].max() - df['item_price'].min())\n",
    "\n",
    "# O estandarizar la columna 'Quantity' (z-score)\n",
    "df['Standardized_Quantity'] = (df['quantity'] - df['quantity'].mean()) / df['quantity'].std()\n",
    "\n",
    "# 3. Clasificar los datos en categorías relevantes\n",
    "# Supongamos que queremos clasificar los precios en categorías\n",
    "bins = [0, 10, 20, 50, 100, float('inf')]  # Definimos los límites de los bins\n",
    "labels = ['Very Low', 'Low', 'Medium', 'High', 'Very High']  # Etiquetas para las categorías\n",
    "df['Price_Category'] = pd.cut(df['item_price'], bins=bins, labels=labels)\n",
    "\n",
    "# Mostrar el DataFrame resultante\n",
    "print(df.head(10))  # Muestra las primeras 10 filas para verificar las nuevas columnas"
   ]
  },
  {
   "cell_type": "markdown",
   "metadata": {},
   "source": [
    "**Análisis de Datos**\n",
    "\n",
    "Realiza agrupaciones de datos utilizando groupby para obtener insights específicos (por ejemplo, ventas por producto, ventas por región, etc.).\n",
    "\n",
    "Aplica funciones de agregación como sum, mean, count, min, max, std, y var.\n",
    "\n",
    "Utiliza el método apply para realizar operaciones más complejas y personalizadas.\n"
   ]
  },
  {
   "cell_type": "code",
   "execution_count": null,
   "metadata": {},
   "outputs": [],
   "source": [
    "\n",
    "# 1. Agrupación de ventas por producto\n",
    "ventas_por_producto = df.groupby('ProductName').agg({\n",
    "    'Total_Income': 'sum',  # Sumar ingresos totales por producto\n",
    "    'quantity': 'sum',       # Sumar la cantidad vendida por producto\n",
    "    'item_price': 'mean'          # Calcular el precio promedio por producto\n",
    "}).reset_index()\n",
    "\n",
    "print(\"Ventas por Producto:\")\n",
    "print(ventas_por_producto.sort_values(by='Total_Income', ascending=False).head(10))  # Muestra los 10 productos con más ventas\n",
    "\n",
    "# 2. Agrupación de ventas por región (suponiendo que hay una columna 'Country')\n",
    "ventas_por_region = df.groupby('Country').agg({\n",
    "    'Total_Income': 'sum',  # Sumar ingresos totales por región\n",
    "    'quantity': 'sum'        # Sumar la cantidad vendida por región\n",
    "}).reset_index()\n",
    "\n",
    "print(\"\\nVentas por Región:\")\n",
    "print(ventas_por_region.sort_values(by='Total_Income', ascending=False).head(10))  # Muestra las 10 regiones con más ventas\n",
    "\n",
    "# 3. Aplicar funciones personalizadas con apply\n",
    "def custom_stats(group):\n",
    "    return pd.Series({\n",
    "        'total_sales': group['Total_Income'].sum(),\n",
    "        'average_price': group['item_price'].mean(),\n",
    "        'total_quantity': group['quantity'].sum(),\n",
    "        'max_price': group['item_price'].max(),\n",
    "        'min_price': group['item_price'].min()\n",
    "    })\n",
    "\n",
    "# Agrupando por producto y aplicando la función personalizada\n",
    "stats_por_producto = df.groupby('ProductName').apply(custom_stats).reset_index()\n",
    "\n",
    "print(\"\\nEstadísticas Personalizadas por Producto:\")\n",
    "print(stats_por_producto.sort_values(by='total_sales', ascending=False).head(10))  # Muestra los 10 productos con más estadísticas"
   ]
  },
  {
   "cell_type": "markdown",
   "metadata": {},
   "source": [
    "**Documentación**\n",
    "Documenta claramente cada paso del análisis, explicando qué se hizo y por qué se hizo.\n",
    "Asegúrate de que el código sea legible y esté bien comentado."
   ]
  },
  {
   "cell_type": "code",
   "execution_count": 9,
   "metadata": {},
   "outputs": [
    {
     "name": "stdout",
     "output_type": "stream",
     "text": [
      "<bound method DataFrame.info of      order_id        date        item_name  item_type  item_price  quantity  \\\n",
      "0           1  07-03-2022         Aalopuri   Fastfood          20        13   \n",
      "1           2   8/23/2022          Vadapav   Fastfood          20        15   \n",
      "2           3  11/20/2022          Vadapav   Fastfood          20         1   \n",
      "3           4  02-03-2023  Sugarcane juice  Beverages          25         6   \n",
      "4           5  10-02-2022  Sugarcane juice  Beverages          25         8   \n",
      "..        ...         ...              ...        ...         ...       ...   \n",
      "995       996   3/19/2023          Frankie   Fastfood          50        10   \n",
      "996       997   9/20/2022         Sandwich   Fastfood          60         7   \n",
      "997       998   1/26/2023         Sandwich   Fastfood          60        13   \n",
      "998       999   8/27/2022         Panipuri   Fastfood          20         5   \n",
      "999      1000   5/29/2022         Aalopuri   Fastfood          20         3   \n",
      "\n",
      "     transaction_amount transaction_type received_by time_of_sale  \\\n",
      "0                   260              NaN         Mr.        Night   \n",
      "1                   300             Cash         Mr.    Afternoon   \n",
      "2                    20             Cash         Mr.    Afternoon   \n",
      "3                   150           Online         Mr.        Night   \n",
      "4                   200           Online         Mr.      Evening   \n",
      "..                  ...              ...         ...          ...   \n",
      "995                 500              NaN        Mrs.      Evening   \n",
      "996                 420              NaN         Mr.      Evening   \n",
      "997                 780              NaN         Mr.      Evening   \n",
      "998                 100              NaN        Mrs.    Afternoon   \n",
      "999                  60           Online        Mrs.     Midnight   \n",
      "\n",
      "     Total_Income  Normalized_Price  Standardized_Quantity Price_Category  \n",
      "0             260             0.000               1.096288            Low  \n",
      "1             300             0.000               1.549486            Low  \n",
      "2              20             0.000              -1.622905            Low  \n",
      "3             150             0.125              -0.489908         Medium  \n",
      "4             200             0.125              -0.036709         Medium  \n",
      "..            ...               ...                    ...            ...  \n",
      "995           500             0.750               0.416490         Medium  \n",
      "996           420             1.000              -0.263308           High  \n",
      "997           780             1.000               1.096288           High  \n",
      "998           100             0.000              -0.716507            Low  \n",
      "999            60             0.000              -1.169706            Low  \n",
      "\n",
      "[1000 rows x 14 columns]>\n",
      "          order_id   item_price     quantity  transaction_amount  \\\n",
      "count  1000.000000  1000.000000  1000.000000         1000.000000   \n",
      "mean    500.500000    33.315000     8.162000          275.230000   \n",
      "std     288.819436    14.921744     4.413075          204.402979   \n",
      "min       1.000000    20.000000     1.000000           20.000000   \n",
      "25%     250.750000    20.000000     4.000000          120.000000   \n",
      "50%     500.500000    25.000000     8.000000          240.000000   \n",
      "75%     750.250000    50.000000    12.000000          360.000000   \n",
      "max    1000.000000    60.000000    15.000000          900.000000   \n",
      "\n",
      "       Total_Income  Normalized_Price  Standardized_Quantity  \n",
      "count   1000.000000       1000.000000           1.000000e+03  \n",
      "mean     275.230000          0.332875          -1.758593e-16  \n",
      "std      204.402979          0.373044           1.000000e+00  \n",
      "min       20.000000          0.000000          -1.622905e+00  \n",
      "25%      120.000000          0.000000          -9.431066e-01  \n",
      "50%      240.000000          0.125000          -3.670910e-02  \n",
      "75%      360.000000          0.750000           8.696884e-01  \n",
      "max      900.000000          1.000000           1.549486e+00  \n"
     ]
    }
   ],
   "source": [
    "print(df.info)\n",
    "print(df.describe())"
   ]
  }
 ],
 "metadata": {
  "kernelspec": {
   "display_name": "bootcamp_mitic",
   "language": "python",
   "name": "python3"
  },
  "language_info": {
   "codemirror_mode": {
    "name": "ipython",
    "version": 3
   },
   "file_extension": ".py",
   "mimetype": "text/x-python",
   "name": "python",
   "nbconvert_exporter": "python",
   "pygments_lexer": "ipython3",
   "version": "3.11.10"
  }
 },
 "nbformat": 4,
 "nbformat_minor": 2
}
