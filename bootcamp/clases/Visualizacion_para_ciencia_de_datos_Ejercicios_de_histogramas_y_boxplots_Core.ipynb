{
 "cells": [
  {
   "cell_type": "markdown",
   "metadata": {},
   "source": [
    "## Visualización para ciencia de datos / Ejercicios de histogramas y boxplots (Core)\n",
    "\n",
    "**Descripción**\n",
    "\n",
    "**Ejercicios de histogramas y boxplots (Core)**\n",
    "\n",
    "Análisis de Distribución y Desviaciones Usando Histogramas y Boxplots\n",
    "\n",
    "**Objetivo**\n",
    "\n",
    "El objetivo de esta actividad es desarrollar habilidades avanzadas en la visualización de datos utilizando histogramas y boxplots. Usaremos un dataset interesante de Kaggle para explorar la distribución de los datos y detectar cualquier valor atípico. Esta actividad te ayudará a entender mejor la distribución de los datos y cómo los valores atípicos pueden afectar tu análisis.\n",
    "\n",
    "**Descripción del Ejercicio**\n",
    "\n",
    "En esta actividad, utilizaremos el dataset «World Happiness Report» de Kaggle, que contiene información sobre la felicidad en diferentes países del mundo. Este dataset incluye variables como el puntaje de felicidad, el PIB per cápita, la expectativa de vida saludable, la libertad, la generosidad, entre otras.\n",
    "\n",
    "Puedes descargar el dataset desde el siguiente enlace: World Happiness Report.\n",
    "\n",
    "\n",
    "\n",
    "**Instrucciones**\n",
    "\n",
    "**Cargar y Explorar los Datos:**\n",
    "\n",
    "Descarga el dataset y cárgalo en un DataFrame de Pandas.\n",
    "Realiza una exploración inicial de los datos para entender las variables disponibles.\n",
    "Crear Histogramas:\n",
    "Crea histogramas para las variables Score, GDP per capita, Healthy life expectancy y Freedom to make life choices.\n",
    "Personaliza los histogramas con colores, bordes y ajustes de transparencia.\n",
    "Crear Boxplots:\n",
    "Crea boxplots para las mismas variables para visualizar la mediana, el rango intercuartil y los valores atípicos.\n",
    "Personaliza los boxplots con diferentes colores y estilos.\n",
    "Análisis Combinado:\n",
    "Combina los histogramas y los boxplots en una sola figura para cada variable.\n",
    "Interpreta los resultados y escribe un análisis sobre la distribución de cada variable y la presencia de valores atípicos."
   ]
  }
 ],
 "metadata": {
  "language_info": {
   "name": "python"
  }
 },
 "nbformat": 4,
 "nbformat_minor": 2
}
