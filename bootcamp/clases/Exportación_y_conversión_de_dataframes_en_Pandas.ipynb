{
 "cells": [
  {
   "cell_type": "markdown",
   "metadata": {},
   "source": [
    "### Exportación y conversión de dataframes en Pandas\n",
    "\n",
    "**Conversión de DataFrames a Diferentes Formatos**\n",
    "\n",
    "Convertir DataFrames a Diccionarios: Convertir un DataFrame a un diccionario puede ser útil cuando necesitas manipular los datos en un formato más flexible o integrarlos en aplicaciones que manejan datos en forma de diccionario."
   ]
  },
  {
   "cell_type": "code",
   "execution_count": 1,
   "metadata": {},
   "outputs": [
    {
     "name": "stdout",
     "output_type": "stream",
     "text": [
      "DataFrame:\n",
      "   Producto  Ventas  Precio\n",
      "0  Manzanas      50    0.50\n",
      "1  Naranjas      30    0.75\n",
      "2   Bananas      20    0.30\n",
      "DataFrame convertido a diccionario:\n",
      "{'Producto': {0: 'Manzanas', 1: 'Naranjas', 2: 'Bananas'}, 'Ventas': {0: 50, 1: 30, 2: 20}, 'Precio': {0: 0.5, 1: 0.75, 2: 0.3}}\n"
     ]
    }
   ],
   "source": [
    "import pandas as pd\n",
    "\n",
    "# Crear un DataFrame de ejemplo\n",
    "data = {\n",
    "    'Producto': ['Manzanas', 'Naranjas', 'Bananas'],\n",
    "    'Ventas': [50, 30, 20],\n",
    "    'Precio': [0.5, 0.75, 0.3]\n",
    "}\n",
    "df = pd.DataFrame(data)\n",
    "print(\"DataFrame:\")\n",
    "print(df)\n",
    "# Convertir a un diccionario\n",
    "dict_data = df.to_dict()\n",
    "print(\"DataFrame convertido a diccionario:\")\n",
    "print(dict_data)"
   ]
  },
  {
   "cell_type": "markdown",
   "metadata": {},
   "source": [
    "**Convertir DataFrames a Arrays de NumPy:**\n",
    "\n",
    "Los arrays de NumPy son útiles para realizar operaciones matemáticas y estadísticas avanzadas que pueden ser más eficientes en NumPy."
   ]
  },
  {
   "cell_type": "code",
   "execution_count": 2,
   "metadata": {},
   "outputs": [
    {
     "name": "stdout",
     "output_type": "stream",
     "text": [
      "DataFrame convertido a array de NumPy:\n",
      "[['Manzanas' 50 0.5]\n",
      " ['Naranjas' 30 0.75]\n",
      " ['Bananas' 20 0.3]]\n"
     ]
    }
   ],
   "source": [
    "import numpy as np\n",
    "\n",
    "# Convertir a un array de NumPy\n",
    "array_data = df.to_numpy()\n",
    "print(\"DataFrame convertido a array de NumPy:\")\n",
    "print(array_data)"
   ]
  },
  {
   "cell_type": "markdown",
   "metadata": {},
   "source": [
    "**Convertir DataFrames a CSV:**\n",
    "\n",
    "CSV (Comma Separated Values) es uno de los formatos más comunes para almacenar y compartir datos tabulares."
   ]
  },
  {
   "cell_type": "code",
   "execution_count": 3,
   "metadata": {},
   "outputs": [
    {
     "name": "stdout",
     "output_type": "stream",
     "text": [
      "DataFrame guardado como archivo CSV\n"
     ]
    }
   ],
   "source": [
    "# Guardar el DataFrame en un archivo CSV\n",
    "df.to_csv('../data/ventas.csv', index=False)\n",
    "print(\"DataFrame guardado como archivo CSV\")"
   ]
  },
  {
   "cell_type": "markdown",
   "metadata": {},
   "source": [
    "**Convertir DataFrames a JSON:** \n",
    "\n",
    "JSON (JavaScript Object Notation) es un formato ampliamente utilizado para el intercambio de datos, especialmente en aplicaciones web y APIs."
   ]
  },
  {
   "cell_type": "code",
   "execution_count": 4,
   "metadata": {},
   "outputs": [
    {
     "name": "stdout",
     "output_type": "stream",
     "text": [
      "DataFrame convertido a JSON:\n",
      "{\"Producto\":{\"0\":\"Manzanas\",\"1\":\"Naranjas\",\"2\":\"Bananas\"},\"Ventas\":{\"0\":50,\"1\":30,\"2\":20},\"Precio\":{\"0\":0.5,\"1\":0.75,\"2\":0.3}}\n",
      "DataFrame guardado como archivo JSON\n"
     ]
    }
   ],
   "source": [
    "# Convertir a JSON\n",
    "json_data = df.to_json()\n",
    "print(\"DataFrame convertido a JSON:\")\n",
    "print(json_data)\n",
    "\n",
    "# Guardar el DataFrame en un archivo JSON\n",
    "df.to_json('../data/ventas.json', orient='records', lines=True)\n",
    "print(\"DataFrame guardado como archivo JSON\")"
   ]
  },
  {
   "cell_type": "markdown",
   "metadata": {},
   "source": [
    "**Convertir DataFrames a Excel:**\n",
    "\n",
    "Excel es un formato muy popular para almacenar y compartir datos en entornos empresariales y académicos."
   ]
  },
  {
   "cell_type": "code",
   "execution_count": 5,
   "metadata": {},
   "outputs": [
    {
     "name": "stdout",
     "output_type": "stream",
     "text": [
      "DataFrame guardado como archivo Excel\n"
     ]
    }
   ],
   "source": [
    "# Guardar el DataFrame en un archivo Excel\n",
    "df.to_excel('../data/ventas.xlsx', index=False)\n",
    "print(\"DataFrame guardado como archivo Excel\")"
   ]
  },
  {
   "cell_type": "markdown",
   "metadata": {},
   "source": [
    "**Consideraciones y Mejores Prácticas**\n",
    "\n",
    "Elegir el Formato Adecuado: Seleccionar el formato adecuado para almacenar o compartir datos depende del contexto y los requisitos específicos. Por ejemplo:\n",
    "\n",
    "**CSV:** Ideal para datos tabulares simples y para interoperabilidad con muchas aplicaciones.\n",
    "\n",
    "**JSON:** Adecuado para datos estructurados y semi-estructurados, especialmente en aplicaciones web y APIs.\n",
    "\n",
    "**Excel:** Útil para datos que requieren análisis manual o presentación en entornos empresariales.\n",
    "\n",
    "**NumPy Arrays:** Mejor para operaciones matemáticas y estadísticas intensivas.\n",
    "Manejar la Codificación de Caracteres: Cuando trabajes con datos que contienen caracteres especiales o no latinos, asegúrate de manejar correctamente la codificación de caracteres."
   ]
  },
  {
   "cell_type": "code",
   "execution_count": 6,
   "metadata": {},
   "outputs": [
    {
     "name": "stdout",
     "output_type": "stream",
     "text": [
      "   Producto  Ventas  Precio\n",
      "0  Manzanas      50    0.50\n",
      "1  Naranjas      30    0.75\n",
      "2   Bananas      20    0.30\n",
      "   Producto  Ventas  Precio\n",
      "0  Manzanas      50    0.50\n",
      "1  Naranjas      30    0.75\n",
      "2   Bananas      20    0.30\n"
     ]
    }
   ],
   "source": [
    "# Guardar un archivo CSV con codificación UTF-8\n",
    "df.to_csv('../data/ventas_utf8.csv', index=False, encoding='utf-8')\n",
    "\n",
    "# Leer un archivo CSV con codificación UTF-8\n",
    "df_from_csv_utf8 = pd.read_csv('../data/ventas_utf8.csv', encoding='utf-8')\n",
    "print(df)\n",
    "print(df_from_csv_utf8)"
   ]
  },
  {
   "cell_type": "markdown",
   "metadata": {},
   "source": [
    "**Gestión de Archivos Grandes:**\n",
    "\n",
    " Para datasets muy grandes, considera usar compresión para ahorrar espacio y mejorar la eficiencia."
   ]
  },
  {
   "cell_type": "code",
   "execution_count": 7,
   "metadata": {},
   "outputs": [
    {
     "name": "stdout",
     "output_type": "stream",
     "text": [
      "   Producto  Ventas  Precio\n",
      "0  Manzanas      50    0.50\n",
      "1  Naranjas      30    0.75\n",
      "2   Bananas      20    0.30\n",
      "   Producto  Ventas  Precio\n",
      "0  Manzanas      50    0.50\n",
      "1  Naranjas      30    0.75\n",
      "2   Bananas      20    0.30\n"
     ]
    }
   ],
   "source": [
    "# Guardar un archivo CSV comprimido\n",
    "df.to_csv('../data/ventas_comprimido.csv.gz', index=False, compression='gzip')\n",
    "\n",
    "# Leer un archivo CSV comprimido\n",
    "df_from_compressed_csv = pd.read_csv('../data/ventas_comprimido.csv.gz', compression='gzip')\n",
    "print(df)\n",
    "print(df_from_csv_utf8)"
   ]
  },
  {
   "cell_type": "markdown",
   "metadata": {},
   "source": [
    "**Documentación y Reproducibilidad:**\n",
    "\n",
    " Documenta todos los pasos y parámetros utilizados en la conversión y exportación de datos. Esto es crucial para la reproducibilidad y la transparencia del análisis."
   ]
  },
  {
   "cell_type": "code",
   "execution_count": 8,
   "metadata": {},
   "outputs": [
    {
     "data": {
      "text/plain": [
       "'\\nEste script convierte un DataFrame a diferentes formatos y guarda los resultados en archivos.\\n- DataFrame original: df\\n- Formatos: diccionario, NumPy array, CSV, JSON, Excel\\n- Fecha: 01/01/2023\\n- Autor: Jesús Ortiz\\n'"
      ]
     },
     "execution_count": 8,
     "metadata": {},
     "output_type": "execute_result"
    }
   ],
   "source": [
    "# Ejemplo de documentación en el código\n",
    "\"\"\"\n",
    "Este script convierte un DataFrame a diferentes formatos y guarda los resultados en archivos.\n",
    "- DataFrame original: df\n",
    "- Formatos: diccionario, NumPy array, CSV, JSON, Excel\n",
    "- Fecha: 01/01/2023\n",
    "- Autor: Jesús Ortiz\n",
    "\"\"\""
   ]
  }
 ],
 "metadata": {
  "kernelspec": {
   "display_name": "bootcamp_mitic",
   "language": "python",
   "name": "python3"
  },
  "language_info": {
   "codemirror_mode": {
    "name": "ipython",
    "version": 3
   },
   "file_extension": ".py",
   "mimetype": "text/x-python",
   "name": "python",
   "nbconvert_exporter": "python",
   "pygments_lexer": "ipython3",
   "version": "3.11.10"
  }
 },
 "nbformat": 4,
 "nbformat_minor": 2
}
